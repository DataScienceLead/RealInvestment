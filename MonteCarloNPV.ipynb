{
 "cells": [
  {
   "cell_type": "markdown",
   "metadata": {},
   "source": [
    "# Monte Carlo Simulation"
   ]
  },
  {
   "cell_type": "code",
   "execution_count": 1,
   "metadata": {
    "tags": []
   },
   "outputs": [],
   "source": [
    "import numpy as np\n",
    "import pandas as pd\n",
    "import matplotlib.pyplot as plt\n"
   ]
  },
  {
   "cell_type": "code",
   "execution_count": 2,
   "metadata": {
    "tags": []
   },
   "outputs": [],
   "source": [
    "# Consumerprices from Statistics Norway\n",
    "# url = 'https://www.ssb.no/en/statbank/sq/10036396' # - index\n",
    "url = 'https://www.ssb.no/en/statbank/sq/10036397'    # 12-mnth growth\n",
    "df = pd.read_excel(url, skiprows = 3, skipfooter = 57)\n",
    "df.rename(columns = {'Unnamed: 0':'Date'}, inplace=True)\n",
    "df.index = df['Date']\n",
    "df.drop(['Date'], axis = 1, inplace=True)"
   ]
  },
  {
   "cell_type": "code",
   "execution_count": 4,
   "metadata": {
    "tags": []
   },
   "outputs": [
    {
     "data": {
      "text/html": [
       "<div>\n",
       "<style scoped>\n",
       "    .dataframe tbody tr th:only-of-type {\n",
       "        vertical-align: middle;\n",
       "    }\n",
       "\n",
       "    .dataframe tbody tr th {\n",
       "        vertical-align: top;\n",
       "    }\n",
       "\n",
       "    .dataframe thead th {\n",
       "        text-align: right;\n",
       "    }\n",
       "</style>\n",
       "<table border=\"1\" class=\"dataframe\">\n",
       "  <thead>\n",
       "    <tr style=\"text-align: right;\">\n",
       "      <th></th>\n",
       "      <th>12-month rate (per cent)</th>\n",
       "    </tr>\n",
       "    <tr>\n",
       "      <th>Date</th>\n",
       "      <th></th>\n",
       "    </tr>\n",
       "  </thead>\n",
       "  <tbody>\n",
       "    <tr>\n",
       "      <th>1991M08</th>\n",
       "      <td>3.7</td>\n",
       "    </tr>\n",
       "    <tr>\n",
       "      <th>1991M09</th>\n",
       "      <td>3.3</td>\n",
       "    </tr>\n",
       "    <tr>\n",
       "      <th>1991M10</th>\n",
       "      <td>2.5</td>\n",
       "    </tr>\n",
       "    <tr>\n",
       "      <th>1991M11</th>\n",
       "      <td>2.5</td>\n",
       "    </tr>\n",
       "    <tr>\n",
       "      <th>1991M12</th>\n",
       "      <td>2.8</td>\n",
       "    </tr>\n",
       "  </tbody>\n",
       "</table>\n",
       "</div>"
      ],
      "text/plain": [
       "         12-month rate (per cent)\n",
       "Date                             \n",
       "1991M08                       3.7\n",
       "1991M09                       3.3\n",
       "1991M10                       2.5\n",
       "1991M11                       2.5\n",
       "1991M12                       2.8"
      ]
     },
     "execution_count": 4,
     "metadata": {},
     "output_type": "execute_result"
    }
   ],
   "source": [
    "df.head()"
   ]
  },
  {
   "cell_type": "markdown",
   "metadata": {},
   "source": [
    "<table>\n",
    "    \n",
    "$$Net\\ present\\ value = -Investment + \\frac{Cashflow_{t+1}}{(1+r)^1} + \\frac{Cashflow_{t+2}}{(1+r)^2} + \\frac{Cashflow_{t+3}}{(1+r)^3} $$\n",
    "          \n",
    "</table>"
   ]
  },
  {
   "cell_type": "code",
   "execution_count": 5,
   "metadata": {},
   "outputs": [
    {
     "data": {
      "text/plain": [
       "(0.02091428571428571, 0.009842517640309079)"
      ]
     },
     "execution_count": 5,
     "metadata": {},
     "output_type": "execute_result"
    }
   ],
   "source": [
    "mu = df['12-month rate (per cent)'].mean()/100\n",
    "sigma = df['12-month rate (per cent)'].std()/100\n",
    "\n",
    "mu, sigma"
   ]
  },
  {
   "cell_type": "code",
   "execution_count": 6,
   "metadata": {},
   "outputs": [
    {
     "data": {
      "image/png": "[encoded data removed]",
      "text/plain": [
       "<Figure size 432x288 with 1 Axes>"
      ]
     },
     "metadata": {
      "needs_background": "light"
     },
     "output_type": "display_data"
    }
   ],
   "source": [
    "# source: https://en.wikipedia.org/wiki/Geometric_Brownian_motion \n",
    "\n",
    "n = 30 # Years\n",
    "dt = 1 #time period\n",
    "x0 = 100\n",
    "np.random.seed(8)\n",
    "\n",
    "#  Sigma low\n",
    "x = np.exp(\n",
    "    (mu - sigma ** 2 / 2) * dt\n",
    "    + sigma * np.random.normal(0, np.sqrt(dt), size=(1, n)).T\n",
    ")\n",
    "\n",
    "x = np.vstack([np.ones(1), x])\n",
    "x = x0 * x.cumprod(axis=0)\n",
    "\n",
    "#  New draw\n",
    "y = np.exp(\n",
    "    (mu - sigma ** 2 / 2) * dt\n",
    "    + sigma * np.random.normal(0, np.sqrt(dt), size=(1, n)).T\n",
    ")\n",
    "\n",
    "y = np.vstack([np.ones(1), y])\n",
    "y = x0 * y.cumprod(axis=0)\n",
    "\n",
    "#  New draw\n",
    "z = np.exp(\n",
    "    (mu - sigma ** 2 / 2) * dt\n",
    "    + sigma * np.random.normal(0, np.sqrt(dt), size=(1, n)).T\n",
    ")\n",
    "\n",
    "z = np.vstack([np.ones(1), z])\n",
    "z = x0 * z.cumprod(axis=0)\n",
    "\n",
    "#  Sigma high\n",
    "u = np.exp(\n",
    "    (mu - sigma ** 2 / 2) * dt\n",
    "    + sigma * np.random.normal(0, np.sqrt(dt), size=(1, n)).T\n",
    ")\n",
    "\n",
    "u = np.vstack([np.ones(1), u])\n",
    "u = x0 * u.cumprod(axis=0)\n",
    "\n",
    "\n",
    "# plt.plot(np.log(x))\n",
    "plt.plot(x)\n",
    "plt.plot(y)\n",
    "plt.plot(z)\n",
    "\n",
    "# plt.legend(np.round(sigma, 2))\n",
    "plt.xlabel(\"$year_{t+s}$\")\n",
    "plt.ylabel(\"$E(CPI)$\")\n",
    "plt.title(\n",
    "    \"Realizations of Geometric Brownian Motion with \\n $\\mu=2.2$ and $\\sigma=1.05$\"\n",
    ")\n",
    "# plt.show()\n",
    "# Uncomment to save the image\n",
    "plt.savefig('Figures/brownian.png', dpi=600)"
   ]
  },
  {
   "cell_type": "code",
   "execution_count": 21,
   "metadata": {},
   "outputs": [
    {
     "data": {
      "text/plain": [
       "(0.021978082191780813, 0.010545795560516753)"
      ]
     },
     "execution_count": 21,
     "metadata": {},
     "output_type": "execute_result"
    }
   ],
   "source": [
    "mu, sigma"
   ]
  },
  {
   "cell_type": "code",
   "execution_count": 7,
   "metadata": {},
   "outputs": [
    {
     "ename": "ModuleNotFoundError",
     "evalue": "No module named 'numpy_financial'",
     "output_type": "error",
     "traceback": [
      "\u001b[1;31m---------------------------------------------------------------------------\u001b[0m",
      "\u001b[1;31mModuleNotFoundError\u001b[0m                       Traceback (most recent call last)",
      "\u001b[1;32m<ipython-input-7-f7e386448cb0>\u001b[0m in \u001b[0;36m<module>\u001b[1;34m\u001b[0m\n\u001b[1;32m----> 1\u001b[1;33m \u001b[1;32mimport\u001b[0m \u001b[0mnumpy_financial\u001b[0m \u001b[1;32mas\u001b[0m \u001b[0mnpf\u001b[0m\u001b[1;33m\u001b[0m\u001b[1;33m\u001b[0m\u001b[0m\n\u001b[0m",
      "\u001b[1;31mModuleNotFoundError\u001b[0m: No module named 'numpy_financial'"
     ]
    }
   ],
   "source": [
    "import numpy_financial as npf"
   ]
  },
  {
   "cell_type": "code",
   "execution_count": 8,
   "metadata": {},
   "outputs": [],
   "source": [
    "x = x.T\n",
    "cashflows = np.random.normal(100, 10, size=(1, n+1))\n",
    "nominalCashflows = cashflows*x/100"
   ]
  },
  {
   "cell_type": "code",
   "execution_count": 9,
   "metadata": {},
   "outputs": [],
   "source": [
    "investment = -1000\n",
    "\n",
    "nominalCashflows = list(nominalCashflows.flatten()) \n",
    "nominalCashflows[0]=0"
   ]
  },
  {
   "cell_type": "code",
   "execution_count": 10,
   "metadata": {},
   "outputs": [
    {
     "data": {
      "text/plain": [
       "242.85829"
      ]
     },
     "execution_count": 10,
     "metadata": {},
     "output_type": "execute_result"
    }
   ],
   "source": [
    "rate = 0.05\n",
    "# NPV = \n",
    "np.round(npf.npv(rate, nominalCashflows)+ investment,5)\n",
    "\n"
   ]
  },
  {
   "cell_type": "code",
   "execution_count": 10,
   "metadata": {},
   "outputs": [],
   "source": [
    "x = list(x.flatten())"
   ]
  },
  {
   "cell_type": "code",
   "execution_count": 11,
   "metadata": {},
   "outputs": [
    {
     "data": {
      "text/html": [
       "<div>\n",
       "<style scoped>\n",
       "    .dataframe tbody tr th:only-of-type {\n",
       "        vertical-align: middle;\n",
       "    }\n",
       "\n",
       "    .dataframe tbody tr th {\n",
       "        vertical-align: top;\n",
       "    }\n",
       "\n",
       "    .dataframe thead th {\n",
       "        text-align: right;\n",
       "    }\n",
       "</style>\n",
       "<table border=\"1\" class=\"dataframe\">\n",
       "  <thead>\n",
       "    <tr style=\"text-align: right;\">\n",
       "      <th></th>\n",
       "      <th>C</th>\n",
       "      <th>CPI</th>\n",
       "    </tr>\n",
       "  </thead>\n",
       "  <tbody>\n",
       "    <tr>\n",
       "      <td>0</td>\n",
       "      <td>0.000000</td>\n",
       "      <td>100.000000</td>\n",
       "    </tr>\n",
       "    <tr>\n",
       "      <td>1</td>\n",
       "      <td>111.109266</td>\n",
       "      <td>102.314816</td>\n",
       "    </tr>\n",
       "    <tr>\n",
       "      <td>2</td>\n",
       "      <td>103.351523</td>\n",
       "      <td>105.793111</td>\n",
       "    </tr>\n",
       "    <tr>\n",
       "      <td>3</td>\n",
       "      <td>105.244664</td>\n",
       "      <td>105.940279</td>\n",
       "    </tr>\n",
       "    <tr>\n",
       "      <td>4</td>\n",
       "      <td>104.490223</td>\n",
       "      <td>106.716720</td>\n",
       "    </tr>\n",
       "  </tbody>\n",
       "</table>\n",
       "</div>"
      ],
      "text/plain": [
       "            C         CPI\n",
       "0    0.000000  100.000000\n",
       "1  111.109266  102.314816\n",
       "2  103.351523  105.793111\n",
       "3  105.244664  105.940279\n",
       "4  104.490223  106.716720"
      ]
     },
     "execution_count": 11,
     "metadata": {},
     "output_type": "execute_result"
    }
   ],
   "source": [
    "df = pd.DataFrame(index=range(len(nominalCashflows)), data={'C': nominalCashflows, 'CPI':x})\n",
    "\n",
    "df.head()"
   ]
  },
  {
   "cell_type": "code",
   "execution_count": 18,
   "metadata": {},
   "outputs": [],
   "source": [
    "avg = mu\n",
    "std_dev = sigma\n",
    "num_reps = 500\n",
    "num_simulations = 10000\n",
    "\n",
    "# Define a list to keep all the results from each simulation that we want to analyze\n",
    "all_npv = []\n",
    "\n",
    "# Loop through many simulations\n",
    "for i in range(num_simulations):\n",
    "\n",
    "    # Choose inputs\n",
    "    n = 15 # Years\n",
    "    dt = 1 #time period\n",
    "    x0 = 100\n",
    "    num = 1\n",
    "    num = num+i  # seed increases with one for every simulation\n",
    "    np.random.seed(num)\n",
    "#     caluculate cashflow using the geometric brownian motion formula: \n",
    "    x = np.exp((mu - sigma ** 2 / 2) * dt + sigma * np.random.normal(0, np.sqrt(dt), size=(1, n)).T)\n",
    "\n",
    "    x = np.vstack([np.ones(1), x])\n",
    "    x = x0 * x.cumprod(axis=0)\n",
    "    x = list(x.flatten())\n",
    "# choose distibution    \n",
    "    cashflows = np.random.normal(100, 10, size=(1, n+1))\n",
    "#     cashflows = np.random.poisson(100, size=(n+1))\n",
    "    nominalCashflows = cashflows*x/100\n",
    "    investment = -1150\n",
    "    nominalCashflows = list(nominalCashflows.flatten()) \n",
    "    nominalCashflows[0]=0\n",
    "\n",
    "    \n",
    "    # Calculate NPV\n",
    "    NPV = np.round(npf.npv(rate, nominalCashflows)+ investment,5)\n",
    "    \n",
    "    # Build the dataframe based on the inputs and number of reps\n",
    "    df = pd.DataFrame(index=range(1), data={ 'NPV':NPV})\n",
    "    \n",
    "    # We want to track NPV calculations over all the simulations\n",
    "    all_npv.append([df['NPV'].sum()])\n"
   ]
  },
  {
   "cell_type": "code",
   "execution_count": 19,
   "metadata": {},
   "outputs": [
    {
     "data": {
      "text/plain": [
       "array([[100.90989839,  84.51145354,  99.55172644, 115.56763329,\n",
       "        119.47110681,  92.14859886,  78.60788062,  87.35741465,\n",
       "        102.94987179, 108.06489267, 102.77670317,  87.56154958,\n",
       "        107.87274373, 107.52030412, 101.72980014,  92.62164352]])"
      ]
     },
     "execution_count": 19,
     "metadata": {},
     "output_type": "execute_result"
    }
   ],
   "source": [
    "cashflows"
   ]
  },
  {
   "cell_type": "code",
   "execution_count": 20,
   "metadata": {},
   "outputs": [
    {
     "data": {
      "text/html": [
       "<div>\n",
       "<style scoped>\n",
       "    .dataframe tbody tr th:only-of-type {\n",
       "        vertical-align: middle;\n",
       "    }\n",
       "\n",
       "    .dataframe tbody tr th {\n",
       "        vertical-align: top;\n",
       "    }\n",
       "\n",
       "    .dataframe thead th {\n",
       "        text-align: right;\n",
       "    }\n",
       "</style>\n",
       "<table border=\"1\" class=\"dataframe\">\n",
       "  <thead>\n",
       "    <tr style=\"text-align: right;\">\n",
       "      <th></th>\n",
       "      <th>NPV</th>\n",
       "    </tr>\n",
       "  </thead>\n",
       "  <tbody>\n",
       "    <tr>\n",
       "      <td>0</td>\n",
       "      <td>60.21714</td>\n",
       "    </tr>\n",
       "    <tr>\n",
       "      <td>1</td>\n",
       "      <td>-12.36821</td>\n",
       "    </tr>\n",
       "    <tr>\n",
       "      <td>2</td>\n",
       "      <td>38.04575</td>\n",
       "    </tr>\n",
       "    <tr>\n",
       "      <td>3</td>\n",
       "      <td>74.75188</td>\n",
       "    </tr>\n",
       "    <tr>\n",
       "      <td>4</td>\n",
       "      <td>99.91849</td>\n",
       "    </tr>\n",
       "  </tbody>\n",
       "</table>\n",
       "</div>"
      ],
      "text/plain": [
       "        NPV\n",
       "0  60.21714\n",
       "1 -12.36821\n",
       "2  38.04575\n",
       "3  74.75188\n",
       "4  99.91849"
      ]
     },
     "execution_count": 20,
     "metadata": {},
     "output_type": "execute_result"
    }
   ],
   "source": [
    "results_df = pd.DataFrame.from_records(all_npv, columns=['NPV'])\n",
    "results_df.head()"
   ]
  },
  {
   "cell_type": "code",
   "execution_count": 21,
   "metadata": {},
   "outputs": [
    {
     "data": {
      "image/png": "[encoded data removed]",
      "text/plain": [
       "<Figure size 432x288 with 1 Axes>"
      ]
     },
     "metadata": {
      "needs_background": "light"
     },
     "output_type": "display_data"
    }
   ],
   "source": [
    "# add a 'best fit' line\n",
    "\n",
    "plt.hist(results_df['NPV'], 20,  density=True)\n",
    "plt.title('Distribution of the NPV \\nCalculated using historical data and MonteCarlo Simulation')\n",
    "plt.axvline(x=0, color='k', linestyle='--')\n",
    "plt.xlabel('NPV in thousand $')\n",
    "plt.ylabel('Density')\n",
    "plt.savefig('Figures/NPVMonteCarlo.png')\n",
    "plt.show()"
   ]
  },
  {
   "cell_type": "code",
   "execution_count": 22,
   "metadata": {},
   "outputs": [
    {
     "data": {
      "image/png": "[encoded data removed]",
      "text/plain": [
       "<Figure size 432x288 with 1 Axes>"
      ]
     },
     "metadata": {
      "needs_background": "light"
     },
     "output_type": "display_data"
    }
   ],
   "source": [
    "count, bins, ignored = plt.hist(results_df['NPV'], 14, density=True)\n",
    "plt.show()"
   ]
  },
  {
   "cell_type": "code",
   "execution_count": null,
   "metadata": {},
   "outputs": [],
   "source": []
  }
 ],
 "metadata": {
  "kernelspec": {
   "display_name": "Python 3",
   "language": "python",
   "name": "python3"
  },
  "language_info": {
   "codemirror_mode": {
    "name": "ipython",
    "version": 3
   },
   "file_extension": ".py",
   "mimetype": "text/x-python",
   "name": "python",
   "nbconvert_exporter": "python",
   "pygments_lexer": "ipython3",
   "version": "3.8.8"
  }
 },
 "nbformat": 4,
 "nbformat_minor": 4
}
