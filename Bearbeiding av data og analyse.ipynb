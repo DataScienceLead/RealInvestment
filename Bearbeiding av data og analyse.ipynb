{
 "cells": [
  {
   "cell_type": "markdown",
   "metadata": {},
   "source": [
    "# Data til investeringsmodell\n",
    "* Joakim Blix Prestmo\n",
    "* 09.05.2018"
   ]
  },
  {
   "cell_type": "code",
   "execution_count": 1,
   "metadata": {},
   "outputs": [],
   "source": [
    "import  pandas as pd\n",
    "import numpy as np\n",
    "import matplotlib.pyplot as plt\n",
    "from statsmodels.tsa.stattools import adfuller\n",
    "import statsmodels.formula.api as smf\n",
    "import statsmodels.api as sm\n",
    "from statsmodels.tsa.stattools import pacf,acf\n",
    "from statsmodels.tsa.vector_ar.var_model import VAR\n",
    "#from arch.unitroot import DFGLS"
   ]
  },
  {
   "cell_type": "markdown",
   "metadata": {},
   "source": [
    "# Henting og klargjøring av makrodata"
   ]
  },
  {
   "cell_type": "code",
   "execution_count": 2,
   "metadata": {
    "collapsed": true,
    "jupyter": {
     "outputs_hidden": true
    }
   },
   "outputs": [],
   "source": [
    "#Henter en tabell med variabelnavn og forklaringer fra SSB\n",
    "#df = pd.read_html('http://data.ssb.no/api/v0/dataset/59012?lang=no')[0]\n",
    "#dic = {}\n",
    "#for i in df.index:\n",
    "#    dic[df.iloc[i, 1]] = df.iloc[i,0]"
   ]
  },
  {
   "cell_type": "code",
   "execution_count": 25,
   "metadata": {
    "collapsed": true,
    "jupyter": {
     "outputs_hidden": true
    }
   },
   "outputs": [],
   "source": [
    "#Henter makrodatasettet\n",
    "#makro = pd.read_excel('2017626105607714304120KNRMakroHov.xlsx', header = 3,skipfooter = 2)\n",
    "#makro.index = pd.to_datetime(makro.index.str.replace('K','Q')) #setter indeksen til dato\n",
    "#makro.columns = [dic[makro.columns[i]] for i in range(len(makro.columns))] #bytter variabelnavn fra forklaring til enklere navn"
   ]
  },
  {
   "cell_type": "code",
   "execution_count": 5,
   "metadata": {
    "collapsed": true,
    "jupyter": {
     "outputs_hidden": true
    }
   },
   "outputs": [],
   "source": [
    "#makro = pd.read_csv('http://data.ssb.no/api/v0/dataset/59022.csv?lang=no', na_values = ['..','.'], sep = ';', encoding = 'latin1')\n",
    "#makro = makro[makro['statistikkvariabel'] == 'Faste 2014-priser, sesongjustert (mill. kr)'].drop('statistikkvariabel',1)\n",
    "#makro.columns = ['makrostørrelse', 'tid', 'verdi']\n",
    "#makro.makrostørrelse = makro.makrostørrelse.str.split(' ').str[0]\n",
    "#makro.index = pd.to_datetime(makro.tid.str.replace('K', 'Q'))\n",
    "#makro = makro.pivot(columns = 'makrostørrelse', values=  'verdi')"
   ]
  },
  {
   "cell_type": "code",
   "execution_count": 26,
   "metadata": {
    "collapsed": true,
    "jupyter": {
     "outputs_hidden": true
    }
   },
   "outputs": [],
   "source": [
    "#plukker ut de variablene vi vil bruke videre i analysen\n",
    "#vars_of_interest = ['bnpb.nr23_9', 'bnpb.nr23_9fn', 'bif.nr83_6', 'bif.nr83naer', 'bif.nr8368', 'bif.nr83oljroer', 'koo.nroff', 'eks.nrtot', 'eks.puboljegs', 'imp.nrtot', 'koh.nrpriv']\n",
    "#makro = makro[vars_of_interest]"
   ]
  },
  {
   "cell_type": "code",
   "execution_count": null,
   "metadata": {
    "collapsed": true,
    "jupyter": {
     "outputs_hidden": true
    }
   },
   "outputs": [],
   "source": [
    "#bolig = pd.read_excel('boligprisdata.xslx', sep = ',', na_values = \"\")\n",
    "#bolig.index = bolig.dato\n",
    "#invest.drop = ('dato', 1, inplace= True)"
   ]
  },
  {
   "cell_type": "markdown",
   "metadata": {},
   "source": [
    "# Henting og klargjøring av investeringsdata"
   ]
  },
  {
   "cell_type": "code",
   "execution_count": 4,
   "metadata": {
    "collapsed": true,
    "jupyter": {
     "outputs_hidden": true
    }
   },
   "outputs": [],
   "source": [
    "#Henter investdata og setter index til dato\n",
    "invest = pd.read_excel('../investdata_mars2017.xlsx', sep = ',', na_values='#N/A')\n",
    "invest.index = invest.dato\n",
    "invest.drop('dato', 1, inplace = True)\n",
    "dates = pd.date_range('19800101', periods=164, freq='Q')\n",
    "\n",
    "#dates = pd.date_range('20130101', periods=4, freq='MS')\n",
    "invest.index=dates\n"
   ]
  },
  {
   "cell_type": "code",
   "execution_count": 6,
   "metadata": {
    "collapsed": true,
    "jupyter": {
     "outputs_hidden": true
    }
   },
   "outputs": [],
   "source": [
    "invest.index = pd.DatetimeIndex(invest.index)\n"
   ]
  },
  {
   "cell_type": "code",
   "execution_count": 7,
   "metadata": {},
   "outputs": [
    {
     "data": {
      "text/html": [
       "<div>\n",
       "<style scoped>\n",
       "    .dataframe tbody tr th:only-of-type {\n",
       "        vertical-align: middle;\n",
       "    }\n",
       "\n",
       "    .dataframe tbody tr th {\n",
       "        vertical-align: top;\n",
       "    }\n",
       "\n",
       "    .dataframe thead th {\n",
       "        text-align: right;\n",
       "    }\n",
       "</style>\n",
       "<table border=\"1\" class=\"dataframe\">\n",
       "  <thead>\n",
       "    <tr style=\"text-align: right;\">\n",
       "      <th></th>\n",
       "      <th>K1015</th>\n",
       "      <th>K4015</th>\n",
       "      <th>K5015</th>\n",
       "      <th>K1025</th>\n",
       "      <th>K4025</th>\n",
       "      <th>K5025</th>\n",
       "      <th>K1030</th>\n",
       "      <th>K4030</th>\n",
       "      <th>K5030</th>\n",
       "      <th>K1045</th>\n",
       "      <th>...</th>\n",
       "      <th>K_INGEN</th>\n",
       "      <th>K_NORESPONSE</th>\n",
       "      <th>OMVF100</th>\n",
       "      <th>BG100</th>\n",
       "      <th>BG100NOK</th>\n",
       "      <th>BG100VALUTA</th>\n",
       "      <th>RENREALLONG</th>\n",
       "      <th>PBKGAMMA</th>\n",
       "      <th>JKS66</th>\n",
       "      <th>SJKS66</th>\n",
       "    </tr>\n",
       "  </thead>\n",
       "  <tbody>\n",
       "    <tr>\n",
       "      <th>1980-03-31</th>\n",
       "      <td>35491.07813</td>\n",
       "      <td>2079.83288</td>\n",
       "      <td>13445.65737</td>\n",
       "      <td>51784.28032</td>\n",
       "      <td>2134.03618</td>\n",
       "      <td>24567.66604</td>\n",
       "      <td>47695.59983</td>\n",
       "      <td>101.32742</td>\n",
       "      <td>37507.16551</td>\n",
       "      <td>52752.24245</td>\n",
       "      <td>...</td>\n",
       "      <td>NaN</td>\n",
       "      <td>NaN</td>\n",
       "      <td>NaN</td>\n",
       "      <td>NaN</td>\n",
       "      <td>NaN</td>\n",
       "      <td>NaN</td>\n",
       "      <td>0.005</td>\n",
       "      <td>0.025</td>\n",
       "      <td>13104.0</td>\n",
       "      <td>13638.0</td>\n",
       "    </tr>\n",
       "    <tr>\n",
       "      <th>1980-06-30</th>\n",
       "      <td>35791.65687</td>\n",
       "      <td>2106.68028</td>\n",
       "      <td>13507.59189</td>\n",
       "      <td>52003.79669</td>\n",
       "      <td>2127.07663</td>\n",
       "      <td>24747.79575</td>\n",
       "      <td>47952.97361</td>\n",
       "      <td>113.42272</td>\n",
       "      <td>37939.34311</td>\n",
       "      <td>52557.44744</td>\n",
       "      <td>...</td>\n",
       "      <td>NaN</td>\n",
       "      <td>NaN</td>\n",
       "      <td>NaN</td>\n",
       "      <td>NaN</td>\n",
       "      <td>NaN</td>\n",
       "      <td>NaN</td>\n",
       "      <td>0.005</td>\n",
       "      <td>0.025</td>\n",
       "      <td>13264.0</td>\n",
       "      <td>13829.0</td>\n",
       "    </tr>\n",
       "    <tr>\n",
       "      <th>1980-09-30</th>\n",
       "      <td>36178.04533</td>\n",
       "      <td>2115.08133</td>\n",
       "      <td>13628.85012</td>\n",
       "      <td>52052.57500</td>\n",
       "      <td>2147.99189</td>\n",
       "      <td>24809.32287</td>\n",
       "      <td>48133.27244</td>\n",
       "      <td>119.56339</td>\n",
       "      <td>38682.35513</td>\n",
       "      <td>52361.60836</td>\n",
       "      <td>...</td>\n",
       "      <td>NaN</td>\n",
       "      <td>NaN</td>\n",
       "      <td>NaN</td>\n",
       "      <td>NaN</td>\n",
       "      <td>NaN</td>\n",
       "      <td>NaN</td>\n",
       "      <td>0.005</td>\n",
       "      <td>0.025</td>\n",
       "      <td>13863.0</td>\n",
       "      <td>14334.0</td>\n",
       "    </tr>\n",
       "    <tr>\n",
       "      <th>1980-12-31</th>\n",
       "      <td>36688.18408</td>\n",
       "      <td>2138.11503</td>\n",
       "      <td>13874.04688</td>\n",
       "      <td>52344.78833</td>\n",
       "      <td>2189.07632</td>\n",
       "      <td>25132.52759</td>\n",
       "      <td>48951.84570</td>\n",
       "      <td>131.49222</td>\n",
       "      <td>39381.42969</td>\n",
       "      <td>52285.26392</td>\n",
       "      <td>...</td>\n",
       "      <td>NaN</td>\n",
       "      <td>NaN</td>\n",
       "      <td>NaN</td>\n",
       "      <td>NaN</td>\n",
       "      <td>NaN</td>\n",
       "      <td>NaN</td>\n",
       "      <td>0.005</td>\n",
       "      <td>0.025</td>\n",
       "      <td>14436.0</td>\n",
       "      <td>14431.0</td>\n",
       "    </tr>\n",
       "    <tr>\n",
       "      <th>1981-03-31</th>\n",
       "      <td>36633.64319</td>\n",
       "      <td>2116.87639</td>\n",
       "      <td>13895.41043</td>\n",
       "      <td>52141.06577</td>\n",
       "      <td>2199.78118</td>\n",
       "      <td>25120.87219</td>\n",
       "      <td>49527.44087</td>\n",
       "      <td>110.54289</td>\n",
       "      <td>39648.46336</td>\n",
       "      <td>52984.26896</td>\n",
       "      <td>...</td>\n",
       "      <td>NaN</td>\n",
       "      <td>NaN</td>\n",
       "      <td>5266.0</td>\n",
       "      <td>NaN</td>\n",
       "      <td>NaN</td>\n",
       "      <td>NaN</td>\n",
       "      <td>0.005</td>\n",
       "      <td>0.025</td>\n",
       "      <td>12077.0</td>\n",
       "      <td>12520.0</td>\n",
       "    </tr>\n",
       "  </tbody>\n",
       "</table>\n",
       "<p>5 rows × 163 columns</p>\n",
       "</div>"
      ],
      "text/plain": [
       "                  K1015       K4015        K5015        K1025       K4025  \\\n",
       "1980-03-31  35491.07813  2079.83288  13445.65737  51784.28032  2134.03618   \n",
       "1980-06-30  35791.65687  2106.68028  13507.59189  52003.79669  2127.07663   \n",
       "1980-09-30  36178.04533  2115.08133  13628.85012  52052.57500  2147.99189   \n",
       "1980-12-31  36688.18408  2138.11503  13874.04688  52344.78833  2189.07632   \n",
       "1981-03-31  36633.64319  2116.87639  13895.41043  52141.06577  2199.78118   \n",
       "\n",
       "                  K5025        K1030      K4030        K5030        K1045  \\\n",
       "1980-03-31  24567.66604  47695.59983  101.32742  37507.16551  52752.24245   \n",
       "1980-06-30  24747.79575  47952.97361  113.42272  37939.34311  52557.44744   \n",
       "1980-09-30  24809.32287  48133.27244  119.56339  38682.35513  52361.60836   \n",
       "1980-12-31  25132.52759  48951.84570  131.49222  39381.42969  52285.26392   \n",
       "1981-03-31  25120.87219  49527.44087  110.54289  39648.46336  52984.26896   \n",
       "\n",
       "             ...     K_INGEN  K_NORESPONSE  OMVF100  BG100  BG100NOK  \\\n",
       "1980-03-31   ...         NaN           NaN      NaN    NaN       NaN   \n",
       "1980-06-30   ...         NaN           NaN      NaN    NaN       NaN   \n",
       "1980-09-30   ...         NaN           NaN      NaN    NaN       NaN   \n",
       "1980-12-31   ...         NaN           NaN      NaN    NaN       NaN   \n",
       "1981-03-31   ...         NaN           NaN   5266.0    NaN       NaN   \n",
       "\n",
       "            BG100VALUTA  RENREALLONG  PBKGAMMA    JKS66   SJKS66  \n",
       "1980-03-31          NaN        0.005     0.025  13104.0  13638.0  \n",
       "1980-06-30          NaN        0.005     0.025  13264.0  13829.0  \n",
       "1980-09-30          NaN        0.005     0.025  13863.0  14334.0  \n",
       "1980-12-31          NaN        0.005     0.025  14436.0  14431.0  \n",
       "1981-03-31          NaN        0.005     0.025  12077.0  12520.0  \n",
       "\n",
       "[5 rows x 163 columns]"
      ]
     },
     "execution_count": 7,
     "metadata": {},
     "output_type": "execute_result"
    }
   ],
   "source": [
    "invest.head()\n"
   ]
  },
  {
   "cell_type": "markdown",
   "metadata": {},
   "source": [
    "## Generer aggegerte data for industrien"
   ]
  },
  {
   "cell_type": "code",
   "execution_count": 8,
   "metadata": {
    "collapsed": true,
    "jupyter": {
     "outputs_hidden": true
    }
   },
   "outputs": [],
   "source": [
    "ols_data = invest['1984':'2016'].copy()\n",
    "ols_data['RRT']=(1+ols_data.REN100*(1-ols_data.TRTMNW))/(ols_data.KPI/ols_data.KPI.shift(4))-1\n",
    "ols_data['BPAK']=ols_data.PJ10**0.33*ols_data.PJ40**0.04*ols_data.PJ50**0.63;\n",
    "ols_data['UC'] = (400*ols_data.BPAK*(ols_data.REN100+ols_data.DEPRATE50-((ols_data.BPAK-ols_data.BPAK.shift(4))\n",
    "                                                                          /ols_data.BPAK.shift(4))/4*\n",
    "                                      (1-ols_data.TRTB*ols_data.DEPRATE50)/(1-ols_data.TRTB)))\n",
    "# USERCOST_HL = 400*(BPAK*(REN100+DEPRATE50-((BPAK-BPAK_4)/BPAK_4)/4)*(1-TRTB*DEPRATE50)/(1-TRTB));\n",
    "\n",
    "ols_data['S']=ols_data.REN100-ols_data.RNOK\n",
    "ols_data['JKS15'] = ols_data.JK1015+ols_data.JK4015+ols_data.JK5015+ols_data.JK6015\n",
    "ols_data['JKS25'] = ols_data.JK1025+ols_data.JK4025+ols_data.JK5025+ols_data.JK6025\n",
    "ols_data['JKS30'] = ols_data.JK1030+ols_data.JK4030+ols_data.JK5030+ols_data.JK6030\n",
    "ols_data['JKS45'] = ols_data.JK1045+ols_data.JK4045+ols_data.JK5045+ols_data.JK6045\n",
    "ols_data['JK3']=ols_data.JKS15+ols_data.JKS25+ols_data.JKS30+ols_data.JKS45\n",
    "# ols_data['log_JK3']=np.log(ols_data['JK3'])\n",
    "ols_data['X3']=ols_data.X15+ols_data.X25+ols_data.X30+ols_data.X45\n",
    "# ols_data['log_X3']=np.log(ols_data['X3'])\n",
    "ols_data['YE3']=ols_data.YE15+ols_data.YE25+ols_data.YE30+ols_data.YE45\n",
    "ols_data['Y3']=ols_data.Y15+ols_data.Y25+ols_data.Y30+ols_data.Y45\n",
    "ols_data['YE_Y3']=ols_data.YE3/ols_data.Y3\n",
    "# ols_data['log_YE_Y3']=np.log(ols_data['YE_Y3'])\n",
    "# ols_data['Dlog_X3']=ols_data['log_X3'].diff(1)\n",
    "# ols_data['Dlog_JK3']=ols_data['log_JK3'].diff()\n",
    "# ols_data['Dlog_YE_Y3']=ols_data['log_YE_Y3'].diff()\n",
    "ols_data['K3']=ols_data.K1015+ols_data.K4015+ols_data.K5015+ols_data.K1025+ols_data.K4025+ols_data.K5025+ols_data.K1030+ols_data.K4030+ols_data.K5030+ols_data.K1045+ols_data.K4045+ols_data.K5045+ols_data.K6015+ols_data.K6025+ols_data.K6030+ols_data.K6045"
   ]
  },
  {
   "cell_type": "code",
   "execution_count": 11,
   "metadata": {},
   "outputs": [
    {
     "data": {
      "image/png": "[encoded data removed]",
      "text/plain": [
       "<matplotlib.figure.Figure at 0x15f9d4fabe0>"
      ]
     },
     "metadata": {},
     "output_type": "display_data"
    },
    {
     "data": {
      "text/plain": [
       "0.004561894531250001"
      ]
     },
     "execution_count": 11,
     "metadata": {},
     "output_type": "execute_result"
    }
   ],
   "source": [
    "ols_data['S']['2005':'2015'].plot()\n",
    "ols_data['RNOK']['2005':'2015'].plot()\n",
    "ols_data['REN100']['2005':'2015'].plot()\n",
    "(0.02+ols_data['RRT']['2005':'2015']).plot()\n",
    "#ols_data['KURVECU']['1990':'1999'].plot()\n",
    "#ols_data['OLJEPRIS']['1990':'1999'].plot()\n",
    "\n",
    "meanS = ols_data['S'].mean()\n",
    "plt.show()\n",
    "meanS\n",
    "\n"
   ]
  },
  {
   "cell_type": "code",
   "execution_count": 12,
   "metadata": {
    "scrolled": true
   },
   "outputs": [
    {
     "data": {
      "text/html": [
       "<div>\n",
       "<style scoped>\n",
       "    .dataframe tbody tr th:only-of-type {\n",
       "        vertical-align: middle;\n",
       "    }\n",
       "\n",
       "    .dataframe tbody tr th {\n",
       "        vertical-align: top;\n",
       "    }\n",
       "\n",
       "    .dataframe thead th {\n",
       "        text-align: right;\n",
       "    }\n",
       "</style>\n",
       "<table border=\"1\" class=\"dataframe\">\n",
       "  <thead>\n",
       "    <tr style=\"text-align: right;\">\n",
       "      <th></th>\n",
       "      <th>K1015</th>\n",
       "      <th>K4015</th>\n",
       "      <th>K5015</th>\n",
       "      <th>K1025</th>\n",
       "      <th>K4025</th>\n",
       "      <th>K5025</th>\n",
       "      <th>K1030</th>\n",
       "      <th>K4030</th>\n",
       "      <th>K5030</th>\n",
       "      <th>K1045</th>\n",
       "      <th>...</th>\n",
       "      <th>JKS15</th>\n",
       "      <th>JKS25</th>\n",
       "      <th>JKS30</th>\n",
       "      <th>JKS45</th>\n",
       "      <th>JK3</th>\n",
       "      <th>X3</th>\n",
       "      <th>YE3</th>\n",
       "      <th>Y3</th>\n",
       "      <th>YE_Y3</th>\n",
       "      <th>K3</th>\n",
       "    </tr>\n",
       "  </thead>\n",
       "  <tbody>\n",
       "    <tr>\n",
       "      <th>count</th>\n",
       "      <td>128.000000</td>\n",
       "      <td>128.000000</td>\n",
       "      <td>128.000000</td>\n",
       "      <td>128.000000</td>\n",
       "      <td>128.000000</td>\n",
       "      <td>128.000000</td>\n",
       "      <td>128.000000</td>\n",
       "      <td>128.000000</td>\n",
       "      <td>128.000000</td>\n",
       "      <td>128.000000</td>\n",
       "      <td>...</td>\n",
       "      <td>128.000000</td>\n",
       "      <td>128.000000</td>\n",
       "      <td>128.000000</td>\n",
       "      <td>128.000000</td>\n",
       "      <td>128.000000</td>\n",
       "      <td>128.000000</td>\n",
       "      <td>128.000000</td>\n",
       "      <td>128.000000</td>\n",
       "      <td>128.000000</td>\n",
       "      <td>128.000000</td>\n",
       "    </tr>\n",
       "    <tr>\n",
       "      <th>mean</th>\n",
       "      <td>45640.425994</td>\n",
       "      <td>1562.891792</td>\n",
       "      <td>19318.989702</td>\n",
       "      <td>69241.373742</td>\n",
       "      <td>1670.978478</td>\n",
       "      <td>29756.599991</td>\n",
       "      <td>60586.378891</td>\n",
       "      <td>352.328304</td>\n",
       "      <td>38909.956379</td>\n",
       "      <td>46076.393392</td>\n",
       "      <td>...</td>\n",
       "      <td>1496.534137</td>\n",
       "      <td>2233.381913</td>\n",
       "      <td>1944.417106</td>\n",
       "      <td>2336.024689</td>\n",
       "      <td>8010.357845</td>\n",
       "      <td>156297.977502</td>\n",
       "      <td>5600.212781</td>\n",
       "      <td>34106.544878</td>\n",
       "      <td>0.158954</td>\n",
       "      <td>372568.327116</td>\n",
       "    </tr>\n",
       "    <tr>\n",
       "      <th>std</th>\n",
       "      <td>2027.371942</td>\n",
       "      <td>248.403979</td>\n",
       "      <td>4367.405560</td>\n",
       "      <td>6561.264251</td>\n",
       "      <td>518.551609</td>\n",
       "      <td>3146.472422</td>\n",
       "      <td>5309.990609</td>\n",
       "      <td>191.993950</td>\n",
       "      <td>2905.895794</td>\n",
       "      <td>8516.540429</td>\n",
       "      <td>...</td>\n",
       "      <td>459.454621</td>\n",
       "      <td>828.739623</td>\n",
       "      <td>687.880115</td>\n",
       "      <td>516.645414</td>\n",
       "      <td>1870.922682</td>\n",
       "      <td>34723.942938</td>\n",
       "      <td>3125.318293</td>\n",
       "      <td>13329.325776</td>\n",
       "      <td>0.056115</td>\n",
       "      <td>17388.698612</td>\n",
       "    </tr>\n",
       "    <tr>\n",
       "      <th>min</th>\n",
       "      <td>40587.469410</td>\n",
       "      <td>1133.097350</td>\n",
       "      <td>14146.120240</td>\n",
       "      <td>53830.590950</td>\n",
       "      <td>1005.610570</td>\n",
       "      <td>25151.477410</td>\n",
       "      <td>50734.426180</td>\n",
       "      <td>107.864700</td>\n",
       "      <td>32508.873420</td>\n",
       "      <td>31864.739830</td>\n",
       "      <td>...</td>\n",
       "      <td>406.413330</td>\n",
       "      <td>1013.911710</td>\n",
       "      <td>805.323920</td>\n",
       "      <td>1452.650210</td>\n",
       "      <td>4437.904680</td>\n",
       "      <td>99584.222550</td>\n",
       "      <td>158.911730</td>\n",
       "      <td>13762.298180</td>\n",
       "      <td>0.009054</td>\n",
       "      <td>321272.627580</td>\n",
       "    </tr>\n",
       "    <tr>\n",
       "      <th>25%</th>\n",
       "      <td>44606.313122</td>\n",
       "      <td>1377.611083</td>\n",
       "      <td>15207.627815</td>\n",
       "      <td>66239.764357</td>\n",
       "      <td>1195.795945</td>\n",
       "      <td>26956.610175</td>\n",
       "      <td>55808.297707</td>\n",
       "      <td>142.256073</td>\n",
       "      <td>36866.740435</td>\n",
       "      <td>38336.847950</td>\n",
       "      <td>...</td>\n",
       "      <td>1180.315005</td>\n",
       "      <td>1687.386718</td>\n",
       "      <td>1449.514997</td>\n",
       "      <td>1931.293455</td>\n",
       "      <td>6749.245810</td>\n",
       "      <td>122263.461842</td>\n",
       "      <td>3337.174968</td>\n",
       "      <td>21381.052595</td>\n",
       "      <td>0.126100</td>\n",
       "      <td>366137.651440</td>\n",
       "    </tr>\n",
       "    <tr>\n",
       "      <th>50%</th>\n",
       "      <td>45703.335045</td>\n",
       "      <td>1546.443065</td>\n",
       "      <td>18160.904695</td>\n",
       "      <td>70160.989135</td>\n",
       "      <td>1636.582075</td>\n",
       "      <td>29843.031280</td>\n",
       "      <td>61775.905430</td>\n",
       "      <td>422.704655</td>\n",
       "      <td>39266.672755</td>\n",
       "      <td>47430.995880</td>\n",
       "      <td>...</td>\n",
       "      <td>1468.057980</td>\n",
       "      <td>2028.653975</td>\n",
       "      <td>1838.600990</td>\n",
       "      <td>2319.965480</td>\n",
       "      <td>7766.136420</td>\n",
       "      <td>158264.620490</td>\n",
       "      <td>5355.386300</td>\n",
       "      <td>32907.830010</td>\n",
       "      <td>0.164514</td>\n",
       "      <td>373563.460475</td>\n",
       "    </tr>\n",
       "    <tr>\n",
       "      <th>75%</th>\n",
       "      <td>46835.614913</td>\n",
       "      <td>1771.074045</td>\n",
       "      <td>22630.053233</td>\n",
       "      <td>74538.328900</td>\n",
       "      <td>2049.874282</td>\n",
       "      <td>31414.091100</td>\n",
       "      <td>65393.309175</td>\n",
       "      <td>466.359600</td>\n",
       "      <td>40875.750160</td>\n",
       "      <td>54696.608678</td>\n",
       "      <td>...</td>\n",
       "      <td>1705.396210</td>\n",
       "      <td>2583.941060</td>\n",
       "      <td>2370.985748</td>\n",
       "      <td>2631.395925</td>\n",
       "      <td>9083.429590</td>\n",
       "      <td>188927.602250</td>\n",
       "      <td>7609.815812</td>\n",
       "      <td>46896.531440</td>\n",
       "      <td>0.202663</td>\n",
       "      <td>383936.520365</td>\n",
       "    </tr>\n",
       "    <tr>\n",
       "      <th>max</th>\n",
       "      <td>48829.970700</td>\n",
       "      <td>2059.627360</td>\n",
       "      <td>26863.911320</td>\n",
       "      <td>78659.264770</td>\n",
       "      <td>2969.350040</td>\n",
       "      <td>37334.705080</td>\n",
       "      <td>67172.013670</td>\n",
       "      <td>778.189780</td>\n",
       "      <td>43744.118650</td>\n",
       "      <td>56610.645590</td>\n",
       "      <td>...</td>\n",
       "      <td>3545.905870</td>\n",
       "      <td>6488.958830</td>\n",
       "      <td>4000.000990</td>\n",
       "      <td>4027.262370</td>\n",
       "      <td>15003.511640</td>\n",
       "      <td>219772.809350</td>\n",
       "      <td>13669.810630</td>\n",
       "      <td>60825.294820</td>\n",
       "      <td>0.267138</td>\n",
       "      <td>402077.821450</td>\n",
       "    </tr>\n",
       "  </tbody>\n",
       "</table>\n",
       "<p>8 rows × 177 columns</p>\n",
       "</div>"
      ],
      "text/plain": [
       "              K1015        K4015         K5015         K1025        K4025  \\\n",
       "count    128.000000   128.000000    128.000000    128.000000   128.000000   \n",
       "mean   45640.425994  1562.891792  19318.989702  69241.373742  1670.978478   \n",
       "std     2027.371942   248.403979   4367.405560   6561.264251   518.551609   \n",
       "min    40587.469410  1133.097350  14146.120240  53830.590950  1005.610570   \n",
       "25%    44606.313122  1377.611083  15207.627815  66239.764357  1195.795945   \n",
       "50%    45703.335045  1546.443065  18160.904695  70160.989135  1636.582075   \n",
       "75%    46835.614913  1771.074045  22630.053233  74538.328900  2049.874282   \n",
       "max    48829.970700  2059.627360  26863.911320  78659.264770  2969.350040   \n",
       "\n",
       "              K5025         K1030       K4030         K5030         K1045  \\\n",
       "count    128.000000    128.000000  128.000000    128.000000    128.000000   \n",
       "mean   29756.599991  60586.378891  352.328304  38909.956379  46076.393392   \n",
       "std     3146.472422   5309.990609  191.993950   2905.895794   8516.540429   \n",
       "min    25151.477410  50734.426180  107.864700  32508.873420  31864.739830   \n",
       "25%    26956.610175  55808.297707  142.256073  36866.740435  38336.847950   \n",
       "50%    29843.031280  61775.905430  422.704655  39266.672755  47430.995880   \n",
       "75%    31414.091100  65393.309175  466.359600  40875.750160  54696.608678   \n",
       "max    37334.705080  67172.013670  778.189780  43744.118650  56610.645590   \n",
       "\n",
       "           ...              JKS15        JKS25        JKS30        JKS45  \\\n",
       "count      ...         128.000000   128.000000   128.000000   128.000000   \n",
       "mean       ...        1496.534137  2233.381913  1944.417106  2336.024689   \n",
       "std        ...         459.454621   828.739623   687.880115   516.645414   \n",
       "min        ...         406.413330  1013.911710   805.323920  1452.650210   \n",
       "25%        ...        1180.315005  1687.386718  1449.514997  1931.293455   \n",
       "50%        ...        1468.057980  2028.653975  1838.600990  2319.965480   \n",
       "75%        ...        1705.396210  2583.941060  2370.985748  2631.395925   \n",
       "max        ...        3545.905870  6488.958830  4000.000990  4027.262370   \n",
       "\n",
       "                JK3             X3           YE3            Y3       YE_Y3  \\\n",
       "count    128.000000     128.000000    128.000000    128.000000  128.000000   \n",
       "mean    8010.357845  156297.977502   5600.212781  34106.544878    0.158954   \n",
       "std     1870.922682   34723.942938   3125.318293  13329.325776    0.056115   \n",
       "min     4437.904680   99584.222550    158.911730  13762.298180    0.009054   \n",
       "25%     6749.245810  122263.461842   3337.174968  21381.052595    0.126100   \n",
       "50%     7766.136420  158264.620490   5355.386300  32907.830010    0.164514   \n",
       "75%     9083.429590  188927.602250   7609.815812  46896.531440    0.202663   \n",
       "max    15003.511640  219772.809350  13669.810630  60825.294820    0.267138   \n",
       "\n",
       "                  K3  \n",
       "count     128.000000  \n",
       "mean   372568.327116  \n",
       "std     17388.698612  \n",
       "min    321272.627580  \n",
       "25%    366137.651440  \n",
       "50%    373563.460475  \n",
       "75%    383936.520365  \n",
       "max    402077.821450  \n",
       "\n",
       "[8 rows x 177 columns]"
      ]
     },
     "execution_count": 12,
     "metadata": {},
     "output_type": "execute_result"
    }
   ],
   "source": [
    "ols_data.describe()\n"
   ]
  },
  {
   "cell_type": "markdown",
   "metadata": {},
   "source": [
    "# Find Order of Integration"
   ]
  },
  {
   "cell_type": "code",
   "execution_count": 21,
   "metadata": {
    "collapsed": true,
    "jupyter": {
     "outputs_hidden": true
    }
   },
   "outputs": [],
   "source": [
    "\n",
    "#de kontinuerlige variablene\n",
    "continuous_vars = [\"K1015\",\"K4015\",\"K5015\",\"K1025\",\"K4025\",\"K5025\",\n",
    "                   \"K1030\",\"K4030\",\"K5030\",\"K1045\",\"K4045\",\"K5045\",\n",
    "                   \"JK1015\",\"JK4015\",\"JK5015\",\"JK1025\",\"JK4025\",\"JK5025\",\n",
    "                   \"JK1030\",\"JK4030\",\"JK5030\",\"JK6015\",\"JK6025\",\"JK6030\",\n",
    "                   \"JK6045\",\"K6015\",\"K6025\",\"K6030\",\"K6045\",\"JK1045\",\"JK4045\",\n",
    "                   \"JK5045\",\"PJ10\",\"PJ40\",\"PJ50\",\"AVSKR50\",\"RNOK\",\"RISIKOPR\",\n",
    "                   \"TRTB\",\"KPI\",\"X15\",\"X25\",\"X30\",\"X45\",\n",
    "                   \"YE15\",\"YE25\",\"YE30\",\"YE45\",\"Y15\",\"Y25\",\"Y30\",\"Y45\"]\n",
    "\n",
    "\n",
    "continuous_vars_agg =['JKS15', 'JKS25','JKS30', 'JKS45', 'JK3', 'X3', 'YE_Y3', 'K3',\n",
    "                      \"BORSI\",\"UKPINY\",\"MII\",\"PX46\",\"URKORR\",\"REN100\" ]\n",
    "continuous_vars_nonlog =['S','RRT', 'UC']\n",
    "\n",
    "#continuous_vars"
   ]
  },
  {
   "cell_type": "code",
   "execution_count": 22,
   "metadata": {},
   "outputs": [
    {
     "data": {
      "image/png": "[encoded data removed]",
      "text/plain": [
       "<matplotlib.figure.Figure at 0x15f9fbc0208>"
      ]
     },
     "metadata": {},
     "output_type": "display_data"
    }
   ],
   "source": [
    "# invest['JK1025'].plot()\n",
    "# invest['JK1015'].plot()\n",
    "# ols_data['BPAK'].plot()\n",
    "ols_data['UC'].plot()\n",
    "plt.show()"
   ]
  },
  {
   "cell_type": "code",
   "execution_count": 23,
   "metadata": {},
   "outputs": [
    {
     "name": "stderr",
     "output_type": "stream",
     "text": [
      "C:\\Users\\i235jbp\\Anaconda3\\lib\\site-packages\\ipykernel_launcher.py:1: RuntimeWarning: divide by zero encountered in log\n",
      "  \"\"\"Entry point for launching an IPython kernel.\n",
      "C:\\Users\\i235jbp\\Anaconda3\\lib\\site-packages\\ipykernel_launcher.py:1: RuntimeWarning: invalid value encountered in log\n",
      "  \"\"\"Entry point for launching an IPython kernel.\n"
     ]
    },
    {
     "data": {
      "text/plain": [
       "{'BORSI': 1,\n",
       " 'JK3': 1,\n",
       " 'JKS15': 1,\n",
       " 'JKS25': 0,\n",
       " 'JKS30': 1,\n",
       " 'JKS45': 1,\n",
       " 'K3': 1,\n",
       " 'MII': 1,\n",
       " 'PX46': 0,\n",
       " 'REN100': 1,\n",
       " 'URKORR': 1,\n",
       " 'X3': 1,\n",
       " 'YE_Y3': 1}"
      ]
     },
     "execution_count": 23,
     "metadata": {},
     "output_type": "execute_result"
    }
   ],
   "source": [
    "test_data = np.log(ols_data['01-01-1985':'01-10-2014'])\n",
    "order = {}\n",
    "for var in continuous_vars_agg:\n",
    "    for i in range(3):\n",
    "        p = 0\n",
    "        if i == 0:\n",
    "            p = adfuller(test_data[var].dropna())[1]\n",
    "        else:\n",
    "            p = adfuller(test_data[var].diff(i).dropna())[1]\n",
    "        if p < .05:\n",
    "            order[var] = i\n",
    "            break\n",
    "order\n",
    "\n"
   ]
  },
  {
   "cell_type": "code",
   "execution_count": 24,
   "metadata": {},
   "outputs": [
    {
     "data": {
      "image/png": "[encoded data removed]",
      "text/plain": [
       "<matplotlib.figure.Figure at 0x15f9fb6a048>"
      ]
     },
     "metadata": {},
     "output_type": "display_data"
    }
   ],
   "source": [
    "(ols_data[['JK3', 'X3', 'YE_Y3']]/(ols_data[['JK3', 'X3', 'YE_Y3']].iloc[80,:])).plot()\n",
    "plt.show()"
   ]
  },
  {
   "cell_type": "markdown",
   "metadata": {},
   "source": [
    "# Legge til transformerte variable"
   ]
  },
  {
   "cell_type": "code",
   "execution_count": 208,
   "metadata": {
    "collapsed": true,
    "jupyter": {
     "outputs_hidden": true
    }
   },
   "outputs": [],
   "source": [
    "#lage nye dummy-variable\n",
    "# data['1992_step'] = (data.index >= '1992').astype(np.int64)\n",
    "# data['DKV1_step'] = data['DKV1']*data['1992_step']\n",
    "# data['DKV2_step'] = data['DKV2']*data['1992_step']\n",
    "# data['DKV3_step'] = data['DKV3']*data['1992_step']"
   ]
  },
  {
   "cell_type": "code",
   "execution_count": 25,
   "metadata": {},
   "outputs": [
    {
     "name": "stderr",
     "output_type": "stream",
     "text": [
      "C:\\Users\\i235jbp\\Anaconda3\\lib\\site-packages\\ipykernel_launcher.py:2: RuntimeWarning: invalid value encountered in log\n",
      "  \n"
     ]
    }
   ],
   "source": [
    "for col in continuous_vars:\n",
    "    ols_data['log_' + col] = np.log(ols_data[col])\n",
    "for col in continuous_vars_agg:\n",
    "    ols_data['log_' + col] = np.log(ols_data[col])\n",
    "    "
   ]
  },
  {
   "cell_type": "code",
   "execution_count": 26,
   "metadata": {
    "collapsed": true,
    "jupyter": {
     "outputs_hidden": true
    }
   },
   "outputs": [],
   "source": [
    "for col in continuous_vars:\n",
    "    for i in range(1,4):\n",
    "        ols_data['log_' + col + '_' + str(i)] = ols_data['log_' + col].shift(i)\n",
    "for col in continuous_vars_agg:\n",
    "    for i in range(1,4):\n",
    "        ols_data['log_' + col + '_' + str(i)] = ols_data['log_' + col].shift(i)        \n",
    "\n",
    "for col in continuous_vars_nonlog:\n",
    "    for i in range(1,4):\n",
    "        ols_data[col+'_'+str(i)] = ols_data[col].shift(i)"
   ]
  },
  {
   "cell_type": "code",
   "execution_count": 27,
   "metadata": {},
   "outputs": [
    {
     "data": {
      "image/png": "[encoded data removed]",
      "text/plain": [
       "<matplotlib.figure.Figure at 0x15f9f90d588>"
      ]
     },
     "metadata": {},
     "output_type": "display_data"
    }
   ],
   "source": [
    "ols_data['S_1'].plot()\n",
    "plt.show()"
   ]
  },
  {
   "cell_type": "code",
   "execution_count": 30,
   "metadata": {
    "collapsed": true,
    "jupyter": {
     "outputs_hidden": true
    }
   },
   "outputs": [],
   "source": [
    "for col in continuous_vars_agg:\n",
    "    for i in range(0,5):\n",
    "        if i == 0:\n",
    "            ols_data['Dlog_' + col] = ols_data['log_' + col].diff()\n",
    "        else:\n",
    "            ols_data['Dlog_' + col + '_' + str(i)] = ols_data['log_' + col].shift(i).diff()\n",
    "\n",
    "for col in continuous_vars_nonlog:\n",
    "    for i in range(0,5):\n",
    "        if i==0:\n",
    "            ols_data['D'+col] = ols_data[col].diff()\n",
    "        else: \n",
    "            ols_data['D'+col+'_'+str(i)]=ols_data[col].shift(i).diff()"
   ]
  },
  {
   "cell_type": "code",
   "execution_count": 31,
   "metadata": {},
   "outputs": [
    {
     "data": {
      "image/png": "[encoded data removed]",
      "text/plain": [
       "<matplotlib.figure.Figure at 0x15f9f8f3860>"
      ]
     },
     "metadata": {},
     "output_type": "display_data"
    }
   ],
   "source": [
    "#investdata = ols_data[:'2015-10-01']\n",
    "#investdata\n",
    "ols_data['DS'].plot()\n",
    "ols_data['S_1'].plot()\n",
    "plt.show()"
   ]
  },
  {
   "cell_type": "code",
   "execution_count": 32,
   "metadata": {},
   "outputs": [
    {
     "data": {
      "image/png": "[encoded data removed]",
      "text/plain": [
       "<matplotlib.figure.Figure at 0x15f9d2430b8>"
      ]
     },
     "metadata": {},
     "output_type": "display_data"
    }
   ],
   "source": [
    "ols_data['Dlog_X3'].plot()\n",
    "plt.show()\n"
   ]
  },
  {
   "cell_type": "markdown",
   "metadata": {},
   "source": [
    "# Lagre"
   ]
  },
  {
   "cell_type": "code",
   "execution_count": 66,
   "metadata": {},
   "outputs": [],
   "source": [
    "import time\n",
    "## dd/mm/yyyy format\n",
    "dato = time.strftime(\"%d_%m_%Y\")\n",
    "# dato"
   ]
  },
  {
   "cell_type": "code",
   "execution_count": 67,
   "metadata": {},
   "outputs": [
    {
     "data": {
      "text/plain": [
       "'08_07_2018'"
      ]
     },
     "execution_count": 67,
     "metadata": {},
     "output_type": "execute_result"
    }
   ],
   "source": [
    "dato"
   ]
  },
  {
   "cell_type": "code",
   "execution_count": 68,
   "metadata": {
    "collapsed": true,
    "jupyter": {
     "outputs_hidden": true
    }
   },
   "outputs": [
    {
     "name": "stdout",
     "output_type": "stream",
     "text": [
      "samlet_datasett_08_07_2018.csv\n"
     ]
    }
   ],
   "source": [
    "print('samlet_datasett_'+dato+'.csv')\n",
    "ols_data.to_csv('..\\samlet_datasett_'+dato+'.csv')\n",
    "#ols_data.to_csv('C:\\Users\\jop\\Dropbox\\PhD\\Agginvest\\R\\samlet_datasett_10092017')\n",
    "ols_data_est = ols_data[:-8]"
   ]
  },
  {
   "cell_type": "markdown",
   "metadata": {},
   "source": [
    "# Threshold model\n",
    "* Starter med å lage dummyvariabler"
   ]
  },
  {
   "cell_type": "code",
   "execution_count": 64,
   "metadata": {
    "collapsed": true,
    "jupyter": {
     "outputs_hidden": true
    }
   },
   "outputs": [
    {
     "name": "stderr",
     "output_type": "stream",
     "text": [
      "C:\\Users\\i235jbp\\Anaconda3\\lib\\site-packages\\ipykernel_launcher.py:4: SettingWithCopyWarning: \n",
      "A value is trying to be set on a copy of a slice from a DataFrame.\n",
      "Try using .loc[row_indexer,col_indexer] = value instead\n",
      "\n",
      "See the caveats in the documentation: http://pandas.pydata.org/pandas-docs/stable/indexing.html#indexing-view-versus-copy\n",
      "  after removing the cwd from sys.path.\n",
      "C:\\Users\\i235jbp\\Anaconda3\\lib\\site-packages\\ipykernel_launcher.py:5: SettingWithCopyWarning: \n",
      "A value is trying to be set on a copy of a slice from a DataFrame.\n",
      "Try using .loc[row_indexer,col_indexer] = value instead\n",
      "\n",
      "See the caveats in the documentation: http://pandas.pydata.org/pandas-docs/stable/indexing.html#indexing-view-versus-copy\n",
      "  \"\"\"\n"
     ]
    }
   ],
   "source": [
    "medianDx3 = ols_data_est['Dlog_X3_4'].median()\n",
    "highDx3 = ols_data_est['Dlog_X3_4'] >= medianDx3\n",
    "highmedianDx3 = medianDx3*(-10)\n",
    "ols_data_est['higherDx3'] = ols_data_est['Dlog_X3_4'] >= highmedianDx3\n",
    "ols_data_est['HDUMX3'] = ols_data_est['higherDx3'] "
   ]
  },
  {
   "cell_type": "code",
   "execution_count": 52,
   "metadata": {},
   "outputs": [
    {
     "name": "stdout",
     "output_type": "stream",
     "text": [
      "-0.004679325155555247 0.04679325155555247\n"
     ]
    }
   ],
   "source": [
    "print(medianDx3, highmedianDx3)\n",
    "\n"
   ]
  },
  {
   "cell_type": "code",
   "execution_count": 60,
   "metadata": {
    "collapsed": true,
    "jupyter": {
     "outputs_hidden": true
    }
   },
   "outputs": [],
   "source": [
    "# timedummies\n",
    "# generate a datetime index to use date information\n",
    "ols_data.index = pd.DatetimeIndex(ols_data.index)\n",
    "#quarter dummies:\n",
    "\n",
    "#if ols_data.all(ols_data.index.quarter == 1):\n",
    "#    ols_data['DKV1'] =1 \n",
    "\n",
    "\n",
    "df =pd.get_dummies(ols_data.index.quarter, prefix='DKV')    \n",
    "#ols_data['DKV1'] \n",
    "#ols_data['DKV1'] =df.DKV_1\n",
    "#ols_data['DKV1']\n"
   ]
  },
  {
   "cell_type": "code",
   "execution_count": 54,
   "metadata": {},
   "outputs": [
    {
     "data": {
      "text/plain": [
       "DatetimeIndex(['1984-03-31', '1984-06-30', '1984-09-30', '1984-12-31',\n",
       "               '1985-03-31', '1985-06-30', '1985-09-30', '1985-12-31',\n",
       "               '1986-03-31', '1986-06-30',\n",
       "               ...\n",
       "               '2014-09-30', '2014-12-31', '2015-03-31', '2015-06-30',\n",
       "               '2015-09-30', '2015-12-31', '2016-03-31', '2016-06-30',\n",
       "               '2016-09-30', '2016-12-31'],\n",
       "              dtype='datetime64[ns]', length=132, freq='Q-DEC')"
      ]
     },
     "execution_count": 54,
     "metadata": {},
     "output_type": "execute_result"
    }
   ],
   "source": [
    "#df['DKV_1']=(df['DKV_1']).astype(bool)\n",
    "#ols_data['DKV_1']=ols_data['DKV_1'].astype(bool)\n",
    "#ols_data['DKV_1']=df['DKV_1']\n",
    "#df['DKV_1']\n",
    "#ols_data['DKV_1']\n",
    "#df['viz'] = (df['viz'] !='n').astype(int)\n",
    "#df.head()\n",
    "ols_data.index\n"
   ]
  },
  {
   "cell_type": "code",
   "execution_count": 61,
   "metadata": {},
   "outputs": [
    {
     "name": "stderr",
     "output_type": "stream",
     "text": [
      "C:\\Users\\i235jbp\\Anaconda3\\lib\\site-packages\\ipykernel_launcher.py:5: SettingWithCopyWarning: \n",
      "A value is trying to be set on a copy of a slice from a DataFrame.\n",
      "Try using .loc[row_indexer,col_indexer] = value instead\n",
      "\n",
      "See the caveats in the documentation: http://pandas.pydata.org/pandas-docs/stable/indexing.html#indexing-view-versus-copy\n",
      "  \"\"\"\n"
     ]
    },
    {
     "data": {
      "text/html": [
       "<div>\n",
       "<style scoped>\n",
       "    .dataframe tbody tr th:only-of-type {\n",
       "        vertical-align: middle;\n",
       "    }\n",
       "\n",
       "    .dataframe tbody tr th {\n",
       "        vertical-align: top;\n",
       "    }\n",
       "\n",
       "    .dataframe thead th {\n",
       "        text-align: right;\n",
       "    }\n",
       "</style>\n",
       "<table border=\"1\" class=\"dataframe\">\n",
       "  <thead>\n",
       "    <tr style=\"text-align: right;\">\n",
       "      <th></th>\n",
       "      <th>K1015</th>\n",
       "      <th>K4015</th>\n",
       "      <th>K5015</th>\n",
       "      <th>K1025</th>\n",
       "      <th>K4025</th>\n",
       "      <th>K5025</th>\n",
       "      <th>K1030</th>\n",
       "      <th>K4030</th>\n",
       "      <th>K5030</th>\n",
       "      <th>K1045</th>\n",
       "      <th>...</th>\n",
       "      <th>DRRT_1</th>\n",
       "      <th>DRRT_2</th>\n",
       "      <th>DRRT_3</th>\n",
       "      <th>DRRT_4</th>\n",
       "      <th>DUC</th>\n",
       "      <th>DUC_1</th>\n",
       "      <th>DUC_2</th>\n",
       "      <th>DUC_3</th>\n",
       "      <th>DUC_4</th>\n",
       "      <th>DUM931</th>\n",
       "    </tr>\n",
       "  </thead>\n",
       "  <tbody>\n",
       "    <tr>\n",
       "      <th>1984-03-31</th>\n",
       "      <td>40587.46941</td>\n",
       "      <td>2037.32411</td>\n",
       "      <td>14324.01745</td>\n",
       "      <td>53830.59095</td>\n",
       "      <td>2163.89247</td>\n",
       "      <td>25533.96959</td>\n",
       "      <td>50855.79793</td>\n",
       "      <td>139.07458</td>\n",
       "      <td>40625.98823</td>\n",
       "      <td>54639.35207</td>\n",
       "      <td>...</td>\n",
       "      <td>NaN</td>\n",
       "      <td>NaN</td>\n",
       "      <td>NaN</td>\n",
       "      <td>NaN</td>\n",
       "      <td>NaN</td>\n",
       "      <td>NaN</td>\n",
       "      <td>NaN</td>\n",
       "      <td>NaN</td>\n",
       "      <td>NaN</td>\n",
       "      <td>0</td>\n",
       "    </tr>\n",
       "    <tr>\n",
       "      <th>1984-06-30</th>\n",
       "      <td>40711.26442</td>\n",
       "      <td>2025.30404</td>\n",
       "      <td>14259.90152</td>\n",
       "      <td>53880.47646</td>\n",
       "      <td>2129.62892</td>\n",
       "      <td>25436.76146</td>\n",
       "      <td>50786.99933</td>\n",
       "      <td>143.95469</td>\n",
       "      <td>40412.69433</td>\n",
       "      <td>54548.34942</td>\n",
       "      <td>...</td>\n",
       "      <td>NaN</td>\n",
       "      <td>NaN</td>\n",
       "      <td>NaN</td>\n",
       "      <td>NaN</td>\n",
       "      <td>NaN</td>\n",
       "      <td>NaN</td>\n",
       "      <td>NaN</td>\n",
       "      <td>NaN</td>\n",
       "      <td>NaN</td>\n",
       "      <td>0</td>\n",
       "    </tr>\n",
       "    <tr>\n",
       "      <th>1984-09-30</th>\n",
       "      <td>40867.62893</td>\n",
       "      <td>2004.60328</td>\n",
       "      <td>14185.49137</td>\n",
       "      <td>54117.32448</td>\n",
       "      <td>2095.85917</td>\n",
       "      <td>25430.38127</td>\n",
       "      <td>50796.56177</td>\n",
       "      <td>147.85627</td>\n",
       "      <td>40368.99768</td>\n",
       "      <td>54534.04365</td>\n",
       "      <td>...</td>\n",
       "      <td>NaN</td>\n",
       "      <td>NaN</td>\n",
       "      <td>NaN</td>\n",
       "      <td>NaN</td>\n",
       "      <td>NaN</td>\n",
       "      <td>NaN</td>\n",
       "      <td>NaN</td>\n",
       "      <td>NaN</td>\n",
       "      <td>NaN</td>\n",
       "      <td>0</td>\n",
       "    </tr>\n",
       "    <tr>\n",
       "      <th>1984-12-31</th>\n",
       "      <td>41393.02563</td>\n",
       "      <td>1976.91600</td>\n",
       "      <td>14322.99561</td>\n",
       "      <td>54425.35767</td>\n",
       "      <td>2087.38581</td>\n",
       "      <td>25472.50092</td>\n",
       "      <td>50852.66113</td>\n",
       "      <td>148.60672</td>\n",
       "      <td>40608.06934</td>\n",
       "      <td>54688.84131</td>\n",
       "      <td>...</td>\n",
       "      <td>NaN</td>\n",
       "      <td>NaN</td>\n",
       "      <td>NaN</td>\n",
       "      <td>NaN</td>\n",
       "      <td>NaN</td>\n",
       "      <td>NaN</td>\n",
       "      <td>NaN</td>\n",
       "      <td>NaN</td>\n",
       "      <td>NaN</td>\n",
       "      <td>0</td>\n",
       "    </tr>\n",
       "    <tr>\n",
       "      <th>1985-03-31</th>\n",
       "      <td>41222.82523</td>\n",
       "      <td>1937.98372</td>\n",
       "      <td>14146.12024</td>\n",
       "      <td>54287.48845</td>\n",
       "      <td>2062.41218</td>\n",
       "      <td>25203.69988</td>\n",
       "      <td>50734.42618</td>\n",
       "      <td>141.79378</td>\n",
       "      <td>40356.67348</td>\n",
       "      <td>55251.25983</td>\n",
       "      <td>...</td>\n",
       "      <td>NaN</td>\n",
       "      <td>NaN</td>\n",
       "      <td>NaN</td>\n",
       "      <td>NaN</td>\n",
       "      <td>NaN</td>\n",
       "      <td>NaN</td>\n",
       "      <td>NaN</td>\n",
       "      <td>NaN</td>\n",
       "      <td>NaN</td>\n",
       "      <td>0</td>\n",
       "    </tr>\n",
       "    <tr>\n",
       "      <th>1985-06-30</th>\n",
       "      <td>41217.80641</td>\n",
       "      <td>1923.43523</td>\n",
       "      <td>14152.84570</td>\n",
       "      <td>54629.40010</td>\n",
       "      <td>2073.99442</td>\n",
       "      <td>25151.47741</td>\n",
       "      <td>50923.67954</td>\n",
       "      <td>142.09837</td>\n",
       "      <td>40489.50182</td>\n",
       "      <td>55149.06174</td>\n",
       "      <td>...</td>\n",
       "      <td>NaN</td>\n",
       "      <td>NaN</td>\n",
       "      <td>NaN</td>\n",
       "      <td>NaN</td>\n",
       "      <td>3.779139</td>\n",
       "      <td>NaN</td>\n",
       "      <td>NaN</td>\n",
       "      <td>NaN</td>\n",
       "      <td>NaN</td>\n",
       "      <td>0</td>\n",
       "    </tr>\n",
       "    <tr>\n",
       "      <th>1985-09-30</th>\n",
       "      <td>41370.53813</td>\n",
       "      <td>1881.48714</td>\n",
       "      <td>14160.42852</td>\n",
       "      <td>54906.06610</td>\n",
       "      <td>2043.24118</td>\n",
       "      <td>25220.09608</td>\n",
       "      <td>51192.07351</td>\n",
       "      <td>142.30864</td>\n",
       "      <td>40510.25308</td>\n",
       "      <td>55019.88580</td>\n",
       "      <td>...</td>\n",
       "      <td>-0.000508</td>\n",
       "      <td>NaN</td>\n",
       "      <td>NaN</td>\n",
       "      <td>NaN</td>\n",
       "      <td>-2.243277</td>\n",
       "      <td>3.779139</td>\n",
       "      <td>NaN</td>\n",
       "      <td>NaN</td>\n",
       "      <td>NaN</td>\n",
       "      <td>0</td>\n",
       "    </tr>\n",
       "    <tr>\n",
       "      <th>1985-12-31</th>\n",
       "      <td>41852.40991</td>\n",
       "      <td>1862.81020</td>\n",
       "      <td>14421.92371</td>\n",
       "      <td>55798.77161</td>\n",
       "      <td>2053.35666</td>\n",
       "      <td>25538.20374</td>\n",
       "      <td>51792.12891</td>\n",
       "      <td>145.77869</td>\n",
       "      <td>40920.65869</td>\n",
       "      <td>55201.59302</td>\n",
       "      <td>...</td>\n",
       "      <td>-0.001197</td>\n",
       "      <td>-0.000508</td>\n",
       "      <td>NaN</td>\n",
       "      <td>NaN</td>\n",
       "      <td>1.156199</td>\n",
       "      <td>-2.243277</td>\n",
       "      <td>3.779139</td>\n",
       "      <td>NaN</td>\n",
       "      <td>NaN</td>\n",
       "      <td>0</td>\n",
       "    </tr>\n",
       "    <tr>\n",
       "      <th>1986-03-31</th>\n",
       "      <td>41709.81075</td>\n",
       "      <td>1803.69426</td>\n",
       "      <td>14341.96916</td>\n",
       "      <td>56464.17153</td>\n",
       "      <td>1998.40474</td>\n",
       "      <td>25436.81162</td>\n",
       "      <td>51771.56325</td>\n",
       "      <td>144.09234</td>\n",
       "      <td>41097.34752</td>\n",
       "      <td>55974.18531</td>\n",
       "      <td>...</td>\n",
       "      <td>-0.000599</td>\n",
       "      <td>-0.001197</td>\n",
       "      <td>-0.000508</td>\n",
       "      <td>NaN</td>\n",
       "      <td>-0.016968</td>\n",
       "      <td>1.156199</td>\n",
       "      <td>-2.243277</td>\n",
       "      <td>3.779139</td>\n",
       "      <td>NaN</td>\n",
       "      <td>0</td>\n",
       "    </tr>\n",
       "    <tr>\n",
       "      <th>1986-06-30</th>\n",
       "      <td>41847.89305</td>\n",
       "      <td>1851.70273</td>\n",
       "      <td>14438.32370</td>\n",
       "      <td>56975.21326</td>\n",
       "      <td>2031.74602</td>\n",
       "      <td>25611.51362</td>\n",
       "      <td>51980.75950</td>\n",
       "      <td>143.66779</td>\n",
       "      <td>41883.14707</td>\n",
       "      <td>55991.86599</td>\n",
       "      <td>...</td>\n",
       "      <td>0.000441</td>\n",
       "      <td>-0.000599</td>\n",
       "      <td>-0.001197</td>\n",
       "      <td>-0.000508</td>\n",
       "      <td>-1.678093</td>\n",
       "      <td>-0.016968</td>\n",
       "      <td>1.156199</td>\n",
       "      <td>-2.243277</td>\n",
       "      <td>3.779139</td>\n",
       "      <td>0</td>\n",
       "    </tr>\n",
       "    <tr>\n",
       "      <th>1986-09-30</th>\n",
       "      <td>41923.98037</td>\n",
       "      <td>1866.59541</td>\n",
       "      <td>14511.72463</td>\n",
       "      <td>58844.71779</td>\n",
       "      <td>2018.39128</td>\n",
       "      <td>25810.88348</td>\n",
       "      <td>52226.57793</td>\n",
       "      <td>143.55639</td>\n",
       "      <td>42348.83344</td>\n",
       "      <td>55957.85171</td>\n",
       "      <td>...</td>\n",
       "      <td>-0.000689</td>\n",
       "      <td>0.000441</td>\n",
       "      <td>-0.000599</td>\n",
       "      <td>-0.001197</td>\n",
       "      <td>-0.745027</td>\n",
       "      <td>-1.678093</td>\n",
       "      <td>-0.016968</td>\n",
       "      <td>1.156199</td>\n",
       "      <td>-2.243277</td>\n",
       "      <td>0</td>\n",
       "    </tr>\n",
       "    <tr>\n",
       "      <th>1986-12-31</th>\n",
       "      <td>42096.08423</td>\n",
       "      <td>1881.53716</td>\n",
       "      <td>14785.48413</td>\n",
       "      <td>60680.70313</td>\n",
       "      <td>2024.47419</td>\n",
       "      <td>26173.73022</td>\n",
       "      <td>52750.95703</td>\n",
       "      <td>145.08542</td>\n",
       "      <td>42903.00293</td>\n",
       "      <td>55958.73047</td>\n",
       "      <td>...</td>\n",
       "      <td>-0.018702</td>\n",
       "      <td>-0.000689</td>\n",
       "      <td>0.000441</td>\n",
       "      <td>-0.000599</td>\n",
       "      <td>-1.624015</td>\n",
       "      <td>-0.745027</td>\n",
       "      <td>-1.678093</td>\n",
       "      <td>-0.016968</td>\n",
       "      <td>1.156199</td>\n",
       "      <td>0</td>\n",
       "    </tr>\n",
       "    <tr>\n",
       "      <th>1987-03-31</th>\n",
       "      <td>42217.71839</td>\n",
       "      <td>1829.54322</td>\n",
       "      <td>14707.51601</td>\n",
       "      <td>61351.90298</td>\n",
       "      <td>1963.09170</td>\n",
       "      <td>26558.78271</td>\n",
       "      <td>52930.10711</td>\n",
       "      <td>146.68301</td>\n",
       "      <td>42890.99235</td>\n",
       "      <td>56507.46980</td>\n",
       "      <td>...</td>\n",
       "      <td>-0.007655</td>\n",
       "      <td>-0.018702</td>\n",
       "      <td>-0.000689</td>\n",
       "      <td>0.000441</td>\n",
       "      <td>-2.056415</td>\n",
       "      <td>-1.624015</td>\n",
       "      <td>-0.745027</td>\n",
       "      <td>-1.678093</td>\n",
       "      <td>-0.016968</td>\n",
       "      <td>0</td>\n",
       "    </tr>\n",
       "    <tr>\n",
       "      <th>1987-06-30</th>\n",
       "      <td>42393.68798</td>\n",
       "      <td>1846.20562</td>\n",
       "      <td>14772.75094</td>\n",
       "      <td>62832.65961</td>\n",
       "      <td>1956.28616</td>\n",
       "      <td>26723.74001</td>\n",
       "      <td>53103.24806</td>\n",
       "      <td>144.99984</td>\n",
       "      <td>42961.57165</td>\n",
       "      <td>56401.34636</td>\n",
       "      <td>...</td>\n",
       "      <td>-0.006437</td>\n",
       "      <td>-0.007655</td>\n",
       "      <td>-0.018702</td>\n",
       "      <td>-0.000689</td>\n",
       "      <td>-0.586075</td>\n",
       "      <td>-2.056415</td>\n",
       "      <td>-1.624015</td>\n",
       "      <td>-0.745027</td>\n",
       "      <td>-1.678093</td>\n",
       "      <td>0</td>\n",
       "    </tr>\n",
       "    <tr>\n",
       "      <th>1987-09-30</th>\n",
       "      <td>42675.53002</td>\n",
       "      <td>1841.03161</td>\n",
       "      <td>14776.06223</td>\n",
       "      <td>65802.74181</td>\n",
       "      <td>1912.47345</td>\n",
       "      <td>27150.57377</td>\n",
       "      <td>53219.80262</td>\n",
       "      <td>144.54025</td>\n",
       "      <td>43044.23067</td>\n",
       "      <td>56310.46173</td>\n",
       "      <td>...</td>\n",
       "      <td>0.005468</td>\n",
       "      <td>-0.006437</td>\n",
       "      <td>-0.007655</td>\n",
       "      <td>-0.018702</td>\n",
       "      <td>6.204458</td>\n",
       "      <td>-0.586075</td>\n",
       "      <td>-2.056415</td>\n",
       "      <td>-1.624015</td>\n",
       "      <td>-0.745027</td>\n",
       "      <td>0</td>\n",
       "    </tr>\n",
       "    <tr>\n",
       "      <th>1987-12-31</th>\n",
       "      <td>43257.07373</td>\n",
       "      <td>1852.79645</td>\n",
       "      <td>15045.37488</td>\n",
       "      <td>70215.45361</td>\n",
       "      <td>1961.86446</td>\n",
       "      <td>27847.35004</td>\n",
       "      <td>53522.79883</td>\n",
       "      <td>144.68003</td>\n",
       "      <td>43744.11865</td>\n",
       "      <td>56316.93506</td>\n",
       "      <td>...</td>\n",
       "      <td>0.013936</td>\n",
       "      <td>0.005468</td>\n",
       "      <td>-0.006437</td>\n",
       "      <td>-0.007655</td>\n",
       "      <td>3.556946</td>\n",
       "      <td>6.204458</td>\n",
       "      <td>-0.586075</td>\n",
       "      <td>-2.056415</td>\n",
       "      <td>-1.624015</td>\n",
       "      <td>0</td>\n",
       "    </tr>\n",
       "    <tr>\n",
       "      <th>1988-03-31</th>\n",
       "      <td>43850.71019</td>\n",
       "      <td>1818.86593</td>\n",
       "      <td>14912.97502</td>\n",
       "      <td>71425.52633</td>\n",
       "      <td>1921.89145</td>\n",
       "      <td>27691.33180</td>\n",
       "      <td>53360.44757</td>\n",
       "      <td>145.84375</td>\n",
       "      <td>43201.67395</td>\n",
       "      <td>56610.64559</td>\n",
       "      <td>...</td>\n",
       "      <td>0.003048</td>\n",
       "      <td>0.013936</td>\n",
       "      <td>0.005468</td>\n",
       "      <td>-0.006437</td>\n",
       "      <td>-1.916067</td>\n",
       "      <td>3.556946</td>\n",
       "      <td>6.204458</td>\n",
       "      <td>-0.586075</td>\n",
       "      <td>-2.056415</td>\n",
       "      <td>0</td>\n",
       "    </tr>\n",
       "    <tr>\n",
       "      <th>1988-06-30</th>\n",
       "      <td>44270.49254</td>\n",
       "      <td>1811.11451</td>\n",
       "      <td>14982.26278</td>\n",
       "      <td>73234.93095</td>\n",
       "      <td>1915.09106</td>\n",
       "      <td>28226.20330</td>\n",
       "      <td>53374.61741</td>\n",
       "      <td>143.89123</td>\n",
       "      <td>43067.25370</td>\n",
       "      <td>56463.11906</td>\n",
       "      <td>...</td>\n",
       "      <td>0.004746</td>\n",
       "      <td>0.003048</td>\n",
       "      <td>0.013936</td>\n",
       "      <td>0.005468</td>\n",
       "      <td>5.001002</td>\n",
       "      <td>-1.916067</td>\n",
       "      <td>3.556946</td>\n",
       "      <td>6.204458</td>\n",
       "      <td>-0.586075</td>\n",
       "      <td>0</td>\n",
       "    </tr>\n",
       "    <tr>\n",
       "      <th>1988-09-30</th>\n",
       "      <td>44613.33220</td>\n",
       "      <td>1796.30043</td>\n",
       "      <td>15039.96753</td>\n",
       "      <td>74655.74086</td>\n",
       "      <td>1865.33154</td>\n",
       "      <td>28851.41164</td>\n",
       "      <td>53451.84932</td>\n",
       "      <td>143.56622</td>\n",
       "      <td>42942.15041</td>\n",
       "      <td>56266.29941</td>\n",
       "      <td>...</td>\n",
       "      <td>0.001135</td>\n",
       "      <td>0.004746</td>\n",
       "      <td>0.003048</td>\n",
       "      <td>0.013936</td>\n",
       "      <td>-0.192437</td>\n",
       "      <td>5.001002</td>\n",
       "      <td>-1.916067</td>\n",
       "      <td>3.556946</td>\n",
       "      <td>6.204458</td>\n",
       "      <td>0</td>\n",
       "    </tr>\n",
       "    <tr>\n",
       "      <th>1988-12-31</th>\n",
       "      <td>45033.77783</td>\n",
       "      <td>1767.48672</td>\n",
       "      <td>15147.73108</td>\n",
       "      <td>75929.26929</td>\n",
       "      <td>1840.14354</td>\n",
       "      <td>29915.62897</td>\n",
       "      <td>53648.99512</td>\n",
       "      <td>142.72291</td>\n",
       "      <td>43183.39209</td>\n",
       "      <td>56164.88452</td>\n",
       "      <td>...</td>\n",
       "      <td>0.005916</td>\n",
       "      <td>0.001135</td>\n",
       "      <td>0.004746</td>\n",
       "      <td>0.003048</td>\n",
       "      <td>0.202436</td>\n",
       "      <td>-0.192437</td>\n",
       "      <td>5.001002</td>\n",
       "      <td>-1.916067</td>\n",
       "      <td>3.556946</td>\n",
       "      <td>0</td>\n",
       "    </tr>\n",
       "    <tr>\n",
       "      <th>1989-03-31</th>\n",
       "      <td>45366.61294</td>\n",
       "      <td>1733.17155</td>\n",
       "      <td>15065.40267</td>\n",
       "      <td>76100.81512</td>\n",
       "      <td>1793.89562</td>\n",
       "      <td>29897.34076</td>\n",
       "      <td>53609.03628</td>\n",
       "      <td>139.27099</td>\n",
       "      <td>42462.68242</td>\n",
       "      <td>56563.16149</td>\n",
       "      <td>...</td>\n",
       "      <td>0.003409</td>\n",
       "      <td>0.005916</td>\n",
       "      <td>0.001135</td>\n",
       "      <td>0.004746</td>\n",
       "      <td>4.960182</td>\n",
       "      <td>0.202436</td>\n",
       "      <td>-0.192437</td>\n",
       "      <td>5.001002</td>\n",
       "      <td>-1.916067</td>\n",
       "      <td>0</td>\n",
       "    </tr>\n",
       "    <tr>\n",
       "      <th>1989-06-30</th>\n",
       "      <td>45691.82329</td>\n",
       "      <td>1715.50796</td>\n",
       "      <td>15178.96406</td>\n",
       "      <td>76001.21088</td>\n",
       "      <td>1746.31745</td>\n",
       "      <td>30583.15747</td>\n",
       "      <td>53559.83507</td>\n",
       "      <td>137.48718</td>\n",
       "      <td>42164.27697</td>\n",
       "      <td>56405.00263</td>\n",
       "      <td>...</td>\n",
       "      <td>0.009372</td>\n",
       "      <td>0.003409</td>\n",
       "      <td>0.005916</td>\n",
       "      <td>0.001135</td>\n",
       "      <td>0.636203</td>\n",
       "      <td>4.960182</td>\n",
       "      <td>0.202436</td>\n",
       "      <td>-0.192437</td>\n",
       "      <td>5.001002</td>\n",
       "      <td>0</td>\n",
       "    </tr>\n",
       "    <tr>\n",
       "      <th>1989-09-30</th>\n",
       "      <td>45737.09767</td>\n",
       "      <td>1674.98575</td>\n",
       "      <td>15209.49350</td>\n",
       "      <td>75753.71551</td>\n",
       "      <td>1720.41903</td>\n",
       "      <td>30720.45634</td>\n",
       "      <td>53822.62740</td>\n",
       "      <td>133.60237</td>\n",
       "      <td>41948.38650</td>\n",
       "      <td>56327.33885</td>\n",
       "      <td>...</td>\n",
       "      <td>0.000852</td>\n",
       "      <td>0.009372</td>\n",
       "      <td>0.003409</td>\n",
       "      <td>0.005916</td>\n",
       "      <td>-6.571897</td>\n",
       "      <td>0.636203</td>\n",
       "      <td>4.960182</td>\n",
       "      <td>0.202436</td>\n",
       "      <td>-0.192437</td>\n",
       "      <td>0</td>\n",
       "    </tr>\n",
       "    <tr>\n",
       "      <th>1989-12-31</th>\n",
       "      <td>45832.40259</td>\n",
       "      <td>1645.00607</td>\n",
       "      <td>15281.92725</td>\n",
       "      <td>75788.55469</td>\n",
       "      <td>1687.95962</td>\n",
       "      <td>30724.57050</td>\n",
       "      <td>54032.41113</td>\n",
       "      <td>134.96422</td>\n",
       "      <td>41724.04590</td>\n",
       "      <td>56124.24878</td>\n",
       "      <td>...</td>\n",
       "      <td>0.001167</td>\n",
       "      <td>0.000852</td>\n",
       "      <td>0.009372</td>\n",
       "      <td>0.003409</td>\n",
       "      <td>-5.677462</td>\n",
       "      <td>-6.571897</td>\n",
       "      <td>0.636203</td>\n",
       "      <td>4.960182</td>\n",
       "      <td>0.202436</td>\n",
       "      <td>0</td>\n",
       "    </tr>\n",
       "    <tr>\n",
       "      <th>1990-03-31</th>\n",
       "      <td>45719.81261</td>\n",
       "      <td>1584.28331</td>\n",
       "      <td>15041.61207</td>\n",
       "      <td>75865.56961</td>\n",
       "      <td>1654.61643</td>\n",
       "      <td>30249.61054</td>\n",
       "      <td>53888.36424</td>\n",
       "      <td>135.18149</td>\n",
       "      <td>41167.63299</td>\n",
       "      <td>56360.92681</td>\n",
       "      <td>...</td>\n",
       "      <td>0.002430</td>\n",
       "      <td>0.001167</td>\n",
       "      <td>0.000852</td>\n",
       "      <td>0.009372</td>\n",
       "      <td>3.242797</td>\n",
       "      <td>-5.677462</td>\n",
       "      <td>-6.571897</td>\n",
       "      <td>0.636203</td>\n",
       "      <td>4.960182</td>\n",
       "      <td>0</td>\n",
       "    </tr>\n",
       "    <tr>\n",
       "      <th>1990-06-30</th>\n",
       "      <td>45618.66127</td>\n",
       "      <td>1604.48976</td>\n",
       "      <td>15037.01336</td>\n",
       "      <td>76834.56549</td>\n",
       "      <td>1640.24350</td>\n",
       "      <td>30145.49879</td>\n",
       "      <td>54103.13104</td>\n",
       "      <td>135.20461</td>\n",
       "      <td>40860.78065</td>\n",
       "      <td>55979.98532</td>\n",
       "      <td>...</td>\n",
       "      <td>-0.003102</td>\n",
       "      <td>0.002430</td>\n",
       "      <td>0.001167</td>\n",
       "      <td>0.000852</td>\n",
       "      <td>-0.069251</td>\n",
       "      <td>3.242797</td>\n",
       "      <td>-5.677462</td>\n",
       "      <td>-6.571897</td>\n",
       "      <td>0.636203</td>\n",
       "      <td>0</td>\n",
       "    </tr>\n",
       "    <tr>\n",
       "      <th>1990-09-30</th>\n",
       "      <td>45673.43950</td>\n",
       "      <td>1587.88448</td>\n",
       "      <td>15012.40136</td>\n",
       "      <td>77246.71171</td>\n",
       "      <td>1596.07160</td>\n",
       "      <td>29998.39233</td>\n",
       "      <td>54458.48215</td>\n",
       "      <td>132.17454</td>\n",
       "      <td>40535.88045</td>\n",
       "      <td>55775.58462</td>\n",
       "      <td>...</td>\n",
       "      <td>0.003405</td>\n",
       "      <td>-0.003102</td>\n",
       "      <td>0.002430</td>\n",
       "      <td>0.001167</td>\n",
       "      <td>4.644392</td>\n",
       "      <td>-0.069251</td>\n",
       "      <td>3.242797</td>\n",
       "      <td>-5.677462</td>\n",
       "      <td>-6.571897</td>\n",
       "      <td>0</td>\n",
       "    </tr>\n",
       "    <tr>\n",
       "      <th>1990-12-31</th>\n",
       "      <td>45738.12671</td>\n",
       "      <td>1569.87507</td>\n",
       "      <td>15235.78210</td>\n",
       "      <td>78659.26477</td>\n",
       "      <td>1588.62127</td>\n",
       "      <td>30206.63055</td>\n",
       "      <td>54929.28711</td>\n",
       "      <td>131.31437</td>\n",
       "      <td>40643.74951</td>\n",
       "      <td>55516.39941</td>\n",
       "      <td>...</td>\n",
       "      <td>0.000824</td>\n",
       "      <td>0.003405</td>\n",
       "      <td>-0.003102</td>\n",
       "      <td>0.002430</td>\n",
       "      <td>8.945848</td>\n",
       "      <td>4.644392</td>\n",
       "      <td>-0.069251</td>\n",
       "      <td>3.242797</td>\n",
       "      <td>-5.677462</td>\n",
       "      <td>0</td>\n",
       "    </tr>\n",
       "    <tr>\n",
       "      <th>1991-03-31</th>\n",
       "      <td>45526.92704</td>\n",
       "      <td>1537.91372</td>\n",
       "      <td>15024.84898</td>\n",
       "      <td>78554.57814</td>\n",
       "      <td>1563.48630</td>\n",
       "      <td>29915.51928</td>\n",
       "      <td>54984.94170</td>\n",
       "      <td>132.08881</td>\n",
       "      <td>40169.98371</td>\n",
       "      <td>55580.12167</td>\n",
       "      <td>...</td>\n",
       "      <td>-0.006872</td>\n",
       "      <td>0.000824</td>\n",
       "      <td>0.003405</td>\n",
       "      <td>-0.003102</td>\n",
       "      <td>-10.668667</td>\n",
       "      <td>8.945848</td>\n",
       "      <td>4.644392</td>\n",
       "      <td>-0.069251</td>\n",
       "      <td>3.242797</td>\n",
       "      <td>0</td>\n",
       "    </tr>\n",
       "    <tr>\n",
       "      <th>1991-06-30</th>\n",
       "      <td>45591.69792</td>\n",
       "      <td>1559.04709</td>\n",
       "      <td>15128.36277</td>\n",
       "      <td>78444.57012</td>\n",
       "      <td>1532.31151</td>\n",
       "      <td>29786.71110</td>\n",
       "      <td>55293.44370</td>\n",
       "      <td>129.19120</td>\n",
       "      <td>40044.39794</td>\n",
       "      <td>55278.79282</td>\n",
       "      <td>...</td>\n",
       "      <td>0.005678</td>\n",
       "      <td>-0.006872</td>\n",
       "      <td>0.000824</td>\n",
       "      <td>0.003405</td>\n",
       "      <td>-0.680581</td>\n",
       "      <td>-10.668667</td>\n",
       "      <td>8.945848</td>\n",
       "      <td>4.644392</td>\n",
       "      <td>-0.069251</td>\n",
       "      <td>0</td>\n",
       "    </tr>\n",
       "    <tr>\n",
       "      <th>1991-09-30</th>\n",
       "      <td>45519.61313</td>\n",
       "      <td>1527.45922</td>\n",
       "      <td>15129.79400</td>\n",
       "      <td>78334.06139</td>\n",
       "      <td>1481.77186</td>\n",
       "      <td>29628.65882</td>\n",
       "      <td>55481.29699</td>\n",
       "      <td>126.38550</td>\n",
       "      <td>39970.82336</td>\n",
       "      <td>54962.36954</td>\n",
       "      <td>...</td>\n",
       "      <td>0.000511</td>\n",
       "      <td>0.005678</td>\n",
       "      <td>-0.006872</td>\n",
       "      <td>0.000824</td>\n",
       "      <td>4.202210</td>\n",
       "      <td>-0.680581</td>\n",
       "      <td>-10.668667</td>\n",
       "      <td>8.945848</td>\n",
       "      <td>4.644392</td>\n",
       "      <td>0</td>\n",
       "    </tr>\n",
       "    <tr>\n",
       "      <th>1991-12-31</th>\n",
       "      <td>45637.32617</td>\n",
       "      <td>1518.32977</td>\n",
       "      <td>15361.45239</td>\n",
       "      <td>78175.49780</td>\n",
       "      <td>1442.02435</td>\n",
       "      <td>29651.37659</td>\n",
       "      <td>55635.59277</td>\n",
       "      <td>127.51847</td>\n",
       "      <td>39838.10693</td>\n",
       "      <td>54820.82471</td>\n",
       "      <td>...</td>\n",
       "      <td>0.002590</td>\n",
       "      <td>0.000511</td>\n",
       "      <td>0.005678</td>\n",
       "      <td>-0.006872</td>\n",
       "      <td>-9.046363</td>\n",
       "      <td>4.202210</td>\n",
       "      <td>-0.680581</td>\n",
       "      <td>-10.668667</td>\n",
       "      <td>8.945848</td>\n",
       "      <td>0</td>\n",
       "    </tr>\n",
       "    <tr>\n",
       "      <th>1992-03-31</th>\n",
       "      <td>45541.24666</td>\n",
       "      <td>1447.78267</td>\n",
       "      <td>15209.51921</td>\n",
       "      <td>77693.87718</td>\n",
       "      <td>1388.92248</td>\n",
       "      <td>29064.67545</td>\n",
       "      <td>55865.86602</td>\n",
       "      <td>122.18049</td>\n",
       "      <td>39267.51934</td>\n",
       "      <td>54895.03204</td>\n",
       "      <td>...</td>\n",
       "      <td>0.008195</td>\n",
       "      <td>0.002590</td>\n",
       "      <td>0.000511</td>\n",
       "      <td>0.005678</td>\n",
       "      <td>7.882122</td>\n",
       "      <td>-9.046363</td>\n",
       "      <td>4.202210</td>\n",
       "      <td>-0.680581</td>\n",
       "      <td>-10.668667</td>\n",
       "      <td>0</td>\n",
       "    </tr>\n",
       "    <tr>\n",
       "      <th>1992-06-30</th>\n",
       "      <td>45568.61094</td>\n",
       "      <td>1447.69162</td>\n",
       "      <td>15277.34193</td>\n",
       "      <td>77279.48810</td>\n",
       "      <td>1344.84860</td>\n",
       "      <td>28686.02213</td>\n",
       "      <td>56529.96745</td>\n",
       "      <td>119.58159</td>\n",
       "      <td>38821.11424</td>\n",
       "      <td>54804.46370</td>\n",
       "      <td>...</td>\n",
       "      <td>0.002928</td>\n",
       "      <td>0.008195</td>\n",
       "      <td>0.002590</td>\n",
       "      <td>0.000511</td>\n",
       "      <td>-2.984705</td>\n",
       "      <td>7.882122</td>\n",
       "      <td>-9.046363</td>\n",
       "      <td>4.202210</td>\n",
       "      <td>-0.680581</td>\n",
       "      <td>0</td>\n",
       "    </tr>\n",
       "    <tr>\n",
       "      <th>1992-09-30</th>\n",
       "      <td>45492.47105</td>\n",
       "      <td>1420.16623</td>\n",
       "      <td>15369.51672</td>\n",
       "      <td>76908.19303</td>\n",
       "      <td>1298.77729</td>\n",
       "      <td>28425.14462</td>\n",
       "      <td>57376.42844</td>\n",
       "      <td>114.54466</td>\n",
       "      <td>38485.60701</td>\n",
       "      <td>54719.91078</td>\n",
       "      <td>...</td>\n",
       "      <td>-0.000475</td>\n",
       "      <td>0.002928</td>\n",
       "      <td>0.008195</td>\n",
       "      <td>0.002590</td>\n",
       "      <td>-0.910023</td>\n",
       "      <td>-2.984705</td>\n",
       "      <td>7.882122</td>\n",
       "      <td>-9.046363</td>\n",
       "      <td>4.202210</td>\n",
       "      <td>0</td>\n",
       "    </tr>\n",
       "    <tr>\n",
       "      <th>1992-12-31</th>\n",
       "      <td>45779.55078</td>\n",
       "      <td>1415.29119</td>\n",
       "      <td>15428.54480</td>\n",
       "      <td>76553.65015</td>\n",
       "      <td>1273.77962</td>\n",
       "      <td>28210.60205</td>\n",
       "      <td>59825.92773</td>\n",
       "      <td>117.62790</td>\n",
       "      <td>38259.93750</td>\n",
       "      <td>54609.94434</td>\n",
       "      <td>...</td>\n",
       "      <td>0.001219</td>\n",
       "      <td>-0.000475</td>\n",
       "      <td>0.002928</td>\n",
       "      <td>0.008195</td>\n",
       "      <td>-3.273240</td>\n",
       "      <td>-0.910023</td>\n",
       "      <td>-2.984705</td>\n",
       "      <td>7.882122</td>\n",
       "      <td>-9.046363</td>\n",
       "      <td>0</td>\n",
       "    </tr>\n",
       "    <tr>\n",
       "      <th>1993-03-31</th>\n",
       "      <td>45611.13150</td>\n",
       "      <td>1412.63912</td>\n",
       "      <td>15228.27109</td>\n",
       "      <td>76084.96741</td>\n",
       "      <td>1264.28294</td>\n",
       "      <td>27524.60746</td>\n",
       "      <td>59587.29311</td>\n",
       "      <td>123.83954</td>\n",
       "      <td>37471.95493</td>\n",
       "      <td>54759.43712</td>\n",
       "      <td>...</td>\n",
       "      <td>0.001440</td>\n",
       "      <td>0.001219</td>\n",
       "      <td>-0.000475</td>\n",
       "      <td>0.002928</td>\n",
       "      <td>4.626898</td>\n",
       "      <td>-3.273240</td>\n",
       "      <td>-0.910023</td>\n",
       "      <td>-2.984705</td>\n",
       "      <td>7.882122</td>\n",
       "      <td>0</td>\n",
       "    </tr>\n",
       "    <tr>\n",
       "      <th>1993-06-30</th>\n",
       "      <td>45714.84680</td>\n",
       "      <td>1382.41662</td>\n",
       "      <td>15202.03076</td>\n",
       "      <td>75758.56589</td>\n",
       "      <td>1238.86212</td>\n",
       "      <td>27108.68786</td>\n",
       "      <td>59545.72280</td>\n",
       "      <td>120.77266</td>\n",
       "      <td>36967.44960</td>\n",
       "      <td>54480.53484</td>\n",
       "      <td>...</td>\n",
       "      <td>-0.005903</td>\n",
       "      <td>0.001440</td>\n",
       "      <td>0.001219</td>\n",
       "      <td>-0.000475</td>\n",
       "      <td>-6.754825</td>\n",
       "      <td>4.626898</td>\n",
       "      <td>-3.273240</td>\n",
       "      <td>-0.910023</td>\n",
       "      <td>-2.984705</td>\n",
       "      <td>0</td>\n",
       "    </tr>\n",
       "    <tr>\n",
       "      <th>1993-09-30</th>\n",
       "      <td>45768.34767</td>\n",
       "      <td>1334.89338</td>\n",
       "      <td>15239.96533</td>\n",
       "      <td>75598.55327</td>\n",
       "      <td>1200.74404</td>\n",
       "      <td>26791.95244</td>\n",
       "      <td>59475.58692</td>\n",
       "      <td>117.21628</td>\n",
       "      <td>36502.96032</td>\n",
       "      <td>54218.72697</td>\n",
       "      <td>...</td>\n",
       "      <td>-0.000853</td>\n",
       "      <td>-0.005903</td>\n",
       "      <td>0.001440</td>\n",
       "      <td>0.001219</td>\n",
       "      <td>-1.771391</td>\n",
       "      <td>-6.754825</td>\n",
       "      <td>4.626898</td>\n",
       "      <td>-3.273240</td>\n",
       "      <td>-0.910023</td>\n",
       "      <td>0</td>\n",
       "    </tr>\n",
       "  </tbody>\n",
       "</table>\n",
       "<p>39 rows × 536 columns</p>\n",
       "</div>"
      ],
      "text/plain": [
       "                  K1015       K4015        K5015        K1025       K4025  \\\n",
       "1984-03-31  40587.46941  2037.32411  14324.01745  53830.59095  2163.89247   \n",
       "1984-06-30  40711.26442  2025.30404  14259.90152  53880.47646  2129.62892   \n",
       "1984-09-30  40867.62893  2004.60328  14185.49137  54117.32448  2095.85917   \n",
       "1984-12-31  41393.02563  1976.91600  14322.99561  54425.35767  2087.38581   \n",
       "1985-03-31  41222.82523  1937.98372  14146.12024  54287.48845  2062.41218   \n",
       "1985-06-30  41217.80641  1923.43523  14152.84570  54629.40010  2073.99442   \n",
       "1985-09-30  41370.53813  1881.48714  14160.42852  54906.06610  2043.24118   \n",
       "1985-12-31  41852.40991  1862.81020  14421.92371  55798.77161  2053.35666   \n",
       "1986-03-31  41709.81075  1803.69426  14341.96916  56464.17153  1998.40474   \n",
       "1986-06-30  41847.89305  1851.70273  14438.32370  56975.21326  2031.74602   \n",
       "1986-09-30  41923.98037  1866.59541  14511.72463  58844.71779  2018.39128   \n",
       "1986-12-31  42096.08423  1881.53716  14785.48413  60680.70313  2024.47419   \n",
       "1987-03-31  42217.71839  1829.54322  14707.51601  61351.90298  1963.09170   \n",
       "1987-06-30  42393.68798  1846.20562  14772.75094  62832.65961  1956.28616   \n",
       "1987-09-30  42675.53002  1841.03161  14776.06223  65802.74181  1912.47345   \n",
       "1987-12-31  43257.07373  1852.79645  15045.37488  70215.45361  1961.86446   \n",
       "1988-03-31  43850.71019  1818.86593  14912.97502  71425.52633  1921.89145   \n",
       "1988-06-30  44270.49254  1811.11451  14982.26278  73234.93095  1915.09106   \n",
       "1988-09-30  44613.33220  1796.30043  15039.96753  74655.74086  1865.33154   \n",
       "1988-12-31  45033.77783  1767.48672  15147.73108  75929.26929  1840.14354   \n",
       "1989-03-31  45366.61294  1733.17155  15065.40267  76100.81512  1793.89562   \n",
       "1989-06-30  45691.82329  1715.50796  15178.96406  76001.21088  1746.31745   \n",
       "1989-09-30  45737.09767  1674.98575  15209.49350  75753.71551  1720.41903   \n",
       "1989-12-31  45832.40259  1645.00607  15281.92725  75788.55469  1687.95962   \n",
       "1990-03-31  45719.81261  1584.28331  15041.61207  75865.56961  1654.61643   \n",
       "1990-06-30  45618.66127  1604.48976  15037.01336  76834.56549  1640.24350   \n",
       "1990-09-30  45673.43950  1587.88448  15012.40136  77246.71171  1596.07160   \n",
       "1990-12-31  45738.12671  1569.87507  15235.78210  78659.26477  1588.62127   \n",
       "1991-03-31  45526.92704  1537.91372  15024.84898  78554.57814  1563.48630   \n",
       "1991-06-30  45591.69792  1559.04709  15128.36277  78444.57012  1532.31151   \n",
       "1991-09-30  45519.61313  1527.45922  15129.79400  78334.06139  1481.77186   \n",
       "1991-12-31  45637.32617  1518.32977  15361.45239  78175.49780  1442.02435   \n",
       "1992-03-31  45541.24666  1447.78267  15209.51921  77693.87718  1388.92248   \n",
       "1992-06-30  45568.61094  1447.69162  15277.34193  77279.48810  1344.84860   \n",
       "1992-09-30  45492.47105  1420.16623  15369.51672  76908.19303  1298.77729   \n",
       "1992-12-31  45779.55078  1415.29119  15428.54480  76553.65015  1273.77962   \n",
       "1993-03-31  45611.13150  1412.63912  15228.27109  76084.96741  1264.28294   \n",
       "1993-06-30  45714.84680  1382.41662  15202.03076  75758.56589  1238.86212   \n",
       "1993-09-30  45768.34767  1334.89338  15239.96533  75598.55327  1200.74404   \n",
       "\n",
       "                  K5025        K1030      K4030        K5030        K1045  \\\n",
       "1984-03-31  25533.96959  50855.79793  139.07458  40625.98823  54639.35207   \n",
       "1984-06-30  25436.76146  50786.99933  143.95469  40412.69433  54548.34942   \n",
       "1984-09-30  25430.38127  50796.56177  147.85627  40368.99768  54534.04365   \n",
       "1984-12-31  25472.50092  50852.66113  148.60672  40608.06934  54688.84131   \n",
       "1985-03-31  25203.69988  50734.42618  141.79378  40356.67348  55251.25983   \n",
       "1985-06-30  25151.47741  50923.67954  142.09837  40489.50182  55149.06174   \n",
       "1985-09-30  25220.09608  51192.07351  142.30864  40510.25308  55019.88580   \n",
       "1985-12-31  25538.20374  51792.12891  145.77869  40920.65869  55201.59302   \n",
       "1986-03-31  25436.81162  51771.56325  144.09234  41097.34752  55974.18531   \n",
       "1986-06-30  25611.51362  51980.75950  143.66779  41883.14707  55991.86599   \n",
       "1986-09-30  25810.88348  52226.57793  143.55639  42348.83344  55957.85171   \n",
       "1986-12-31  26173.73022  52750.95703  145.08542  42903.00293  55958.73047   \n",
       "1987-03-31  26558.78271  52930.10711  146.68301  42890.99235  56507.46980   \n",
       "1987-06-30  26723.74001  53103.24806  144.99984  42961.57165  56401.34636   \n",
       "1987-09-30  27150.57377  53219.80262  144.54025  43044.23067  56310.46173   \n",
       "1987-12-31  27847.35004  53522.79883  144.68003  43744.11865  56316.93506   \n",
       "1988-03-31  27691.33180  53360.44757  145.84375  43201.67395  56610.64559   \n",
       "1988-06-30  28226.20330  53374.61741  143.89123  43067.25370  56463.11906   \n",
       "1988-09-30  28851.41164  53451.84932  143.56622  42942.15041  56266.29941   \n",
       "1988-12-31  29915.62897  53648.99512  142.72291  43183.39209  56164.88452   \n",
       "1989-03-31  29897.34076  53609.03628  139.27099  42462.68242  56563.16149   \n",
       "1989-06-30  30583.15747  53559.83507  137.48718  42164.27697  56405.00263   \n",
       "1989-09-30  30720.45634  53822.62740  133.60237  41948.38650  56327.33885   \n",
       "1989-12-31  30724.57050  54032.41113  134.96422  41724.04590  56124.24878   \n",
       "1990-03-31  30249.61054  53888.36424  135.18149  41167.63299  56360.92681   \n",
       "1990-06-30  30145.49879  54103.13104  135.20461  40860.78065  55979.98532   \n",
       "1990-09-30  29998.39233  54458.48215  132.17454  40535.88045  55775.58462   \n",
       "1990-12-31  30206.63055  54929.28711  131.31437  40643.74951  55516.39941   \n",
       "1991-03-31  29915.51928  54984.94170  132.08881  40169.98371  55580.12167   \n",
       "1991-06-30  29786.71110  55293.44370  129.19120  40044.39794  55278.79282   \n",
       "1991-09-30  29628.65882  55481.29699  126.38550  39970.82336  54962.36954   \n",
       "1991-12-31  29651.37659  55635.59277  127.51847  39838.10693  54820.82471   \n",
       "1992-03-31  29064.67545  55865.86602  122.18049  39267.51934  54895.03204   \n",
       "1992-06-30  28686.02213  56529.96745  119.58159  38821.11424  54804.46370   \n",
       "1992-09-30  28425.14462  57376.42844  114.54466  38485.60701  54719.91078   \n",
       "1992-12-31  28210.60205  59825.92773  117.62790  38259.93750  54609.94434   \n",
       "1993-03-31  27524.60746  59587.29311  123.83954  37471.95493  54759.43712   \n",
       "1993-06-30  27108.68786  59545.72280  120.77266  36967.44960  54480.53484   \n",
       "1993-09-30  26791.95244  59475.58692  117.21628  36502.96032  54218.72697   \n",
       "\n",
       "             ...      DRRT_1    DRRT_2    DRRT_3    DRRT_4        DUC  \\\n",
       "1984-03-31   ...         NaN       NaN       NaN       NaN        NaN   \n",
       "1984-06-30   ...         NaN       NaN       NaN       NaN        NaN   \n",
       "1984-09-30   ...         NaN       NaN       NaN       NaN        NaN   \n",
       "1984-12-31   ...         NaN       NaN       NaN       NaN        NaN   \n",
       "1985-03-31   ...         NaN       NaN       NaN       NaN        NaN   \n",
       "1985-06-30   ...         NaN       NaN       NaN       NaN   3.779139   \n",
       "1985-09-30   ...   -0.000508       NaN       NaN       NaN  -2.243277   \n",
       "1985-12-31   ...   -0.001197 -0.000508       NaN       NaN   1.156199   \n",
       "1986-03-31   ...   -0.000599 -0.001197 -0.000508       NaN  -0.016968   \n",
       "1986-06-30   ...    0.000441 -0.000599 -0.001197 -0.000508  -1.678093   \n",
       "1986-09-30   ...   -0.000689  0.000441 -0.000599 -0.001197  -0.745027   \n",
       "1986-12-31   ...   -0.018702 -0.000689  0.000441 -0.000599  -1.624015   \n",
       "1987-03-31   ...   -0.007655 -0.018702 -0.000689  0.000441  -2.056415   \n",
       "1987-06-30   ...   -0.006437 -0.007655 -0.018702 -0.000689  -0.586075   \n",
       "1987-09-30   ...    0.005468 -0.006437 -0.007655 -0.018702   6.204458   \n",
       "1987-12-31   ...    0.013936  0.005468 -0.006437 -0.007655   3.556946   \n",
       "1988-03-31   ...    0.003048  0.013936  0.005468 -0.006437  -1.916067   \n",
       "1988-06-30   ...    0.004746  0.003048  0.013936  0.005468   5.001002   \n",
       "1988-09-30   ...    0.001135  0.004746  0.003048  0.013936  -0.192437   \n",
       "1988-12-31   ...    0.005916  0.001135  0.004746  0.003048   0.202436   \n",
       "1989-03-31   ...    0.003409  0.005916  0.001135  0.004746   4.960182   \n",
       "1989-06-30   ...    0.009372  0.003409  0.005916  0.001135   0.636203   \n",
       "1989-09-30   ...    0.000852  0.009372  0.003409  0.005916  -6.571897   \n",
       "1989-12-31   ...    0.001167  0.000852  0.009372  0.003409  -5.677462   \n",
       "1990-03-31   ...    0.002430  0.001167  0.000852  0.009372   3.242797   \n",
       "1990-06-30   ...   -0.003102  0.002430  0.001167  0.000852  -0.069251   \n",
       "1990-09-30   ...    0.003405 -0.003102  0.002430  0.001167   4.644392   \n",
       "1990-12-31   ...    0.000824  0.003405 -0.003102  0.002430   8.945848   \n",
       "1991-03-31   ...   -0.006872  0.000824  0.003405 -0.003102 -10.668667   \n",
       "1991-06-30   ...    0.005678 -0.006872  0.000824  0.003405  -0.680581   \n",
       "1991-09-30   ...    0.000511  0.005678 -0.006872  0.000824   4.202210   \n",
       "1991-12-31   ...    0.002590  0.000511  0.005678 -0.006872  -9.046363   \n",
       "1992-03-31   ...    0.008195  0.002590  0.000511  0.005678   7.882122   \n",
       "1992-06-30   ...    0.002928  0.008195  0.002590  0.000511  -2.984705   \n",
       "1992-09-30   ...   -0.000475  0.002928  0.008195  0.002590  -0.910023   \n",
       "1992-12-31   ...    0.001219 -0.000475  0.002928  0.008195  -3.273240   \n",
       "1993-03-31   ...    0.001440  0.001219 -0.000475  0.002928   4.626898   \n",
       "1993-06-30   ...   -0.005903  0.001440  0.001219 -0.000475  -6.754825   \n",
       "1993-09-30   ...   -0.000853 -0.005903  0.001440  0.001219  -1.771391   \n",
       "\n",
       "                DUC_1      DUC_2      DUC_3      DUC_4  DUM931  \n",
       "1984-03-31        NaN        NaN        NaN        NaN       0  \n",
       "1984-06-30        NaN        NaN        NaN        NaN       0  \n",
       "1984-09-30        NaN        NaN        NaN        NaN       0  \n",
       "1984-12-31        NaN        NaN        NaN        NaN       0  \n",
       "1985-03-31        NaN        NaN        NaN        NaN       0  \n",
       "1985-06-30        NaN        NaN        NaN        NaN       0  \n",
       "1985-09-30   3.779139        NaN        NaN        NaN       0  \n",
       "1985-12-31  -2.243277   3.779139        NaN        NaN       0  \n",
       "1986-03-31   1.156199  -2.243277   3.779139        NaN       0  \n",
       "1986-06-30  -0.016968   1.156199  -2.243277   3.779139       0  \n",
       "1986-09-30  -1.678093  -0.016968   1.156199  -2.243277       0  \n",
       "1986-12-31  -0.745027  -1.678093  -0.016968   1.156199       0  \n",
       "1987-03-31  -1.624015  -0.745027  -1.678093  -0.016968       0  \n",
       "1987-06-30  -2.056415  -1.624015  -0.745027  -1.678093       0  \n",
       "1987-09-30  -0.586075  -2.056415  -1.624015  -0.745027       0  \n",
       "1987-12-31   6.204458  -0.586075  -2.056415  -1.624015       0  \n",
       "1988-03-31   3.556946   6.204458  -0.586075  -2.056415       0  \n",
       "1988-06-30  -1.916067   3.556946   6.204458  -0.586075       0  \n",
       "1988-09-30   5.001002  -1.916067   3.556946   6.204458       0  \n",
       "1988-12-31  -0.192437   5.001002  -1.916067   3.556946       0  \n",
       "1989-03-31   0.202436  -0.192437   5.001002  -1.916067       0  \n",
       "1989-06-30   4.960182   0.202436  -0.192437   5.001002       0  \n",
       "1989-09-30   0.636203   4.960182   0.202436  -0.192437       0  \n",
       "1989-12-31  -6.571897   0.636203   4.960182   0.202436       0  \n",
       "1990-03-31  -5.677462  -6.571897   0.636203   4.960182       0  \n",
       "1990-06-30   3.242797  -5.677462  -6.571897   0.636203       0  \n",
       "1990-09-30  -0.069251   3.242797  -5.677462  -6.571897       0  \n",
       "1990-12-31   4.644392  -0.069251   3.242797  -5.677462       0  \n",
       "1991-03-31   8.945848   4.644392  -0.069251   3.242797       0  \n",
       "1991-06-30 -10.668667   8.945848   4.644392  -0.069251       0  \n",
       "1991-09-30  -0.680581 -10.668667   8.945848   4.644392       0  \n",
       "1991-12-31   4.202210  -0.680581 -10.668667   8.945848       0  \n",
       "1992-03-31  -9.046363   4.202210  -0.680581 -10.668667       0  \n",
       "1992-06-30   7.882122  -9.046363   4.202210  -0.680581       0  \n",
       "1992-09-30  -2.984705   7.882122  -9.046363   4.202210       0  \n",
       "1992-12-31  -0.910023  -2.984705   7.882122  -9.046363       0  \n",
       "1993-03-31  -3.273240  -0.910023  -2.984705   7.882122       0  \n",
       "1993-06-30   4.626898  -3.273240  -0.910023  -2.984705       0  \n",
       "1993-09-30  -6.754825   4.626898  -3.273240  -0.910023       0  \n",
       "\n",
       "[39 rows x 536 columns]"
      ]
     },
     "execution_count": 61,
     "metadata": {},
     "output_type": "execute_result"
    }
   ],
   "source": [
    "#highDx3.plot()\n",
    "#higherDx3.plot()\n",
    "#ols_data['DKV1'].plot()\n",
    "\n",
    "ols_data_est['DUM931']=0\n",
    "\n",
    "ols_data_est.loc[:'1993-09-30'] \n",
    "#ols_data_est.loc['1993-09-30':'DUM931']=1\n",
    "\n",
    "\n",
    "#plt.show()"
   ]
  },
  {
   "cell_type": "code",
   "execution_count": null,
   "metadata": {
    "collapsed": true,
    "jupyter": {
     "outputs_hidden": true
    }
   },
   "outputs": [],
   "source": []
  },
  {
   "cell_type": "code",
   "execution_count": 62,
   "metadata": {},
   "outputs": [
    {
     "ename": "PatsyError",
     "evalue": "Error evaluating factor: NameError: name 'DKV2' is not defined\n    Dlog_JK3 ~ 1 + Dlog_JK3_3 +Dlog_X3_3 + Dlog_YE_Y3_1+ log_JK3_1 + log_X3_1 + log_YE_Y3_3 + S_1 + DKV1 + DKV2 + DKV3\n                                                                                                           ^^^^",
     "output_type": "error",
     "traceback": [
      "\u001b[1;31m---------------------------------------------------------------------------\u001b[0m",
      "\u001b[1;31mNameError\u001b[0m                                 Traceback (most recent call last)",
      "\u001b[1;32m~\\Anaconda3\\lib\\site-packages\\patsy\\compat.py\u001b[0m in \u001b[0;36mcall_and_wrap_exc\u001b[1;34m(msg, origin, f, *args, **kwargs)\u001b[0m\n\u001b[0;32m     35\u001b[0m     \u001b[1;32mtry\u001b[0m\u001b[1;33m:\u001b[0m\u001b[1;33m\u001b[0m\u001b[0m\n\u001b[1;32m---> 36\u001b[1;33m         \u001b[1;32mreturn\u001b[0m \u001b[0mf\u001b[0m\u001b[1;33m(\u001b[0m\u001b[1;33m*\u001b[0m\u001b[0margs\u001b[0m\u001b[1;33m,\u001b[0m \u001b[1;33m**\u001b[0m\u001b[0mkwargs\u001b[0m\u001b[1;33m)\u001b[0m\u001b[1;33m\u001b[0m\u001b[0m\n\u001b[0m\u001b[0;32m     37\u001b[0m     \u001b[1;32mexcept\u001b[0m \u001b[0mException\u001b[0m \u001b[1;32mas\u001b[0m \u001b[0me\u001b[0m\u001b[1;33m:\u001b[0m\u001b[1;33m\u001b[0m\u001b[0m\n",
      "\u001b[1;32m~\\Anaconda3\\lib\\site-packages\\patsy\\eval.py\u001b[0m in \u001b[0;36meval\u001b[1;34m(self, expr, source_name, inner_namespace)\u001b[0m\n\u001b[0;32m    165\u001b[0m         return eval(code, {}, VarLookupDict([inner_namespace]\n\u001b[1;32m--> 166\u001b[1;33m                                             + self._namespaces))\n\u001b[0m\u001b[0;32m    167\u001b[0m \u001b[1;33m\u001b[0m\u001b[0m\n",
      "\u001b[1;32m<string>\u001b[0m in \u001b[0;36m<module>\u001b[1;34m()\u001b[0m\n",
      "\u001b[1;31mNameError\u001b[0m: name 'DKV2' is not defined",
      "\nThe above exception was the direct cause of the following exception:\n",
      "\u001b[1;31mPatsyError\u001b[0m                                Traceback (most recent call last)",
      "\u001b[1;32m<ipython-input-62-6d698d9f9d03>\u001b[0m in \u001b[0;36m<module>\u001b[1;34m()\u001b[0m\n\u001b[0;32m      1\u001b[0m \u001b[0mformel\u001b[0m \u001b[1;33m=\u001b[0m \u001b[1;34m'Dlog_JK3 ~ 1 + Dlog_JK3_3 +Dlog_X3_3 + Dlog_YE_Y3_1+ log_JK3_1 + log_X3_1 + log_YE_Y3_3 + S_1 + DKV1 + DKV2 + DKV3'\u001b[0m\u001b[1;33m\u001b[0m\u001b[0m\n\u001b[0;32m      2\u001b[0m \u001b[1;33m\u001b[0m\u001b[0m\n\u001b[1;32m----> 3\u001b[1;33m \u001b[0mECmodel\u001b[0m \u001b[1;33m=\u001b[0m \u001b[0msmf\u001b[0m\u001b[1;33m.\u001b[0m\u001b[0mols\u001b[0m\u001b[1;33m(\u001b[0m\u001b[0mformel\u001b[0m\u001b[1;33m,\u001b[0m \u001b[0mdata\u001b[0m \u001b[1;33m=\u001b[0m \u001b[0mols_data_est\u001b[0m\u001b[1;33m)\u001b[0m\u001b[1;33m\u001b[0m\u001b[0m\n\u001b[0m\u001b[0;32m      4\u001b[0m \u001b[0mresult\u001b[0m \u001b[1;33m=\u001b[0m \u001b[0mECmodel\u001b[0m\u001b[1;33m.\u001b[0m\u001b[0mfit\u001b[0m\u001b[1;33m(\u001b[0m\u001b[1;33m)\u001b[0m\u001b[1;33m\u001b[0m\u001b[0m\n\u001b[0;32m      5\u001b[0m \u001b[0mprint\u001b[0m\u001b[1;33m(\u001b[0m\u001b[0mresult\u001b[0m\u001b[1;33m.\u001b[0m\u001b[0msummary\u001b[0m\u001b[1;33m(\u001b[0m\u001b[1;33m)\u001b[0m\u001b[1;33m)\u001b[0m\u001b[1;33m\u001b[0m\u001b[0m\n",
      "\u001b[1;32m~\\Anaconda3\\lib\\site-packages\\statsmodels\\base\\model.py\u001b[0m in \u001b[0;36mfrom_formula\u001b[1;34m(cls, formula, data, subset, drop_cols, *args, **kwargs)\u001b[0m\n\u001b[0;32m    153\u001b[0m \u001b[1;33m\u001b[0m\u001b[0m\n\u001b[0;32m    154\u001b[0m         tmp = handle_formula_data(data, None, formula, depth=eval_env,\n\u001b[1;32m--> 155\u001b[1;33m                                   missing=missing)\n\u001b[0m\u001b[0;32m    156\u001b[0m         \u001b[1;33m(\u001b[0m\u001b[1;33m(\u001b[0m\u001b[0mendog\u001b[0m\u001b[1;33m,\u001b[0m \u001b[0mexog\u001b[0m\u001b[1;33m)\u001b[0m\u001b[1;33m,\u001b[0m \u001b[0mmissing_idx\u001b[0m\u001b[1;33m,\u001b[0m \u001b[0mdesign_info\u001b[0m\u001b[1;33m)\u001b[0m \u001b[1;33m=\u001b[0m \u001b[0mtmp\u001b[0m\u001b[1;33m\u001b[0m\u001b[0m\n\u001b[0;32m    157\u001b[0m \u001b[1;33m\u001b[0m\u001b[0m\n",
      "\u001b[1;32m~\\Anaconda3\\lib\\site-packages\\statsmodels\\formula\\formulatools.py\u001b[0m in \u001b[0;36mhandle_formula_data\u001b[1;34m(Y, X, formula, depth, missing)\u001b[0m\n\u001b[0;32m     63\u001b[0m         \u001b[1;32mif\u001b[0m \u001b[0mdata_util\u001b[0m\u001b[1;33m.\u001b[0m\u001b[0m_is_using_pandas\u001b[0m\u001b[1;33m(\u001b[0m\u001b[0mY\u001b[0m\u001b[1;33m,\u001b[0m \u001b[1;32mNone\u001b[0m\u001b[1;33m)\u001b[0m\u001b[1;33m:\u001b[0m\u001b[1;33m\u001b[0m\u001b[0m\n\u001b[0;32m     64\u001b[0m             result = dmatrices(formula, Y, depth, return_type='dataframe',\n\u001b[1;32m---> 65\u001b[1;33m                                NA_action=na_action)\n\u001b[0m\u001b[0;32m     66\u001b[0m         \u001b[1;32melse\u001b[0m\u001b[1;33m:\u001b[0m\u001b[1;33m\u001b[0m\u001b[0m\n\u001b[0;32m     67\u001b[0m             result = dmatrices(formula, Y, depth, return_type='dataframe',\n",
      "\u001b[1;32m~\\Anaconda3\\lib\\site-packages\\patsy\\highlevel.py\u001b[0m in \u001b[0;36mdmatrices\u001b[1;34m(formula_like, data, eval_env, NA_action, return_type)\u001b[0m\n\u001b[0;32m    308\u001b[0m     \u001b[0meval_env\u001b[0m \u001b[1;33m=\u001b[0m \u001b[0mEvalEnvironment\u001b[0m\u001b[1;33m.\u001b[0m\u001b[0mcapture\u001b[0m\u001b[1;33m(\u001b[0m\u001b[0meval_env\u001b[0m\u001b[1;33m,\u001b[0m \u001b[0mreference\u001b[0m\u001b[1;33m=\u001b[0m\u001b[1;36m1\u001b[0m\u001b[1;33m)\u001b[0m\u001b[1;33m\u001b[0m\u001b[0m\n\u001b[0;32m    309\u001b[0m     (lhs, rhs) = _do_highlevel_design(formula_like, data, eval_env,\n\u001b[1;32m--> 310\u001b[1;33m                                       NA_action, return_type)\n\u001b[0m\u001b[0;32m    311\u001b[0m     \u001b[1;32mif\u001b[0m \u001b[0mlhs\u001b[0m\u001b[1;33m.\u001b[0m\u001b[0mshape\u001b[0m\u001b[1;33m[\u001b[0m\u001b[1;36m1\u001b[0m\u001b[1;33m]\u001b[0m \u001b[1;33m==\u001b[0m \u001b[1;36m0\u001b[0m\u001b[1;33m:\u001b[0m\u001b[1;33m\u001b[0m\u001b[0m\n\u001b[0;32m    312\u001b[0m         \u001b[1;32mraise\u001b[0m \u001b[0mPatsyError\u001b[0m\u001b[1;33m(\u001b[0m\u001b[1;34m\"model is missing required outcome variables\"\u001b[0m\u001b[1;33m)\u001b[0m\u001b[1;33m\u001b[0m\u001b[0m\n",
      "\u001b[1;32m~\\Anaconda3\\lib\\site-packages\\patsy\\highlevel.py\u001b[0m in \u001b[0;36m_do_highlevel_design\u001b[1;34m(formula_like, data, eval_env, NA_action, return_type)\u001b[0m\n\u001b[0;32m    163\u001b[0m         \u001b[1;32mreturn\u001b[0m \u001b[0miter\u001b[0m\u001b[1;33m(\u001b[0m\u001b[1;33m[\u001b[0m\u001b[0mdata\u001b[0m\u001b[1;33m]\u001b[0m\u001b[1;33m)\u001b[0m\u001b[1;33m\u001b[0m\u001b[0m\n\u001b[0;32m    164\u001b[0m     design_infos = _try_incr_builders(formula_like, data_iter_maker, eval_env,\n\u001b[1;32m--> 165\u001b[1;33m                                       NA_action)\n\u001b[0m\u001b[0;32m    166\u001b[0m     \u001b[1;32mif\u001b[0m \u001b[0mdesign_infos\u001b[0m \u001b[1;32mis\u001b[0m \u001b[1;32mnot\u001b[0m \u001b[1;32mNone\u001b[0m\u001b[1;33m:\u001b[0m\u001b[1;33m\u001b[0m\u001b[0m\n\u001b[0;32m    167\u001b[0m         return build_design_matrices(design_infos, data,\n",
      "\u001b[1;32m~\\Anaconda3\\lib\\site-packages\\patsy\\highlevel.py\u001b[0m in \u001b[0;36m_try_incr_builders\u001b[1;34m(formula_like, data_iter_maker, eval_env, NA_action)\u001b[0m\n\u001b[0;32m     68\u001b[0m                                       \u001b[0mdata_iter_maker\u001b[0m\u001b[1;33m,\u001b[0m\u001b[1;33m\u001b[0m\u001b[0m\n\u001b[0;32m     69\u001b[0m                                       \u001b[0meval_env\u001b[0m\u001b[1;33m,\u001b[0m\u001b[1;33m\u001b[0m\u001b[0m\n\u001b[1;32m---> 70\u001b[1;33m                                       NA_action)\n\u001b[0m\u001b[0;32m     71\u001b[0m     \u001b[1;32melse\u001b[0m\u001b[1;33m:\u001b[0m\u001b[1;33m\u001b[0m\u001b[0m\n\u001b[0;32m     72\u001b[0m         \u001b[1;32mreturn\u001b[0m \u001b[1;32mNone\u001b[0m\u001b[1;33m\u001b[0m\u001b[0m\n",
      "\u001b[1;32m~\\Anaconda3\\lib\\site-packages\\patsy\\build.py\u001b[0m in \u001b[0;36mdesign_matrix_builders\u001b[1;34m(termlists, data_iter_maker, eval_env, NA_action)\u001b[0m\n\u001b[0;32m    694\u001b[0m                                                    \u001b[0mfactor_states\u001b[0m\u001b[1;33m,\u001b[0m\u001b[1;33m\u001b[0m\u001b[0m\n\u001b[0;32m    695\u001b[0m                                                    \u001b[0mdata_iter_maker\u001b[0m\u001b[1;33m,\u001b[0m\u001b[1;33m\u001b[0m\u001b[0m\n\u001b[1;32m--> 696\u001b[1;33m                                                    NA_action)\n\u001b[0m\u001b[0;32m    697\u001b[0m     \u001b[1;31m# Now we need the factor infos, which encapsulate the knowledge of\u001b[0m\u001b[1;33m\u001b[0m\u001b[1;33m\u001b[0m\u001b[0m\n\u001b[0;32m    698\u001b[0m     \u001b[1;31m# how to turn any given factor into a chunk of data:\u001b[0m\u001b[1;33m\u001b[0m\u001b[1;33m\u001b[0m\u001b[0m\n",
      "\u001b[1;32m~\\Anaconda3\\lib\\site-packages\\patsy\\build.py\u001b[0m in \u001b[0;36m_examine_factor_types\u001b[1;34m(factors, factor_states, data_iter_maker, NA_action)\u001b[0m\n\u001b[0;32m    441\u001b[0m     \u001b[1;32mfor\u001b[0m \u001b[0mdata\u001b[0m \u001b[1;32min\u001b[0m \u001b[0mdata_iter_maker\u001b[0m\u001b[1;33m(\u001b[0m\u001b[1;33m)\u001b[0m\u001b[1;33m:\u001b[0m\u001b[1;33m\u001b[0m\u001b[0m\n\u001b[0;32m    442\u001b[0m         \u001b[1;32mfor\u001b[0m \u001b[0mfactor\u001b[0m \u001b[1;32min\u001b[0m \u001b[0mlist\u001b[0m\u001b[1;33m(\u001b[0m\u001b[0mexamine_needed\u001b[0m\u001b[1;33m)\u001b[0m\u001b[1;33m:\u001b[0m\u001b[1;33m\u001b[0m\u001b[0m\n\u001b[1;32m--> 443\u001b[1;33m             \u001b[0mvalue\u001b[0m \u001b[1;33m=\u001b[0m \u001b[0mfactor\u001b[0m\u001b[1;33m.\u001b[0m\u001b[0meval\u001b[0m\u001b[1;33m(\u001b[0m\u001b[0mfactor_states\u001b[0m\u001b[1;33m[\u001b[0m\u001b[0mfactor\u001b[0m\u001b[1;33m]\u001b[0m\u001b[1;33m,\u001b[0m \u001b[0mdata\u001b[0m\u001b[1;33m)\u001b[0m\u001b[1;33m\u001b[0m\u001b[0m\n\u001b[0m\u001b[0;32m    444\u001b[0m             \u001b[1;32mif\u001b[0m \u001b[0mfactor\u001b[0m \u001b[1;32min\u001b[0m \u001b[0mcat_sniffers\u001b[0m \u001b[1;32mor\u001b[0m \u001b[0mguess_categorical\u001b[0m\u001b[1;33m(\u001b[0m\u001b[0mvalue\u001b[0m\u001b[1;33m)\u001b[0m\u001b[1;33m:\u001b[0m\u001b[1;33m\u001b[0m\u001b[0m\n\u001b[0;32m    445\u001b[0m                 \u001b[1;32mif\u001b[0m \u001b[0mfactor\u001b[0m \u001b[1;32mnot\u001b[0m \u001b[1;32min\u001b[0m \u001b[0mcat_sniffers\u001b[0m\u001b[1;33m:\u001b[0m\u001b[1;33m\u001b[0m\u001b[0m\n",
      "\u001b[1;32m~\\Anaconda3\\lib\\site-packages\\patsy\\eval.py\u001b[0m in \u001b[0;36meval\u001b[1;34m(self, memorize_state, data)\u001b[0m\n\u001b[0;32m    564\u001b[0m         return self._eval(memorize_state[\"eval_code\"],\n\u001b[0;32m    565\u001b[0m                           \u001b[0mmemorize_state\u001b[0m\u001b[1;33m,\u001b[0m\u001b[1;33m\u001b[0m\u001b[0m\n\u001b[1;32m--> 566\u001b[1;33m                           data)\n\u001b[0m\u001b[0;32m    567\u001b[0m \u001b[1;33m\u001b[0m\u001b[0m\n\u001b[0;32m    568\u001b[0m     \u001b[0m__getstate__\u001b[0m \u001b[1;33m=\u001b[0m \u001b[0mno_pickling\u001b[0m\u001b[1;33m\u001b[0m\u001b[0m\n",
      "\u001b[1;32m~\\Anaconda3\\lib\\site-packages\\patsy\\eval.py\u001b[0m in \u001b[0;36m_eval\u001b[1;34m(self, code, memorize_state, data)\u001b[0m\n\u001b[0;32m    549\u001b[0m                                  \u001b[0mmemorize_state\u001b[0m\u001b[1;33m[\u001b[0m\u001b[1;34m\"eval_env\"\u001b[0m\u001b[1;33m]\u001b[0m\u001b[1;33m.\u001b[0m\u001b[0meval\u001b[0m\u001b[1;33m,\u001b[0m\u001b[1;33m\u001b[0m\u001b[0m\n\u001b[0;32m    550\u001b[0m                                  \u001b[0mcode\u001b[0m\u001b[1;33m,\u001b[0m\u001b[1;33m\u001b[0m\u001b[0m\n\u001b[1;32m--> 551\u001b[1;33m                                  inner_namespace=inner_namespace)\n\u001b[0m\u001b[0;32m    552\u001b[0m \u001b[1;33m\u001b[0m\u001b[0m\n\u001b[0;32m    553\u001b[0m     \u001b[1;32mdef\u001b[0m \u001b[0mmemorize_chunk\u001b[0m\u001b[1;33m(\u001b[0m\u001b[0mself\u001b[0m\u001b[1;33m,\u001b[0m \u001b[0mstate\u001b[0m\u001b[1;33m,\u001b[0m \u001b[0mwhich_pass\u001b[0m\u001b[1;33m,\u001b[0m \u001b[0mdata\u001b[0m\u001b[1;33m)\u001b[0m\u001b[1;33m:\u001b[0m\u001b[1;33m\u001b[0m\u001b[0m\n",
      "\u001b[1;32m~\\Anaconda3\\lib\\site-packages\\patsy\\compat.py\u001b[0m in \u001b[0;36mcall_and_wrap_exc\u001b[1;34m(msg, origin, f, *args, **kwargs)\u001b[0m\n\u001b[0;32m     41\u001b[0m                                  origin)\n\u001b[0;32m     42\u001b[0m             \u001b[1;31m# Use 'exec' to hide this syntax from the Python 2 parser:\u001b[0m\u001b[1;33m\u001b[0m\u001b[1;33m\u001b[0m\u001b[0m\n\u001b[1;32m---> 43\u001b[1;33m             \u001b[0mexec\u001b[0m\u001b[1;33m(\u001b[0m\u001b[1;34m\"raise new_exc from e\"\u001b[0m\u001b[1;33m)\u001b[0m\u001b[1;33m\u001b[0m\u001b[0m\n\u001b[0m\u001b[0;32m     44\u001b[0m         \u001b[1;32melse\u001b[0m\u001b[1;33m:\u001b[0m\u001b[1;33m\u001b[0m\u001b[0m\n\u001b[0;32m     45\u001b[0m             \u001b[1;31m# In python 2, we just let the original exception escape -- better\u001b[0m\u001b[1;33m\u001b[0m\u001b[1;33m\u001b[0m\u001b[0m\n",
      "\u001b[1;32m~\\Anaconda3\\lib\\site-packages\\patsy\\compat.py\u001b[0m in \u001b[0;36m<module>\u001b[1;34m()\u001b[0m\n",
      "\u001b[1;31mPatsyError\u001b[0m: Error evaluating factor: NameError: name 'DKV2' is not defined\n    Dlog_JK3 ~ 1 + Dlog_JK3_3 +Dlog_X3_3 + Dlog_YE_Y3_1+ log_JK3_1 + log_X3_1 + log_YE_Y3_3 + S_1 + DKV1 + DKV2 + DKV3\n                                                                                                           ^^^^"
     ]
    }
   ],
   "source": [
    "formel = 'Dlog_JK3 ~ 1 + Dlog_JK3_3 +Dlog_X3_3 + Dlog_YE_Y3_1+ log_JK3_1 + log_X3_1 + log_YE_Y3_3 + S_1 + DKV1 + DKV2 + DKV3'\n",
    "\n",
    "ECmodel = smf.ols(formel, data = ols_data_est)\n",
    "result = ECmodel.fit()\n",
    "print(result.summary())"
   ]
  },
  {
   "cell_type": "code",
   "execution_count": 59,
   "metadata": {
    "collapsed": true,
    "jupyter": {
     "outputs_hidden": true
    }
   },
   "outputs": [
    {
     "ename": "PatsyError",
     "evalue": "Number of rows mismatch between data argument and HDUMX3 (132 versus 124)\n    Dlog_JK3 ~ 1 + Dlog_JK3_1 + log_JK3_1 + (HDUMX3)*log_X3_1 + HDUMX3*log_X3_1 + log_YE_Y3_1\n                                            ^^^^^^^^",
     "output_type": "error",
     "traceback": [
      "\u001b[1;31m---------------------------------------------------------------------------\u001b[0m",
      "\u001b[1;31mPatsyError\u001b[0m                                Traceback (most recent call last)",
      "\u001b[1;32m<ipython-input-59-aaaccc416a33>\u001b[0m in \u001b[0;36m<module>\u001b[1;34m()\u001b[0m\n\u001b[0;32m      1\u001b[0m TARmodel = smf.ols('Dlog_JK3 ~ 1 + Dlog_JK3_1 + log_JK3_1 + (HDUMX3)*log_X3_1 + HDUMX3*log_X3_1 + log_YE_Y3_1', \n\u001b[1;32m----> 2\u001b[1;33m                    data = ols_data)\n\u001b[0m\u001b[0;32m      3\u001b[0m \u001b[0mresult\u001b[0m \u001b[1;33m=\u001b[0m \u001b[0mTARmodel\u001b[0m\u001b[1;33m.\u001b[0m\u001b[0mfit\u001b[0m\u001b[1;33m(\u001b[0m\u001b[1;33m)\u001b[0m\u001b[1;33m\u001b[0m\u001b[0m\n\u001b[0;32m      4\u001b[0m \u001b[0mprint\u001b[0m\u001b[1;33m(\u001b[0m\u001b[0mresult\u001b[0m\u001b[1;33m.\u001b[0m\u001b[0msummary\u001b[0m\u001b[1;33m(\u001b[0m\u001b[1;33m)\u001b[0m\u001b[1;33m)\u001b[0m\u001b[1;33m\u001b[0m\u001b[0m\n",
      "\u001b[1;32m~\\Anaconda3\\lib\\site-packages\\statsmodels\\base\\model.py\u001b[0m in \u001b[0;36mfrom_formula\u001b[1;34m(cls, formula, data, subset, drop_cols, *args, **kwargs)\u001b[0m\n\u001b[0;32m    153\u001b[0m \u001b[1;33m\u001b[0m\u001b[0m\n\u001b[0;32m    154\u001b[0m         tmp = handle_formula_data(data, None, formula, depth=eval_env,\n\u001b[1;32m--> 155\u001b[1;33m                                   missing=missing)\n\u001b[0m\u001b[0;32m    156\u001b[0m         \u001b[1;33m(\u001b[0m\u001b[1;33m(\u001b[0m\u001b[0mendog\u001b[0m\u001b[1;33m,\u001b[0m \u001b[0mexog\u001b[0m\u001b[1;33m)\u001b[0m\u001b[1;33m,\u001b[0m \u001b[0mmissing_idx\u001b[0m\u001b[1;33m,\u001b[0m \u001b[0mdesign_info\u001b[0m\u001b[1;33m)\u001b[0m \u001b[1;33m=\u001b[0m \u001b[0mtmp\u001b[0m\u001b[1;33m\u001b[0m\u001b[0m\n\u001b[0;32m    157\u001b[0m \u001b[1;33m\u001b[0m\u001b[0m\n",
      "\u001b[1;32m~\\Anaconda3\\lib\\site-packages\\statsmodels\\formula\\formulatools.py\u001b[0m in \u001b[0;36mhandle_formula_data\u001b[1;34m(Y, X, formula, depth, missing)\u001b[0m\n\u001b[0;32m     63\u001b[0m         \u001b[1;32mif\u001b[0m \u001b[0mdata_util\u001b[0m\u001b[1;33m.\u001b[0m\u001b[0m_is_using_pandas\u001b[0m\u001b[1;33m(\u001b[0m\u001b[0mY\u001b[0m\u001b[1;33m,\u001b[0m \u001b[1;32mNone\u001b[0m\u001b[1;33m)\u001b[0m\u001b[1;33m:\u001b[0m\u001b[1;33m\u001b[0m\u001b[0m\n\u001b[0;32m     64\u001b[0m             result = dmatrices(formula, Y, depth, return_type='dataframe',\n\u001b[1;32m---> 65\u001b[1;33m                                NA_action=na_action)\n\u001b[0m\u001b[0;32m     66\u001b[0m         \u001b[1;32melse\u001b[0m\u001b[1;33m:\u001b[0m\u001b[1;33m\u001b[0m\u001b[0m\n\u001b[0;32m     67\u001b[0m             result = dmatrices(formula, Y, depth, return_type='dataframe',\n",
      "\u001b[1;32m~\\Anaconda3\\lib\\site-packages\\patsy\\highlevel.py\u001b[0m in \u001b[0;36mdmatrices\u001b[1;34m(formula_like, data, eval_env, NA_action, return_type)\u001b[0m\n\u001b[0;32m    308\u001b[0m     \u001b[0meval_env\u001b[0m \u001b[1;33m=\u001b[0m \u001b[0mEvalEnvironment\u001b[0m\u001b[1;33m.\u001b[0m\u001b[0mcapture\u001b[0m\u001b[1;33m(\u001b[0m\u001b[0meval_env\u001b[0m\u001b[1;33m,\u001b[0m \u001b[0mreference\u001b[0m\u001b[1;33m=\u001b[0m\u001b[1;36m1\u001b[0m\u001b[1;33m)\u001b[0m\u001b[1;33m\u001b[0m\u001b[0m\n\u001b[0;32m    309\u001b[0m     (lhs, rhs) = _do_highlevel_design(formula_like, data, eval_env,\n\u001b[1;32m--> 310\u001b[1;33m                                       NA_action, return_type)\n\u001b[0m\u001b[0;32m    311\u001b[0m     \u001b[1;32mif\u001b[0m \u001b[0mlhs\u001b[0m\u001b[1;33m.\u001b[0m\u001b[0mshape\u001b[0m\u001b[1;33m[\u001b[0m\u001b[1;36m1\u001b[0m\u001b[1;33m]\u001b[0m \u001b[1;33m==\u001b[0m \u001b[1;36m0\u001b[0m\u001b[1;33m:\u001b[0m\u001b[1;33m\u001b[0m\u001b[0m\n\u001b[0;32m    312\u001b[0m         \u001b[1;32mraise\u001b[0m \u001b[0mPatsyError\u001b[0m\u001b[1;33m(\u001b[0m\u001b[1;34m\"model is missing required outcome variables\"\u001b[0m\u001b[1;33m)\u001b[0m\u001b[1;33m\u001b[0m\u001b[0m\n",
      "\u001b[1;32m~\\Anaconda3\\lib\\site-packages\\patsy\\highlevel.py\u001b[0m in \u001b[0;36m_do_highlevel_design\u001b[1;34m(formula_like, data, eval_env, NA_action, return_type)\u001b[0m\n\u001b[0;32m    167\u001b[0m         return build_design_matrices(design_infos, data,\n\u001b[0;32m    168\u001b[0m                                      \u001b[0mNA_action\u001b[0m\u001b[1;33m=\u001b[0m\u001b[0mNA_action\u001b[0m\u001b[1;33m,\u001b[0m\u001b[1;33m\u001b[0m\u001b[0m\n\u001b[1;32m--> 169\u001b[1;33m                                      return_type=return_type)\n\u001b[0m\u001b[0;32m    170\u001b[0m     \u001b[1;32melse\u001b[0m\u001b[1;33m:\u001b[0m\u001b[1;33m\u001b[0m\u001b[0m\n\u001b[0;32m    171\u001b[0m         \u001b[1;31m# No builders, but maybe we can still get matrices\u001b[0m\u001b[1;33m\u001b[0m\u001b[1;33m\u001b[0m\u001b[0m\n",
      "\u001b[1;32m~\\Anaconda3\\lib\\site-packages\\patsy\\build.py\u001b[0m in \u001b[0;36mbuild_design_matrices\u001b[1;34m(design_infos, data, NA_action, return_type, dtype)\u001b[0m\n\u001b[0;32m    891\u001b[0m                 \u001b[0mname\u001b[0m \u001b[1;33m=\u001b[0m \u001b[0mfactor_info\u001b[0m\u001b[1;33m.\u001b[0m\u001b[0mfactor\u001b[0m\u001b[1;33m.\u001b[0m\u001b[0mname\u001b[0m\u001b[1;33m(\u001b[0m\u001b[1;33m)\u001b[0m\u001b[1;33m\u001b[0m\u001b[0m\n\u001b[0;32m    892\u001b[0m                 \u001b[0morigin\u001b[0m \u001b[1;33m=\u001b[0m \u001b[0mfactor_info\u001b[0m\u001b[1;33m.\u001b[0m\u001b[0mfactor\u001b[0m\u001b[1;33m.\u001b[0m\u001b[0morigin\u001b[0m\u001b[1;33m\u001b[0m\u001b[0m\n\u001b[1;32m--> 893\u001b[1;33m                 \u001b[0mrows_checker\u001b[0m\u001b[1;33m.\u001b[0m\u001b[0mcheck\u001b[0m\u001b[1;33m(\u001b[0m\u001b[0mvalue\u001b[0m\u001b[1;33m.\u001b[0m\u001b[0mshape\u001b[0m\u001b[1;33m[\u001b[0m\u001b[1;36m0\u001b[0m\u001b[1;33m]\u001b[0m\u001b[1;33m,\u001b[0m \u001b[0mname\u001b[0m\u001b[1;33m,\u001b[0m \u001b[0morigin\u001b[0m\u001b[1;33m)\u001b[0m\u001b[1;33m\u001b[0m\u001b[0m\n\u001b[0m\u001b[0;32m    894\u001b[0m                 if (have_pandas\n\u001b[0;32m    895\u001b[0m                     and isinstance(value, (pandas.Series, pandas.DataFrame))):\n",
      "\u001b[1;32m~\\Anaconda3\\lib\\site-packages\\patsy\\build.py\u001b[0m in \u001b[0;36mcheck\u001b[1;34m(self, seen_value, desc, origin)\u001b[0m\n\u001b[0;32m    793\u001b[0m                 \u001b[1;31m# XX FIXME: this is a case where having discontiguous Origins\u001b[0m\u001b[1;33m\u001b[0m\u001b[1;33m\u001b[0m\u001b[0m\n\u001b[0;32m    794\u001b[0m                 \u001b[1;31m# would be useful...\u001b[0m\u001b[1;33m\u001b[0m\u001b[1;33m\u001b[0m\u001b[0m\n\u001b[1;32m--> 795\u001b[1;33m                 \u001b[1;32mraise\u001b[0m \u001b[0mPatsyError\u001b[0m\u001b[1;33m(\u001b[0m\u001b[0mmsg\u001b[0m\u001b[1;33m,\u001b[0m \u001b[0morigin\u001b[0m\u001b[1;33m)\u001b[0m\u001b[1;33m\u001b[0m\u001b[0m\n\u001b[0m\u001b[0;32m    796\u001b[0m \u001b[1;33m\u001b[0m\u001b[0m\n\u001b[0;32m    797\u001b[0m def build_design_matrices(design_infos, data,\n",
      "\u001b[1;31mPatsyError\u001b[0m: Number of rows mismatch between data argument and HDUMX3 (132 versus 124)\n    Dlog_JK3 ~ 1 + Dlog_JK3_1 + log_JK3_1 + (HDUMX3)*log_X3_1 + HDUMX3*log_X3_1 + log_YE_Y3_1\n                                            ^^^^^^^^"
     ]
    }
   ],
   "source": [
    "TARmodel = smf.ols('Dlog_JK3 ~ 1 + Dlog_JK3_1 + log_JK3_1 + (HDUMX3)*log_X3_1 + HDUMX3*log_X3_1 + log_YE_Y3_1', \n",
    "                   data = ols_data)\n",
    "result = TARmodel.fit()\n",
    "print(result.summary())"
   ]
  },
  {
   "cell_type": "code",
   "execution_count": 75,
   "metadata": {
    "collapsed": true,
    "jupyter": {
     "outputs_hidden": true
    }
   },
   "outputs": [],
   "source": []
  },
  {
   "cell_type": "code",
   "execution_count": 57,
   "metadata": {},
   "outputs": [
    {
     "data": {
      "text/html": [
       "<div>\n",
       "<style scoped>\n",
       "    .dataframe tbody tr th:only-of-type {\n",
       "        vertical-align: middle;\n",
       "    }\n",
       "\n",
       "    .dataframe tbody tr th {\n",
       "        vertical-align: top;\n",
       "    }\n",
       "\n",
       "    .dataframe thead th {\n",
       "        text-align: right;\n",
       "    }\n",
       "</style>\n",
       "<table border=\"1\" class=\"dataframe\">\n",
       "  <thead>\n",
       "    <tr style=\"text-align: right;\">\n",
       "      <th></th>\n",
       "      <th>K1015</th>\n",
       "      <th>K4015</th>\n",
       "      <th>K5015</th>\n",
       "      <th>K1025</th>\n",
       "      <th>K4025</th>\n",
       "      <th>K5025</th>\n",
       "      <th>K1030</th>\n",
       "      <th>K4030</th>\n",
       "      <th>K5030</th>\n",
       "      <th>K1045</th>\n",
       "      <th>...</th>\n",
       "      <th>DRRT</th>\n",
       "      <th>DRRT_1</th>\n",
       "      <th>DRRT_2</th>\n",
       "      <th>DRRT_3</th>\n",
       "      <th>DRRT_4</th>\n",
       "      <th>DUC</th>\n",
       "      <th>DUC_1</th>\n",
       "      <th>DUC_2</th>\n",
       "      <th>DUC_3</th>\n",
       "      <th>DUC_4</th>\n",
       "    </tr>\n",
       "  </thead>\n",
       "  <tbody>\n",
       "    <tr>\n",
       "      <th>2015-12-31</th>\n",
       "      <td>44556.66137</td>\n",
       "      <td>1136.89896</td>\n",
       "      <td>26177.23213</td>\n",
       "      <td>58369.50351</td>\n",
       "      <td>1716.33108</td>\n",
       "      <td>29789.86767</td>\n",
       "      <td>56254.37121</td>\n",
       "      <td>418.17763</td>\n",
       "      <td>32914.92901</td>\n",
       "      <td>31864.73983</td>\n",
       "      <td>...</td>\n",
       "      <td>-0.005567</td>\n",
       "      <td>0.002414</td>\n",
       "      <td>-0.002950</td>\n",
       "      <td>-0.000094</td>\n",
       "      <td>0.001007</td>\n",
       "      <td>0.102864</td>\n",
       "      <td>-0.979236</td>\n",
       "      <td>-0.060014</td>\n",
       "      <td>-0.863427</td>\n",
       "      <td>-0.551075</td>\n",
       "    </tr>\n",
       "    <tr>\n",
       "      <th>2016-03-31</th>\n",
       "      <td>NaN</td>\n",
       "      <td>NaN</td>\n",
       "      <td>NaN</td>\n",
       "      <td>NaN</td>\n",
       "      <td>NaN</td>\n",
       "      <td>NaN</td>\n",
       "      <td>NaN</td>\n",
       "      <td>NaN</td>\n",
       "      <td>NaN</td>\n",
       "      <td>NaN</td>\n",
       "      <td>...</td>\n",
       "      <td>NaN</td>\n",
       "      <td>-0.005567</td>\n",
       "      <td>0.002414</td>\n",
       "      <td>-0.002950</td>\n",
       "      <td>-0.000094</td>\n",
       "      <td>NaN</td>\n",
       "      <td>0.102864</td>\n",
       "      <td>-0.979236</td>\n",
       "      <td>-0.060014</td>\n",
       "      <td>-0.863427</td>\n",
       "    </tr>\n",
       "    <tr>\n",
       "      <th>2016-06-30</th>\n",
       "      <td>NaN</td>\n",
       "      <td>NaN</td>\n",
       "      <td>NaN</td>\n",
       "      <td>NaN</td>\n",
       "      <td>NaN</td>\n",
       "      <td>NaN</td>\n",
       "      <td>NaN</td>\n",
       "      <td>NaN</td>\n",
       "      <td>NaN</td>\n",
       "      <td>NaN</td>\n",
       "      <td>...</td>\n",
       "      <td>NaN</td>\n",
       "      <td>NaN</td>\n",
       "      <td>-0.005567</td>\n",
       "      <td>0.002414</td>\n",
       "      <td>-0.002950</td>\n",
       "      <td>NaN</td>\n",
       "      <td>NaN</td>\n",
       "      <td>0.102864</td>\n",
       "      <td>-0.979236</td>\n",
       "      <td>-0.060014</td>\n",
       "    </tr>\n",
       "    <tr>\n",
       "      <th>2016-09-30</th>\n",
       "      <td>NaN</td>\n",
       "      <td>NaN</td>\n",
       "      <td>NaN</td>\n",
       "      <td>NaN</td>\n",
       "      <td>NaN</td>\n",
       "      <td>NaN</td>\n",
       "      <td>NaN</td>\n",
       "      <td>NaN</td>\n",
       "      <td>NaN</td>\n",
       "      <td>NaN</td>\n",
       "      <td>...</td>\n",
       "      <td>NaN</td>\n",
       "      <td>NaN</td>\n",
       "      <td>NaN</td>\n",
       "      <td>-0.005567</td>\n",
       "      <td>0.002414</td>\n",
       "      <td>NaN</td>\n",
       "      <td>NaN</td>\n",
       "      <td>NaN</td>\n",
       "      <td>0.102864</td>\n",
       "      <td>-0.979236</td>\n",
       "    </tr>\n",
       "    <tr>\n",
       "      <th>2016-12-31</th>\n",
       "      <td>NaN</td>\n",
       "      <td>NaN</td>\n",
       "      <td>NaN</td>\n",
       "      <td>NaN</td>\n",
       "      <td>NaN</td>\n",
       "      <td>NaN</td>\n",
       "      <td>NaN</td>\n",
       "      <td>NaN</td>\n",
       "      <td>NaN</td>\n",
       "      <td>NaN</td>\n",
       "      <td>...</td>\n",
       "      <td>NaN</td>\n",
       "      <td>NaN</td>\n",
       "      <td>NaN</td>\n",
       "      <td>NaN</td>\n",
       "      <td>-0.005567</td>\n",
       "      <td>NaN</td>\n",
       "      <td>NaN</td>\n",
       "      <td>NaN</td>\n",
       "      <td>NaN</td>\n",
       "      <td>0.102864</td>\n",
       "    </tr>\n",
       "  </tbody>\n",
       "</table>\n",
       "<p>5 rows × 535 columns</p>\n",
       "</div>"
      ],
      "text/plain": [
       "                  K1015       K4015        K5015        K1025       K4025  \\\n",
       "2015-12-31  44556.66137  1136.89896  26177.23213  58369.50351  1716.33108   \n",
       "2016-03-31          NaN         NaN          NaN          NaN         NaN   \n",
       "2016-06-30          NaN         NaN          NaN          NaN         NaN   \n",
       "2016-09-30          NaN         NaN          NaN          NaN         NaN   \n",
       "2016-12-31          NaN         NaN          NaN          NaN         NaN   \n",
       "\n",
       "                  K5025        K1030      K4030        K5030        K1045  \\\n",
       "2015-12-31  29789.86767  56254.37121  418.17763  32914.92901  31864.73983   \n",
       "2016-03-31          NaN          NaN        NaN          NaN          NaN   \n",
       "2016-06-30          NaN          NaN        NaN          NaN          NaN   \n",
       "2016-09-30          NaN          NaN        NaN          NaN          NaN   \n",
       "2016-12-31          NaN          NaN        NaN          NaN          NaN   \n",
       "\n",
       "              ...         DRRT    DRRT_1    DRRT_2    DRRT_3    DRRT_4  \\\n",
       "2015-12-31    ...    -0.005567  0.002414 -0.002950 -0.000094  0.001007   \n",
       "2016-03-31    ...          NaN -0.005567  0.002414 -0.002950 -0.000094   \n",
       "2016-06-30    ...          NaN       NaN -0.005567  0.002414 -0.002950   \n",
       "2016-09-30    ...          NaN       NaN       NaN -0.005567  0.002414   \n",
       "2016-12-31    ...          NaN       NaN       NaN       NaN -0.005567   \n",
       "\n",
       "                 DUC     DUC_1     DUC_2     DUC_3     DUC_4  \n",
       "2015-12-31  0.102864 -0.979236 -0.060014 -0.863427 -0.551075  \n",
       "2016-03-31       NaN  0.102864 -0.979236 -0.060014 -0.863427  \n",
       "2016-06-30       NaN       NaN  0.102864 -0.979236 -0.060014  \n",
       "2016-09-30       NaN       NaN       NaN  0.102864 -0.979236  \n",
       "2016-12-31       NaN       NaN       NaN       NaN  0.102864  \n",
       "\n",
       "[5 rows x 535 columns]"
      ]
     },
     "execution_count": 57,
     "metadata": {},
     "output_type": "execute_result"
    }
   ],
   "source": [
    "ols_data.tail()"
   ]
  },
  {
   "cell_type": "code",
   "execution_count": null,
   "metadata": {
    "collapsed": true,
    "jupyter": {
     "outputs_hidden": true
    }
   },
   "outputs": [],
   "source": []
  },
  {
   "cell_type": "markdown",
   "metadata": {},
   "source": [
    "# Estimere modell"
   ]
  },
  {
   "cell_type": "markdown",
   "metadata": {},
   "source": [
    "# Joakims modell"
   ]
  },
  {
   "cell_type": "code",
   "execution_count": 58,
   "metadata": {},
   "outputs": [
    {
     "ename": "NameError",
     "evalue": "name 'data' is not defined",
     "output_type": "error",
     "traceback": [
      "\u001b[1;31m---------------------------------------------------------------------------\u001b[0m",
      "\u001b[1;31mNameError\u001b[0m                                 Traceback (most recent call last)",
      "\u001b[1;32m<ipython-input-58-8b37e05c3d59>\u001b[0m in \u001b[0;36m<module>\u001b[1;34m()\u001b[0m\n\u001b[1;32m----> 1\u001b[1;33m \u001b[0mmodel\u001b[0m \u001b[1;33m=\u001b[0m \u001b[0msmf\u001b[0m\u001b[1;33m.\u001b[0m\u001b[0mols\u001b[0m\u001b[1;33m(\u001b[0m\u001b[1;34m'Dlog_PBOL~1 + Dlog_PBOL_1 + Dlog_RD300 + log_RD300_1 + Dlog_RD300_2 + log_PBOL_1 + DKV1 + DKV2 + DKV3'\u001b[0m\u001b[1;33m,\u001b[0m \u001b[0mdata\u001b[0m \u001b[1;33m=\u001b[0m \u001b[0mdata\u001b[0m\u001b[1;33m)\u001b[0m\u001b[1;33m\u001b[0m\u001b[0m\n\u001b[0m\u001b[0;32m      2\u001b[0m \u001b[0mresult\u001b[0m \u001b[1;33m=\u001b[0m \u001b[0mmodel\u001b[0m\u001b[1;33m.\u001b[0m\u001b[0mfit\u001b[0m\u001b[1;33m(\u001b[0m\u001b[1;33m)\u001b[0m\u001b[1;33m\u001b[0m\u001b[0m\n\u001b[0;32m      3\u001b[0m \u001b[0mprint\u001b[0m\u001b[1;33m(\u001b[0m\u001b[0mresult\u001b[0m\u001b[1;33m.\u001b[0m\u001b[0msummary\u001b[0m\u001b[1;33m(\u001b[0m\u001b[1;33m)\u001b[0m\u001b[1;33m)\u001b[0m\u001b[1;33m\u001b[0m\u001b[0m\n\u001b[0;32m      4\u001b[0m \u001b[0mresult\u001b[0m\u001b[1;33m.\u001b[0m\u001b[0mresid\u001b[0m\u001b[1;33m.\u001b[0m\u001b[0mplot\u001b[0m\u001b[1;33m(\u001b[0m\u001b[1;33m)\u001b[0m\u001b[1;33m\u001b[0m\u001b[0m\n\u001b[0;32m      5\u001b[0m \u001b[0mplt\u001b[0m\u001b[1;33m.\u001b[0m\u001b[0mshow\u001b[0m\u001b[1;33m(\u001b[0m\u001b[1;33m)\u001b[0m\u001b[1;33m\u001b[0m\u001b[0m\n",
      "\u001b[1;31mNameError\u001b[0m: name 'data' is not defined"
     ]
    }
   ],
   "source": [
    "model = smf.ols('Dlog_PBOL~1 + Dlog_PBOL_1 + Dlog_RD300 + log_RD300_1 + Dlog_RD300_2 + log_PBOL_1 + DKV1 + DKV2 + DKV3', data = data)\n",
    "result = model.fit()\n",
    "print(result.summary())\n",
    "result.resid.plot()\n",
    "plt.show()"
   ]
  },
  {
   "cell_type": "code",
   "execution_count": 23,
   "metadata": {},
   "outputs": [
    {
     "data": {
      "image/png": "[encoded data removed]",
      "text/plain": [
       "<matplotlib.figure.Figure at 0x1af28505fd0>"
      ]
     },
     "metadata": {},
     "output_type": "display_data"
    }
   ],
   "source": [
    "data.TRTMNW.plot()\n",
    "plt.show()"
   ]
  },
  {
   "cell_type": "markdown",
   "metadata": {},
   "source": [
    "# MODAG-inspirert"
   ]
  },
  {
   "cell_type": "code",
   "execution_count": 24,
   "metadata": {},
   "outputs": [
    {
     "name": "stdout",
     "output_type": "stream",
     "text": [
      "                            OLS Regression Results                            \n",
      "==============================================================================\n",
      "Dep. Variable:           log_PBOL_KPI   R-squared:                       0.904\n",
      "Model:                            OLS   Adj. R-squared:                  0.902\n",
      "Method:                 Least Squares   F-statistic:                     352.5\n",
      "Date:                Wed, 28 Jun 2017   Prob (F-statistic):           7.18e-57\n",
      "Time:                        15:03:03   Log-Likelihood:                 83.712\n",
      "No. Observations:                 116   AIC:                            -159.4\n",
      "Df Residuals:                     112   BIC:                            -148.4\n",
      "Df Model:                           3                                         \n",
      "Covariance Type:            nonrobust                                         \n",
      "==============================================================================\n",
      "                 coef    std err          t      P>|t|      [0.025      0.975]\n",
      "------------------------------------------------------------------------------\n",
      "const        -22.5820      3.014     -7.492      0.000     -28.554     -16.610\n",
      "log_RD_KPI     1.0201      0.305      3.344      0.001       0.416       1.625\n",
      "RRT           -8.6530      0.835    -10.368      0.000     -10.307      -6.999\n",
      "log_K83        0.6502      0.455      1.428      0.156      -0.252       1.552\n",
      "==============================================================================\n",
      "Omnibus:                        5.297   Durbin-Watson:                   0.453\n",
      "Prob(Omnibus):                  0.071   Jarque-Bera (JB):                5.050\n",
      "Skew:                           0.510   Prob(JB):                       0.0801\n",
      "Kurtosis:                       3.065   Cond. No.                     5.24e+03\n",
      "==============================================================================\n",
      "\n",
      "Warnings:\n",
      "[1] Standard Errors assume that the covariance matrix of the errors is correctly specified.\n",
      "[2] The condition number is large, 5.24e+03. This might indicate that there are\n",
      "strong multicollinearity or other numerical problems.\n"
     ]
    },
    {
     "data": {
      "image/png": "[encoded data removed]",
      "text/plain": [
       "<matplotlib.figure.Figure at 0x1af2a126ef0>"
      ]
     },
     "metadata": {},
     "output_type": "display_data"
    }
   ],
   "source": [
    "ols_data = data['1985':].copy()\n",
    "ols_data['log_RD_KPI'] = np.log((ols_data.RD300-ols_data.RAM300)/ols_data.KPI)\n",
    "ols_data['RRT']=(1+ols_data.RENPF300BO*(1-ols_data.TRTMNW))/(ols_data.KPI/ols_data.KPI.shift(4))-1\n",
    "ols_data['log_PBOL_KPI'] = ols_data.log_PBOL - ols_data.log_KPI\n",
    "ols_data['const'] = 1\n",
    "\n",
    "model = sm.OLS(endog = ols_data.log_PBOL_KPI, exog = ols_data[['const','log_RD_KPI','RRT','log_K83']], missing = 'drop')\n",
    "res = model.fit()\n",
    "print(res.summary())\n",
    "res.resid.plot()\n",
    "plt.show()"
   ]
  },
  {
   "cell_type": "code",
   "execution_count": 25,
   "metadata": {},
   "outputs": [
    {
     "data": {
      "text/plain": [
       "(-4.1277888178324789,\n",
       " 0.00087100886819476645,\n",
       " 0,\n",
       " 115,\n",
       " {'1%': -3.4885349695076844,\n",
       "  '10%': -2.5803597920604915,\n",
       "  '5%': -2.8870195216569412},\n",
       " -232.42983334240444)"
      ]
     },
     "execution_count": 25,
     "metadata": {},
     "output_type": "execute_result"
    }
   ],
   "source": [
    "adfuller(res.resid.dropna())"
   ]
  },
  {
   "cell_type": "code",
   "execution_count": 26,
   "metadata": {},
   "outputs": [
    {
     "data": {
      "image/png": "[encoded data removed]",
      "text/plain": [
       "<matplotlib.figure.Figure at 0x1af2a27eb38>"
      ]
     },
     "metadata": {},
     "output_type": "display_data"
    }
   ],
   "source": [
    "plt.bar(np.arange(10),acf(res.resid)[:10])\n",
    "plt.show()"
   ]
  },
  {
   "cell_type": "code",
   "execution_count": 27,
   "metadata": {},
   "outputs": [
    {
     "data": {
      "text/plain": [
       "(array([ 1.        ,  0.74908959,  0.54463099,  0.40037079,  0.26754165,\n",
       "         0.24077183,  0.22971796,  0.28019267,  0.29824653,  0.23050404,\n",
       "         0.16726216,  0.1386624 ,  0.1393537 ,  0.10335793,  0.04450283,\n",
       "         0.03267057,  0.01645864, -0.02795188, -0.07967469, -0.01818343,\n",
       "         0.05632712,  0.00342411,  0.00372315, -0.04486425, -0.1139479 ,\n",
       "        -0.2346548 , -0.34108819, -0.34591011, -0.32893285, -0.28151793,\n",
       "        -0.24323408, -0.17723222, -0.13461644, -0.20627402, -0.28253918,\n",
       "        -0.31840072, -0.33344632, -0.33101604, -0.3146158 , -0.23030922,\n",
       "        -0.16799585]),\n",
       " array([  66.78972905,  102.40529474,  121.8224818 ,  130.57040101,\n",
       "         137.71912218,  144.28567176,  154.14453934,  165.41825391,\n",
       "         172.21519173,  175.82787195,  178.33437423,  180.89027327,\n",
       "         182.30995302,  182.57572861,  182.72038316,  182.75746213,\n",
       "         182.86548774,  183.75214277,  183.79880008,  184.2511806 ,\n",
       "         184.25286992,  184.25488843,  184.55113813,  186.4829498 ,\n",
       "         194.76537435,  212.45957069,  230.86205677,  247.69158044,\n",
       "         260.16061563,  269.57713442,  274.63545571,  277.58841142,\n",
       "         284.60540346,  297.93090283,  315.06270541,  334.08670649,\n",
       "         353.07172306,  370.4419886 ,  379.8711252 ,  384.95416521]),\n",
       " array([  3.02067867e-16,   5.79392391e-23,   3.12543205e-26,\n",
       "          2.94045303e-27,   5.46271302e-28,   1.24784095e-28,\n",
       "          5.46686716e-30,   1.17553922e-31,   2.13182396e-32,\n",
       "          1.71974996e-32,   2.26189597e-32,   2.80110078e-32,\n",
       "          5.73032797e-32,   1.94315044e-31,   6.71786632e-31,\n",
       "          2.35723316e-30,   7.74555747e-30,   1.72946242e-29,\n",
       "          5.51791756e-29,   1.42599734e-28,   4.40543242e-28,\n",
       "          1.32727431e-27,   3.42700002e-27,   4.20840825e-27,\n",
       "          3.10791702e-28,   3.55708439e-31,   2.91148513e-34,\n",
       "          4.73526585e-37,   5.39997539e-39,   2.42114972e-40,\n",
       "          7.65463484e-41,   6.17684048e-41,   8.09155127e-42,\n",
       "          6.35091222e-44,   9.04906950e-47,   5.46148433e-50,\n",
       "          3.31419701e-53,   4.12810362e-56,   1.85192826e-57,\n",
       "          5.90524989e-58]))"
      ]
     },
     "execution_count": 27,
     "metadata": {},
     "output_type": "execute_result"
    }
   ],
   "source": [
    "acf(res.resid, qstat = True)"
   ]
  },
  {
   "cell_type": "markdown",
   "metadata": {},
   "source": [
    "# Test av VAR-modell"
   ]
  },
  {
   "cell_type": "code",
   "execution_count": 28,
   "metadata": {
    "collapsed": true,
    "jupyter": {
     "outputs_hidden": true
    }
   },
   "outputs": [],
   "source": [
    "VAR_model = VAR(ols_data[['log_PBOL_KPI','log_RD_KPI','RRT','log_K83']].dropna())"
   ]
  },
  {
   "cell_type": "code",
   "execution_count": 29,
   "metadata": {
    "collapsed": true,
    "jupyter": {
     "outputs_hidden": true
    }
   },
   "outputs": [],
   "source": [
    "VAR_res = VAR_model.fit()"
   ]
  },
  {
   "cell_type": "code",
   "execution_count": 30,
   "metadata": {},
   "outputs": [
    {
     "data": {
      "text/plain": [
       "  Summary of Regression Results   \n",
       "==================================\n",
       "Model:                         VAR\n",
       "Method:                        OLS\n",
       "Date:           Wed, 28, Jun, 2017\n",
       "Time:                     15:03:03\n",
       "--------------------------------------------------------------------\n",
       "No. of Equations:         4.00000    BIC:                   -38.3216\n",
       "Nobs:                     115.000    HQIC:                  -38.6053\n",
       "Log likelihood:           1598.23    FPE:                1.41220e-17\n",
       "AIC:                     -38.7990    Det(Omega_mle):     1.19114e-17\n",
       "--------------------------------------------------------------------\n",
       "Results for equation log_PBOL_KPI\n",
       "==================================================================================\n",
       "                     coefficient       std. error           t-stat            prob\n",
       "----------------------------------------------------------------------------------\n",
       "const                   1.642475         0.805408            2.039           0.044\n",
       "L1.log_PBOL_KPI         0.955154         0.020399           46.823           0.000\n",
       "L1.log_RD_KPI           0.358637         0.068870            5.207           0.000\n",
       "L1.RRT                 -0.210288         0.252511           -0.833           0.407\n",
       "L1.log_K83             -0.413493         0.099497           -4.156           0.000\n",
       "==================================================================================\n",
       "\n",
       "Results for equation log_RD_KPI\n",
       "==================================================================================\n",
       "                     coefficient       std. error           t-stat            prob\n",
       "----------------------------------------------------------------------------------\n",
       "const                  -1.487387         0.745082           -1.996           0.048\n",
       "L1.log_PBOL_KPI         0.030911         0.018871            1.638           0.104\n",
       "L1.log_RD_KPI           0.741240         0.063712           11.634           0.000\n",
       "L1.RRT                  0.405946         0.233598            1.738           0.085\n",
       "L1.log_K83              0.320094         0.092044            3.478           0.001\n",
       "==================================================================================\n",
       "\n",
       "Results for equation RRT\n",
       "==================================================================================\n",
       "                     coefficient       std. error           t-stat            prob\n",
       "----------------------------------------------------------------------------------\n",
       "const                  -0.723006         0.219122           -3.300           0.001\n",
       "L1.log_PBOL_KPI        -0.018641         0.005550           -3.359           0.001\n",
       "L1.log_RD_KPI          -0.007334         0.018737           -0.391           0.696\n",
       "L1.RRT                  0.678768         0.068699            9.880           0.000\n",
       "L1.log_K83              0.054696         0.027069            2.021           0.046\n",
       "==================================================================================\n",
       "\n",
       "Results for equation log_K83\n",
       "==================================================================================\n",
       "                     coefficient       std. error           t-stat            prob\n",
       "----------------------------------------------------------------------------------\n",
       "const                   0.317023         0.026261           12.072           0.000\n",
       "L1.log_PBOL_KPI         0.010862         0.000665           16.331           0.000\n",
       "L1.log_RD_KPI           0.006056         0.002246            2.697           0.008\n",
       "L1.RRT                  0.002241         0.008233            0.272           0.786\n",
       "L1.log_K83              0.974012         0.003244          300.230           0.000\n",
       "==================================================================================\n",
       "\n",
       "Correlation matrix of residuals\n",
       "                log_PBOL_KPI  log_RD_KPI       RRT   log_K83\n",
       "log_PBOL_KPI        1.000000   -0.022602  0.196571  0.178720\n",
       "log_RD_KPI         -0.022602    1.000000  0.078980  0.000911\n",
       "RRT                 0.196571    0.078980  1.000000  0.016646\n",
       "log_K83             0.178720    0.000911  0.016646  1.000000\n",
       "\n"
      ]
     },
     "execution_count": 30,
     "metadata": {},
     "output_type": "execute_result"
    }
   ],
   "source": [
    "VAR_res.summary()"
   ]
  },
  {
   "cell_type": "code",
   "execution_count": 31,
   "metadata": {},
   "outputs": [
    {
     "data": {
      "image/png": "[encoded data removed]",
      "text/plain": [
       "<matplotlib.figure.Figure at 0x1af2a423a20>"
      ]
     },
     "metadata": {},
     "output_type": "display_data"
    }
   ],
   "source": [
    "plt.plot(ols_data.index[5:],VAR_model.predict(VAR_res.params)[:,0])\n",
    "ols_data['log_PBOL_KPI'].plot()\n",
    "plt.show()"
   ]
  },
  {
   "cell_type": "code",
   "execution_count": 32,
   "metadata": {},
   "outputs": [
    {
     "data": {
      "text/plain": [
       "array([[ -1.09143617e-01,   1.25154785e+01,  -1.27599624e-02,\n",
       "          1.48193716e+01],\n",
       "       [ -7.11560643e-02,   1.25224432e+01,  -7.96663314e-03,\n",
       "          1.48257737e+01],\n",
       "       [ -5.87247538e-02,   1.25139693e+01,  -7.99257801e-03,\n",
       "          1.48323244e+01],\n",
       "       [ -3.16611239e-02,   1.25574702e+01,  -8.49616417e-03,\n",
       "          1.48387854e+01],\n",
       "       [ -4.26606264e-02,   1.25639373e+01,  -3.79711039e-03,\n",
       "          1.48453596e+01],\n",
       "       [ -1.34813654e-02,   1.25753740e+01,  -3.33583489e-03,\n",
       "          1.48524088e+01],\n",
       "       [  8.16379479e-03,   1.25734855e+01,  -1.01361374e-03,\n",
       "          1.48596018e+01],\n",
       "       [  2.67214552e-02,   1.25960892e+01,  -8.46178992e-04,\n",
       "          1.48671612e+01],\n",
       "       [  1.25520133e-02,   1.26053766e+01,  -5.65419353e-03,\n",
       "          1.48748196e+01],\n",
       "       [  3.41923972e-02,   1.26109626e+01,  -5.78990536e-03,\n",
       "          1.48829230e+01],\n",
       "       [  4.78519072e-02,   1.26090163e+01,  -1.05017905e-02,\n",
       "          1.48904993e+01]])"
      ]
     },
     "execution_count": 32,
     "metadata": {},
     "output_type": "execute_result"
    }
   ],
   "source": [
    "VAR_model.predict(VAR_res.params, 100, 110)"
   ]
  },
  {
   "cell_type": "code",
   "execution_count": 33,
   "metadata": {},
   "outputs": [
    {
     "data": {
      "text/html": [
       "<div>\n",
       "<style>\n",
       "    .dataframe thead tr:only-child th {\n",
       "        text-align: right;\n",
       "    }\n",
       "\n",
       "    .dataframe thead th {\n",
       "        text-align: left;\n",
       "    }\n",
       "\n",
       "    .dataframe tbody tr th {\n",
       "        vertical-align: top;\n",
       "    }\n",
       "</style>\n",
       "<table border=\"1\" class=\"dataframe\">\n",
       "  <thead>\n",
       "    <tr style=\"text-align: right;\">\n",
       "      <th></th>\n",
       "      <th>const</th>\n",
       "      <th>L1.log_PBOL_KPI</th>\n",
       "      <th>L1.log_RD_KPI</th>\n",
       "      <th>L1.RRT</th>\n",
       "      <th>L1.log_K83</th>\n",
       "    </tr>\n",
       "  </thead>\n",
       "  <tbody>\n",
       "    <tr>\n",
       "      <th>log_PBOL_KPI</th>\n",
       "      <td>1.642475</td>\n",
       "      <td>0.955154</td>\n",
       "      <td>0.358637</td>\n",
       "      <td>-0.210288</td>\n",
       "      <td>-0.413493</td>\n",
       "    </tr>\n",
       "    <tr>\n",
       "      <th>log_RD_KPI</th>\n",
       "      <td>-1.487387</td>\n",
       "      <td>0.030911</td>\n",
       "      <td>0.741240</td>\n",
       "      <td>0.405946</td>\n",
       "      <td>0.320094</td>\n",
       "    </tr>\n",
       "    <tr>\n",
       "      <th>RRT</th>\n",
       "      <td>-0.723006</td>\n",
       "      <td>-0.018641</td>\n",
       "      <td>-0.007334</td>\n",
       "      <td>0.678768</td>\n",
       "      <td>0.054696</td>\n",
       "    </tr>\n",
       "    <tr>\n",
       "      <th>log_K83</th>\n",
       "      <td>0.317023</td>\n",
       "      <td>0.010862</td>\n",
       "      <td>0.006056</td>\n",
       "      <td>0.002241</td>\n",
       "      <td>0.974012</td>\n",
       "    </tr>\n",
       "  </tbody>\n",
       "</table>\n",
       "</div>"
      ],
      "text/plain": [
       "                 const  L1.log_PBOL_KPI  L1.log_RD_KPI    L1.RRT  L1.log_K83\n",
       "log_PBOL_KPI  1.642475         0.955154       0.358637 -0.210288   -0.413493\n",
       "log_RD_KPI   -1.487387         0.030911       0.741240  0.405946    0.320094\n",
       "RRT          -0.723006        -0.018641      -0.007334  0.678768    0.054696\n",
       "log_K83       0.317023         0.010862       0.006056  0.002241    0.974012"
      ]
     },
     "execution_count": 33,
     "metadata": {},
     "output_type": "execute_result"
    }
   ],
   "source": [
    "VAR_res.params.T"
   ]
  },
  {
   "cell_type": "code",
   "execution_count": 34,
   "metadata": {},
   "outputs": [
    {
     "data": {
      "text/html": [
       "<div>\n",
       "<style>\n",
       "    .dataframe thead tr:only-child th {\n",
       "        text-align: right;\n",
       "    }\n",
       "\n",
       "    .dataframe thead th {\n",
       "        text-align: left;\n",
       "    }\n",
       "\n",
       "    .dataframe tbody tr th {\n",
       "        vertical-align: top;\n",
       "    }\n",
       "</style>\n",
       "<table border=\"1\" class=\"dataframe\">\n",
       "  <thead>\n",
       "    <tr style=\"text-align: right;\">\n",
       "      <th>dato</th>\n",
       "      <th>2014-10-01 00:00:00</th>\n",
       "    </tr>\n",
       "  </thead>\n",
       "  <tbody>\n",
       "    <tr>\n",
       "      <th>const</th>\n",
       "      <td>1.000000</td>\n",
       "    </tr>\n",
       "    <tr>\n",
       "      <th>log_PBOL_KPI</th>\n",
       "      <td>0.024022</td>\n",
       "    </tr>\n",
       "    <tr>\n",
       "      <th>log_RD_KPI</th>\n",
       "      <td>12.649067</td>\n",
       "    </tr>\n",
       "    <tr>\n",
       "      <th>RRT</th>\n",
       "      <td>-0.012898</td>\n",
       "    </tr>\n",
       "    <tr>\n",
       "      <th>log_K83</th>\n",
       "      <td>14.927241</td>\n",
       "    </tr>\n",
       "  </tbody>\n",
       "</table>\n",
       "</div>"
      ],
      "text/plain": [
       "dato          2014-10-01\n",
       "const           1.000000\n",
       "log_PBOL_KPI    0.024022\n",
       "log_RD_KPI     12.649067\n",
       "RRT            -0.012898\n",
       "log_K83        14.927241"
      ]
     },
     "execution_count": 34,
     "metadata": {},
     "output_type": "execute_result"
    }
   ],
   "source": [
    "ols_data[['const','log_PBOL_KPI','log_RD_KPI','RRT','log_K83']].tail(1).T"
   ]
  },
  {
   "cell_type": "code",
   "execution_count": 35,
   "metadata": {},
   "outputs": [
    {
     "data": {
      "text/plain": [
       "array([[  3.22374772e-02],\n",
       "       [  1.26622334e+01],\n",
       "       [ -8.52417701e-03],\n",
       "       [  1.49331694e+01]])"
      ]
     },
     "execution_count": 35,
     "metadata": {},
     "output_type": "execute_result"
    }
   ],
   "source": [
    "np.dot(VAR_res.params.T, ols_data[['const','log_PBOL_KPI','log_RD_KPI','RRT','log_K83']].tail(1).T)"
   ]
  },
  {
   "cell_type": "code",
   "execution_count": 36,
   "metadata": {
    "collapsed": true,
    "jupyter": {
     "outputs_hidden": true
    }
   },
   "outputs": [],
   "source": [
    "pred = np.zeros((100,4))"
   ]
  },
  {
   "cell_type": "code",
   "execution_count": 37,
   "metadata": {
    "collapsed": true,
    "jupyter": {
     "outputs_hidden": true
    }
   },
   "outputs": [],
   "source": [
    "pred[0] = np.dot(VAR_res.params.T, ols_data[['const','log_PBOL_KPI','log_RD_KPI','RRT','log_K83']].tail(1).T).reshape(4)"
   ]
  },
  {
   "cell_type": "code",
   "execution_count": 38,
   "metadata": {},
   "outputs": [
    {
     "data": {
      "text/plain": [
       "array([  3.22374772e-02,   1.26622334e+01,  -8.52417701e-03,\n",
       "         1.49331694e+01])"
      ]
     },
     "execution_count": 38,
     "metadata": {},
     "output_type": "execute_result"
    }
   ],
   "source": [
    "pred[0]"
   ]
  },
  {
   "cell_type": "code",
   "execution_count": 39,
   "metadata": {
    "collapsed": true,
    "jupyter": {
     "outputs_hidden": true
    }
   },
   "outputs": [],
   "source": [
    "for i in range(1,100):\n",
    "    pred[i] = np.dot(VAR_res.params.T, np.hstack([np.ones(1), pred[i-1]]))"
   ]
  },
  {
   "cell_type": "code",
   "execution_count": 40,
   "metadata": {},
   "outputs": [
    {
     "data": {
      "image/png": "[encoded data removed]",
      "text/plain": [
       "<matplotlib.figure.Figure at 0x1af2a2722b0>"
      ]
     },
     "metadata": {},
     "output_type": "display_data"
    }
   ],
   "source": [
    "plt.plot(pd.date_range('1985-01-01', periods = 220, freq = '3M'),np.exp(np.hstack([ols_data.log_PBOL_KPI.values,pred[:,0]])))\n",
    "plt.show()"
   ]
  },
  {
   "cell_type": "code",
   "execution_count": 41,
   "metadata": {},
   "outputs": [
    {
     "data": {
      "text/plain": [
       "Index(['PBOL', 'PC', 'KPI', 'PJ10', 'RAM300', 'K83', 'BF300', 'BG300',\n",
       "       'NFI300', 'HUSBOL', 'HUSFORMUE', 'RD300', 'KBOL', 'JKBOL', 'SPARERAT',\n",
       "       'XSBOLU', 'RENPF300BO', 'TRTMNW', 'NB', 'DKV1', 'DKV2', 'DKV3',\n",
       "       'bnpb.nr23_9', 'bnpb.nr23_9fn', 'bif.nr83_6', 'bif.nr83naer',\n",
       "       'bif.nr8368', 'bif.nr83oljroer', 'koo.nroff', 'eks.nrtot'],\n",
       "      dtype='object')"
      ]
     },
     "execution_count": 41,
     "metadata": {},
     "output_type": "execute_result"
    }
   ],
   "source": [
    "data.columns[:30]"
   ]
  },
  {
   "cell_type": "code",
   "execution_count": 42,
   "metadata": {
    "collapsed": true,
    "jupyter": {
     "outputs_hidden": true
    }
   },
   "outputs": [],
   "source": [
    "begrep = {}\n",
    "begrep['PBOL'] = 'Boligprisindeks'\n",
    "begrep['PC'] = 'Privat konsum'\n",
    "begrep['KPI'] = 'KPI'\n",
    "begrep['PJ10'] = 'Pris på investering i boligmasse'\n",
    "begrep['RAM300'] = 'Privat aksjeutbytte'\n",
    "begrep['K83'] = 'Boligkapitalbeholdning'\n",
    "begrep['BF300']  = 'Private bruttofordringer'\n",
    "begrep['BG300'] = 'Privat gjeld'\n",
    "begrep['NFI300'] = 'Privat nettofinansinvestering'\n",
    "begrep['HUSBOL'] = 'Husholdningsektorens boligkapital'\n",
    "begrep['HUSFORMUE'] = 'Husholdningens formue'\n",
    "begrep['RD300'] = 'Privat netto disponibel inntekt'\n",
    "begrep['KBOL'] = 'Boligkapital'\n",
    "begrep['JKBOL'] = 'Investering boligkapital'\n",
    "begrep['SPARERAT'] = 'Husholdningens sparerate'\n",
    "begrep['XSBOLU'] = 'Igangsetting av bolig i kkvm'\n",
    "begrep['RENPF300BO'] = 'Rente på lån med pant i bolig'\n",
    "begrep['TRTMNW'] = 'Gjennomsnitt marginal skatterate'\n",
    "begrep['NB'] = 'Antall personer i kilo'"
   ]
  },
  {
   "cell_type": "markdown",
   "metadata": {},
   "source": [
    "# Anundsens modell"
   ]
  },
  {
   "cell_type": "code",
   "execution_count": 43,
   "metadata": {
    "collapsed": true,
    "jupyter": {
     "outputs_hidden": true
    }
   },
   "outputs": [],
   "source": [
    "mod_data = data['1985':].copy()\n",
    "mod_data['const'] = 1\n",
    "mod_data['log_PBOL_KPI'] = mod_data['log_PBOL'] - mod_data['log_KPI']\n",
    "mod_data['log_BG_KPI'] = mod_data['log_BG300'] - mod_data['log_KPI']\n",
    "mod_data['log_RD_KPI'] = np.log((mod_data['RD300'] - mod_data['RAM300'])/mod_data['KPI'])\n",
    "mod_data['RRT'] = (1+mod_data.RENPF300BO*(1-mod_data.TRTMNW))/(mod_data.KPI/data.KPI.shift(4))-1\n",
    "mod_data['t'] = np.arange(len(mod_data.index))"
   ]
  },
  {
   "cell_type": "code",
   "execution_count": 44,
   "metadata": {},
   "outputs": [
    {
     "data": {
      "text/html": [
       "<table class=\"simpletable\">\n",
       "<caption>OLS Regression Results</caption>\n",
       "<tr>\n",
       "  <th>Dep. Variable:</th>      <td>log_PBOL_KPI</td>   <th>  R-squared:         </th> <td>   0.919</td>\n",
       "</tr>\n",
       "<tr>\n",
       "  <th>Model:</th>                   <td>OLS</td>       <th>  Adj. R-squared:    </th> <td>   0.917</td>\n",
       "</tr>\n",
       "<tr>\n",
       "  <th>Method:</th>             <td>Least Squares</td>  <th>  F-statistic:       </th> <td>   439.8</td>\n",
       "</tr>\n",
       "<tr>\n",
       "  <th>Date:</th>             <td>Wed, 28 Jun 2017</td> <th>  Prob (F-statistic):</th> <td>3.56e-63</td>\n",
       "</tr>\n",
       "<tr>\n",
       "  <th>Time:</th>                 <td>15:03:04</td>     <th>  Log-Likelihood:    </th> <td>  98.071</td>\n",
       "</tr>\n",
       "<tr>\n",
       "  <th>No. Observations:</th>      <td>   120</td>      <th>  AIC:               </th> <td>  -188.1</td>\n",
       "</tr>\n",
       "<tr>\n",
       "  <th>Df Residuals:</th>          <td>   116</td>      <th>  BIC:               </th> <td>  -177.0</td>\n",
       "</tr>\n",
       "<tr>\n",
       "  <th>Df Model:</th>              <td>     3</td>      <th>                     </th>     <td> </td>   \n",
       "</tr>\n",
       "<tr>\n",
       "  <th>Covariance Type:</th>      <td>nonrobust</td>    <th>                     </th>     <td> </td>   \n",
       "</tr>\n",
       "</table>\n",
       "<table class=\"simpletable\">\n",
       "<tr>\n",
       "       <td></td>         <th>coef</th>     <th>std err</th>      <th>t</th>      <th>P>|t|</th>  <th>[0.025</th>    <th>0.975]</th>  \n",
       "</tr>\n",
       "<tr>\n",
       "  <th>const</th>      <td>   21.6109</td> <td>    3.670</td> <td>    5.888</td> <td> 0.000</td> <td>   14.342</td> <td>   28.880</td>\n",
       "</tr>\n",
       "<tr>\n",
       "  <th>log_BG_KPI</th> <td>    1.3148</td> <td>    0.100</td> <td>   13.213</td> <td> 0.000</td> <td>    1.118</td> <td>    1.512</td>\n",
       "</tr>\n",
       "<tr>\n",
       "  <th>log_RD_KPI</th> <td>    2.6245</td> <td>    0.270</td> <td>    9.705</td> <td> 0.000</td> <td>    2.089</td> <td>    3.160</td>\n",
       "</tr>\n",
       "<tr>\n",
       "  <th>log_K83</th>    <td>   -4.9793</td> <td>    0.522</td> <td>   -9.531</td> <td> 0.000</td> <td>   -6.014</td> <td>   -3.945</td>\n",
       "</tr>\n",
       "</table>\n",
       "<table class=\"simpletable\">\n",
       "<tr>\n",
       "  <th>Omnibus:</th>       <td> 4.008</td> <th>  Durbin-Watson:     </th> <td>   0.486</td>\n",
       "</tr>\n",
       "<tr>\n",
       "  <th>Prob(Omnibus):</th> <td> 0.135</td> <th>  Jarque-Bera (JB):  </th> <td>   3.530</td>\n",
       "</tr>\n",
       "<tr>\n",
       "  <th>Skew:</th>          <td>-0.409</td> <th>  Prob(JB):          </th> <td>   0.171</td>\n",
       "</tr>\n",
       "<tr>\n",
       "  <th>Kurtosis:</th>      <td> 3.189</td> <th>  Cond. No.          </th> <td>8.85e+03</td>\n",
       "</tr>\n",
       "</table>"
      ],
      "text/plain": [
       "<class 'statsmodels.iolib.summary.Summary'>\n",
       "\"\"\"\n",
       "                            OLS Regression Results                            \n",
       "==============================================================================\n",
       "Dep. Variable:           log_PBOL_KPI   R-squared:                       0.919\n",
       "Model:                            OLS   Adj. R-squared:                  0.917\n",
       "Method:                 Least Squares   F-statistic:                     439.8\n",
       "Date:                Wed, 28 Jun 2017   Prob (F-statistic):           3.56e-63\n",
       "Time:                        15:03:04   Log-Likelihood:                 98.071\n",
       "No. Observations:                 120   AIC:                            -188.1\n",
       "Df Residuals:                     116   BIC:                            -177.0\n",
       "Df Model:                           3                                         \n",
       "Covariance Type:            nonrobust                                         \n",
       "==============================================================================\n",
       "                 coef    std err          t      P>|t|      [0.025      0.975]\n",
       "------------------------------------------------------------------------------\n",
       "const         21.6109      3.670      5.888      0.000      14.342      28.880\n",
       "log_BG_KPI     1.3148      0.100     13.213      0.000       1.118       1.512\n",
       "log_RD_KPI     2.6245      0.270      9.705      0.000       2.089       3.160\n",
       "log_K83       -4.9793      0.522     -9.531      0.000      -6.014      -3.945\n",
       "==============================================================================\n",
       "Omnibus:                        4.008   Durbin-Watson:                   0.486\n",
       "Prob(Omnibus):                  0.135   Jarque-Bera (JB):                3.530\n",
       "Skew:                          -0.409   Prob(JB):                        0.171\n",
       "Kurtosis:                       3.189   Cond. No.                     8.85e+03\n",
       "==============================================================================\n",
       "\n",
       "Warnings:\n",
       "[1] Standard Errors assume that the covariance matrix of the errors is correctly specified.\n",
       "[2] The condition number is large, 8.85e+03. This might indicate that there are\n",
       "strong multicollinearity or other numerical problems.\n",
       "\"\"\""
      ]
     },
     "execution_count": 44,
     "metadata": {},
     "output_type": "execute_result"
    }
   ],
   "source": [
    "mod = sm.OLS(endog = mod_data['log_PBOL_KPI'], exog = mod_data[['const','log_BG_KPI','log_RD_KPI','log_K83']])\n",
    "res2 = mod.fit()\n",
    "res2.summary()"
   ]
  },
  {
   "cell_type": "code",
   "execution_count": 45,
   "metadata": {},
   "outputs": [
    {
     "data": {
      "image/png": "[encoded data removed]",
      "text/plain": [
       "<matplotlib.figure.Figure at 0x1af2a272080>"
      ]
     },
     "metadata": {},
     "output_type": "display_data"
    }
   ],
   "source": [
    "plt.plot(ols_data.index[4:], res.resid, label = 'MODAG')\n",
    "plt.plot(mod_data.index, res2.resid, label = 'Anundsen')\n",
    "plt.legend()\n",
    "plt.show()"
   ]
  },
  {
   "cell_type": "code",
   "execution_count": 46,
   "metadata": {},
   "outputs": [
    {
     "data": {
      "text/plain": [
       "(-3.5120982270938095,\n",
       " 0.0076817681225110259,\n",
       " 8,\n",
       " 111,\n",
       " {'1%': -3.4906830827540469,\n",
       "  '10%': -2.5808574442009578,\n",
       "  '5%': -2.8879516565798817},\n",
       " -355.24254551980505)"
      ]
     },
     "execution_count": 46,
     "metadata": {},
     "output_type": "execute_result"
    }
   ],
   "source": [
    "adfuller(res2.resid)"
   ]
  },
  {
   "cell_type": "code",
   "execution_count": 47,
   "metadata": {},
   "outputs": [
    {
     "data": {
      "image/png": "[encoded data removed]",
      "text/plain": [
       "<matplotlib.figure.Figure at 0x1af2867c860>"
      ]
     },
     "metadata": {},
     "output_type": "display_data"
    }
   ],
   "source": [
    "plt.bar(np.arange(10), acf(res2.resid)[:10])\n",
    "plt.show()"
   ]
  },
  {
   "cell_type": "markdown",
   "metadata": {},
   "source": [
    "# ECM"
   ]
  },
  {
   "cell_type": "code",
   "execution_count": 48,
   "metadata": {},
   "outputs": [
    {
     "data": {
      "text/html": [
       "<table class=\"simpletable\">\n",
       "<caption>OLS Regression Results</caption>\n",
       "<tr>\n",
       "  <th>Dep. Variable:</th>      <td>Dlog_PBOL_KPI</td>  <th>  R-squared:         </th> <td>   0.535</td>\n",
       "</tr>\n",
       "<tr>\n",
       "  <th>Model:</th>                   <td>OLS</td>       <th>  Adj. R-squared:    </th> <td>   0.496</td>\n",
       "</tr>\n",
       "<tr>\n",
       "  <th>Method:</th>             <td>Least Squares</td>  <th>  F-statistic:       </th> <td>   13.79</td>\n",
       "</tr>\n",
       "<tr>\n",
       "  <th>Date:</th>             <td>Wed, 28 Jun 2017</td> <th>  Prob (F-statistic):</th> <td>1.55e-14</td>\n",
       "</tr>\n",
       "<tr>\n",
       "  <th>Time:</th>                 <td>15:03:05</td>     <th>  Log-Likelihood:    </th> <td>  296.98</td>\n",
       "</tr>\n",
       "<tr>\n",
       "  <th>No. Observations:</th>      <td>   118</td>      <th>  AIC:               </th> <td>  -574.0</td>\n",
       "</tr>\n",
       "<tr>\n",
       "  <th>Df Residuals:</th>          <td>   108</td>      <th>  BIC:               </th> <td>  -546.3</td>\n",
       "</tr>\n",
       "<tr>\n",
       "  <th>Df Model:</th>              <td>     9</td>      <th>                     </th>     <td> </td>   \n",
       "</tr>\n",
       "<tr>\n",
       "  <th>Covariance Type:</th>      <td>nonrobust</td>    <th>                     </th>     <td> </td>   \n",
       "</tr>\n",
       "</table>\n",
       "<table class=\"simpletable\">\n",
       "<tr>\n",
       "          <td></td>            <th>coef</th>     <th>std err</th>      <th>t</th>      <th>P>|t|</th>  <th>[0.025</th>    <th>0.975]</th>  \n",
       "</tr>\n",
       "<tr>\n",
       "  <th>Dlog_PBOL_KPI_1</th>  <td>    0.4076</td> <td>    0.090</td> <td>    4.546</td> <td> 0.000</td> <td>    0.230</td> <td>    0.585</td>\n",
       "</tr>\n",
       "<tr>\n",
       "  <th>Dlog_BG_KPI_1</th>    <td>    0.2838</td> <td>    0.166</td> <td>    1.709</td> <td> 0.090</td> <td>   -0.045</td> <td>    0.613</td>\n",
       "</tr>\n",
       "<tr>\n",
       "  <th>Dlog_K83_1</th>       <td>   -0.0205</td> <td>    1.315</td> <td>   -0.016</td> <td> 0.988</td> <td>   -2.627</td> <td>    2.586</td>\n",
       "</tr>\n",
       "<tr>\n",
       "  <th>Dlog_RD_KPI_1</th>    <td>   -0.0943</td> <td>    0.099</td> <td>   -0.957</td> <td> 0.341</td> <td>   -0.290</td> <td>    0.101</td>\n",
       "</tr>\n",
       "<tr>\n",
       "  <th>DRRT_1</th>           <td>   -0.5003</td> <td>    0.264</td> <td>   -1.893</td> <td> 0.061</td> <td>   -1.024</td> <td>    0.024</td>\n",
       "</tr>\n",
       "<tr>\n",
       "  <th>Anundsen error_1</th> <td>   -0.0335</td> <td>    0.024</td> <td>   -1.371</td> <td> 0.173</td> <td>   -0.082</td> <td>    0.015</td>\n",
       "</tr>\n",
       "<tr>\n",
       "  <th>const</th>            <td>   -0.0102</td> <td>    0.008</td> <td>   -1.303</td> <td> 0.195</td> <td>   -0.026</td> <td>    0.005</td>\n",
       "</tr>\n",
       "<tr>\n",
       "  <th>DKV1_step</th>        <td>    0.0328</td> <td>    0.006</td> <td>    5.487</td> <td> 0.000</td> <td>    0.021</td> <td>    0.045</td>\n",
       "</tr>\n",
       "<tr>\n",
       "  <th>DKV2_step</th>        <td>    0.0326</td> <td>    0.007</td> <td>    4.738</td> <td> 0.000</td> <td>    0.019</td> <td>    0.046</td>\n",
       "</tr>\n",
       "<tr>\n",
       "  <th>DKV3_step</th>        <td>   -0.0056</td> <td>    0.007</td> <td>   -0.780</td> <td> 0.437</td> <td>   -0.020</td> <td>    0.009</td>\n",
       "</tr>\n",
       "</table>\n",
       "<table class=\"simpletable\">\n",
       "<tr>\n",
       "  <th>Omnibus:</th>       <td> 7.324</td> <th>  Durbin-Watson:     </th> <td>   2.107</td>\n",
       "</tr>\n",
       "<tr>\n",
       "  <th>Prob(Omnibus):</th> <td> 0.026</td> <th>  Jarque-Bera (JB):  </th> <td>   7.273</td>\n",
       "</tr>\n",
       "<tr>\n",
       "  <th>Skew:</th>          <td>-0.469</td> <th>  Prob(JB):          </th> <td>  0.0263</td>\n",
       "</tr>\n",
       "<tr>\n",
       "  <th>Kurtosis:</th>      <td> 3.775</td> <th>  Cond. No.          </th> <td>    744.</td>\n",
       "</tr>\n",
       "</table>"
      ],
      "text/plain": [
       "<class 'statsmodels.iolib.summary.Summary'>\n",
       "\"\"\"\n",
       "                            OLS Regression Results                            \n",
       "==============================================================================\n",
       "Dep. Variable:          Dlog_PBOL_KPI   R-squared:                       0.535\n",
       "Model:                            OLS   Adj. R-squared:                  0.496\n",
       "Method:                 Least Squares   F-statistic:                     13.79\n",
       "Date:                Wed, 28 Jun 2017   Prob (F-statistic):           1.55e-14\n",
       "Time:                        15:03:05   Log-Likelihood:                 296.98\n",
       "No. Observations:                 118   AIC:                            -574.0\n",
       "Df Residuals:                     108   BIC:                            -546.3\n",
       "Df Model:                           9                                         \n",
       "Covariance Type:            nonrobust                                         \n",
       "====================================================================================\n",
       "                       coef    std err          t      P>|t|      [0.025      0.975]\n",
       "------------------------------------------------------------------------------------\n",
       "Dlog_PBOL_KPI_1      0.4076      0.090      4.546      0.000       0.230       0.585\n",
       "Dlog_BG_KPI_1        0.2838      0.166      1.709      0.090      -0.045       0.613\n",
       "Dlog_K83_1          -0.0205      1.315     -0.016      0.988      -2.627       2.586\n",
       "Dlog_RD_KPI_1       -0.0943      0.099     -0.957      0.341      -0.290       0.101\n",
       "DRRT_1              -0.5003      0.264     -1.893      0.061      -1.024       0.024\n",
       "Anundsen error_1    -0.0335      0.024     -1.371      0.173      -0.082       0.015\n",
       "const               -0.0102      0.008     -1.303      0.195      -0.026       0.005\n",
       "DKV1_step            0.0328      0.006      5.487      0.000       0.021       0.045\n",
       "DKV2_step            0.0326      0.007      4.738      0.000       0.019       0.046\n",
       "DKV3_step           -0.0056      0.007     -0.780      0.437      -0.020       0.009\n",
       "==============================================================================\n",
       "Omnibus:                        7.324   Durbin-Watson:                   2.107\n",
       "Prob(Omnibus):                  0.026   Jarque-Bera (JB):                7.273\n",
       "Skew:                          -0.469   Prob(JB):                       0.0263\n",
       "Kurtosis:                       3.775   Cond. No.                         744.\n",
       "==============================================================================\n",
       "\n",
       "Warnings:\n",
       "[1] Standard Errors assume that the covariance matrix of the errors is correctly specified.\n",
       "\"\"\""
      ]
     },
     "execution_count": 48,
     "metadata": {},
     "output_type": "execute_result"
    }
   ],
   "source": [
    "\n",
    "mod_data['Dlog_BG_KPI_1'] = mod_data['log_BG_KPI'].diff().shift()\n",
    "mod_data['Dlog_K83_1'] = mod_data['log_K83'].diff().shift()\n",
    "mod_data['Dlog_RD_KPI_1'] = mod_data['log_RD_KPI'].diff().shift()\n",
    "mod_data['DRRT_1'] = mod_data['RRT'].diff().shift()\n",
    "mod_data['Anundsen error_1'] = res2.resid.shift()\n",
    "mod_data['Dlog_PBOL_KPI'] = mod_data['log_PBOL_KPI'].diff()\n",
    "mod_data['Dlog_PBOL_KPI_1'] = mod_data['Dlog_PBOL_KPI'].shift()\n",
    "\n",
    "lim_data = mod_data.copy()\n",
    "ecm_mod = sm.OLS(endog = lim_data['Dlog_PBOL_KPI'][2:], exog = lim_data[['Dlog_PBOL_KPI_1','Dlog_BG_KPI_1','Dlog_K83_1', 'Dlog_RD_KPI_1', 'DRRT_1', 'Anundsen error_1','const','DKV1_step','DKV2_step','DKV3_step']][2:])\n",
    "ecm_res = ecm_mod.fit()\n",
    "ecm_res.summary()"
   ]
  },
  {
   "cell_type": "code",
   "execution_count": 49,
   "metadata": {},
   "outputs": [
    {
     "data": {
      "image/png": "[encoded data removed]",
      "text/plain": [
       "<matplotlib.figure.Figure at 0x1af2a263518>"
      ]
     },
     "metadata": {},
     "output_type": "display_data"
    }
   ],
   "source": [
    "plt.plot(ecm_res.resid)\n",
    "plt.show()"
   ]
  },
  {
   "cell_type": "code",
   "execution_count": 50,
   "metadata": {},
   "outputs": [
    {
     "data": {
      "image/png": "[encoded data removed]",
      "text/plain": [
       "<matplotlib.figure.Figure at 0x1af2a2ea048>"
      ]
     },
     "metadata": {},
     "output_type": "display_data"
    }
   ],
   "source": [
    "plt.bar(np.arange(30), acf(ecm_res.resid)[:30])\n",
    "plt.show()"
   ]
  },
  {
   "cell_type": "code",
   "execution_count": 51,
   "metadata": {},
   "outputs": [
    {
     "data": {
      "image/png": "[encoded data removed]",
      "text/plain": [
       "<matplotlib.figure.Figure at 0x1af2a0b8080>"
      ]
     },
     "metadata": {},
     "output_type": "display_data"
    }
   ],
   "source": [
    "plt.plot(lim_data.index[2:], ecm_mod.predict(ecm_res.params).cumsum(), label = 'fitted')\n",
    "lim_data['log_PBOL_KPI'].diff().cumsum().plot(label = 'actual')\n",
    "plt.legend()\n",
    "plt.show()"
   ]
  },
  {
   "cell_type": "code",
   "execution_count": 52,
   "metadata": {},
   "outputs": [
    {
     "data": {
      "text/plain": [
       "(-3.3841878145343567,\n",
       " 0.011509864470541673,\n",
       " 7,\n",
       " 110,\n",
       " {'1%': -3.4912451337340342,\n",
       "  '10%': -2.5809876033057852,\n",
       "  '5%': -2.8881954545454547},\n",
       " -523.9165836255147)"
      ]
     },
     "execution_count": 52,
     "metadata": {},
     "output_type": "execute_result"
    }
   ],
   "source": [
    "adfuller(ecm_res.resid)"
   ]
  },
  {
   "cell_type": "code",
   "execution_count": 53,
   "metadata": {
    "collapsed": true,
    "jupyter": {
     "outputs_hidden": true
    }
   },
   "outputs": [],
   "source": [
    "#one-step predict\n",
    "pred = ecm_mod.predict(ecm_res.params, mod_data[['Dlog_PBOL_KPI_1','Dlog_BG_KPI_1','Dlog_K83_1', 'Dlog_RD_KPI_1', 'DRRT_1', 'Anundsen error_1','const','DKV1_step','DKV2_step','DKV3_step']][2:])\n",
    "pred = pd.Series(pred, index = mod_data.index[2:])"
   ]
  },
  {
   "cell_type": "code",
   "execution_count": 54,
   "metadata": {},
   "outputs": [
    {
     "data": {
      "image/png": "[encoded data removed]",
      "text/plain": [
       "<matplotlib.figure.Figure at 0x1af2a0b8c50>"
      ]
     },
     "metadata": {},
     "output_type": "display_data"
    }
   ],
   "source": [
    "#one-step predict\n",
    "pred['2008':].plot(label = 'Predict')\n",
    "mod_data['Dlog_PBOL_KPI']['2008':].plot(label = 'Actual')\n",
    "plt.legend()\n",
    "plt.show()"
   ]
  },
  {
   "cell_type": "code",
   "execution_count": 55,
   "metadata": {
    "collapsed": true,
    "jupyter": {
     "outputs_hidden": true
    }
   },
   "outputs": [],
   "source": [
    "#forecast er en predict-funksjon som bruker sine egne predikerte verdier til neste prediksjon av den avhengige variabel\n",
    "def forecast(params, exog, start, var):\n",
    "    new = exog.copy()\n",
    "    for i in range(start, len(exog)):\n",
    "        new[var].iloc[i] = np.dot(params, new.iloc[i-1])\n",
    "    return new[var]"
   ]
  },
  {
   "cell_type": "code",
   "execution_count": 56,
   "metadata": {},
   "outputs": [
    {
     "name": "stderr",
     "output_type": "stream",
     "text": [
      "C:\\Users\\i235hat\\AppData\\Local\\Continuum\\Anaconda3\\lib\\site-packages\\pandas\\core\\indexing.py:179: SettingWithCopyWarning: \n",
      "A value is trying to be set on a copy of a slice from a DataFrame\n",
      "\n",
      "See the caveats in the documentation: http://pandas.pydata.org/pandas-docs/stable/indexing.html#indexing-view-versus-copy\n",
      "  self._setitem_with_indexer(indexer, value)\n"
     ]
    }
   ],
   "source": [
    "forecast = forecast(ecm_res.params, mod_data[['Dlog_PBOL_KPI_1','Dlog_BG_KPI_1','Dlog_K83_1', 'Dlog_RD_KPI_1', 'DRRT_1', 'Anundsen error_1','const','DKV1_step','DKV2_step','DKV3_step']][2:], 92, 'Dlog_PBOL_KPI_1')"
   ]
  },
  {
   "cell_type": "code",
   "execution_count": 57,
   "metadata": {},
   "outputs": [
    {
     "data": {
      "image/png": "[encoded data removed]",
      "text/plain": [
       "<matplotlib.figure.Figure at 0x1af28b8e860>"
      ]
     },
     "metadata": {},
     "output_type": "display_data"
    }
   ],
   "source": [
    "forecast['2008':].plot(label = 'Forecast')\n",
    "pred['2008':].shift().plot(label = 'Predict')\n",
    "mod_data['Dlog_PBOL_KPI_1']['2008':].plot(label = 'actual')\n",
    "plt.legend()\n",
    "plt.show()"
   ]
  },
  {
   "cell_type": "code",
   "execution_count": 61,
   "metadata": {},
   "outputs": [
    {
     "data": {
      "text/plain": [
       "{'BF300': 'Private bruttofordringer',\n",
       " 'BG300': 'Privat gjeld',\n",
       " 'HUSBOL': 'Husholdningsektorens boligkapital',\n",
       " 'HUSFORMUE': 'Husholdningens formue',\n",
       " 'JKBOL': 'Investering boligkapital',\n",
       " 'K83': 'Boligkapitalbeholdning',\n",
       " 'KBOL': 'Boligkapital',\n",
       " 'KPI': 'KPI',\n",
       " 'NB': 'Antall personer i kilo',\n",
       " 'NFI300': 'Privat nettofinansinvestering',\n",
       " 'PBOL': 'Boligprisindeks',\n",
       " 'PC': 'Privat konsum',\n",
       " 'PJ10': 'Pris på investering i boligmasse',\n",
       " 'RAM300': 'Privat aksjeutbytte',\n",
       " 'RD300': 'Privat netto disponibel inntekt',\n",
       " 'RENPF300BO': 'Rente på lån med pant i bolig',\n",
       " 'SPARERAT': 'Husholdningens sparerate',\n",
       " 'TRTMNW': 'Gjennomsnitt marginal skatterate',\n",
       " 'XSBOLU': 'Igangsetting av bolig i kkvm'}"
      ]
     },
     "execution_count": 61,
     "metadata": {},
     "output_type": "execute_result"
    }
   ],
   "source": [
    "begrep"
   ]
  },
  {
   "cell_type": "markdown",
   "metadata": {},
   "source": [
    "# Sammenheng rd = const + alpha*ww + beta*nb"
   ]
  },
  {
   "cell_type": "code",
   "execution_count": 152,
   "metadata": {},
   "outputs": [
    {
     "data": {
      "text/html": [
       "<table class=\"simpletable\">\n",
       "<caption>OLS Regression Results</caption>\n",
       "<tr>\n",
       "  <th>Dep. Variable:</th>     <td>np.log(Adj_RD)</td>  <th>  R-squared:         </th> <td>   0.999</td> \n",
       "</tr>\n",
       "<tr>\n",
       "  <th>Model:</th>                   <td>OLS</td>       <th>  Adj. R-squared:    </th> <td>   0.999</td> \n",
       "</tr>\n",
       "<tr>\n",
       "  <th>Method:</th>             <td>Least Squares</td>  <th>  F-statistic:       </th> <td>3.403e+04</td>\n",
       "</tr>\n",
       "<tr>\n",
       "  <th>Date:</th>             <td>Wed, 28 Jun 2017</td> <th>  Prob (F-statistic):</th> <td>3.92e-68</td> \n",
       "</tr>\n",
       "<tr>\n",
       "  <th>Time:</th>                 <td>16:13:14</td>     <th>  Log-Likelihood:    </th> <td>  104.59</td> \n",
       "</tr>\n",
       "<tr>\n",
       "  <th>No. Observations:</th>      <td>    45</td>      <th>  AIC:               </th> <td>  -203.2</td> \n",
       "</tr>\n",
       "<tr>\n",
       "  <th>Df Residuals:</th>          <td>    42</td>      <th>  BIC:               </th> <td>  -197.8</td> \n",
       "</tr>\n",
       "<tr>\n",
       "  <th>Df Model:</th>              <td>     2</td>      <th>                     </th>     <td> </td>    \n",
       "</tr>\n",
       "<tr>\n",
       "  <th>Covariance Type:</th>      <td>nonrobust</td>    <th>                     </th>     <td> </td>    \n",
       "</tr>\n",
       "</table>\n",
       "<table class=\"simpletable\">\n",
       "<tr>\n",
       "       <td></td>         <th>coef</th>     <th>std err</th>      <th>t</th>      <th>P>|t|</th>  <th>[0.025</th>    <th>0.975]</th>  \n",
       "</tr>\n",
       "<tr>\n",
       "  <th>Intercept</th>  <td>    1.9103</td> <td>    1.071</td> <td>    1.784</td> <td> 0.082</td> <td>   -0.250</td> <td>    4.071</td>\n",
       "</tr>\n",
       "<tr>\n",
       "  <th>np.log(WW)</th> <td>    1.1546</td> <td>    0.013</td> <td>   91.338</td> <td> 0.000</td> <td>    1.129</td> <td>    1.180</td>\n",
       "</tr>\n",
       "<tr>\n",
       "  <th>np.log(NB)</th> <td>    0.4155</td> <td>    0.135</td> <td>    3.078</td> <td> 0.004</td> <td>    0.143</td> <td>    0.688</td>\n",
       "</tr>\n",
       "</table>\n",
       "<table class=\"simpletable\">\n",
       "<tr>\n",
       "  <th>Omnibus:</th>       <td> 0.025</td> <th>  Durbin-Watson:     </th> <td>   0.741</td>\n",
       "</tr>\n",
       "<tr>\n",
       "  <th>Prob(Omnibus):</th> <td> 0.988</td> <th>  Jarque-Bera (JB):  </th> <td>   0.059</td>\n",
       "</tr>\n",
       "<tr>\n",
       "  <th>Skew:</th>          <td>-0.018</td> <th>  Prob(JB):          </th> <td>   0.971</td>\n",
       "</tr>\n",
       "<tr>\n",
       "  <th>Kurtosis:</th>      <td> 2.826</td> <th>  Cond. No.          </th> <td>2.92e+03</td>\n",
       "</tr>\n",
       "</table>"
      ],
      "text/plain": [
       "<class 'statsmodels.iolib.summary.Summary'>\n",
       "\"\"\"\n",
       "                            OLS Regression Results                            \n",
       "==============================================================================\n",
       "Dep. Variable:         np.log(Adj_RD)   R-squared:                       0.999\n",
       "Model:                            OLS   Adj. R-squared:                  0.999\n",
       "Method:                 Least Squares   F-statistic:                 3.403e+04\n",
       "Date:                Wed, 28 Jun 2017   Prob (F-statistic):           3.92e-68\n",
       "Time:                        16:13:14   Log-Likelihood:                 104.59\n",
       "No. Observations:                  45   AIC:                            -203.2\n",
       "Df Residuals:                      42   BIC:                            -197.8\n",
       "Df Model:                           2                                         \n",
       "Covariance Type:            nonrobust                                         \n",
       "==============================================================================\n",
       "                 coef    std err          t      P>|t|      [0.025      0.975]\n",
       "------------------------------------------------------------------------------\n",
       "Intercept      1.9103      1.071      1.784      0.082      -0.250       4.071\n",
       "np.log(WW)     1.1546      0.013     91.338      0.000       1.129       1.180\n",
       "np.log(NB)     0.4155      0.135      3.078      0.004       0.143       0.688\n",
       "==============================================================================\n",
       "Omnibus:                        0.025   Durbin-Watson:                   0.741\n",
       "Prob(Omnibus):                  0.988   Jarque-Bera (JB):                0.059\n",
       "Skew:                          -0.018   Prob(JB):                        0.971\n",
       "Kurtosis:                       2.826   Cond. No.                     2.92e+03\n",
       "==============================================================================\n",
       "\n",
       "Warnings:\n",
       "[1] Standard Errors assume that the covariance matrix of the errors is correctly specified.\n",
       "[2] The condition number is large, 2.92e+03. This might indicate that there are\n",
       "strong multicollinearity or other numerical problems.\n",
       "\"\"\""
      ]
     },
     "execution_count": 152,
     "metadata": {},
     "output_type": "execute_result"
    }
   ],
   "source": [
    "data['Adj_RD'] = data['RD300'] - data['RAM300']\n",
    "res = smf.ols('np.log(Adj_RD) - asd ~ 1 + np.log(WW) + np.log(NB)', data=data, missing = 'drop').fit()\n",
    "res.summary()"
   ]
  },
  {
   "cell_type": "code",
   "execution_count": 149,
   "metadata": {},
   "outputs": [
    {
     "data": {
      "text/plain": [
       "(-2.9671556994692092,\n",
       " 0.038077579879856036,\n",
       " 4,\n",
       " 40,\n",
       " {'1%': -3.6055648906249997,\n",
       "  '10%': -2.6069856250000001,\n",
       "  '5%': -2.9370693750000001},\n",
       " -174.42207859347189)"
      ]
     },
     "execution_count": 149,
     "metadata": {},
     "output_type": "execute_result"
    }
   ],
   "source": [
    "adfuller(res.resid)"
   ]
  },
  {
   "cell_type": "code",
   "execution_count": 150,
   "metadata": {},
   "outputs": [
    {
     "data": {
      "image/png": "[encoded data removed]",
      "text/plain": [
       "<matplotlib.figure.Figure at 0x1af2b42c668>"
      ]
     },
     "metadata": {},
     "output_type": "display_data"
    }
   ],
   "source": [
    "res.resid.plot()\n",
    "plt.show()"
   ]
  },
  {
   "cell_type": "code",
   "execution_count": 151,
   "metadata": {},
   "outputs": [
    {
     "data": {
      "image/png": "[encoded data removed]",
      "text/plain": [
       "<matplotlib.figure.Figure at 0x1af2b681048>"
      ]
     },
     "metadata": {},
     "output_type": "display_data"
    }
   ],
   "source": [
    "np.exp(res.fittedvalues).plot(label = 'Fitted')\n",
    "(data['RD300']-data['RAM300']).plot()\n",
    "plt.legend()\n",
    "plt.show()"
   ]
  },
  {
   "cell_type": "code",
   "execution_count": null,
   "metadata": {
    "collapsed": true,
    "jupyter": {
     "outputs_hidden": true
    }
   },
   "outputs": [],
   "source": []
  }
 ],
 "metadata": {
  "kernelspec": {
   "display_name": "Python 3",
   "language": "python",
   "name": "python3"
  },
  "language_info": {
   "codemirror_mode": {
    "name": "ipython",
    "version": 3
   },
   "file_extension": ".py",
   "mimetype": "text/x-python",
   "name": "python",
   "nbconvert_exporter": "python",
   "pygments_lexer": "ipython3",
   "version": "3.7.4"
  }
 },
 "nbformat": 4,
 "nbformat_minor": 4
}
