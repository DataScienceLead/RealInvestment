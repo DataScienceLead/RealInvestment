{
 "cells": [
  {
   "cell_type": "markdown",
   "metadata": {},
   "source": [
    "# Builing a time series model\n",
    "* Joakim Blix Prestmo\n",
    "* 09.05.2018\n",
    "## Models\n",
    "* Starting with error correction model\n",
    "* Continue with a GMM apporach\n",
    "* Finishing with a Threashold model"
   ]
  },
  {
   "cell_type": "code",
   "execution_count": 1,
   "metadata": {},
   "outputs": [
    {
     "name": "stderr",
     "output_type": "stream",
     "text": [
      "C:\\Users\\i235jbp\\Anaconda3\\lib\\site-packages\\statsmodels\\compat\\pandas.py:56: FutureWarning: The pandas.core.datetools module is deprecated and will be removed in a future version. Please use the pandas.tseries module instead.\n",
      "  from pandas.core import datetools\n"
     ]
    }
   ],
   "source": [
    "import pandas as pd\n",
    "import numpy as np\n",
    "import matplotlib.pyplot as plt\n",
    "\n",
    "import statsmodels.formula.api as smf\n",
    "import statsmodels.api as sm\n",
    "\n",
    "from statsmodels.sandbox.regression import gmm\n",
    "\n",
    "from statsmodels.tsa.vector_ar.var_model import VAR\n",
    "\n",
    "#from arch.unitroot import DFGLS"
   ]
  },
  {
   "cell_type": "code",
   "execution_count": 7,
   "metadata": {
    "collapsed": true,
    "jupyter": {
     "outputs_hidden": true
    }
   },
   "outputs": [],
   "source": [
    "df = pd.read_csv('..\\samlet_datasett_08_07_2018.csv')\n"
   ]
  },
  {
   "cell_type": "code",
   "execution_count": 8,
   "metadata": {
    "collapsed": true,
    "jupyter": {
     "outputs_hidden": true
    }
   },
   "outputs": [],
   "source": [
    "dates = pd.date_range('19840101', periods=132, freq='Q')\n",
    "\n",
    "#dates = pd.date_range('20130101', periods=4, freq='MS')\n",
    "df.index=dates\n"
   ]
  },
  {
   "cell_type": "code",
   "execution_count": 9,
   "metadata": {
    "collapsed": true,
    "jupyter": {
     "outputs_hidden": true
    }
   },
   "outputs": [],
   "source": [
    "df.index = pd.DatetimeIndex(df.index)\n",
    "df.drop('Unnamed: 0', 1, inplace=True)"
   ]
  },
  {
   "cell_type": "code",
   "execution_count": 10,
   "metadata": {},
   "outputs": [
    {
     "data": {
      "text/html": [
       "<div>\n",
       "<style scoped>\n",
       "    .dataframe tbody tr th:only-of-type {\n",
       "        vertical-align: middle;\n",
       "    }\n",
       "\n",
       "    .dataframe tbody tr th {\n",
       "        vertical-align: top;\n",
       "    }\n",
       "\n",
       "    .dataframe thead th {\n",
       "        text-align: right;\n",
       "    }\n",
       "</style>\n",
       "<table border=\"1\" class=\"dataframe\">\n",
       "  <thead>\n",
       "    <tr style=\"text-align: right;\">\n",
       "      <th></th>\n",
       "      <th>K1015</th>\n",
       "      <th>K4015</th>\n",
       "      <th>K5015</th>\n",
       "      <th>K1025</th>\n",
       "      <th>K4025</th>\n",
       "      <th>K5025</th>\n",
       "      <th>K1030</th>\n",
       "      <th>K4030</th>\n",
       "      <th>K5030</th>\n",
       "      <th>K1045</th>\n",
       "      <th>...</th>\n",
       "      <th>DRRT</th>\n",
       "      <th>DRRT_1</th>\n",
       "      <th>DRRT_2</th>\n",
       "      <th>DRRT_3</th>\n",
       "      <th>DRRT_4</th>\n",
       "      <th>DUC</th>\n",
       "      <th>DUC_1</th>\n",
       "      <th>DUC_2</th>\n",
       "      <th>DUC_3</th>\n",
       "      <th>DUC_4</th>\n",
       "    </tr>\n",
       "  </thead>\n",
       "  <tbody>\n",
       "    <tr>\n",
       "      <th>2014-12-31</th>\n",
       "      <td>45008.63335</td>\n",
       "      <td>1228.63344</td>\n",
       "      <td>26863.91132</td>\n",
       "      <td>59655.72159</td>\n",
       "      <td>1861.50703</td>\n",
       "      <td>31505.95344</td>\n",
       "      <td>57451.07448</td>\n",
       "      <td>403.80079</td>\n",
       "      <td>33492.49197</td>\n",
       "      <td>32638.62799</td>\n",
       "      <td>...</td>\n",
       "      <td>0.001007</td>\n",
       "      <td>-0.002964</td>\n",
       "      <td>0.002853</td>\n",
       "      <td>0.001899</td>\n",
       "      <td>0.006606</td>\n",
       "      <td>-0.551075</td>\n",
       "      <td>0.210360</td>\n",
       "      <td>1.500469</td>\n",
       "      <td>-2.615974</td>\n",
       "      <td>-1.524003</td>\n",
       "    </tr>\n",
       "    <tr>\n",
       "      <th>2015-03-31</th>\n",
       "      <td>44710.30725</td>\n",
       "      <td>1191.80247</td>\n",
       "      <td>26561.60836</td>\n",
       "      <td>59232.71540</td>\n",
       "      <td>1818.56478</td>\n",
       "      <td>30824.29604</td>\n",
       "      <td>57026.93180</td>\n",
       "      <td>393.97402</td>\n",
       "      <td>33001.70482</td>\n",
       "      <td>32477.86500</td>\n",
       "      <td>...</td>\n",
       "      <td>-0.000094</td>\n",
       "      <td>0.001007</td>\n",
       "      <td>-0.002964</td>\n",
       "      <td>0.002853</td>\n",
       "      <td>0.001899</td>\n",
       "      <td>-0.863427</td>\n",
       "      <td>-0.551075</td>\n",
       "      <td>0.210360</td>\n",
       "      <td>1.500469</td>\n",
       "      <td>-2.615974</td>\n",
       "    </tr>\n",
       "    <tr>\n",
       "      <th>2015-06-30</th>\n",
       "      <td>44660.74877</td>\n",
       "      <td>1164.56761</td>\n",
       "      <td>26428.23710</td>\n",
       "      <td>59028.06353</td>\n",
       "      <td>1802.96125</td>\n",
       "      <td>30519.94567</td>\n",
       "      <td>56712.87368</td>\n",
       "      <td>397.61474</td>\n",
       "      <td>32731.88960</td>\n",
       "      <td>32285.78419</td>\n",
       "      <td>...</td>\n",
       "      <td>-0.002950</td>\n",
       "      <td>-0.000094</td>\n",
       "      <td>0.001007</td>\n",
       "      <td>-0.002964</td>\n",
       "      <td>0.002853</td>\n",
       "      <td>-0.060014</td>\n",
       "      <td>-0.863427</td>\n",
       "      <td>-0.551075</td>\n",
       "      <td>0.210360</td>\n",
       "      <td>1.500469</td>\n",
       "    </tr>\n",
       "    <tr>\n",
       "      <th>2015-09-30</th>\n",
       "      <td>44585.25589</td>\n",
       "      <td>1133.09735</td>\n",
       "      <td>26149.56614</td>\n",
       "      <td>58657.08984</td>\n",
       "      <td>1754.94256</td>\n",
       "      <td>29993.58201</td>\n",
       "      <td>56477.97224</td>\n",
       "      <td>415.79142</td>\n",
       "      <td>32508.87342</td>\n",
       "      <td>32054.57948</td>\n",
       "      <td>...</td>\n",
       "      <td>0.002414</td>\n",
       "      <td>-0.002950</td>\n",
       "      <td>-0.000094</td>\n",
       "      <td>0.001007</td>\n",
       "      <td>-0.002964</td>\n",
       "      <td>-0.979236</td>\n",
       "      <td>-0.060014</td>\n",
       "      <td>-0.863427</td>\n",
       "      <td>-0.551075</td>\n",
       "      <td>0.210360</td>\n",
       "    </tr>\n",
       "    <tr>\n",
       "      <th>2015-12-31</th>\n",
       "      <td>44556.66137</td>\n",
       "      <td>1136.89896</td>\n",
       "      <td>26177.23213</td>\n",
       "      <td>58369.50351</td>\n",
       "      <td>1716.33108</td>\n",
       "      <td>29789.86767</td>\n",
       "      <td>56254.37121</td>\n",
       "      <td>418.17763</td>\n",
       "      <td>32914.92901</td>\n",
       "      <td>31864.73983</td>\n",
       "      <td>...</td>\n",
       "      <td>-0.005567</td>\n",
       "      <td>0.002414</td>\n",
       "      <td>-0.002950</td>\n",
       "      <td>-0.000094</td>\n",
       "      <td>0.001007</td>\n",
       "      <td>0.102864</td>\n",
       "      <td>-0.979236</td>\n",
       "      <td>-0.060014</td>\n",
       "      <td>-0.863427</td>\n",
       "      <td>-0.551075</td>\n",
       "    </tr>\n",
       "  </tbody>\n",
       "</table>\n",
       "<p>5 rows × 535 columns</p>\n",
       "</div>"
      ],
      "text/plain": [
       "                  K1015       K4015        K5015        K1025       K4025  \\\n",
       "2014-12-31  45008.63335  1228.63344  26863.91132  59655.72159  1861.50703   \n",
       "2015-03-31  44710.30725  1191.80247  26561.60836  59232.71540  1818.56478   \n",
       "2015-06-30  44660.74877  1164.56761  26428.23710  59028.06353  1802.96125   \n",
       "2015-09-30  44585.25589  1133.09735  26149.56614  58657.08984  1754.94256   \n",
       "2015-12-31  44556.66137  1136.89896  26177.23213  58369.50351  1716.33108   \n",
       "\n",
       "                  K5025        K1030      K4030        K5030        K1045  \\\n",
       "2014-12-31  31505.95344  57451.07448  403.80079  33492.49197  32638.62799   \n",
       "2015-03-31  30824.29604  57026.93180  393.97402  33001.70482  32477.86500   \n",
       "2015-06-30  30519.94567  56712.87368  397.61474  32731.88960  32285.78419   \n",
       "2015-09-30  29993.58201  56477.97224  415.79142  32508.87342  32054.57948   \n",
       "2015-12-31  29789.86767  56254.37121  418.17763  32914.92901  31864.73983   \n",
       "\n",
       "              ...         DRRT    DRRT_1    DRRT_2    DRRT_3    DRRT_4  \\\n",
       "2014-12-31    ...     0.001007 -0.002964  0.002853  0.001899  0.006606   \n",
       "2015-03-31    ...    -0.000094  0.001007 -0.002964  0.002853  0.001899   \n",
       "2015-06-30    ...    -0.002950 -0.000094  0.001007 -0.002964  0.002853   \n",
       "2015-09-30    ...     0.002414 -0.002950 -0.000094  0.001007 -0.002964   \n",
       "2015-12-31    ...    -0.005567  0.002414 -0.002950 -0.000094  0.001007   \n",
       "\n",
       "                 DUC     DUC_1     DUC_2     DUC_3     DUC_4  \n",
       "2014-12-31 -0.551075  0.210360  1.500469 -2.615974 -1.524003  \n",
       "2015-03-31 -0.863427 -0.551075  0.210360  1.500469 -2.615974  \n",
       "2015-06-30 -0.060014 -0.863427 -0.551075  0.210360  1.500469  \n",
       "2015-09-30 -0.979236 -0.060014 -0.863427 -0.551075  0.210360  \n",
       "2015-12-31  0.102864 -0.979236 -0.060014 -0.863427 -0.551075  \n",
       "\n",
       "[5 rows x 535 columns]"
      ]
     },
     "execution_count": 10,
     "metadata": {},
     "output_type": "execute_result"
    }
   ],
   "source": [
    "ols_data_est=df[:-4]\n",
    "ols_data_est.tail()"
   ]
  },
  {
   "cell_type": "code",
   "execution_count": 12,
   "metadata": {},
   "outputs": [
    {
     "data": {
      "image/png": "[encoded data removed]",
      "text/plain": [
       "<matplotlib.figure.Figure at 0x1ff2262cfd0>"
      ]
     },
     "metadata": {},
     "output_type": "display_data"
    }
   ],
   "source": [
    "df['RRT'].plot()\n",
    "(df['REN100']-df['KPI'].diff(4)).plot()\n",
    "plt.show()"
   ]
  },
  {
   "cell_type": "code",
   "execution_count": 23,
   "metadata": {},
   "outputs": [],
   "source": [
    "df_dkv=pd.get_dummies(df.index.quarter, prefix=\"DKV\")\n",
    "df_dkv.index=dates"
   ]
  },
  {
   "cell_type": "code",
   "execution_count": 27,
   "metadata": {},
   "outputs": [
    {
     "data": {
      "text/html": [
       "<div>\n",
       "<style scoped>\n",
       "    .dataframe tbody tr th:only-of-type {\n",
       "        vertical-align: middle;\n",
       "    }\n",
       "\n",
       "    .dataframe tbody tr th {\n",
       "        vertical-align: top;\n",
       "    }\n",
       "\n",
       "    .dataframe thead th {\n",
       "        text-align: right;\n",
       "    }\n",
       "</style>\n",
       "<table border=\"1\" class=\"dataframe\">\n",
       "  <thead>\n",
       "    <tr style=\"text-align: right;\">\n",
       "      <th></th>\n",
       "      <th>K1015</th>\n",
       "      <th>K4015</th>\n",
       "      <th>K5015</th>\n",
       "      <th>K1025</th>\n",
       "      <th>K4025</th>\n",
       "      <th>K5025</th>\n",
       "      <th>K1030</th>\n",
       "      <th>K4030</th>\n",
       "      <th>K5030</th>\n",
       "      <th>K1045</th>\n",
       "      <th>...</th>\n",
       "      <th>DRRT_4</th>\n",
       "      <th>DUC</th>\n",
       "      <th>DUC_1</th>\n",
       "      <th>DUC_2</th>\n",
       "      <th>DUC_3</th>\n",
       "      <th>DUC_4</th>\n",
       "      <th>DKV_1</th>\n",
       "      <th>DKV_2</th>\n",
       "      <th>DKV_3</th>\n",
       "      <th>DKV_4</th>\n",
       "    </tr>\n",
       "  </thead>\n",
       "  <tbody>\n",
       "    <tr>\n",
       "      <th>1984-03-31</th>\n",
       "      <td>40587.46941</td>\n",
       "      <td>2037.32411</td>\n",
       "      <td>14324.01745</td>\n",
       "      <td>53830.59095</td>\n",
       "      <td>2163.89247</td>\n",
       "      <td>25533.96959</td>\n",
       "      <td>50855.79793</td>\n",
       "      <td>139.07458</td>\n",
       "      <td>40625.98823</td>\n",
       "      <td>54639.35207</td>\n",
       "      <td>...</td>\n",
       "      <td>NaN</td>\n",
       "      <td>NaN</td>\n",
       "      <td>NaN</td>\n",
       "      <td>NaN</td>\n",
       "      <td>NaN</td>\n",
       "      <td>NaN</td>\n",
       "      <td>1</td>\n",
       "      <td>0</td>\n",
       "      <td>0</td>\n",
       "      <td>0</td>\n",
       "    </tr>\n",
       "    <tr>\n",
       "      <th>1984-06-30</th>\n",
       "      <td>40711.26442</td>\n",
       "      <td>2025.30404</td>\n",
       "      <td>14259.90152</td>\n",
       "      <td>53880.47646</td>\n",
       "      <td>2129.62892</td>\n",
       "      <td>25436.76146</td>\n",
       "      <td>50786.99933</td>\n",
       "      <td>143.95469</td>\n",
       "      <td>40412.69433</td>\n",
       "      <td>54548.34942</td>\n",
       "      <td>...</td>\n",
       "      <td>NaN</td>\n",
       "      <td>NaN</td>\n",
       "      <td>NaN</td>\n",
       "      <td>NaN</td>\n",
       "      <td>NaN</td>\n",
       "      <td>NaN</td>\n",
       "      <td>0</td>\n",
       "      <td>1</td>\n",
       "      <td>0</td>\n",
       "      <td>0</td>\n",
       "    </tr>\n",
       "    <tr>\n",
       "      <th>1984-09-30</th>\n",
       "      <td>40867.62893</td>\n",
       "      <td>2004.60328</td>\n",
       "      <td>14185.49137</td>\n",
       "      <td>54117.32448</td>\n",
       "      <td>2095.85917</td>\n",
       "      <td>25430.38127</td>\n",
       "      <td>50796.56177</td>\n",
       "      <td>147.85627</td>\n",
       "      <td>40368.99768</td>\n",
       "      <td>54534.04365</td>\n",
       "      <td>...</td>\n",
       "      <td>NaN</td>\n",
       "      <td>NaN</td>\n",
       "      <td>NaN</td>\n",
       "      <td>NaN</td>\n",
       "      <td>NaN</td>\n",
       "      <td>NaN</td>\n",
       "      <td>0</td>\n",
       "      <td>0</td>\n",
       "      <td>1</td>\n",
       "      <td>0</td>\n",
       "    </tr>\n",
       "    <tr>\n",
       "      <th>1984-12-31</th>\n",
       "      <td>41393.02563</td>\n",
       "      <td>1976.91600</td>\n",
       "      <td>14322.99561</td>\n",
       "      <td>54425.35767</td>\n",
       "      <td>2087.38581</td>\n",
       "      <td>25472.50092</td>\n",
       "      <td>50852.66113</td>\n",
       "      <td>148.60672</td>\n",
       "      <td>40608.06934</td>\n",
       "      <td>54688.84131</td>\n",
       "      <td>...</td>\n",
       "      <td>NaN</td>\n",
       "      <td>NaN</td>\n",
       "      <td>NaN</td>\n",
       "      <td>NaN</td>\n",
       "      <td>NaN</td>\n",
       "      <td>NaN</td>\n",
       "      <td>0</td>\n",
       "      <td>0</td>\n",
       "      <td>0</td>\n",
       "      <td>1</td>\n",
       "    </tr>\n",
       "    <tr>\n",
       "      <th>1985-03-31</th>\n",
       "      <td>41222.82523</td>\n",
       "      <td>1937.98372</td>\n",
       "      <td>14146.12024</td>\n",
       "      <td>54287.48845</td>\n",
       "      <td>2062.41218</td>\n",
       "      <td>25203.69988</td>\n",
       "      <td>50734.42618</td>\n",
       "      <td>141.79378</td>\n",
       "      <td>40356.67348</td>\n",
       "      <td>55251.25983</td>\n",
       "      <td>...</td>\n",
       "      <td>NaN</td>\n",
       "      <td>NaN</td>\n",
       "      <td>NaN</td>\n",
       "      <td>NaN</td>\n",
       "      <td>NaN</td>\n",
       "      <td>NaN</td>\n",
       "      <td>1</td>\n",
       "      <td>0</td>\n",
       "      <td>0</td>\n",
       "      <td>0</td>\n",
       "    </tr>\n",
       "  </tbody>\n",
       "</table>\n",
       "<p>5 rows × 539 columns</p>\n",
       "</div>"
      ],
      "text/plain": [
       "                  K1015       K4015        K5015        K1025       K4025  \\\n",
       "1984-03-31  40587.46941  2037.32411  14324.01745  53830.59095  2163.89247   \n",
       "1984-06-30  40711.26442  2025.30404  14259.90152  53880.47646  2129.62892   \n",
       "1984-09-30  40867.62893  2004.60328  14185.49137  54117.32448  2095.85917   \n",
       "1984-12-31  41393.02563  1976.91600  14322.99561  54425.35767  2087.38581   \n",
       "1985-03-31  41222.82523  1937.98372  14146.12024  54287.48845  2062.41218   \n",
       "\n",
       "                  K5025        K1030      K4030        K5030        K1045  \\\n",
       "1984-03-31  25533.96959  50855.79793  139.07458  40625.98823  54639.35207   \n",
       "1984-06-30  25436.76146  50786.99933  143.95469  40412.69433  54548.34942   \n",
       "1984-09-30  25430.38127  50796.56177  147.85627  40368.99768  54534.04365   \n",
       "1984-12-31  25472.50092  50852.66113  148.60672  40608.06934  54688.84131   \n",
       "1985-03-31  25203.69988  50734.42618  141.79378  40356.67348  55251.25983   \n",
       "\n",
       "            ...    DRRT_4  DUC  DUC_1  DUC_2  DUC_3  DUC_4  DKV_1  DKV_2  \\\n",
       "1984-03-31  ...       NaN  NaN    NaN    NaN    NaN    NaN      1      0   \n",
       "1984-06-30  ...       NaN  NaN    NaN    NaN    NaN    NaN      0      1   \n",
       "1984-09-30  ...       NaN  NaN    NaN    NaN    NaN    NaN      0      0   \n",
       "1984-12-31  ...       NaN  NaN    NaN    NaN    NaN    NaN      0      0   \n",
       "1985-03-31  ...       NaN  NaN    NaN    NaN    NaN    NaN      1      0   \n",
       "\n",
       "            DKV_3  DKV_4  \n",
       "1984-03-31      0      0  \n",
       "1984-06-30      0      0  \n",
       "1984-09-30      1      0  \n",
       "1984-12-31      0      1  \n",
       "1985-03-31      0      0  \n",
       "\n",
       "[5 rows x 539 columns]"
      ]
     },
     "execution_count": 27,
     "metadata": {},
     "output_type": "execute_result"
    }
   ],
   "source": [
    "df = pd.concat([df, df_dkv], axis=1)\n",
    "df.head()"
   ]
  },
  {
   "cell_type": "markdown",
   "metadata": {},
   "source": [
    "# Error correction"
   ]
  },
  {
   "cell_type": "code",
   "execution_count": 30,
   "metadata": {},
   "outputs": [
    {
     "name": "stdout",
     "output_type": "stream",
     "text": [
      "                            OLS Regression Results                            \n",
      "==============================================================================\n",
      "Dep. Variable:               Dlog_JK3   R-squared:                       0.874\n",
      "Model:                            OLS   Adj. R-squared:                  0.863\n",
      "Method:                 Least Squares   F-statistic:                     78.60\n",
      "Date:                Sun, 08 Jul 2018   Prob (F-statistic):           3.86e-46\n",
      "Time:                        20:50:50   Log-Likelihood:                 126.45\n",
      "No. Observations:                 124   AIC:                            -230.9\n",
      "Df Residuals:                     113   BIC:                            -199.9\n",
      "Df Model:                          10                                         \n",
      "Covariance Type:            nonrobust                                         \n",
      "================================================================================\n",
      "                   coef    std err          t      P>|t|      [0.025      0.975]\n",
      "--------------------------------------------------------------------------------\n",
      "Intercept        1.6692      0.576      2.898      0.005       0.528       2.810\n",
      "Dlog_JK3_3       0.1586      0.088      1.811      0.073      -0.015       0.332\n",
      "Dlog_X3_3        0.3979      0.265      1.501      0.136      -0.127       0.923\n",
      "Dlog_YE_Y3_1    -0.0214      0.018     -1.217      0.226      -0.056       0.013\n",
      "log_JK3_1       -0.2540      0.057     -4.479      0.000      -0.366      -0.142\n",
      "log_X3_1         0.0782      0.044      1.766      0.080      -0.010       0.166\n",
      "log_YE_Y3_3      0.0236      0.023      1.009      0.315      -0.023       0.070\n",
      "S_1             -5.8916      3.166     -1.861      0.065     -12.165       0.381\n",
      "DKV_1           -0.5852      0.056    -10.479      0.000      -0.696      -0.475\n",
      "DKV_2           -0.0991      0.047     -2.088      0.039      -0.193      -0.005\n",
      "DKV_3           -0.3241      0.059     -5.458      0.000      -0.442      -0.206\n",
      "==============================================================================\n",
      "Omnibus:                        5.486   Durbin-Watson:                   2.151\n",
      "Prob(Omnibus):                  0.064   Jarque-Bera (JB):                6.719\n",
      "Skew:                          -0.225   Prob(JB):                       0.0348\n",
      "Kurtosis:                       4.047   Cond. No.                     5.83e+03\n",
      "==============================================================================\n",
      "\n",
      "Warnings:\n",
      "[1] Standard Errors assume that the covariance matrix of the errors is correctly specified.\n",
      "[2] The condition number is large, 5.83e+03. This might indicate that there are\n",
      "strong multicollinearity or other numerical problems.\n"
     ]
    }
   ],
   "source": [
    "formel = 'Dlog_JK3 ~ 1 + Dlog_JK3_3 +Dlog_X3_3 + Dlog_YE_Y3_1+ log_JK3_1 + log_X3_1 + log_YE_Y3_3 + S_1 + DKV_1 + DKV_2 + DKV_3'\n",
    "\n",
    "ECmodel = smf.ols(formel, data = df)\n",
    "result = ECmodel.fit()\n",
    "print(result.summary())"
   ]
  },
  {
   "cell_type": "markdown",
   "metadata": {},
   "source": [
    "# GMM "
   ]
  },
  {
   "cell_type": "code",
   "execution_count": 31,
   "metadata": {
    "collapsed": true,
    "jupyter": {
     "outputs_hidden": true
    }
   },
   "outputs": [],
   "source": [
    "df['log_JK3_lead']=df['log_JK3'].shift(-1)\n",
    "df['RRT_lead']=df['RRT'].shift(-1)\n",
    "df['const']=1"
   ]
  },
  {
   "cell_type": "code",
   "execution_count": 32,
   "metadata": {
    "collapsed": true,
    "jupyter": {
     "outputs_hidden": true
    }
   },
   "outputs": [],
   "source": [
    "endog_df=df[['RRT_lead', 'log_JK3_lead', 'log_JK3']]\n",
    "exog_df = endog_df #df[['RRT','S',  'log_YE_Y3', 'log_X3' ]]"
   ]
  },
  {
   "cell_type": "code",
   "execution_count": 33,
   "metadata": {
    "collapsed": true,
    "jupyter": {
     "outputs_hidden": true
    }
   },
   "outputs": [],
   "source": [
    "instrument_df = df[['RRT_1', 'RRT_2', 'log_JK3_1', 'Dlog_JK3_1', 'Dlog_JK3_2',\n",
    "                           'const']]"
   ]
  },
  {
   "cell_type": "code",
   "execution_count": 34,
   "metadata": {
    "collapsed": true,
    "jupyter": {
     "outputs_hidden": true
    }
   },
   "outputs": [],
   "source": [
    "endog, exog, instrument  = map(np.asarray, [endog_df, exog_df, instrument_df])"
   ]
  },
  {
   "cell_type": "code",
   "execution_count": 35,
   "metadata": {
    "collapsed": true,
    "jupyter": {
     "outputs_hidden": true
    }
   },
   "outputs": [],
   "source": [
    "def moment_invest(params, exog):\n",
    "    beta, gamma = params\n",
    "    #endog, exog = args\n",
    "    RRT_lead, log_JK3_lead, log_JK3 = exog.T  # unwrap iterable (ndarray)\n",
    "    \n",
    "    # 2nd part of moment condition without instrument    \n",
    "    predicted = beta * (1. + RRT_lead) * np.power(log_JK3_lead / log_JK3, gamma)\n",
    "    return predicted\n",
    "\n",
    "\n"
   ]
  },
  {
   "cell_type": "code",
   "execution_count": 36,
   "metadata": {},
   "outputs": [
    {
     "name": "stderr",
     "output_type": "stream",
     "text": [
      "C:\\Users\\i235jbp\\Anaconda3\\lib\\site-packages\\statsmodels\\base\\data.py:131: RuntimeWarning: invalid value encountered in reduce\n",
      "  const_idx = np.where(self.exog.ptp(axis=0) == 0)[0].squeeze()\n",
      "C:\\Users\\i235jbp\\Anaconda3\\lib\\site-packages\\numpy\\core\\_methods.py:26: RuntimeWarning: invalid value encountered in reduce\n",
      "  return umr_maximum(a, axis, None, out, keepdims)\n",
      "C:\\Users\\i235jbp\\Anaconda3\\lib\\site-packages\\numpy\\linalg\\linalg.py:1647: RuntimeWarning: invalid value encountered in greater\n",
      "  return count_nonzero(S > tol, axis=-1)\n"
     ]
    }
   ],
   "source": [
    "endog2 = np.ones(exog.shape[0])    \n",
    "mod = gmm.NonlinearIVGMM(endog2, exog, instrument, moment_invest)\n",
    "#w0inv = np.dot(instrument.T, instrument) / len(endog2)  \n",
    "#res2_hac4_2s = mod2.fit([1,-1], maxiter=2, inv_weights=w0inv, weights_method='hac', wargs={'maxlag':4})"
   ]
  },
  {
   "cell_type": "markdown",
   "metadata": {},
   "source": [
    "# Maximum likelihood"
   ]
  },
  {
   "cell_type": "code",
   "execution_count": null,
   "metadata": {
    "collapsed": true,
    "jupyter": {
     "outputs_hidden": true
    }
   },
   "outputs": [],
   "source": []
  },
  {
   "cell_type": "code",
   "execution_count": null,
   "metadata": {
    "collapsed": true,
    "jupyter": {
     "outputs_hidden": true
    }
   },
   "outputs": [],
   "source": []
  },
  {
   "cell_type": "code",
   "execution_count": null,
   "metadata": {
    "collapsed": true,
    "jupyter": {
     "outputs_hidden": true
    }
   },
   "outputs": [],
   "source": []
  },
  {
   "cell_type": "markdown",
   "metadata": {},
   "source": [
    "# Threshold model "
   ]
  },
  {
   "cell_type": "code",
   "execution_count": 37,
   "metadata": {
    "collapsed": true,
    "jupyter": {
     "outputs_hidden": true
    }
   },
   "outputs": [],
   "source": [
    "# building threshold variables\n",
    "medianDx3 = df['Dlog_X3_4'].median()\n",
    "highDx3 = df['Dlog_X3_4'] >= medianDx3\n",
    "highmedianDx3 = medianDx3*(-10)\n",
    "higherDx3 = df['Dlog_X3_4'] >= highmedianDx3\n",
    "HDUMX3 = higherDx3\n",
    "# **************************\n",
    "medianDYE_Y = df['Dlog_YE_Y3_4'].median()\n",
    "highDYE_Y3 = df['Dlog_YE_Y3_4'] >= medianDYE_Y\n",
    "highmedianDYE_Y = medianDYE_Y*(-10)\n",
    "higherDYE_Y = df['Dlog_YE_Y3_4'] >= highmedianDYE_Y\n",
    "HDUMYE_Y= higherDYE_Y\n",
    "\n"
   ]
  },
  {
   "cell_type": "code",
   "execution_count": 39,
   "metadata": {},
   "outputs": [
    {
     "name": "stdout",
     "output_type": "stream",
     "text": [
      "                            OLS Regression Results                            \n",
      "==============================================================================\n",
      "Dep. Variable:               Dlog_JK3   R-squared:                       0.723\n",
      "Model:                            OLS   Adj. R-squared:                  0.699\n",
      "Method:                 Least Squares   F-statistic:                     30.00\n",
      "Date:                Sun, 08 Jul 2018   Prob (F-statistic):           1.36e-27\n",
      "Time:                        20:52:25   Log-Likelihood:                 79.246\n",
      "No. Observations:                 126   AIC:                            -136.5\n",
      "Df Residuals:                     115   BIC:                            -105.3\n",
      "Df Model:                          10                                         \n",
      "Covariance Type:            nonrobust                                         \n",
      "=================================================================================================\n",
      "                                    coef    std err          t      P>|t|      [0.025      0.975]\n",
      "-------------------------------------------------------------------------------------------------\n",
      "Intercept                         3.8759      0.850      4.560      0.000       2.192       5.559\n",
      "HDUMYE_Y[T.True]                 -0.1823      0.199     -0.916      0.362      -0.577       0.212\n",
      "HDUMX3[T.True]                   -1.3392      1.786     -0.750      0.455      -4.877       2.199\n",
      "Dlog_JK3_1                       -0.2366      0.063     -3.775      0.000      -0.361      -0.112\n",
      "log_JK3_1                        -0.3906      0.073     -5.335      0.000      -0.536      -0.246\n",
      "Dlog_YE_Y3_1                     -0.1945      0.027     -7.147      0.000      -0.248      -0.141\n",
      "HDUMYE_Y[T.True]:Dlog_YE_Y3_1     0.2266      0.104      2.176      0.032       0.020       0.433\n",
      "log_X3_1                         -0.0126      0.073     -0.174      0.862      -0.156       0.131\n",
      "HDUMX3[T.True]:log_X3_1           0.1214      0.148      0.818      0.415      -0.172       0.415\n",
      "log_YE_Y3_1                       0.1362      0.055      2.487      0.014       0.028       0.245\n",
      "HDUMYE_Y[T.True]:log_YE_Y3_1     -0.1585      0.107     -1.479      0.142      -0.371       0.054\n",
      "==============================================================================\n",
      "Omnibus:                        1.290   Durbin-Watson:                   1.919\n",
      "Prob(Omnibus):                  0.525   Jarque-Bera (JB):                0.844\n",
      "Skew:                          -0.147   Prob(JB):                        0.656\n",
      "Kurtosis:                       3.272   Cond. No.                     2.35e+03\n",
      "==============================================================================\n",
      "\n",
      "Warnings:\n",
      "[1] Standard Errors assume that the covariance matrix of the errors is correctly specified.\n",
      "[2] The condition number is large, 2.35e+03. This might indicate that there are\n",
      "strong multicollinearity or other numerical problems.\n"
     ]
    }
   ],
   "source": [
    "TARmodel = smf.ols('Dlog_JK3 ~ 1 + Dlog_JK3_1 + log_JK3_1 + (HDUMYE_Y)*Dlog_YE_Y3_1 + HDUMX3*log_X3_1 + (HDUMYE_Y)*log_YE_Y3_1', \n",
    "                   data = df)\n",
    "result = TARmodel.fit()\n",
    "print(result.summary())"
   ]
  },
  {
   "cell_type": "code",
   "execution_count": null,
   "metadata": {
    "collapsed": true,
    "jupyter": {
     "outputs_hidden": true
    }
   },
   "outputs": [],
   "source": []
  }
 ],
 "metadata": {
  "kernelspec": {
   "display_name": "Python 3",
   "language": "python",
   "name": "python3"
  },
  "language_info": {
   "codemirror_mode": {
    "name": "ipython",
    "version": 3
   },
   "file_extension": ".py",
   "mimetype": "text/x-python",
   "name": "python",
   "nbconvert_exporter": "python",
   "pygments_lexer": "ipython3",
   "version": "3.7.4"
  }
 },
 "nbformat": 4,
 "nbformat_minor": 4
}
