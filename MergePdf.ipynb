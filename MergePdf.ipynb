{
 "cells": [
  {
   "cell_type": "markdown",
   "metadata": {},
   "source": [
    "# Merge Papers to PhD-thesis\n"
   ]
  },
  {
   "cell_type": "code",
   "execution_count": 10,
   "metadata": {},
   "outputs": [],
   "source": [
    "from PyPDF2 import PdfFileMerger \n",
    "import fitz"
   ]
  },
  {
   "cell_type": "code",
   "execution_count": null,
   "metadata": {},
   "outputs": [],
   "source": []
  },
  {
   "cell_type": "code",
   "execution_count": 3,
   "metadata": {},
   "outputs": [],
   "source": [
    "folder = 'C:/Users/i235jbp/Dropbox/PhD/Artikler_Prestmo/'\n",
    "paper1 = folder + 'Investment_Survey_Prestmo_Paper1.pdf'\n",
    "paper2 = folder + 'PrestmoFactorsConstrainingInvestments_Paper2.pdf'\n",
    "paper3 = folder + 'AggregatedInvestment_Prestmo_Paper3.pdf'\n",
    "kappe = folder + 'kappe.pdf'\n",
    "\n",
    "\n",
    "\n"
   ]
  },
  {
   "cell_type": "code",
   "execution_count": 13,
   "metadata": {},
   "outputs": [],
   "source": [
    "doc = fitz.open()\n",
    "doc.newPage()\n",
    "blankpage = folder + 'blank.pdf'\n",
    "doc.save(blankpage)"
   ]
  },
  {
   "cell_type": "code",
   "execution_count": 14,
   "metadata": {},
   "outputs": [
    {
     "name": "stdout",
     "output_type": "stream",
     "text": [
      "['C:/Users/i235jbp/Dropbox/PhD/Artikler_Prestmo/kappe.pdf', 'C:/Users/i235jbp/Dropbox/PhD/Artikler_Prestmo/Investment_Survey_Prestmo_Paper1.pdf', 'C:/Users/i235jbp/Dropbox/PhD/Artikler_Prestmo/PrestmoFactorsConstrainingInvestments_Paper2.pdf', 'C:/Users/i235jbp/Dropbox/PhD/Artikler_Prestmo/blank.pdf', 'C:/Users/i235jbp/Dropbox/PhD/Artikler_Prestmo/AggregatedInvestment_Prestmo_Paper3.pdf']\n"
     ]
    }
   ],
   "source": [
    "completeList = [kappe, paper1, paper2, blankpage, paper3]\n",
    "print(completeList)"
   ]
  },
  {
   "cell_type": "code",
   "execution_count": 15,
   "metadata": {},
   "outputs": [],
   "source": [
    "\n",
    "merge = PdfFileMerger()\n"
   ]
  },
  {
   "cell_type": "code",
   "execution_count": 16,
   "metadata": {},
   "outputs": [
    {
     "name": "stderr",
     "output_type": "stream",
     "text": [
      "PdfReadWarning: Xref table not zero-indexed. ID numbers for objects will be corrected. [pdf.py:1736]\n"
     ]
    }
   ],
   "source": [
    "\n",
    "for pdf in completeList:\n",
    "    merge.append(pdf, import_bookmarks=False)\n",
    "\n",
    "merge.write(\"PhDThesisPrestmo.pdf\")\n",
    "merge.close()\n"
   ]
  },
  {
   "cell_type": "code",
   "execution_count": null,
   "metadata": {},
   "outputs": [],
   "source": []
  }
 ],
 "metadata": {
  "kernelspec": {
   "display_name": "Python 3",
   "language": "python",
   "name": "python3"
  },
  "language_info": {
   "codemirror_mode": {
    "name": "ipython",
    "version": 3
   },
   "file_extension": ".py",
   "mimetype": "text/x-python",
   "name": "python",
   "nbconvert_exporter": "python",
   "pygments_lexer": "ipython3",
   "version": "3.6.4"
  }
 },
 "nbformat": 4,
 "nbformat_minor": 2
}
