{
 "cells": [
  {
   "cell_type": "markdown",
   "metadata": {},
   "source": [
    "# Merge Papers to PhD-thesis\n"
   ]
  },
  {
   "cell_type": "code",
   "execution_count": 13,
   "metadata": {},
   "outputs": [],
   "source": [
    "from PyPDF2 import PdfFileMerger \n",
    "# import fitz - do not work with anaconda"
   ]
  },
  {
   "cell_type": "code",
   "execution_count": null,
   "metadata": {},
   "outputs": [],
   "source": []
  },
  {
   "cell_type": "code",
   "execution_count": 6,
   "metadata": {},
   "outputs": [],
   "source": [
    "folder = 'C:/Users/i235jbp/Dropbox/PhD/Artikler_Prestmo/'\n",
    "paper1 = folder + 'Investment_Survey_Prestmo_Paper1.pdf'\n",
    "paper2 = folder + 'PrestmoFactorsConstrainingInvestments_Paper2.pdf'\n",
    "paper3 = folder + 'AggregatedInvestment_Prestmo_Paper3.pdf'\n",
    "kappe = folder + 'kappe.pdf'\n",
    "blankpage = folder + 'blank.pdf'"
   ]
  },
  {
   "cell_type": "code",
   "execution_count": 5,
   "metadata": {},
   "outputs": [],
   "source": [
    "# doc = fitz.open()\n",
    "# doc.newPage()\n",
    "# blankpage = folder + 'blank.pdf'\n",
    "# doc.save(blankpage)"
   ]
  },
  {
   "cell_type": "code",
   "execution_count": 8,
   "metadata": {},
   "outputs": [],
   "source": [
    "import PyPDF2 \n",
    " \n",
    "# Open the files that have to be merged one by one\n",
    "pdf1File = open(kappe, 'rb')\n",
    "pdf2File = open(paper1, 'rb')\n",
    "pdf3File = open(paper2, 'rb')\n",
    "pdf4File = open(paper3, 'rb')\n"
   ]
  },
  {
   "cell_type": "code",
   "execution_count": 9,
   "metadata": {},
   "outputs": [
    {
     "name": "stderr",
     "output_type": "stream",
     "text": [
      "PdfReadWarning: Xref table not zero-indexed. ID numbers for objects will be corrected. [pdf.py:1736]\n"
     ]
    }
   ],
   "source": [
    "# Read the files that you have opened\n",
    "pdf1Reader = PyPDF2.PdfFileReader(pdf1File)\n",
    "pdf2Reader = PyPDF2.PdfFileReader(pdf2File)\n",
    "pdf3Reader = PyPDF2.PdfFileReader(pdf3File)\n",
    "pdf4Reader = PyPDF2.PdfFileReader(pdf4File)\n",
    " \n",
    "# Create a new PdfFileWriter object which represents a blank PDF document\n",
    "pdfWriter = PyPDF2.PdfFileWriter()\n"
   ]
  },
  {
   "cell_type": "code",
   "execution_count": 10,
   "metadata": {},
   "outputs": [],
   "source": [
    " \n",
    "# Loop through all the pagenumbers for the first document\n",
    "for pageNum in range(pdf1Reader.numPages):\n",
    "    pageObj = pdf1Reader.getPage(pageNum)\n",
    "    pdfWriter.addPage(pageObj)\n",
    "\n",
    "# Loop through all the pagenumbers for the second document\n",
    "for pageNum in range(pdf2Reader.numPages):\n",
    "    pageObj = pdf2Reader.getPage(pageNum)\n",
    "    pdfWriter.addPage(pageObj)\n",
    "\n",
    "# Loop through all the pagenumbers for the second document\n",
    "for pageNum in range(pdf3Reader.numPages):\n",
    "    pageObj = pdf2Reader.getPage(pageNum)\n",
    "    pdfWriter.addPage(pageObj)\n",
    "\n",
    "# Loop through all the pagenumbers for the second document\n",
    "for pageNum in range(pdf4Reader.numPages):\n",
    "    pageObj = pdf2Reader.getPage(pageNum)\n",
    "    pdfWriter.addPage(pageObj)\n",
    " \n"
   ]
  },
  {
   "cell_type": "code",
   "execution_count": 11,
   "metadata": {},
   "outputs": [],
   "source": [
    "# Now that you have copied all the pages in both the documents, write them into the a new document\n",
    "pdfOutputFile = open('MergedFiles.pdf', 'wb')\n",
    "pdfWriter.write(pdfOutputFile)\n",
    " \n"
   ]
  },
  {
   "cell_type": "code",
   "execution_count": 12,
   "metadata": {},
   "outputs": [],
   "source": [
    "# Close all the files - Created as well as opened\n",
    "pdfOutputFile.close()\n",
    "pdf1File.close()\n",
    "pdf2File.close()\n",
    "pdf3File.close()\n",
    "pdf4File.close()\n"
   ]
  },
  {
   "cell_type": "code",
   "execution_count": 14,
   "metadata": {},
   "outputs": [
    {
     "name": "stdout",
     "output_type": "stream",
     "text": [
      "['C:/Users/i235jbp/Dropbox/PhD/Artikler_Prestmo/kappe.pdf', 'C:/Users/i235jbp/Dropbox/PhD/Artikler_Prestmo/Investment_Survey_Prestmo_Paper1.pdf', 'C:/Users/i235jbp/Dropbox/PhD/Artikler_Prestmo/PrestmoFactorsConstrainingInvestments_Paper2.pdf', 'C:/Users/i235jbp/Dropbox/PhD/Artikler_Prestmo/blank.pdf', 'C:/Users/i235jbp/Dropbox/PhD/Artikler_Prestmo/AggregatedInvestment_Prestmo_Paper3.pdf']\n"
     ]
    }
   ],
   "source": [
    "# completeList = [kappe, paper1, paper2, blankpage, paper3]\n",
    "# print(completeList)"
   ]
  },
  {
   "cell_type": "code",
   "execution_count": 15,
   "metadata": {},
   "outputs": [],
   "source": [
    "\n",
    "# merge = PdfFileMerger()\n"
   ]
  },
  {
   "cell_type": "code",
   "execution_count": 16,
   "metadata": {},
   "outputs": [
    {
     "name": "stderr",
     "output_type": "stream",
     "text": [
      "PdfReadWarning: Xref table not zero-indexed. ID numbers for objects will be corrected. [pdf.py:1736]\n"
     ]
    }
   ],
   "source": [
    "\n",
    "# for pdf in completeList:\n",
    "#     merge.append(pdf, import_bookmarks=False)\n",
    "\n",
    "# merge.write(\"PhDThesisPrestmo.pdf\")\n",
    "# merge.close()\n"
   ]
  },
  {
   "cell_type": "code",
   "execution_count": null,
   "metadata": {},
   "outputs": [],
   "source": []
  }
 ],
 "metadata": {
  "kernelspec": {
   "display_name": "Python 3",
   "language": "python",
   "name": "python3"
  },
  "language_info": {
   "codemirror_mode": {
    "name": "ipython",
    "version": 3
   },
   "file_extension": ".py",
   "mimetype": "text/x-python",
   "name": "python",
   "nbconvert_exporter": "python",
   "pygments_lexer": "ipython3",
   "version": "3.7.4"
  }
 },
 "nbformat": 4,
 "nbformat_minor": 4
}
