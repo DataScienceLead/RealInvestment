{
 "cells": [
  {
   "cell_type": "markdown",
   "metadata": {},
   "source": [
    "# CAPM "
   ]
  },
  {
   "cell_type": "code",
   "execution_count": 38,
   "metadata": {},
   "outputs": [],
   "source": [
    "import pandas as pd\n",
    "import statsmodels.api as sm\n",
    "import numpy as np"
   ]
  },
  {
   "cell_type": "code",
   "execution_count": 39,
   "metadata": {},
   "outputs": [],
   "source": [
    "dataset = 'data/eqnnyse.xlsx'"
   ]
  },
  {
   "cell_type": "code",
   "execution_count": 40,
   "metadata": {},
   "outputs": [],
   "source": [
    "df = pd.read_excel(dataset)"
   ]
  },
  {
   "cell_type": "code",
   "execution_count": 48,
   "metadata": {},
   "outputs": [
    {
     "data": {
      "text/html": [
       "<div>\n",
       "<style scoped>\n",
       "    .dataframe tbody tr th:only-of-type {\n",
       "        vertical-align: middle;\n",
       "    }\n",
       "\n",
       "    .dataframe tbody tr th {\n",
       "        vertical-align: top;\n",
       "    }\n",
       "\n",
       "    .dataframe thead th {\n",
       "        text-align: right;\n",
       "    }\n",
       "</style>\n",
       "<table border=\"1\" class=\"dataframe\">\n",
       "  <thead>\n",
       "    <tr style=\"text-align: right;\">\n",
       "      <th></th>\n",
       "      <th>Date</th>\n",
       "      <th>eqnClose</th>\n",
       "      <th>nyseClose</th>\n",
       "      <th>eqnPct</th>\n",
       "      <th>nysePct</th>\n",
       "    </tr>\n",
       "  </thead>\n",
       "  <tbody>\n",
       "    <tr>\n",
       "      <td>1</td>\n",
       "      <td>2015-08-01</td>\n",
       "      <td>11.758434</td>\n",
       "      <td>10176.500000</td>\n",
       "      <td>-0.083974</td>\n",
       "      <td>-0.064856</td>\n",
       "    </tr>\n",
       "    <tr>\n",
       "      <td>2</td>\n",
       "      <td>2015-09-01</td>\n",
       "      <td>11.194773</td>\n",
       "      <td>9799.690430</td>\n",
       "      <td>-0.047937</td>\n",
       "      <td>-0.037027</td>\n",
       "    </tr>\n",
       "    <tr>\n",
       "      <td>3</td>\n",
       "      <td>2015-10-01</td>\n",
       "      <td>12.424968</td>\n",
       "      <td>10460.959961</td>\n",
       "      <td>0.109890</td>\n",
       "      <td>0.067479</td>\n",
       "    </tr>\n",
       "    <tr>\n",
       "      <td>4</td>\n",
       "      <td>2015-11-01</td>\n",
       "      <td>11.817558</td>\n",
       "      <td>10409.589844</td>\n",
       "      <td>-0.048886</td>\n",
       "      <td>-0.004911</td>\n",
       "    </tr>\n",
       "    <tr>\n",
       "      <td>5</td>\n",
       "      <td>2015-12-01</td>\n",
       "      <td>10.885670</td>\n",
       "      <td>10143.419922</td>\n",
       "      <td>-0.078856</td>\n",
       "      <td>-0.025570</td>\n",
       "    </tr>\n",
       "  </tbody>\n",
       "</table>\n",
       "</div>"
      ],
      "text/plain": [
       "        Date   eqnClose     nyseClose    eqnPct   nysePct\n",
       "1 2015-08-01  11.758434  10176.500000 -0.083974 -0.064856\n",
       "2 2015-09-01  11.194773   9799.690430 -0.047937 -0.037027\n",
       "3 2015-10-01  12.424968  10460.959961  0.109890  0.067479\n",
       "4 2015-11-01  11.817558  10409.589844 -0.048886 -0.004911\n",
       "5 2015-12-01  10.885670  10143.419922 -0.078856 -0.025570"
      ]
     },
     "execution_count": 48,
     "metadata": {},
     "output_type": "execute_result"
    }
   ],
   "source": [
    "df.head()"
   ]
  },
  {
   "cell_type": "code",
   "execution_count": 50,
   "metadata": {},
   "outputs": [],
   "source": [
    "df['eqnPct'] = np.log(df['eqnClose']).shift(1)\n",
    "df['nysePct'] = np.log(df['nyseClose']).shift(1)\n",
    "\n"
   ]
  },
  {
   "cell_type": "code",
   "execution_count": 51,
   "metadata": {},
   "outputs": [
    {
     "name": "stdout",
     "output_type": "stream",
     "text": [
      "0.6880103129299551 0.051688621983093784\n"
     ]
    }
   ],
   "source": [
    "cov_xy = df['eqnPct'].cov( df['nysePct'])\n",
    "var_x =df['eqnPct'].var()\n",
    "print(corr_xy , var_x)"
   ]
  },
  {
   "cell_type": "code",
   "execution_count": 52,
   "metadata": {},
   "outputs": [
    {
     "name": "stdout",
     "output_type": "stream",
     "text": [
      "0.36076069520068177\n"
     ]
    }
   ],
   "source": [
    "betaEqn = cov_xy/var_x\n",
    "print(betaEqn)"
   ]
  },
  {
   "cell_type": "code",
   "execution_count": 53,
   "metadata": {},
   "outputs": [],
   "source": [
    "df = df.dropna(axis=0)"
   ]
  },
  {
   "cell_type": "code",
   "execution_count": 54,
   "metadata": {},
   "outputs": [
    {
     "name": "stdout",
     "output_type": "stream",
     "text": [
      "                            OLS Regression Results                            \n",
      "==============================================================================\n",
      "Dep. Variable:                nysePct   R-squared:                       0.699\n",
      "Model:                            OLS   Adj. R-squared:                  0.693\n",
      "Method:                 Least Squares   F-statistic:                     132.1\n",
      "Date:                Sat, 13 Jun 2020   Prob (F-statistic):           1.80e-16\n",
      "Time:                        00:32:56   Log-Likelihood:                 89.127\n",
      "No. Observations:                  59   AIC:                            -174.3\n",
      "Df Residuals:                      57   BIC:                            -170.1\n",
      "Df Model:                           1                                         \n",
      "Covariance Type:            nonrobust                                         \n",
      "==============================================================================\n",
      "                 coef    std err          t      P>|t|      [0.025      0.975]\n",
      "------------------------------------------------------------------------------\n",
      "const          8.3711      0.087     95.767      0.000       8.196       8.546\n",
      "eqnPct         0.3608      0.031     11.493      0.000       0.298       0.424\n",
      "==============================================================================\n",
      "Omnibus:                        2.681   Durbin-Watson:                   0.347\n",
      "Prob(Omnibus):                  0.262   Jarque-Bera (JB):                2.530\n",
      "Skew:                           0.438   Prob(JB):                        0.282\n",
      "Kurtosis:                       2.487   Cond. No.                         38.8\n",
      "==============================================================================\n",
      "\n",
      "Warnings:\n",
      "[1] Standard Errors assume that the covariance matrix of the errors is correctly specified.\n"
     ]
    }
   ],
   "source": [
    "X = df['eqnPct']\n",
    "y = df['nysePct']\n",
    "\n",
    "X1 = sm.add_constant(X)\n",
    "\n",
    "reg = sm.OLS(y,X1)\n",
    "\n",
    "res = reg.fit()\n",
    "print(res.summary())\n"
   ]
  },
  {
   "cell_type": "code",
   "execution_count": null,
   "metadata": {},
   "outputs": [],
   "source": []
  },
  {
   "cell_type": "code",
   "execution_count": null,
   "metadata": {},
   "outputs": [],
   "source": []
  }
 ],
 "metadata": {
  "kernelspec": {
   "display_name": "Python 3",
   "language": "python",
   "name": "python3"
  },
  "language_info": {
   "codemirror_mode": {
    "name": "ipython",
    "version": 3
   },
   "file_extension": ".py",
   "mimetype": "text/x-python",
   "name": "python",
   "nbconvert_exporter": "python",
   "pygments_lexer": "ipython3",
   "version": "3.7.4"
  }
 },
 "nbformat": 4,
 "nbformat_minor": 4
}
