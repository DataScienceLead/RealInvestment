{
 "cells": [
  {
   "cell_type": "markdown",
   "metadata": {},
   "source": [
    "# Prob no3 - Method for calculating profitability "
   ]
  },
  {
   "cell_type": "code",
   "execution_count": 18,
   "metadata": {},
   "outputs": [],
   "source": [
    "import pandas as pd\n",
    "import numpy as np\n",
    "import random \n",
    "from scipy import linalg\n",
    "import math\n",
    "import matplotlib.pyplot as plt\n",
    "import scipy.stats"
   ]
  },
  {
   "cell_type": "code",
   "execution_count": 149,
   "metadata": {},
   "outputs": [],
   "source": [
    "dataset = \"C:/Users/i235jbp/Dropbox/PhD/Spørreundersøkelse/R/datasett_bus_surv_no2.csv\""
   ]
  },
  {
   "cell_type": "code",
   "execution_count": 150,
   "metadata": {},
   "outputs": [],
   "source": [
    "df = pd.read_csv(dataset, sep=\",\", engine='python')\n"
   ]
  },
  {
   "cell_type": "code",
   "execution_count": 21,
   "metadata": {},
   "outputs": [
    {
     "data": {
      "text/html": [
       "<div>\n",
       "<style scoped>\n",
       "    .dataframe tbody tr th:only-of-type {\n",
       "        vertical-align: middle;\n",
       "    }\n",
       "\n",
       "    .dataframe tbody tr th {\n",
       "        vertical-align: top;\n",
       "    }\n",
       "\n",
       "    .dataframe thead th {\n",
       "        text-align: right;\n",
       "    }\n",
       "</style>\n",
       "<table border=\"1\" class=\"dataframe\">\n",
       "  <thead>\n",
       "    <tr style=\"text-align: right;\">\n",
       "      <th></th>\n",
       "      <th>orgnr</th>\n",
       "      <th>orgnr_foretak</th>\n",
       "      <th>navn1</th>\n",
       "      <th>sector</th>\n",
       "      <th>bof_nace07</th>\n",
       "      <th>inves_fou</th>\n",
       "      <th>inves_fou_sale</th>\n",
       "      <th>inves_facilities</th>\n",
       "      <th>inves_facilities_sale</th>\n",
       "      <th>inves_plot</th>\n",
       "      <th>...</th>\n",
       "      <th>cashlimit</th>\n",
       "      <th>cashlimit1</th>\n",
       "      <th>equityFunding</th>\n",
       "      <th>debtFunding</th>\n",
       "      <th>signHurdle</th>\n",
       "      <th>sensitivity</th>\n",
       "      <th>hurdleRate</th>\n",
       "      <th>uncertainCash</th>\n",
       "      <th>_est_no21</th>\n",
       "      <th>_est_no22</th>\n",
       "    </tr>\n",
       "  </thead>\n",
       "  <tbody>\n",
       "    <tr>\n",
       "      <th>0</th>\n",
       "      <td>811279858</td>\n",
       "      <td>811280175</td>\n",
       "      <td>HOVLAND TREVAREFABRI</td>\n",
       "      <td>2100.0</td>\n",
       "      <td>16.232000</td>\n",
       "      <td>0.0</td>\n",
       "      <td>0.0</td>\n",
       "      <td>0.0</td>\n",
       "      <td>0.0</td>\n",
       "      <td>0.0</td>\n",
       "      <td>...</td>\n",
       "      <td>0</td>\n",
       "      <td>0</td>\n",
       "      <td>0</td>\n",
       "      <td>0</td>\n",
       "      <td>0</td>\n",
       "      <td>0</td>\n",
       "      <td>1</td>\n",
       "      <td>0</td>\n",
       "      <td>1</td>\n",
       "      <td>1</td>\n",
       "    </tr>\n",
       "    <tr>\n",
       "      <th>1</th>\n",
       "      <td>812749068</td>\n",
       "      <td>812749385</td>\n",
       "      <td>Bergene Holm AS</td>\n",
       "      <td>2100.0</td>\n",
       "      <td>16.100000</td>\n",
       "      <td>0.0</td>\n",
       "      <td>0.0</td>\n",
       "      <td>0.0</td>\n",
       "      <td>0.0</td>\n",
       "      <td>0.0</td>\n",
       "      <td>...</td>\n",
       "      <td>1</td>\n",
       "      <td>1</td>\n",
       "      <td>1</td>\n",
       "      <td>1</td>\n",
       "      <td>0</td>\n",
       "      <td>0</td>\n",
       "      <td>1</td>\n",
       "      <td>0</td>\n",
       "      <td>1</td>\n",
       "      <td>1</td>\n",
       "    </tr>\n",
       "    <tr>\n",
       "      <th>2</th>\n",
       "      <td>816063118</td>\n",
       "      <td>816063435</td>\n",
       "      <td>SNØGG AS</td>\n",
       "      <td>2100.0</td>\n",
       "      <td>21.200001</td>\n",
       "      <td>0.0</td>\n",
       "      <td>0.0</td>\n",
       "      <td>0.0</td>\n",
       "      <td>0.0</td>\n",
       "      <td>0.0</td>\n",
       "      <td>...</td>\n",
       "      <td>0</td>\n",
       "      <td>0</td>\n",
       "      <td>1</td>\n",
       "      <td>1</td>\n",
       "      <td>1</td>\n",
       "      <td>0</td>\n",
       "      <td>1</td>\n",
       "      <td>1</td>\n",
       "      <td>1</td>\n",
       "      <td>1</td>\n",
       "    </tr>\n",
       "    <tr>\n",
       "      <th>3</th>\n",
       "      <td>829093598</td>\n",
       "      <td>829093915</td>\n",
       "      <td>STRYN BETONGELEMENT</td>\n",
       "      <td>2100.0</td>\n",
       "      <td>23.610001</td>\n",
       "      <td>0.0</td>\n",
       "      <td>0.0</td>\n",
       "      <td>0.0</td>\n",
       "      <td>0.0</td>\n",
       "      <td>0.0</td>\n",
       "      <td>...</td>\n",
       "      <td>0</td>\n",
       "      <td>0</td>\n",
       "      <td>1</td>\n",
       "      <td>0</td>\n",
       "      <td>1</td>\n",
       "      <td>0</td>\n",
       "      <td>0</td>\n",
       "      <td>0</td>\n",
       "      <td>1</td>\n",
       "      <td>1</td>\n",
       "    </tr>\n",
       "    <tr>\n",
       "      <th>4</th>\n",
       "      <td>832008348</td>\n",
       "      <td>832008665</td>\n",
       "      <td>SKIBSPLAST A/S</td>\n",
       "      <td>2100.0</td>\n",
       "      <td>30.120001</td>\n",
       "      <td>0.0</td>\n",
       "      <td>0.0</td>\n",
       "      <td>0.0</td>\n",
       "      <td>0.0</td>\n",
       "      <td>0.0</td>\n",
       "      <td>...</td>\n",
       "      <td>0</td>\n",
       "      <td>0</td>\n",
       "      <td>0</td>\n",
       "      <td>1</td>\n",
       "      <td>1</td>\n",
       "      <td>0</td>\n",
       "      <td>1</td>\n",
       "      <td>0</td>\n",
       "      <td>1</td>\n",
       "      <td>1</td>\n",
       "    </tr>\n",
       "  </tbody>\n",
       "</table>\n",
       "<p>5 rows × 193 columns</p>\n",
       "</div>"
      ],
      "text/plain": [
       "       orgnr  orgnr_foretak                 navn1  sector  bof_nace07  \\\n",
       "0  811279858      811280175  HOVLAND TREVAREFABRI  2100.0   16.232000   \n",
       "1  812749068      812749385       Bergene Holm AS  2100.0   16.100000   \n",
       "2  816063118      816063435              SNØGG AS  2100.0   21.200001   \n",
       "3  829093598      829093915   STRYN BETONGELEMENT  2100.0   23.610001   \n",
       "4  832008348      832008665        SKIBSPLAST A/S  2100.0   30.120001   \n",
       "\n",
       "   inves_fou  inves_fou_sale  inves_facilities  inves_facilities_sale  \\\n",
       "0        0.0             0.0               0.0                    0.0   \n",
       "1        0.0             0.0               0.0                    0.0   \n",
       "2        0.0             0.0               0.0                    0.0   \n",
       "3        0.0             0.0               0.0                    0.0   \n",
       "4        0.0             0.0               0.0                    0.0   \n",
       "\n",
       "   inves_plot  ...  cashlimit  cashlimit1  equityFunding  debtFunding  \\\n",
       "0         0.0  ...          0           0              0            0   \n",
       "1         0.0  ...          1           1              1            1   \n",
       "2         0.0  ...          0           0              1            1   \n",
       "3         0.0  ...          0           0              1            0   \n",
       "4         0.0  ...          0           0              0            1   \n",
       "\n",
       "   signHurdle  sensitivity  hurdleRate  uncertainCash  _est_no21  _est_no22  \n",
       "0           0            0           1              0          1          1  \n",
       "1           0            0           1              0          1          1  \n",
       "2           1            0           1              1          1          1  \n",
       "3           1            0           0              0          1          1  \n",
       "4           1            0           1              0          1          1  \n",
       "\n",
       "[5 rows x 193 columns]"
      ]
     },
     "execution_count": 21,
     "metadata": {},
     "output_type": "execute_result"
    }
   ],
   "source": [
    "# df.drop(['navn', 'orgnr_foretak', 'f_postnr', 'sn07_1'], axis=1, inplace=True)\n",
    "df['orgnr'] = df['orgnr']-random.randint(1,1000)\n",
    "df['orgnr_foretak'] = df['orgnr_foretak']-random.randint(1,1000)\n",
    "df['employ'] = df['employ']+random.randint(1,15)\n",
    "df.head()\n"
   ]
  },
  {
   "cell_type": "code",
   "execution_count": 151,
   "metadata": {},
   "outputs": [],
   "source": [
    "df.drop(['navn1'], axis=1, inplace=True)"
   ]
  },
  {
   "cell_type": "code",
   "execution_count": 152,
   "metadata": {},
   "outputs": [],
   "source": [
    "# list of explanatory variables, important to stack the variables and estimated parametes in the same order\n",
    "explanatoryNo3 = ['higheduc', 'smallcap','largecap',  'subsidary', 'no2_1', 'no2_2', 'sensitivity' ,'hurdleRate']\n",
    "# make a new df\n",
    "df_short3 = df.copy(deep=True)"
   ]
  },
  {
   "cell_type": "code",
   "execution_count": 153,
   "metadata": {},
   "outputs": [
    {
     "data": {
      "text/html": [
       "<div>\n",
       "<style scoped>\n",
       "    .dataframe tbody tr th:only-of-type {\n",
       "        vertical-align: middle;\n",
       "    }\n",
       "\n",
       "    .dataframe tbody tr th {\n",
       "        vertical-align: top;\n",
       "    }\n",
       "\n",
       "    .dataframe thead th {\n",
       "        text-align: right;\n",
       "    }\n",
       "</style>\n",
       "<table border=\"1\" class=\"dataframe\">\n",
       "  <thead>\n",
       "    <tr style=\"text-align: right;\">\n",
       "      <th></th>\n",
       "      <th>higheduc</th>\n",
       "      <th>smallcap</th>\n",
       "      <th>largecap</th>\n",
       "      <th>subsidary</th>\n",
       "      <th>no2_1</th>\n",
       "      <th>no2_2</th>\n",
       "      <th>sensitivity</th>\n",
       "      <th>hurdleRate</th>\n",
       "    </tr>\n",
       "  </thead>\n",
       "  <tbody>\n",
       "    <tr>\n",
       "      <th>0</th>\n",
       "      <td>0.0</td>\n",
       "      <td>1</td>\n",
       "      <td>0</td>\n",
       "      <td>0</td>\n",
       "      <td>1</td>\n",
       "      <td>1</td>\n",
       "      <td>0</td>\n",
       "      <td>1</td>\n",
       "    </tr>\n",
       "    <tr>\n",
       "      <th>1</th>\n",
       "      <td>1.0</td>\n",
       "      <td>0</td>\n",
       "      <td>1</td>\n",
       "      <td>0</td>\n",
       "      <td>2</td>\n",
       "      <td>2</td>\n",
       "      <td>0</td>\n",
       "      <td>1</td>\n",
       "    </tr>\n",
       "    <tr>\n",
       "      <th>2</th>\n",
       "      <td>1.0</td>\n",
       "      <td>1</td>\n",
       "      <td>0</td>\n",
       "      <td>0</td>\n",
       "      <td>2</td>\n",
       "      <td>2</td>\n",
       "      <td>0</td>\n",
       "      <td>1</td>\n",
       "    </tr>\n",
       "    <tr>\n",
       "      <th>3</th>\n",
       "      <td>0.0</td>\n",
       "      <td>1</td>\n",
       "      <td>0</td>\n",
       "      <td>0</td>\n",
       "      <td>3</td>\n",
       "      <td>0</td>\n",
       "      <td>0</td>\n",
       "      <td>0</td>\n",
       "    </tr>\n",
       "    <tr>\n",
       "      <th>4</th>\n",
       "      <td>0.0</td>\n",
       "      <td>1</td>\n",
       "      <td>0</td>\n",
       "      <td>0</td>\n",
       "      <td>1</td>\n",
       "      <td>2</td>\n",
       "      <td>0</td>\n",
       "      <td>1</td>\n",
       "    </tr>\n",
       "  </tbody>\n",
       "</table>\n",
       "</div>"
      ],
      "text/plain": [
       "   higheduc  smallcap  largecap  subsidary  no2_1  no2_2  sensitivity  \\\n",
       "0       0.0         1         0          0      1      1            0   \n",
       "1       1.0         0         1          0      2      2            0   \n",
       "2       1.0         1         0          0      2      2            0   \n",
       "3       0.0         1         0          0      3      0            0   \n",
       "4       0.0         1         0          0      1      2            0   \n",
       "\n",
       "   hurdleRate  \n",
       "0           1  \n",
       "1           1  \n",
       "2           1  \n",
       "3           0  \n",
       "4           1  "
      ]
     },
     "execution_count": 153,
     "metadata": {},
     "output_type": "execute_result"
    }
   ],
   "source": [
    "df_short3=df_short3.loc[:,explanatoryNo3].dropna(axis=0, how='any')\n",
    "df_short3.head()"
   ]
  },
  {
   "cell_type": "code",
   "execution_count": 154,
   "metadata": {},
   "outputs": [
    {
     "data": {
      "text/html": [
       "<div>\n",
       "<style scoped>\n",
       "    .dataframe tbody tr th:only-of-type {\n",
       "        vertical-align: middle;\n",
       "    }\n",
       "\n",
       "    .dataframe tbody tr th {\n",
       "        vertical-align: top;\n",
       "    }\n",
       "\n",
       "    .dataframe thead th {\n",
       "        text-align: right;\n",
       "    }\n",
       "</style>\n",
       "<table border=\"1\" class=\"dataframe\">\n",
       "  <thead>\n",
       "    <tr style=\"text-align: right;\">\n",
       "      <th></th>\n",
       "      <th>higheduc</th>\n",
       "      <th>smallcap</th>\n",
       "      <th>largecap</th>\n",
       "      <th>subsidary</th>\n",
       "      <th>no2_1</th>\n",
       "      <th>no2_2</th>\n",
       "      <th>sensitivity</th>\n",
       "      <th>hurdleRate</th>\n",
       "    </tr>\n",
       "  </thead>\n",
       "  <tbody>\n",
       "    <tr>\n",
       "      <th>count</th>\n",
       "      <td>298</td>\n",
       "      <td>298</td>\n",
       "      <td>298</td>\n",
       "      <td>298</td>\n",
       "      <td>298</td>\n",
       "      <td>298</td>\n",
       "      <td>298</td>\n",
       "      <td>298</td>\n",
       "    </tr>\n",
       "    <tr>\n",
       "      <th>unique</th>\n",
       "      <td>1</td>\n",
       "      <td>1</td>\n",
       "      <td>1</td>\n",
       "      <td>1</td>\n",
       "      <td>1</td>\n",
       "      <td>1</td>\n",
       "      <td>1</td>\n",
       "      <td>1</td>\n",
       "    </tr>\n",
       "    <tr>\n",
       "      <th>top</th>\n",
       "      <td>False</td>\n",
       "      <td>False</td>\n",
       "      <td>False</td>\n",
       "      <td>False</td>\n",
       "      <td>False</td>\n",
       "      <td>False</td>\n",
       "      <td>False</td>\n",
       "      <td>False</td>\n",
       "    </tr>\n",
       "    <tr>\n",
       "      <th>freq</th>\n",
       "      <td>298</td>\n",
       "      <td>298</td>\n",
       "      <td>298</td>\n",
       "      <td>298</td>\n",
       "      <td>298</td>\n",
       "      <td>298</td>\n",
       "      <td>298</td>\n",
       "      <td>298</td>\n",
       "    </tr>\n",
       "  </tbody>\n",
       "</table>\n",
       "</div>"
      ],
      "text/plain": [
       "       higheduc smallcap largecap subsidary  no2_1  no2_2 sensitivity  \\\n",
       "count       298      298      298       298    298    298         298   \n",
       "unique        1        1        1         1      1      1           1   \n",
       "top       False    False    False     False  False  False       False   \n",
       "freq        298      298      298       298    298    298         298   \n",
       "\n",
       "       hurdleRate  \n",
       "count         298  \n",
       "unique          1  \n",
       "top         False  \n",
       "freq          298  "
      ]
     },
     "execution_count": 154,
     "metadata": {},
     "output_type": "execute_result"
    }
   ],
   "source": [
    "df_short3.isnull().describe()"
   ]
  },
  {
   "cell_type": "code",
   "execution_count": 155,
   "metadata": {},
   "outputs": [],
   "source": [
    "# df_short.dropna(axis=0, how='any', inplace=True)\n",
    "X_3 = df_short3.values\n"
   ]
  },
  {
   "cell_type": "markdown",
   "metadata": {},
   "source": [
    "## Regresjonsresultater\n",
    "\n",
    "                    EAC   &      IRR   &        NPV   &       Payback   &      Other models   &        No model   \\\\\n",
    "Small cap    &       0.047   &      -0.142   &      -1.152***&      -0.183   &       0.940*  &       0.544   \\\\\n",
    "Large cap    &       0.426   &       1.265***&       0.956** &       0.292   &       1.154** &           .   \\\\\n",
    "Higher education    &       0.282   &       0.626*  &       0.857** &       0.259   &      -0.305   &      -1.046** \\\\\n",
    "Subsidiary   &       0.588   &       0.583*  &      -0.217   &       0.465   &       0.048   &      -1.009   \\\\\n",
    "Freq. of EquityFunding       &       0.459   &       0.244   &      -0.565** &       0.287   &       0.554   &      -0.538   \\\\\n",
    "Freq of DebtFunding       &      -0.288   &       0.064   &      -0.522***&       0.201   &       0.435** &      -0.013   \\\\\n",
    "Sensitivity analysis &      -0.251   &       1.348***&       1.167***&       0.274   &      -0.598   &           .   \\\\\n",
    "Imp. of HurdleRate  &       1.637   &       2.404***&       2.054***&       0.943** &      -0.093   &      -3.212***\n",
    "\n",
    "explanatoryNo3 = ['higheduc', 'smallcap','largecap',  'subsidary', 'no2_1', 'no2_2', 'sensitivity' ,'hurdleRate']"
   ]
  },
  {
   "cell_type": "code",
   "execution_count": 156,
   "metadata": {},
   "outputs": [],
   "source": [
    "beta_1_3 = ([.2819157  , .0472377 , .4256163   ,.5881743  , .4585202 ,  -.2878372 ,  -.2507269  , 1.637389  ])"
   ]
  },
  {
   "cell_type": "code",
   "execution_count": 157,
   "metadata": {},
   "outputs": [],
   "source": [
    "beta_2_3 = ([ .6263949  , -.1415472  ,  1.26501  ,    .5826111 ,  .2440681  , .0642679 ,  1.347802  , 2.403717])"
   ]
  },
  {
   "cell_type": "code",
   "execution_count": 158,
   "metadata": {},
   "outputs": [],
   "source": [
    "beta_3_3= ([.8571165 ,  -1.151734  , .9563701  ,  -.2174719  ,-.5650719  , -.5221819   ,1.166898 ,  2.054198])"
   ]
  },
  {
   "cell_type": "code",
   "execution_count": 159,
   "metadata": {},
   "outputs": [],
   "source": [
    "beta_4_3 = ([.2585995  , -.182598 ,  .2923246 ,   .4650673 ,  .2873178  , .2006496  ,  .274211 ,  .9434336])"
   ]
  },
  {
   "cell_type": "code",
   "execution_count": 160,
   "metadata": {},
   "outputs": [],
   "source": [
    "beta_5_3= ([-.3047959 ,  .9404743,   1.154397  ,  .0480909  , .5539917  , .4347656 ,  -.5976469  , -.0926396 ])"
   ]
  },
  {
   "cell_type": "code",
   "execution_count": 161,
   "metadata": {},
   "outputs": [],
   "source": [
    "beta_6_3 = ([-1.046108 , .5441672 ,         0   , -1.008954   ,-.5377209  , -.0127514     ,    0 ,  -3.212488 ])"
   ]
  },
  {
   "cell_type": "code",
   "execution_count": 162,
   "metadata": {},
   "outputs": [],
   "source": [
    "# Threshold for no3_1\n",
    "cut_1_3 =  [-4.751879] \n",
    "\n",
    "#Threshold for no3_2\n",
    "cut_2_3 =[-5.332868] \n",
    "\n",
    "#Threshold for no3_3\n",
    "cut_3_3 =[-1.165978 ]\n",
    "\n",
    "#Threshold for no2_4\n",
    "cut_4_3 =[ -3.636997 ]\n",
    "\n",
    "#Threshold for no2_5\n",
    "cut_5_3 =[ -3.579774]\n",
    "\n",
    "#Threshold for no2_6\n",
    "cut_6_3 =[3.143438]\n",
    "\n",
    "#  _cons              -4.752**        -5.333***       -1.166          -3.637***       -3.580**         3.143*  \n",
    "\n",
    " "
   ]
  },
  {
   "cell_type": "code",
   "execution_count": 163,
   "metadata": {},
   "outputs": [
    {
     "name": "stdout",
     "output_type": "stream",
     "text": [
      "-4.751879 -5.332868 -1.165978 -3.636997 3.143438\n"
     ]
    }
   ],
   "source": [
    "cut_avg_1_3 = 1/len(cut_1_3) * sum(cut_1_3) \n",
    "\n",
    "#Threshold for no2_2\n",
    "cut_avg_2_3 = 1/len(cut_2_3) * sum(cut_2_3) \n",
    "\n",
    "#Threshold for no2_3\n",
    "cut_avg_3_3 = 1/len(cut_3_3) * sum(cut_3_3) \n",
    "\n",
    "#Threshold for no2_4\n",
    "cut_avg_4_3 = 1/len(cut_4_3) * sum(cut_4_3) \n",
    "\n",
    "#Threshold for no2_5\n",
    "# cut_avg_5_3 = 1/len(cut_5_3) * sum(cut_5_3) \n",
    "\n",
    "#Threshold for no2_6\n",
    "cut_avg_6_3 = 1/len(cut_6_3) * sum(cut_6_3) \n",
    "print(cut_avg_1_3, cut_avg_2_3, cut_avg_3_3, cut_avg_4_3, cut_avg_6_3)\n",
    "#  cut_avg_5_3,"
   ]
  },
  {
   "cell_type": "code",
   "execution_count": 197,
   "metadata": {},
   "outputs": [
    {
     "name": "stdout",
     "output_type": "stream",
     "text": [
      "0.09817034168218215\n"
     ]
    }
   ],
   "source": [
    "### Testcase for prediksjon på en enkelt bedrift\n",
    "SumYNo3 = ( math.exp(-cut_avg_1_3 + X_3[0:1]@beta_1_3)+\n",
    "        math.exp(-cut_avg_2_3 + X_3[0:1]@beta_2_3) + \n",
    "        math.exp(-cut_avg_3_3 + X_3[0:1]@beta_3_3) + \n",
    "        math.exp(-cut_avg_4_3 + X_3[0:1]@beta_4_3) +  \n",
    "        math.exp(-cut_avg_5_3 + X_3[0:1]@beta_5_3) + \n",
    "        math.exp(-cut_avg_6_3 + X_3[0:1]@beta_6_3))\n",
    "\n",
    "# PredY1eNo2 = math.exp(-cut_avg_1_2 + X_2[0:1]@beta_1_2) /SumYNo2\n",
    "PredY2eNo2_test = math.exp(-cut_avg_2_3 + X_3[3:4]@beta_2_3) /SumYNo3\n",
    "# PredY3eNo2 = math.exp(-cut_avg_3_2 + X_2[0:1]@beta_3_2) /SumYNo2 \n",
    "# PredY4eNo2 = math.exp(-cut_avg_4_2 + X_2[0:1]@beta_4_2) /SumYNo2\n",
    "# PredY5eNo2 = math.exp(-cut_avg_5_2 + X_2[0:1]@beta_5_2) /SumYNo2\n",
    "# PredY6eNo2 = math.exp(-cut_avg_6_2 + X_2[0:1]@beta_6_2) /SumYNo2\n",
    "\n",
    "print(PredY2eNo2_test)"
   ]
  },
  {
   "cell_type": "code",
   "execution_count": 195,
   "metadata": {},
   "outputs": [
    {
     "name": "stdout",
     "output_type": "stream",
     "text": [
      "200.33680997479166 2.718281828459045 36.59823444367799\n"
     ]
    },
    {
     "data": {
      "text/plain": [
       "[0.6263949,\n",
       " -0.1415472,\n",
       " 1.26501,\n",
       " 0.5826111,\n",
       " 0.2440681,\n",
       " 0.0642679,\n",
       " 1.347802,\n",
       " 2.403717]"
      ]
     },
     "execution_count": 195,
     "metadata": {},
     "output_type": "execute_result"
    }
   ],
   "source": [
    "math.exp(-cut_avg_2_3 + X_3[55:56]@beta_2_3) \n",
    "print(math.exp(5.3), math.exp(1), math.exp(3.6))\n",
    "beta_2_3"
   ]
  },
  {
   "cell_type": "code",
   "execution_count": 204,
   "metadata": {},
   "outputs": [],
   "source": [
    "# Lage lister som kan holde predikert verdi\n",
    "listeSumYNo3 = []\n",
    "listePredY1eNo3 = []\n",
    "listePredY2eNo3 = []\n",
    "listePredY3eNo3 = []\n",
    "listePredY4eNo3 = []\n",
    "# listePredY5eNo3 = []\n",
    "listePredY6eNo3 = []\n",
    "\n",
    "# Regne ut X*Beta i løkke for hver enkelt bedrift\n",
    "\n",
    "for i in range(len(X_3)):\n",
    "    pred_i = [math.exp(-cut_avg_1_3 + X_3[0+i:1+i]@beta_1_3)]\n",
    "    listePredY1eNo3.append(pred_i[0]) \n",
    "\n",
    "for i in range(len(X_3)):\n",
    "    pred_i = [math.exp(-cut_avg_2_3 + X_3[0+i:1+i]@beta_2_3)]\n",
    "    listePredY2eNo3.append(pred_i[0]) \n",
    "    \n",
    "    \n",
    "for i in range(len(X_3)):\n",
    "    pred_i = [math.exp(-cut_avg_3_3 + X_3[0+i:1+i]@beta_3_3)]\n",
    "    listePredY3eNo3.append(pred_i[0]) \n",
    "\n",
    "for i in range(len(X_3)):\n",
    "    pred_i = [math.exp(-cut_avg_4_3 + X_3[0+i:1+i]@beta_4_3)]\n",
    "    listePredY4eNo3.append(pred_i[0]) \n",
    "\n",
    "# for i in range(len(X_3)):\n",
    "#     pred_i = [math.exp(-cut_avg_5_3 + X_3[0+i:1+i]@beta_5_3)]\n",
    "#     listePredY5eNo3.append(pred_i[0]) \n",
    "\n",
    "for i in range(len(X_3)):\n",
    "    pred_i = [math.exp(-cut_avg_6_3 + X_3[0+i:1+i]@beta_6_3)]\n",
    "    listePredY6eNo3.append(pred_i[0]) \n",
    "\n",
    "   \n",
    "# med, min, max\n"
   ]
  },
  {
   "cell_type": "code",
   "execution_count": 166,
   "metadata": {},
   "outputs": [],
   "source": [
    "# listePredY1eNo2\n"
   ]
  },
  {
   "cell_type": "code",
   "execution_count": 167,
   "metadata": {},
   "outputs": [],
   "source": [
    "metode = dict()\n",
    "\n"
   ]
  },
  {
   "cell_type": "code",
   "execution_count": 205,
   "metadata": {},
   "outputs": [],
   "source": [
    "# Summere alle elementene i listen for å finne nevneren i P-uttrykket\n",
    "listeSumYeNo3 = [ x+y+z+u+t for x , y, z, u, t in zip(listePredY1eNo3, listePredY2eNo3,listePredY3eNo3,listePredY4eNo3,listePredY6eNo3)]\n",
    "# listePredY5eNo3,\n",
    "\n",
    "#  stated preferences - spørre om hva bruker du vanligvis å foretrekke å gjøre, \n",
    "# bedre å sprørre konkret på hver metode. \n",
    "# statistisk metode i data kap\n",
    "# Flytte bus surv cap til et underkap av data. \n",
    "# Og econometric methods som et eget kap\n",
    "# merk at kap 5 - analyse av bus surv ikke er empririsk analyse av teori. \n",
    "\n",
    "# ta med korrelasjonsmatrise for no2_*, no3_* og no4_*"
   ]
  },
  {
   "cell_type": "code",
   "execution_count": 206,
   "metadata": {},
   "outputs": [],
   "source": [
    "# Predikere ssh for valg av de ulike metodene i en multinomisk setting\n",
    "P_1_3 = [a/m for a, m in zip(listePredY1eNo3, listeSumYeNo3)]\n",
    "P_2_3 = [a/m for a, m in zip(listePredY2eNo3, listeSumYeNo3)]\n",
    "P_3_3 = [a/m for a, m in zip(listePredY3eNo3, listeSumYeNo3)]\n",
    "P_4_3 = [a/m for a, m in zip(listePredY4eNo3, listeSumYeNo3)]\n",
    "# P_5_3 = [a/m for a, m in zip(listePredY5eNo3, listeSumYeNo3)]\n",
    "P_6_3 = [a/m for a, m in zip(listePredY6eNo3, listeSumYeNo3)]"
   ]
  },
  {
   "cell_type": "code",
   "execution_count": 207,
   "metadata": {},
   "outputs": [],
   "source": [
    "zipListP3 = list(zip(P_1_3, P_2_3, P_3_3, P_4_3, P_6_3))\n",
    "#  P_5_3,\n",
    "dfP3 = pd.DataFrame(zipListP3, columns = (\"EAC\", 'IRR', 'NPV', 'Payback', 'No model'))\n",
    "# 'Several models', "
   ]
  },
  {
   "cell_type": "code",
   "execution_count": 208,
   "metadata": {},
   "outputs": [],
   "source": [
    "dfPDesc = dfP3.describe()\n",
    "# filename = folderFig+\"/dfPDes3.xlsx\"\n",
    "# dfPDesc.to_excel(filename)"
   ]
  },
  {
   "cell_type": "code",
   "execution_count": 209,
   "metadata": {},
   "outputs": [
    {
     "data": {
      "text/html": [
       "<div>\n",
       "<style scoped>\n",
       "    .dataframe tbody tr th:only-of-type {\n",
       "        vertical-align: middle;\n",
       "    }\n",
       "\n",
       "    .dataframe tbody tr th {\n",
       "        vertical-align: top;\n",
       "    }\n",
       "\n",
       "    .dataframe thead th {\n",
       "        text-align: right;\n",
       "    }\n",
       "</style>\n",
       "<table border=\"1\" class=\"dataframe\">\n",
       "  <thead>\n",
       "    <tr style=\"text-align: right;\">\n",
       "      <th></th>\n",
       "      <th>EAC</th>\n",
       "      <th>IRR</th>\n",
       "      <th>NPV</th>\n",
       "      <th>Payback</th>\n",
       "      <th>No model</th>\n",
       "    </tr>\n",
       "  </thead>\n",
       "  <tbody>\n",
       "    <tr>\n",
       "      <th>count</th>\n",
       "      <td>298.000000</td>\n",
       "      <td>298.000000</td>\n",
       "      <td>298.000000</td>\n",
       "      <td>298.000000</td>\n",
       "      <td>2.980000e+02</td>\n",
       "    </tr>\n",
       "    <tr>\n",
       "      <th>mean</th>\n",
       "      <td>0.160544</td>\n",
       "      <td>0.799621</td>\n",
       "      <td>0.000445</td>\n",
       "      <td>0.039388</td>\n",
       "      <td>1.544715e-06</td>\n",
       "    </tr>\n",
       "    <tr>\n",
       "      <th>std</th>\n",
       "      <td>0.114590</td>\n",
       "      <td>0.134876</td>\n",
       "      <td>0.000545</td>\n",
       "      <td>0.034888</td>\n",
       "      <td>5.800294e-06</td>\n",
       "    </tr>\n",
       "    <tr>\n",
       "      <th>min</th>\n",
       "      <td>0.010464</td>\n",
       "      <td>0.402172</td>\n",
       "      <td>0.000036</td>\n",
       "      <td>0.003310</td>\n",
       "      <td>1.837047e-10</td>\n",
       "    </tr>\n",
       "    <tr>\n",
       "      <th>25%</th>\n",
       "      <td>0.068683</td>\n",
       "      <td>0.721883</td>\n",
       "      <td>0.000147</td>\n",
       "      <td>0.015338</td>\n",
       "      <td>4.650931e-09</td>\n",
       "    </tr>\n",
       "    <tr>\n",
       "      <th>50%</th>\n",
       "      <td>0.138883</td>\n",
       "      <td>0.826611</td>\n",
       "      <td>0.000304</td>\n",
       "      <td>0.031404</td>\n",
       "      <td>1.859566e-08</td>\n",
       "    </tr>\n",
       "    <tr>\n",
       "      <th>75%</th>\n",
       "      <td>0.236264</td>\n",
       "      <td>0.914831</td>\n",
       "      <td>0.000574</td>\n",
       "      <td>0.045115</td>\n",
       "      <td>9.110770e-08</td>\n",
       "    </tr>\n",
       "    <tr>\n",
       "      <th>max</th>\n",
       "      <td>0.516995</td>\n",
       "      <td>0.982991</td>\n",
       "      <td>0.004599</td>\n",
       "      <td>0.175159</td>\n",
       "      <td>4.830671e-05</td>\n",
       "    </tr>\n",
       "  </tbody>\n",
       "</table>\n",
       "</div>"
      ],
      "text/plain": [
       "              EAC         IRR         NPV     Payback      No model\n",
       "count  298.000000  298.000000  298.000000  298.000000  2.980000e+02\n",
       "mean     0.160544    0.799621    0.000445    0.039388  1.544715e-06\n",
       "std      0.114590    0.134876    0.000545    0.034888  5.800294e-06\n",
       "min      0.010464    0.402172    0.000036    0.003310  1.837047e-10\n",
       "25%      0.068683    0.721883    0.000147    0.015338  4.650931e-09\n",
       "50%      0.138883    0.826611    0.000304    0.031404  1.859566e-08\n",
       "75%      0.236264    0.914831    0.000574    0.045115  9.110770e-08\n",
       "max      0.516995    0.982991    0.004599    0.175159  4.830671e-05"
      ]
     },
     "execution_count": 209,
     "metadata": {},
     "output_type": "execute_result"
    }
   ],
   "source": [
    "dfPDesc"
   ]
  },
  {
   "cell_type": "code",
   "execution_count": 97,
   "metadata": {},
   "outputs": [
    {
     "name": "stdout",
     "output_type": "stream",
     "text": [
      "0.4097843217169391 0.0031530131085809447 0.0876077282910606\n"
     ]
    }
   ],
   "source": [
    "#  Finne gjennomsnittlig prediksjon\n",
    "\n",
    "snittPredY1 = np.mean(P_1_3)    \n",
    "snittPredY2 = np.mean(P_2_3)    \n",
    "snittPredY3 = np.mean(P_3_3)    \n",
    "snittPredY4 = np.mean(P_4_3)    \n",
    "# snittPredY5 = np.mean(P_5_3)        \n",
    "snittPredY6 = np.mean(P_6_3) \n",
    "\n",
    "\n",
    "P_1_3.sort(reverse=True)\n",
    "MaxValueP_1_3 = P_1_3[0]\n",
    "P_1_3.sort()\n",
    "MinValueP_1_3= P_1_3[0]\n",
    "\n",
    "P_2_3.sort(reverse=True)\n",
    "MaxValueP_2_3 = P_2_3[0]\n",
    "P_2_3.sort()\n",
    "MinValueP_2_3= P_2_3[0]\n",
    "\n",
    "P_3_3.sort(reverse=True)\n",
    "MaxValueP_3_3 = P_3_3[0]\n",
    "P_3_3.sort()\n",
    "MinValueP_3_3= P_3_3[0]\n",
    "\n",
    "P_4_3.sort(reverse=True)\n",
    "MaxValueP_4_3 = P_4_3[0]\n",
    "P_4_3.sort()\n",
    "MinValueP_4_3= P_4_3[0]\n",
    "\n",
    "# P_5_3.sort(reverse=True)\n",
    "# MaxValueP_5_3 = P_5_3[0]\n",
    "# P_5_3.sort()\n",
    "# MinValueP_5_3= P_5_3[0]\n",
    "\n",
    "P_6_3.sort(reverse=True)\n",
    "MaxValueP_6_3 = P_6_3[0]\n",
    "P_6_3.sort()\n",
    "MinValueP_6_3= P_6_3[0]\n",
    "\n",
    "\n",
    "print(MaxValueP_1_3, MinValueP_1_3, snittPredY1)"
   ]
  },
  {
   "cell_type": "code",
   "execution_count": 136,
   "metadata": {},
   "outputs": [
    {
     "name": "stdout",
     "output_type": "stream",
     "text": [
      "0.0876077282910606 0.8474408967579327 0.0004126973879903311 0.06290418032661928 0.03226881584013518 1.0458827460087487e-06\n"
     ]
    }
   ],
   "source": [
    "print(snittPredY1, snittPredY2, snittPredY3, snittPredY4, snittPredY5, snittPredY6)"
   ]
  },
  {
   "cell_type": "code",
   "execution_count": 173,
   "metadata": {},
   "outputs": [
    {
     "name": "stderr",
     "output_type": "stream",
     "text": [
      "C:\\Users\\i235jbp\\Anaconda3\\lib\\site-packages\\scipy\\stats\\stats.py:1706: FutureWarning: Using a non-tuple sequence for multidimensional indexing is deprecated; use `arr[tuple(seq)]` instead of `arr[seq]`. In the future this will be interpreted as an array index, `arr[np.array(seq)]`, which will result either in an error or a different result.\n",
      "  return np.add.reduce(sorted[indexer] * weights, axis=axis) / sumval\n"
     ]
    },
    {
     "data": {
      "image/png": "[encoded data removed]",
      "text/plain": [
       "<matplotlib.figure.Figure at 0x21cadb0a470>"
      ]
     },
     "metadata": {},
     "output_type": "display_data"
    }
   ],
   "source": [
    "folderFig = \"C:/Users/i235jbp/Dropbox/PhD/Spørreundersøkelse/Artikkel\"\n",
    "import seaborn as sns\n",
    "sns.distplot(P_1_3, color=\"green\")\n",
    "\n",
    "filename = folderFig+'/P13.png'\n",
    "plt.savefig(filename)"
   ]
  },
  {
   "cell_type": "code",
   "execution_count": 174,
   "metadata": {},
   "outputs": [
    {
     "name": "stderr",
     "output_type": "stream",
     "text": [
      "C:\\Users\\i235jbp\\Anaconda3\\lib\\site-packages\\scipy\\stats\\stats.py:1706: FutureWarning: Using a non-tuple sequence for multidimensional indexing is deprecated; use `arr[tuple(seq)]` instead of `arr[seq]`. In the future this will be interpreted as an array index, `arr[np.array(seq)]`, which will result either in an error or a different result.\n",
      "  return np.add.reduce(sorted[indexer] * weights, axis=axis) / sumval\n"
     ]
    },
    {
     "data": {
      "image/png": "[encoded data removed]",
      "text/plain": [
       "<matplotlib.figure.Figure at 0x21caef38470>"
      ]
     },
     "metadata": {},
     "output_type": "display_data"
    }
   ],
   "source": [
    "import seaborn as sns\n",
    "sns.distplot(P_2_3, color=\"blue\")\n",
    "filename = folderFig+'/P23.png'\n",
    "plt.savefig(filename)"
   ]
  },
  {
   "cell_type": "code",
   "execution_count": 180,
   "metadata": {},
   "outputs": [
    {
     "name": "stderr",
     "output_type": "stream",
     "text": [
      "C:\\Users\\i235jbp\\Anaconda3\\lib\\site-packages\\scipy\\stats\\stats.py:1706: FutureWarning: Using a non-tuple sequence for multidimensional indexing is deprecated; use `arr[tuple(seq)]` instead of `arr[seq]`. In the future this will be interpreted as an array index, `arr[np.array(seq)]`, which will result either in an error or a different result.\n",
      "  return np.add.reduce(sorted[indexer] * weights, axis=axis) / sumval\n"
     ]
    },
    {
     "data": {
      "text/plain": [
       "<matplotlib.axes._subplots.AxesSubplot at 0x21caef0a198>"
      ]
     },
     "execution_count": 180,
     "metadata": {},
     "output_type": "execute_result"
    },
    {
     "data": {
      "image/png": "[encoded data removed]",
      "text/plain": [
       "<matplotlib.figure.Figure at 0x21caf0096d8>"
      ]
     },
     "metadata": {},
     "output_type": "display_data"
    }
   ],
   "source": [
    "sns.distplot(listePredY2eNo3, color=\"red\")"
   ]
  },
  {
   "cell_type": "code",
   "execution_count": 175,
   "metadata": {},
   "outputs": [
    {
     "name": "stderr",
     "output_type": "stream",
     "text": [
      "C:\\Users\\i235jbp\\Anaconda3\\lib\\site-packages\\scipy\\stats\\stats.py:1706: FutureWarning: Using a non-tuple sequence for multidimensional indexing is deprecated; use `arr[tuple(seq)]` instead of `arr[seq]`. In the future this will be interpreted as an array index, `arr[np.array(seq)]`, which will result either in an error or a different result.\n",
      "  return np.add.reduce(sorted[indexer] * weights, axis=axis) / sumval\n"
     ]
    },
    {
     "data": {
      "image/png": "[encoded data removed]",
      "text/plain": [
       "<matplotlib.figure.Figure at 0x21caf1babe0>"
      ]
     },
     "metadata": {},
     "output_type": "display_data"
    }
   ],
   "source": [
    "import seaborn as sns\n",
    "sns.distplot(P_3_3, color=\"red\")\n",
    "filename = folderFig+'/P33.png'\n",
    "plt.savefig(filename)"
   ]
  },
  {
   "cell_type": "code",
   "execution_count": 179,
   "metadata": {},
   "outputs": [
    {
     "name": "stderr",
     "output_type": "stream",
     "text": [
      "C:\\Users\\i235jbp\\Anaconda3\\lib\\site-packages\\scipy\\stats\\stats.py:1706: FutureWarning: Using a non-tuple sequence for multidimensional indexing is deprecated; use `arr[tuple(seq)]` instead of `arr[seq]`. In the future this will be interpreted as an array index, `arr[np.array(seq)]`, which will result either in an error or a different result.\n",
      "  return np.add.reduce(sorted[indexer] * weights, axis=axis) / sumval\n"
     ]
    },
    {
     "data": {
      "text/plain": [
       "<matplotlib.axes._subplots.AxesSubplot at 0x21caf130780>"
      ]
     },
     "execution_count": 179,
     "metadata": {},
     "output_type": "execute_result"
    },
    {
     "data": {
      "image/png": "[encoded data removed]",
      "text/plain": [
       "<matplotlib.figure.Figure at 0x21caefdeda0>"
      ]
     },
     "metadata": {},
     "output_type": "display_data"
    }
   ],
   "source": [
    "import seaborn as sns\n",
    "sns.distplot(listePredY3eNo3, color=\"red\")\n",
    "# filename = folderFig+'/PP33.png'\n",
    "# plt.savefig(filename)"
   ]
  },
  {
   "cell_type": "code",
   "execution_count": 176,
   "metadata": {},
   "outputs": [
    {
     "name": "stderr",
     "output_type": "stream",
     "text": [
      "C:\\Users\\i235jbp\\Anaconda3\\lib\\site-packages\\scipy\\stats\\stats.py:1706: FutureWarning: Using a non-tuple sequence for multidimensional indexing is deprecated; use `arr[tuple(seq)]` instead of `arr[seq]`. In the future this will be interpreted as an array index, `arr[np.array(seq)]`, which will result either in an error or a different result.\n",
      "  return np.add.reduce(sorted[indexer] * weights, axis=axis) / sumval\n"
     ]
    },
    {
     "data": {
      "image/png": "[encoded data removed]",
      "text/plain": [
       "<matplotlib.figure.Figure at 0x21caf1b7ac8>"
      ]
     },
     "metadata": {},
     "output_type": "display_data"
    }
   ],
   "source": [
    "import seaborn as sns\n",
    "sns.distplot(P_4_3, color=\"orange\")\n",
    "filename = folderFig+'/P43.png'\n",
    "plt.savefig(filename)"
   ]
  },
  {
   "cell_type": "code",
   "execution_count": 143,
   "metadata": {},
   "outputs": [
    {
     "name": "stderr",
     "output_type": "stream",
     "text": [
      "C:\\Users\\i235jbp\\Anaconda3\\lib\\site-packages\\scipy\\stats\\stats.py:1706: FutureWarning: Using a non-tuple sequence for multidimensional indexing is deprecated; use `arr[tuple(seq)]` instead of `arr[seq]`. In the future this will be interpreted as an array index, `arr[np.array(seq)]`, which will result either in an error or a different result.\n",
      "  return np.add.reduce(sorted[indexer] * weights, axis=axis) / sumval\n"
     ]
    },
    {
     "data": {
      "image/png": "[encoded data removed]",
      "text/plain": [
       "<matplotlib.figure.Figure at 0x21caf62d4a8>"
      ]
     },
     "metadata": {},
     "output_type": "display_data"
    }
   ],
   "source": [
    "# plt.hist(P_2_2, 50, normed=1, facecolor='blue', alpha=0.5)\n",
    "sns.distplot(P_5_3, color=\"purple\")\n",
    "filename = folderFig+'/P53.png'\n",
    "plt.savefig(filename)"
   ]
  },
  {
   "cell_type": "code",
   "execution_count": 177,
   "metadata": {},
   "outputs": [
    {
     "name": "stderr",
     "output_type": "stream",
     "text": [
      "C:\\Users\\i235jbp\\Anaconda3\\lib\\site-packages\\scipy\\stats\\stats.py:1706: FutureWarning: Using a non-tuple sequence for multidimensional indexing is deprecated; use `arr[tuple(seq)]` instead of `arr[seq]`. In the future this will be interpreted as an array index, `arr[np.array(seq)]`, which will result either in an error or a different result.\n",
      "  return np.add.reduce(sorted[indexer] * weights, axis=axis) / sumval\n"
     ]
    },
    {
     "data": {
      "image/png": "[encoded data removed]",
      "text/plain": [
       "<matplotlib.figure.Figure at 0x21caefdfeb8>"
      ]
     },
     "metadata": {},
     "output_type": "display_data"
    }
   ],
   "source": [
    "# plt.hist(P_6_2, 50, normed=1, facecolor='red', alpha=0.5)\n",
    "sns.distplot(P_6_3, color=\"pink\")\n",
    "filename = folderFig+'/P63.png'\n",
    "plt.savefig(filename)"
   ]
  },
  {
   "cell_type": "code",
   "execution_count": null,
   "metadata": {},
   "outputs": [],
   "source": []
  },
  {
   "cell_type": "code",
   "execution_count": null,
   "metadata": {},
   "outputs": [],
   "source": []
  }
 ],
 "metadata": {
  "kernelspec": {
   "display_name": "Python 3",
   "language": "python",
   "name": "python3"
  },
  "language_info": {
   "codemirror_mode": {
    "name": "ipython",
    "version": 3
   },
   "file_extension": ".py",
   "mimetype": "text/x-python",
   "name": "python",
   "nbconvert_exporter": "python",
   "pygments_lexer": "ipython3",
   "version": "3.6.4"
  }
 },
 "nbformat": 4,
 "nbformat_minor": 2
}
