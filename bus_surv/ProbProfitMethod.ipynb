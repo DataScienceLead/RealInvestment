{
 "cells": [
  {
   "cell_type": "markdown",
   "metadata": {},
   "source": [
    "# Prob no3 - Method for calculating profitability "
   ]
  },
  {
   "cell_type": "code",
   "execution_count": 1,
   "metadata": {},
   "outputs": [],
   "source": [
    "import pandas as pd\n",
    "import numpy as np\n",
    "import random \n",
    "from scipy import linalg\n",
    "import math\n",
    "import matplotlib.pyplot as plt\n",
    "import scipy.stats"
   ]
  },
  {
   "cell_type": "code",
   "execution_count": 2,
   "metadata": {},
   "outputs": [],
   "source": [
    "dataset = \"C:/Users/i235jbp/Dropbox/PhD/Spørreundersøkelse/R/datasett_bus_surv_no2.csv\""
   ]
  },
  {
   "cell_type": "code",
   "execution_count": 156,
   "metadata": {},
   "outputs": [],
   "source": [
    "df = pd.read_csv(dataset, sep=\",\", engine='python')\n"
   ]
  },
  {
   "cell_type": "code",
   "execution_count": 21,
   "metadata": {},
   "outputs": [
    {
     "data": {
      "text/html": [
       "<div>\n",
       "<style scoped>\n",
       "    .dataframe tbody tr th:only-of-type {\n",
       "        vertical-align: middle;\n",
       "    }\n",
       "\n",
       "    .dataframe tbody tr th {\n",
       "        vertical-align: top;\n",
       "    }\n",
       "\n",
       "    .dataframe thead th {\n",
       "        text-align: right;\n",
       "    }\n",
       "</style>\n",
       "<table border=\"1\" class=\"dataframe\">\n",
       "  <thead>\n",
       "    <tr style=\"text-align: right;\">\n",
       "      <th></th>\n",
       "      <th>orgnr</th>\n",
       "      <th>orgnr_foretak</th>\n",
       "      <th>navn1</th>\n",
       "      <th>sector</th>\n",
       "      <th>bof_nace07</th>\n",
       "      <th>inves_fou</th>\n",
       "      <th>inves_fou_sale</th>\n",
       "      <th>inves_facilities</th>\n",
       "      <th>inves_facilities_sale</th>\n",
       "      <th>inves_plot</th>\n",
       "      <th>...</th>\n",
       "      <th>cashlimit</th>\n",
       "      <th>cashlimit1</th>\n",
       "      <th>equityFunding</th>\n",
       "      <th>debtFunding</th>\n",
       "      <th>signHurdle</th>\n",
       "      <th>sensitivity</th>\n",
       "      <th>hurdleRate</th>\n",
       "      <th>uncertainCash</th>\n",
       "      <th>_est_no21</th>\n",
       "      <th>_est_no22</th>\n",
       "    </tr>\n",
       "  </thead>\n",
       "  <tbody>\n",
       "    <tr>\n",
       "      <th>0</th>\n",
       "      <td>811279858</td>\n",
       "      <td>811280175</td>\n",
       "      <td>HOVLAND TREVAREFABRI</td>\n",
       "      <td>2100.0</td>\n",
       "      <td>16.232000</td>\n",
       "      <td>0.0</td>\n",
       "      <td>0.0</td>\n",
       "      <td>0.0</td>\n",
       "      <td>0.0</td>\n",
       "      <td>0.0</td>\n",
       "      <td>...</td>\n",
       "      <td>0</td>\n",
       "      <td>0</td>\n",
       "      <td>0</td>\n",
       "      <td>0</td>\n",
       "      <td>0</td>\n",
       "      <td>0</td>\n",
       "      <td>1</td>\n",
       "      <td>0</td>\n",
       "      <td>1</td>\n",
       "      <td>1</td>\n",
       "    </tr>\n",
       "    <tr>\n",
       "      <th>1</th>\n",
       "      <td>812749068</td>\n",
       "      <td>812749385</td>\n",
       "      <td>Bergene Holm AS</td>\n",
       "      <td>2100.0</td>\n",
       "      <td>16.100000</td>\n",
       "      <td>0.0</td>\n",
       "      <td>0.0</td>\n",
       "      <td>0.0</td>\n",
       "      <td>0.0</td>\n",
       "      <td>0.0</td>\n",
       "      <td>...</td>\n",
       "      <td>1</td>\n",
       "      <td>1</td>\n",
       "      <td>1</td>\n",
       "      <td>1</td>\n",
       "      <td>0</td>\n",
       "      <td>0</td>\n",
       "      <td>1</td>\n",
       "      <td>0</td>\n",
       "      <td>1</td>\n",
       "      <td>1</td>\n",
       "    </tr>\n",
       "    <tr>\n",
       "      <th>2</th>\n",
       "      <td>816063118</td>\n",
       "      <td>816063435</td>\n",
       "      <td>SNØGG AS</td>\n",
       "      <td>2100.0</td>\n",
       "      <td>21.200001</td>\n",
       "      <td>0.0</td>\n",
       "      <td>0.0</td>\n",
       "      <td>0.0</td>\n",
       "      <td>0.0</td>\n",
       "      <td>0.0</td>\n",
       "      <td>...</td>\n",
       "      <td>0</td>\n",
       "      <td>0</td>\n",
       "      <td>1</td>\n",
       "      <td>1</td>\n",
       "      <td>1</td>\n",
       "      <td>0</td>\n",
       "      <td>1</td>\n",
       "      <td>1</td>\n",
       "      <td>1</td>\n",
       "      <td>1</td>\n",
       "    </tr>\n",
       "    <tr>\n",
       "      <th>3</th>\n",
       "      <td>829093598</td>\n",
       "      <td>829093915</td>\n",
       "      <td>STRYN BETONGELEMENT</td>\n",
       "      <td>2100.0</td>\n",
       "      <td>23.610001</td>\n",
       "      <td>0.0</td>\n",
       "      <td>0.0</td>\n",
       "      <td>0.0</td>\n",
       "      <td>0.0</td>\n",
       "      <td>0.0</td>\n",
       "      <td>...</td>\n",
       "      <td>0</td>\n",
       "      <td>0</td>\n",
       "      <td>1</td>\n",
       "      <td>0</td>\n",
       "      <td>1</td>\n",
       "      <td>0</td>\n",
       "      <td>0</td>\n",
       "      <td>0</td>\n",
       "      <td>1</td>\n",
       "      <td>1</td>\n",
       "    </tr>\n",
       "    <tr>\n",
       "      <th>4</th>\n",
       "      <td>832008348</td>\n",
       "      <td>832008665</td>\n",
       "      <td>SKIBSPLAST A/S</td>\n",
       "      <td>2100.0</td>\n",
       "      <td>30.120001</td>\n",
       "      <td>0.0</td>\n",
       "      <td>0.0</td>\n",
       "      <td>0.0</td>\n",
       "      <td>0.0</td>\n",
       "      <td>0.0</td>\n",
       "      <td>...</td>\n",
       "      <td>0</td>\n",
       "      <td>0</td>\n",
       "      <td>0</td>\n",
       "      <td>1</td>\n",
       "      <td>1</td>\n",
       "      <td>0</td>\n",
       "      <td>1</td>\n",
       "      <td>0</td>\n",
       "      <td>1</td>\n",
       "      <td>1</td>\n",
       "    </tr>\n",
       "  </tbody>\n",
       "</table>\n",
       "<p>5 rows × 193 columns</p>\n",
       "</div>"
      ],
      "text/plain": [
       "       orgnr  orgnr_foretak                 navn1  sector  bof_nace07  \\\n",
       "0  811279858      811280175  HOVLAND TREVAREFABRI  2100.0   16.232000   \n",
       "1  812749068      812749385       Bergene Holm AS  2100.0   16.100000   \n",
       "2  816063118      816063435              SNØGG AS  2100.0   21.200001   \n",
       "3  829093598      829093915   STRYN BETONGELEMENT  2100.0   23.610001   \n",
       "4  832008348      832008665        SKIBSPLAST A/S  2100.0   30.120001   \n",
       "\n",
       "   inves_fou  inves_fou_sale  inves_facilities  inves_facilities_sale  \\\n",
       "0        0.0             0.0               0.0                    0.0   \n",
       "1        0.0             0.0               0.0                    0.0   \n",
       "2        0.0             0.0               0.0                    0.0   \n",
       "3        0.0             0.0               0.0                    0.0   \n",
       "4        0.0             0.0               0.0                    0.0   \n",
       "\n",
       "   inves_plot  ...  cashlimit  cashlimit1  equityFunding  debtFunding  \\\n",
       "0         0.0  ...          0           0              0            0   \n",
       "1         0.0  ...          1           1              1            1   \n",
       "2         0.0  ...          0           0              1            1   \n",
       "3         0.0  ...          0           0              1            0   \n",
       "4         0.0  ...          0           0              0            1   \n",
       "\n",
       "   signHurdle  sensitivity  hurdleRate  uncertainCash  _est_no21  _est_no22  \n",
       "0           0            0           1              0          1          1  \n",
       "1           0            0           1              0          1          1  \n",
       "2           1            0           1              1          1          1  \n",
       "3           1            0           0              0          1          1  \n",
       "4           1            0           1              0          1          1  \n",
       "\n",
       "[5 rows x 193 columns]"
      ]
     },
     "execution_count": 21,
     "metadata": {},
     "output_type": "execute_result"
    }
   ],
   "source": [
    "# df.drop(['navn', 'orgnr_foretak', 'f_postnr', 'sn07_1'], axis=1, inplace=True)\n",
    "df['orgnr'] = df['orgnr']-random.randint(1,1000)\n",
    "df['orgnr_foretak'] = df['orgnr_foretak']-random.randint(1,1000)\n",
    "df['employ'] = df['employ']+random.randint(1,15)\n",
    "df.head()\n"
   ]
  },
  {
   "cell_type": "code",
   "execution_count": 157,
   "metadata": {},
   "outputs": [],
   "source": [
    "df.drop(['navn1'], axis=1, inplace=True)"
   ]
  },
  {
   "cell_type": "code",
   "execution_count": 158,
   "metadata": {},
   "outputs": [],
   "source": [
    "df['higheduc'] = df['higheduc'].fillna(1)"
   ]
  },
  {
   "cell_type": "code",
   "execution_count": 159,
   "metadata": {},
   "outputs": [
    {
     "data": {
      "text/html": [
       "<div>\n",
       "<style scoped>\n",
       "    .dataframe tbody tr th:only-of-type {\n",
       "        vertical-align: middle;\n",
       "    }\n",
       "\n",
       "    .dataframe tbody tr th {\n",
       "        vertical-align: top;\n",
       "    }\n",
       "\n",
       "    .dataframe thead tr th {\n",
       "        text-align: left;\n",
       "    }\n",
       "\n",
       "    .dataframe thead tr:last-of-type th {\n",
       "        text-align: right;\n",
       "    }\n",
       "</style>\n",
       "<table border=\"1\" class=\"dataframe\">\n",
       "  <thead>\n",
       "    <tr>\n",
       "      <th></th>\n",
       "      <th colspan=\"8\" halign=\"left\">smallcap</th>\n",
       "      <th colspan=\"2\" halign=\"left\">largecap</th>\n",
       "      <th>...</th>\n",
       "      <th colspan=\"2\" halign=\"left\">profitratio</th>\n",
       "      <th colspan=\"8\" halign=\"left\">debt_asset</th>\n",
       "    </tr>\n",
       "    <tr>\n",
       "      <th></th>\n",
       "      <th>count</th>\n",
       "      <th>mean</th>\n",
       "      <th>std</th>\n",
       "      <th>min</th>\n",
       "      <th>25%</th>\n",
       "      <th>50%</th>\n",
       "      <th>75%</th>\n",
       "      <th>max</th>\n",
       "      <th>count</th>\n",
       "      <th>mean</th>\n",
       "      <th>...</th>\n",
       "      <th>75%</th>\n",
       "      <th>max</th>\n",
       "      <th>count</th>\n",
       "      <th>mean</th>\n",
       "      <th>std</th>\n",
       "      <th>min</th>\n",
       "      <th>25%</th>\n",
       "      <th>50%</th>\n",
       "      <th>75%</th>\n",
       "      <th>max</th>\n",
       "    </tr>\n",
       "    <tr>\n",
       "      <th>higheduc</th>\n",
       "      <th></th>\n",
       "      <th></th>\n",
       "      <th></th>\n",
       "      <th></th>\n",
       "      <th></th>\n",
       "      <th></th>\n",
       "      <th></th>\n",
       "      <th></th>\n",
       "      <th></th>\n",
       "      <th></th>\n",
       "      <th></th>\n",
       "      <th></th>\n",
       "      <th></th>\n",
       "      <th></th>\n",
       "      <th></th>\n",
       "      <th></th>\n",
       "      <th></th>\n",
       "      <th></th>\n",
       "      <th></th>\n",
       "      <th></th>\n",
       "      <th></th>\n",
       "    </tr>\n",
       "  </thead>\n",
       "  <tbody>\n",
       "    <tr>\n",
       "      <th>-99.0</th>\n",
       "      <td>11.0</td>\n",
       "      <td>0.181818</td>\n",
       "      <td>0.404520</td>\n",
       "      <td>0.0</td>\n",
       "      <td>0.0</td>\n",
       "      <td>0.0</td>\n",
       "      <td>0.0</td>\n",
       "      <td>1.0</td>\n",
       "      <td>11.0</td>\n",
       "      <td>0.363636</td>\n",
       "      <td>...</td>\n",
       "      <td>9.631556</td>\n",
       "      <td>25.566904</td>\n",
       "      <td>8.0</td>\n",
       "      <td>0.650844</td>\n",
       "      <td>0.146475</td>\n",
       "      <td>0.424696</td>\n",
       "      <td>0.551677</td>\n",
       "      <td>0.664877</td>\n",
       "      <td>0.758505</td>\n",
       "      <td>0.837235</td>\n",
       "    </tr>\n",
       "    <tr>\n",
       "      <th>0.0</th>\n",
       "      <td>112.0</td>\n",
       "      <td>0.437500</td>\n",
       "      <td>0.498308</td>\n",
       "      <td>0.0</td>\n",
       "      <td>0.0</td>\n",
       "      <td>0.0</td>\n",
       "      <td>1.0</td>\n",
       "      <td>1.0</td>\n",
       "      <td>112.0</td>\n",
       "      <td>0.178571</td>\n",
       "      <td>...</td>\n",
       "      <td>9.647695</td>\n",
       "      <td>39.085167</td>\n",
       "      <td>102.0</td>\n",
       "      <td>0.655571</td>\n",
       "      <td>0.186282</td>\n",
       "      <td>0.222080</td>\n",
       "      <td>0.531975</td>\n",
       "      <td>0.660767</td>\n",
       "      <td>0.790876</td>\n",
       "      <td>1.091215</td>\n",
       "    </tr>\n",
       "    <tr>\n",
       "      <th>1.0</th>\n",
       "      <td>186.0</td>\n",
       "      <td>0.327957</td>\n",
       "      <td>0.470736</td>\n",
       "      <td>0.0</td>\n",
       "      <td>0.0</td>\n",
       "      <td>0.0</td>\n",
       "      <td>1.0</td>\n",
       "      <td>1.0</td>\n",
       "      <td>186.0</td>\n",
       "      <td>0.188172</td>\n",
       "      <td>...</td>\n",
       "      <td>9.487511</td>\n",
       "      <td>27.591383</td>\n",
       "      <td>176.0</td>\n",
       "      <td>0.621708</td>\n",
       "      <td>0.200992</td>\n",
       "      <td>0.118737</td>\n",
       "      <td>0.492791</td>\n",
       "      <td>0.626493</td>\n",
       "      <td>0.765255</td>\n",
       "      <td>1.311110</td>\n",
       "    </tr>\n",
       "  </tbody>\n",
       "</table>\n",
       "<p>3 rows × 96 columns</p>\n",
       "</div>"
      ],
      "text/plain": [
       "         smallcap                                              largecap  \\\n",
       "            count      mean       std  min  25%  50%  75%  max    count   \n",
       "higheduc                                                                  \n",
       "-99.0        11.0  0.181818  0.404520  0.0  0.0  0.0  0.0  1.0     11.0   \n",
       " 0.0        112.0  0.437500  0.498308  0.0  0.0  0.0  1.0  1.0    112.0   \n",
       " 1.0        186.0  0.327957  0.470736  0.0  0.0  0.0  1.0  1.0    186.0   \n",
       "\n",
       "                    ... profitratio            debt_asset                      \\\n",
       "              mean  ...         75%        max      count      mean       std   \n",
       "higheduc            ...                                                         \n",
       "-99.0     0.363636  ...    9.631556  25.566904        8.0  0.650844  0.146475   \n",
       " 0.0      0.178571  ...    9.647695  39.085167      102.0  0.655571  0.186282   \n",
       " 1.0      0.188172  ...    9.487511  27.591383      176.0  0.621708  0.200992   \n",
       "\n",
       "                                                            \n",
       "               min       25%       50%       75%       max  \n",
       "higheduc                                                    \n",
       "-99.0     0.424696  0.551677  0.664877  0.758505  0.837235  \n",
       " 0.0      0.222080  0.531975  0.660767  0.790876  1.091215  \n",
       " 1.0      0.118737  0.492791  0.626493  0.765255  1.311110  \n",
       "\n",
       "[3 rows x 96 columns]"
      ]
     },
     "execution_count": 159,
     "metadata": {},
     "output_type": "execute_result"
    }
   ],
   "source": [
    "df_shortlong3.groupby('higheduc').describe()"
   ]
  },
  {
   "cell_type": "code",
   "execution_count": 162,
   "metadata": {},
   "outputs": [
    {
     "data": {
      "text/html": [
       "<div>\n",
       "<style scoped>\n",
       "    .dataframe tbody tr th:only-of-type {\n",
       "        vertical-align: middle;\n",
       "    }\n",
       "\n",
       "    .dataframe tbody tr th {\n",
       "        vertical-align: top;\n",
       "    }\n",
       "\n",
       "    .dataframe thead th {\n",
       "        text-align: right;\n",
       "    }\n",
       "</style>\n",
       "<table border=\"1\" class=\"dataframe\">\n",
       "  <thead>\n",
       "    <tr style=\"text-align: right;\">\n",
       "      <th></th>\n",
       "      <th>count</th>\n",
       "      <th>mean</th>\n",
       "      <th>std</th>\n",
       "      <th>min</th>\n",
       "      <th>25%</th>\n",
       "      <th>50%</th>\n",
       "      <th>75%</th>\n",
       "      <th>max</th>\n",
       "    </tr>\n",
       "    <tr>\n",
       "      <th>higheduc</th>\n",
       "      <th></th>\n",
       "      <th></th>\n",
       "      <th></th>\n",
       "      <th></th>\n",
       "      <th></th>\n",
       "      <th></th>\n",
       "      <th></th>\n",
       "      <th></th>\n",
       "    </tr>\n",
       "  </thead>\n",
       "  <tbody>\n",
       "    <tr>\n",
       "      <th>0.0</th>\n",
       "      <td>112.0</td>\n",
       "      <td>2.348214</td>\n",
       "      <td>1.257123</td>\n",
       "      <td>1.0</td>\n",
       "      <td>1.0</td>\n",
       "      <td>2.0</td>\n",
       "      <td>3.0</td>\n",
       "      <td>5.0</td>\n",
       "    </tr>\n",
       "    <tr>\n",
       "      <th>1.0</th>\n",
       "      <td>197.0</td>\n",
       "      <td>-1.000000</td>\n",
       "      <td>18.902813</td>\n",
       "      <td>-99.0</td>\n",
       "      <td>1.0</td>\n",
       "      <td>2.0</td>\n",
       "      <td>4.0</td>\n",
       "      <td>5.0</td>\n",
       "    </tr>\n",
       "  </tbody>\n",
       "</table>\n",
       "</div>"
      ],
      "text/plain": [
       "          count      mean        std   min  25%  50%  75%  max\n",
       "higheduc                                                      \n",
       "0.0       112.0  2.348214   1.257123   1.0  1.0  2.0  3.0  5.0\n",
       "1.0       197.0 -1.000000  18.902813 -99.0  1.0  2.0  4.0  5.0"
      ]
     },
     "execution_count": 162,
     "metadata": {},
     "output_type": "execute_result"
    }
   ],
   "source": [
    "df['no9'].groupby(df['higheduc']).describe()"
   ]
  },
  {
   "cell_type": "code",
   "execution_count": null,
   "metadata": {},
   "outputs": [],
   "source": []
  },
  {
   "cell_type": "code",
   "execution_count": 197,
   "metadata": {},
   "outputs": [],
   "source": [
    "# list of explanatory variables, important to stack the variables and estimated parametes in the same order\n",
    "explanatoryNo3 = ['higheduc', 'smallcap','largecap',  'subsidary', 'no2_1', 'no2_2', 'sensitivity' ,'hurdleRate']\n",
    "explanatoryLong = ['higheduc', 'smallcap','largecap',  'subsidary', 'no2_1', 'no2_2', 'sensitivity' ,'hurdleRate', 'no3_1', 'no3_2', 'no3_3','no3_4', 'no3_5', 'no3_6', 'profitratio', 'debt_asset']\n",
    "\n",
    "# make a new df\n",
    "df_short3 = df.copy(deep=True)\n",
    "df_shortlong3 = df.copy(deep=True)"
   ]
  },
  {
   "cell_type": "code",
   "execution_count": 127,
   "metadata": {},
   "outputs": [],
   "source": [
    "# df_short3.isnull()"
   ]
  },
  {
   "cell_type": "code",
   "execution_count": 198,
   "metadata": {},
   "outputs": [
    {
     "data": {
      "text/html": [
       "<div>\n",
       "<style scoped>\n",
       "    .dataframe tbody tr th:only-of-type {\n",
       "        vertical-align: middle;\n",
       "    }\n",
       "\n",
       "    .dataframe tbody tr th {\n",
       "        vertical-align: top;\n",
       "    }\n",
       "\n",
       "    .dataframe thead th {\n",
       "        text-align: right;\n",
       "    }\n",
       "</style>\n",
       "<table border=\"1\" class=\"dataframe\">\n",
       "  <thead>\n",
       "    <tr style=\"text-align: right;\">\n",
       "      <th></th>\n",
       "      <th>higheduc</th>\n",
       "      <th>smallcap</th>\n",
       "      <th>largecap</th>\n",
       "      <th>subsidary</th>\n",
       "      <th>no2_1</th>\n",
       "      <th>no2_2</th>\n",
       "      <th>sensitivity</th>\n",
       "      <th>hurdleRate</th>\n",
       "      <th>no3_1</th>\n",
       "      <th>no3_2</th>\n",
       "      <th>no3_3</th>\n",
       "      <th>no3_4</th>\n",
       "      <th>no3_5</th>\n",
       "      <th>no3_6</th>\n",
       "      <th>profitratio</th>\n",
       "      <th>debt_asset</th>\n",
       "    </tr>\n",
       "  </thead>\n",
       "  <tbody>\n",
       "    <tr>\n",
       "      <th>0</th>\n",
       "      <td>0.0</td>\n",
       "      <td>1</td>\n",
       "      <td>0</td>\n",
       "      <td>0</td>\n",
       "      <td>1</td>\n",
       "      <td>1</td>\n",
       "      <td>0</td>\n",
       "      <td>1</td>\n",
       "      <td>0</td>\n",
       "      <td>0</td>\n",
       "      <td>0</td>\n",
       "      <td>0</td>\n",
       "      <td>0</td>\n",
       "      <td>1</td>\n",
       "      <td>-5.655974</td>\n",
       "      <td>0.742152</td>\n",
       "    </tr>\n",
       "    <tr>\n",
       "      <th>1</th>\n",
       "      <td>1.0</td>\n",
       "      <td>0</td>\n",
       "      <td>1</td>\n",
       "      <td>0</td>\n",
       "      <td>2</td>\n",
       "      <td>2</td>\n",
       "      <td>0</td>\n",
       "      <td>1</td>\n",
       "      <td>0</td>\n",
       "      <td>0</td>\n",
       "      <td>0</td>\n",
       "      <td>1</td>\n",
       "      <td>0</td>\n",
       "      <td>0</td>\n",
       "      <td>6.764232</td>\n",
       "      <td>0.569669</td>\n",
       "    </tr>\n",
       "    <tr>\n",
       "      <th>2</th>\n",
       "      <td>1.0</td>\n",
       "      <td>1</td>\n",
       "      <td>0</td>\n",
       "      <td>0</td>\n",
       "      <td>2</td>\n",
       "      <td>2</td>\n",
       "      <td>0</td>\n",
       "      <td>1</td>\n",
       "      <td>0</td>\n",
       "      <td>1</td>\n",
       "      <td>1</td>\n",
       "      <td>0</td>\n",
       "      <td>0</td>\n",
       "      <td>0</td>\n",
       "      <td>1.205634</td>\n",
       "      <td>0.623949</td>\n",
       "    </tr>\n",
       "    <tr>\n",
       "      <th>3</th>\n",
       "      <td>0.0</td>\n",
       "      <td>1</td>\n",
       "      <td>0</td>\n",
       "      <td>0</td>\n",
       "      <td>3</td>\n",
       "      <td>0</td>\n",
       "      <td>0</td>\n",
       "      <td>0</td>\n",
       "      <td>0</td>\n",
       "      <td>0</td>\n",
       "      <td>0</td>\n",
       "      <td>0</td>\n",
       "      <td>0</td>\n",
       "      <td>1</td>\n",
       "      <td>-4.339672</td>\n",
       "      <td>0.737397</td>\n",
       "    </tr>\n",
       "    <tr>\n",
       "      <th>4</th>\n",
       "      <td>0.0</td>\n",
       "      <td>1</td>\n",
       "      <td>0</td>\n",
       "      <td>0</td>\n",
       "      <td>1</td>\n",
       "      <td>2</td>\n",
       "      <td>0</td>\n",
       "      <td>1</td>\n",
       "      <td>0</td>\n",
       "      <td>0</td>\n",
       "      <td>0</td>\n",
       "      <td>0</td>\n",
       "      <td>1</td>\n",
       "      <td>0</td>\n",
       "      <td>-29.164217</td>\n",
       "      <td>0.836163</td>\n",
       "    </tr>\n",
       "  </tbody>\n",
       "</table>\n",
       "</div>"
      ],
      "text/plain": [
       "   higheduc  smallcap  largecap  subsidary  no2_1  no2_2  sensitivity  \\\n",
       "0       0.0         1         0          0      1      1            0   \n",
       "1       1.0         0         1          0      2      2            0   \n",
       "2       1.0         1         0          0      2      2            0   \n",
       "3       0.0         1         0          0      3      0            0   \n",
       "4       0.0         1         0          0      1      2            0   \n",
       "\n",
       "   hurdleRate  no3_1  no3_2  no3_3  no3_4  no3_5  no3_6  profitratio  \\\n",
       "0           1      0      0      0      0      0      1    -5.655974   \n",
       "1           1      0      0      0      1      0      0     6.764232   \n",
       "2           1      0      1      1      0      0      0     1.205634   \n",
       "3           0      0      0      0      0      0      1    -4.339672   \n",
       "4           1      0      0      0      0      1      0   -29.164217   \n",
       "\n",
       "   debt_asset  \n",
       "0    0.742152  \n",
       "1    0.569669  \n",
       "2    0.623949  \n",
       "3    0.737397  \n",
       "4    0.836163  "
      ]
     },
     "execution_count": 198,
     "metadata": {},
     "output_type": "execute_result"
    }
   ],
   "source": [
    "df_short3=df_short3.loc[:,explanatoryNo3]\n",
    "df_shortlong3=df_shortlong3.loc[:,explanatoryLong]\n",
    "\n",
    "# df_short3 = df_short3.dropna(axis=0, how='any')\n",
    "df_shortlong3.head()"
   ]
  },
  {
   "cell_type": "code",
   "execution_count": null,
   "metadata": {},
   "outputs": [],
   "source": []
  },
  {
   "cell_type": "code",
   "execution_count": 199,
   "metadata": {},
   "outputs": [
    {
     "data": {
      "text/html": [
       "<div>\n",
       "<style scoped>\n",
       "    .dataframe tbody tr th:only-of-type {\n",
       "        vertical-align: middle;\n",
       "    }\n",
       "\n",
       "    .dataframe tbody tr th {\n",
       "        vertical-align: top;\n",
       "    }\n",
       "\n",
       "    .dataframe thead th {\n",
       "        text-align: right;\n",
       "    }\n",
       "</style>\n",
       "<table border=\"1\" class=\"dataframe\">\n",
       "  <thead>\n",
       "    <tr style=\"text-align: right;\">\n",
       "      <th></th>\n",
       "      <th>higheduc</th>\n",
       "      <th>smallcap</th>\n",
       "      <th>largecap</th>\n",
       "      <th>subsidary</th>\n",
       "      <th>no2_1</th>\n",
       "      <th>no2_2</th>\n",
       "      <th>sensitivity</th>\n",
       "      <th>hurdleRate</th>\n",
       "      <th>no3_1</th>\n",
       "      <th>no3_2</th>\n",
       "      <th>no3_3</th>\n",
       "      <th>no3_4</th>\n",
       "      <th>no3_5</th>\n",
       "      <th>no3_6</th>\n",
       "      <th>profitratio</th>\n",
       "      <th>debt_asset</th>\n",
       "    </tr>\n",
       "  </thead>\n",
       "  <tbody>\n",
       "    <tr>\n",
       "      <th>count</th>\n",
       "      <td>309</td>\n",
       "      <td>309</td>\n",
       "      <td>309</td>\n",
       "      <td>309</td>\n",
       "      <td>309</td>\n",
       "      <td>309</td>\n",
       "      <td>309</td>\n",
       "      <td>309</td>\n",
       "      <td>309</td>\n",
       "      <td>309</td>\n",
       "      <td>309</td>\n",
       "      <td>309</td>\n",
       "      <td>309</td>\n",
       "      <td>309</td>\n",
       "      <td>309</td>\n",
       "      <td>309</td>\n",
       "    </tr>\n",
       "    <tr>\n",
       "      <th>unique</th>\n",
       "      <td>1</td>\n",
       "      <td>1</td>\n",
       "      <td>1</td>\n",
       "      <td>1</td>\n",
       "      <td>1</td>\n",
       "      <td>1</td>\n",
       "      <td>1</td>\n",
       "      <td>1</td>\n",
       "      <td>1</td>\n",
       "      <td>1</td>\n",
       "      <td>1</td>\n",
       "      <td>1</td>\n",
       "      <td>1</td>\n",
       "      <td>1</td>\n",
       "      <td>2</td>\n",
       "      <td>2</td>\n",
       "    </tr>\n",
       "    <tr>\n",
       "      <th>top</th>\n",
       "      <td>False</td>\n",
       "      <td>False</td>\n",
       "      <td>False</td>\n",
       "      <td>False</td>\n",
       "      <td>False</td>\n",
       "      <td>False</td>\n",
       "      <td>False</td>\n",
       "      <td>False</td>\n",
       "      <td>False</td>\n",
       "      <td>False</td>\n",
       "      <td>False</td>\n",
       "      <td>False</td>\n",
       "      <td>False</td>\n",
       "      <td>False</td>\n",
       "      <td>False</td>\n",
       "      <td>False</td>\n",
       "    </tr>\n",
       "    <tr>\n",
       "      <th>freq</th>\n",
       "      <td>309</td>\n",
       "      <td>309</td>\n",
       "      <td>309</td>\n",
       "      <td>309</td>\n",
       "      <td>309</td>\n",
       "      <td>309</td>\n",
       "      <td>309</td>\n",
       "      <td>309</td>\n",
       "      <td>309</td>\n",
       "      <td>309</td>\n",
       "      <td>309</td>\n",
       "      <td>309</td>\n",
       "      <td>309</td>\n",
       "      <td>309</td>\n",
       "      <td>286</td>\n",
       "      <td>286</td>\n",
       "    </tr>\n",
       "  </tbody>\n",
       "</table>\n",
       "</div>"
      ],
      "text/plain": [
       "       higheduc smallcap largecap subsidary  no2_1  no2_2 sensitivity  \\\n",
       "count       309      309      309       309    309    309         309   \n",
       "unique        1        1        1         1      1      1           1   \n",
       "top       False    False    False     False  False  False       False   \n",
       "freq        309      309      309       309    309    309         309   \n",
       "\n",
       "       hurdleRate  no3_1  no3_2  no3_3  no3_4  no3_5  no3_6 profitratio  \\\n",
       "count         309    309    309    309    309    309    309         309   \n",
       "unique          1      1      1      1      1      1      1           2   \n",
       "top         False  False  False  False  False  False  False       False   \n",
       "freq          309    309    309    309    309    309    309         286   \n",
       "\n",
       "       debt_asset  \n",
       "count         309  \n",
       "unique          2  \n",
       "top         False  \n",
       "freq          286  "
      ]
     },
     "execution_count": 199,
     "metadata": {},
     "output_type": "execute_result"
    }
   ],
   "source": [
    "df_shortlong3.isnull().describe()"
   ]
  },
  {
   "cell_type": "code",
   "execution_count": 200,
   "metadata": {},
   "outputs": [],
   "source": [
    "# df_short.dropna(axis=0, how='any', inplace=True)\n",
    "X_3 = df_short3.values\n",
    "y_31 = df_shortlong3['no3_1'].values\n",
    "y_32 = df_shortlong3['no3_2'].values\n",
    "y_33 = df_shortlong3['no3_3'].values\n",
    "y_34 = df_shortlong3['no3_4'].values\n",
    "y_35 = df_shortlong3['no3_5'].values\n",
    "y_36 = df_shortlong3['no3_6'].values\n"
   ]
  },
  {
   "cell_type": "markdown",
   "metadata": {},
   "source": [
    "## Regresjonsresultater\n",
    "\n",
    "                    EAC   &      IRR   &        NPV   &       Payback   &      Other models   &        No model   \\\\\n",
    "Small cap    &       0.047   &      -0.142   &      -1.152***&      -0.183   &       0.940*  &       0.544   \\\\\n",
    "Large cap    &       0.426   &       1.265***&       0.956** &       0.292   &       1.154** &           .   \\\\\n",
    "Higher education    &       0.282   &       0.626*  &       0.857** &       0.259   &      -0.305   &      -1.046** \\\\\n",
    "Subsidiary   &       0.588   &       0.583*  &      -0.217   &       0.465   &       0.048   &      -1.009   \\\\\n",
    "Freq. of EquityFunding       &       0.459   &       0.244   &      -0.565** &       0.287   &       0.554   &      -0.538   \\\\\n",
    "Freq of DebtFunding       &      -0.288   &       0.064   &      -0.522***&       0.201   &       0.435** &      -0.013   \\\\\n",
    "Sensitivity analysis &      -0.251   &       1.348***&       1.167***&       0.274   &      -0.598   &           .   \\\\\n",
    "Imp. of HurdleRate  &       1.637   &       2.404***&       2.054***&       0.943** &      -0.093   &      -3.212***\n",
    "\n",
    "explanatoryNo3 = ['higheduc', 'smallcap','largecap',  'subsidary', 'no2_1', 'no2_2', 'sensitivity' ,'hurdleRate']"
   ]
  },
  {
   "cell_type": "code",
   "execution_count": 164,
   "metadata": {},
   "outputs": [],
   "source": [
    "beta_1_3 = ([.2819157  , .0472377 , .4256163   ,.5881743  , .4585202 ,  -.2878372 ,  -.2507269  , 1.637389  ])"
   ]
  },
  {
   "cell_type": "code",
   "execution_count": 165,
   "metadata": {},
   "outputs": [],
   "source": [
    "beta_2_3 = ([ .6263949  , -.1415472  ,  1.26501  ,    .5826111 ,  .2440681  , .0642679 ,  1.347802  , 2.403717])"
   ]
  },
  {
   "cell_type": "code",
   "execution_count": 166,
   "metadata": {},
   "outputs": [],
   "source": [
    "beta_3_3= ([.8571165 ,  -1.151734  , .9563701  ,  -.2174719  ,-.5650719  , -.5221819   ,1.166898 ,  2.054198])"
   ]
  },
  {
   "cell_type": "code",
   "execution_count": 167,
   "metadata": {},
   "outputs": [],
   "source": [
    "beta_4_3 = ([.2585995  , -.182598 ,  .2923246 ,   .4650673 ,  .2873178  , .2006496  ,  .274211 ,  .9434336])"
   ]
  },
  {
   "cell_type": "code",
   "execution_count": 168,
   "metadata": {},
   "outputs": [],
   "source": [
    "beta_5_3= ([-.3047959 ,  .9404743,   1.154397  ,  .0480909  , .5539917  , .4347656 ,  -.5976469  , -.0926396 ])"
   ]
  },
  {
   "cell_type": "code",
   "execution_count": 169,
   "metadata": {},
   "outputs": [],
   "source": [
    "beta_6_3 = ([-1.046108 , .5441672 ,         0   , -1.008954   ,-.5377209  , -.0127514     ,    0 ,  -3.212488 ])"
   ]
  },
  {
   "cell_type": "code",
   "execution_count": 170,
   "metadata": {},
   "outputs": [],
   "source": [
    "# Threshold for no3_1\n",
    "cut_1_3 =  [-4.751879] \n",
    "\n",
    "#Threshold for no3_2\n",
    "cut_2_3 =[-5.332868] \n",
    "\n",
    "#Threshold for no3_3\n",
    "cut_3_3 =[-1.165978 ]\n",
    "\n",
    "#Threshold for no2_4\n",
    "cut_4_3 =[ -3.636997 ]\n",
    "\n",
    "#Threshold for no2_5\n",
    "cut_5_3 =[ -3.579774]\n",
    "\n",
    "#Threshold for no2_6\n",
    "cut_6_3 =[3.143438]\n",
    "\n",
    "#  _cons              -4.752**        -5.333***       -1.166          -3.637***       -3.580**         3.143*  \n",
    "\n",
    " "
   ]
  },
  {
   "cell_type": "code",
   "execution_count": 171,
   "metadata": {},
   "outputs": [
    {
     "name": "stdout",
     "output_type": "stream",
     "text": [
      "-4.751879 -5.332868 -1.165978 -3.636997 3.143438\n"
     ]
    }
   ],
   "source": [
    "cut_avg_1_3 = 1/len(cut_1_3) * sum(cut_1_3) \n",
    "\n",
    "#Threshold for no2_2\n",
    "cut_avg_2_3 = 1/len(cut_2_3) * sum(cut_2_3) \n",
    "\n",
    "#Threshold for no2_3\n",
    "cut_avg_3_3 = 1/len(cut_3_3) * sum(cut_3_3) \n",
    "\n",
    "#Threshold for no2_4\n",
    "cut_avg_4_3 = 1/len(cut_4_3) * sum(cut_4_3) \n",
    "\n",
    "#Threshold for no2_5\n",
    "# cut_avg_5_3 = 1/len(cut_5_3) * sum(cut_5_3) \n",
    "\n",
    "#Threshold for no2_6\n",
    "cut_avg_6_3 = 1/len(cut_6_3) * sum(cut_6_3) \n",
    "print(cut_avg_1_3, cut_avg_2_3, cut_avg_3_3, cut_avg_4_3, cut_avg_6_3)\n",
    "#  cut_avg_5_3,"
   ]
  },
  {
   "cell_type": "code",
   "execution_count": 213,
   "metadata": {},
   "outputs": [
    {
     "name": "stdout",
     "output_type": "stream",
     "text": [
      "0.7150762557133207\n"
     ]
    }
   ],
   "source": [
    "### Testcase for prediksjon på en enkelt bedrift\n",
    "SumYNo3 = ( math.exp(-cut_avg_1_3 + X_3[10:11]@beta_1_3)+\n",
    "        math.exp(-cut_avg_2_3 + X_3[10:11]@beta_2_3) + \n",
    "        math.exp(-cut_avg_3_3 + X_3[10:11]@beta_3_3) + \n",
    "        math.exp(-cut_avg_4_3 + X_3[10:11]@beta_4_3) +  \n",
    "        math.exp(-cut_avg_6_3 + X_3[10:11]@beta_6_3))\n",
    "#      math.exp(-cut_avg_5_3 + X_3[0:1]@beta_5_3) + \n",
    "   \n",
    "# PredY1eNo2 = math.exp(-cut_avg_1_2 + X_2[0:1]@beta_1_2) /SumYNo2\n",
    "PredY2eNo2_test = math.exp(-cut_avg_2_3 + X_3[10:11]@beta_2_3) /SumYNo3\n",
    "# PredY3eNo2 = math.exp(-cut_avg_3_2 + X_2[0:1]@beta_3_2) /SumYNo2 \n",
    "# PredY4eNo2 = math.exp(-cut_avg_4_2 + X_2[0:1]@beta_4_2) /SumYNo2\n",
    "# PredY5eNo2 = math.exp(-cut_avg_5_2 + X_2[0:1]@beta_5_2) /SumYNo2\n",
    "# PredY6eNo2 = math.exp(-cut_avg_6_2 + X_2[0:1]@beta_6_2) /SumYNo2\n",
    "\n",
    "print(PredY2eNo2_test)"
   ]
  },
  {
   "cell_type": "code",
   "execution_count": 218,
   "metadata": {},
   "outputs": [
    {
     "name": "stdout",
     "output_type": "stream",
     "text": [
      "[0.19123335]\n"
     ]
    }
   ],
   "source": [
    "Z_1 = cut_avg_2_3 + X_3[100:101]@beta_2_3\n",
    "pred_1 = 1/(1+np.exp(-Z_1))\n",
    "print(pred_1)"
   ]
  },
  {
   "cell_type": "code",
   "execution_count": 211,
   "metadata": {},
   "outputs": [
    {
     "name": "stdout",
     "output_type": "stream",
     "text": [
      "200.33680997479166 2.718281828459045 36.59823444367799 36.59823444367799\n"
     ]
    },
    {
     "data": {
      "text/plain": [
       "[0.6263949,\n",
       " -0.1415472,\n",
       " 1.26501,\n",
       " 0.5826111,\n",
       " 0.2440681,\n",
       " 0.0642679,\n",
       " 1.347802,\n",
       " 2.403717]"
      ]
     },
     "execution_count": 211,
     "metadata": {},
     "output_type": "execute_result"
    }
   ],
   "source": [
    "math.exp(-cut_avg_2_3 + X_3[55:56]@beta_2_3) \n",
    "print(math.exp(5.3), math.exp(1), math.exp(3.6), np.exp(3.6))\n",
    "beta_2_3"
   ]
  },
  {
   "cell_type": "code",
   "execution_count": 174,
   "metadata": {},
   "outputs": [],
   "source": [
    "# Lage lister som kan holde predikert verdi\n",
    "listeSumYNo3 = []\n",
    "listePredY1eNo3 = []\n",
    "listePredY2eNo3 = []\n",
    "listePredY3eNo3 = []\n",
    "listePredY4eNo3 = []\n",
    "# listePredY5eNo3 = []\n",
    "listePredY6eNo3 = []\n",
    "\n",
    "# Regne ut X*Beta i løkke for hver enkelt bedrift\n",
    "\n",
    "for i in range(len(X_3)):\n",
    "    pred_i = [math.exp(-cut_avg_1_3 + X_3[0+i:1+i]@beta_1_3)]\n",
    "    listePredY1eNo3.append(pred_i[0]) \n",
    "\n",
    "for i in range(len(X_3)):\n",
    "    pred_i = [math.exp(-cut_avg_2_3 + X_3[0+i:1+i]@beta_2_3)]\n",
    "    listePredY2eNo3.append(pred_i[0]) \n",
    "    \n",
    "    \n",
    "for i in range(len(X_3)):\n",
    "    pred_i = [math.exp(-cut_avg_3_3 + X_3[0+i:1+i]@beta_3_3)]\n",
    "    listePredY3eNo3.append(pred_i[0]) \n",
    "\n",
    "for i in range(len(X_3)):\n",
    "    pred_i = [math.exp(-cut_avg_4_3 + X_3[0+i:1+i]@beta_4_3)]\n",
    "    listePredY4eNo3.append(pred_i[0]) \n",
    "\n",
    "# for i in range(len(X_3)):\n",
    "#     pred_i = [math.exp(-cut_avg_5_3 + X_3[0+i:1+i]@beta_5_3)]\n",
    "#     listePredY5eNo3.append(pred_i[0]) \n",
    "\n",
    "for i in range(len(X_3)):\n",
    "    pred_i = [math.exp(-cut_avg_6_3 + X_3[0+i:1+i]@beta_6_3)]\n",
    "    listePredY6eNo3.append(pred_i[0]) \n",
    "\n",
    "   \n",
    "# med, min, max\n"
   ]
  },
  {
   "cell_type": "code",
   "execution_count": 233,
   "metadata": {},
   "outputs": [],
   "source": [
    "# Lage lister som kan holde predikert verdi\n",
    "listeSumY = []\n",
    "listePredY1e = []\n",
    "listePredY2e = []\n",
    "listePredY3e = []\n",
    "listePredY4e = []\n",
    "# listePredY5eNo3 = [] -- referansekategori\n",
    "listePredY6e = []\n",
    "\n",
    "# Regne ut X*Beta i løkke for hver enkelt bedrift\n",
    "\n",
    "for i in range(len(X_3)):\n",
    "    Z_i = (-cut_avg_1_3 + X_3[0+i:1+i]@beta_1_3)\n",
    "    pred_i = [1 / (1 + math.exp(Z_i))]\n",
    "    listePredY1e.append(pred_i[0]) \n",
    "\n",
    "    \n",
    "for i in range(len(X_3)):\n",
    "    Z_i = (-cut_avg_2_3 + X_3[0+i:1+i]@beta_2_3)\n",
    "    pred_i = [1 / (1 + math.exp(Z_i))]\n",
    "    listePredY2e.append(pred_i[0]) \n",
    "\n",
    "for i in range(len(X_3)):\n",
    "    Z_i = (-cut_avg_3_3 + X_3[0+i:1+i]@beta_3_3)\n",
    "    pred_i = [1 / (1 + math.exp(Z_i))]\n",
    "    listePredY3e.append(pred_i[0]) \n",
    "    \n",
    "for i in range(len(X_3)):\n",
    "    Z_i = (-cut_avg_4_3 + X_3[0+i:1+i]@beta_4_3)\n",
    "    pred_i = [1 / (1 + math.exp(Z_i))]\n",
    "    listePredY4e.append(pred_i[0]) \n",
    "    \n",
    "for i in range(len(X_3)):\n",
    "    Z_i = (-cut_avg_6_3 + X_3[0+i:1+i]@beta_6_3)\n",
    "    pred_i = [1 / (1 + math.exp(Z_i))]\n",
    "    listePredY6e.append(pred_i[0]) \n",
    "    \n",
    "listeSumY = [ x+y+z+u+t for x , y, z, u, t in zip(listePredY1e, listePredY2e,listePredY3e,listePredY4e,listePredY6e)]\n",
    "\n"
   ]
  },
  {
   "cell_type": "code",
   "execution_count": 236,
   "metadata": {},
   "outputs": [
    {
     "data": {
      "text/plain": [
       "(0.00032004005719160454,\n",
       " 0.00011219227712516814,\n",
       " 0.08454968051229768,\n",
       " 0.0033315400580881233,\n",
       " 0.9998784662117406)"
      ]
     },
     "execution_count": 236,
     "metadata": {},
     "output_type": "execute_result"
    }
   ],
   "source": [
    "i = 15\n",
    "listePredY1e[i], listePredY2e[i], listePredY3e[i] , listePredY4e[i] , listePredY6e[i]\n"
   ]
  },
  {
   "cell_type": "code",
   "execution_count": 177,
   "metadata": {},
   "outputs": [],
   "source": [
    "# Summere alle elementene i listen for å finne nevneren i P-uttrykket\n",
    "listeSumYeNo3 = [ x+y+z+u+t for x , y, z, u, t in zip(listePredY1eNo3, listePredY2eNo3,listePredY3eNo3,listePredY4eNo3,listePredY6eNo3)]\n",
    "# listePredY5eNo3,\n",
    "\n",
    "#  stated preferences - spørre om hva bruker du vanligvis å foretrekke å gjøre, \n",
    "# bedre å sprørre konkret på hver metode. \n",
    "# statistisk metode i data kap\n",
    "# Flytte bus surv cap til et underkap av data. \n",
    "# Og econometric methods som et eget kap\n",
    "# merk at kap 5 - analyse av bus surv ikke er empririsk analyse av teori. \n",
    "\n",
    "# ta med korrelasjonsmatrise for no2_*, no3_* og no4_*"
   ]
  },
  {
   "cell_type": "code",
   "execution_count": 178,
   "metadata": {},
   "outputs": [],
   "source": [
    "# Predikere ssh for valg av de ulike metodene i en multinomisk setting\n",
    "P_1_3 = [a/m for a, m in zip(listePredY1eNo3, listeSumYeNo3)]\n",
    "P_2_3 = [a/m for a, m in zip(listePredY2eNo3, listeSumYeNo3)]\n",
    "P_3_3 = [a/m for a, m in zip(listePredY3eNo3, listeSumYeNo3)]\n",
    "P_4_3 = [a/m for a, m in zip(listePredY4eNo3, listeSumYeNo3)]\n",
    "# P_5_3 = [a/m for a, m in zip(listePredY5eNo3, listeSumYeNo3)]\n",
    "P_6_3 = [a/m for a, m in zip(listePredY6eNo3, listeSumYeNo3)]"
   ]
  },
  {
   "cell_type": "code",
   "execution_count": 237,
   "metadata": {},
   "outputs": [],
   "source": [
    "# Predikere ssh for valg av de ulike metodene i en multinomisk setting\n",
    "P_1_3e = [a/(1+m) for a, m in zip(listePredY1e, listeSumY)]\n",
    "P_2_3e = [a/(1+m) for a, m in zip(listePredY2e, listeSumY)]\n",
    "P_3_3e = [a/(1+m) for a, m in zip(listePredY3e, listeSumY)]\n",
    "P_4_3e = [a/(1+m) for a, m in zip(listePredY4e, listeSumY)]\n",
    "# P_5_3 = [a/m for a, m in zip(listePredY5eNo3, listeSumYeNo3)]\n",
    "P_6_3e = [a/(1+m) for a, m in zip(listePredY6e, listeSumY)]\n",
    "\n",
    "zipListP3e = list(zip(P_1_3e, P_2_3e, P_3_3e, P_4_3e, P_6_3e))\n",
    "#  P_5_3,\n",
    "dfP3e = pd.DataFrame(zipListP3e, columns = (\"EAC\", 'IRR', 'NPV', 'Payback', 'No model'))\n",
    "# 'Several models', "
   ]
  },
  {
   "cell_type": "code",
   "execution_count": 238,
   "metadata": {},
   "outputs": [],
   "source": [
    "zipListP3 = list(zip(P_1_3, P_2_3, P_3_3, P_4_3, P_6_3))\n",
    "#  P_5_3,\n",
    "dfP3 = pd.DataFrame(zipListP3, columns = (\"EAC\", 'IRR', 'NPV', 'Payback', 'No model'))\n",
    "# 'Several models', "
   ]
  },
  {
   "cell_type": "code",
   "execution_count": 239,
   "metadata": {},
   "outputs": [],
   "source": [
    "dfPDesc = dfP3.describe()\n",
    "dfPDesce = dfP3e.describe()\n",
    "\n",
    "# filename = folderFig+\"/dfPDes3.xlsx\"\n",
    "# dfPDesc.to_excel(filename)"
   ]
  },
  {
   "cell_type": "code",
   "execution_count": 240,
   "metadata": {},
   "outputs": [
    {
     "data": {
      "text/html": [
       "<div>\n",
       "<style scoped>\n",
       "    .dataframe tbody tr th:only-of-type {\n",
       "        vertical-align: middle;\n",
       "    }\n",
       "\n",
       "    .dataframe tbody tr th {\n",
       "        vertical-align: top;\n",
       "    }\n",
       "\n",
       "    .dataframe thead th {\n",
       "        text-align: right;\n",
       "    }\n",
       "</style>\n",
       "<table border=\"1\" class=\"dataframe\">\n",
       "  <thead>\n",
       "    <tr style=\"text-align: right;\">\n",
       "      <th></th>\n",
       "      <th>EAC</th>\n",
       "      <th>IRR</th>\n",
       "      <th>NPV</th>\n",
       "      <th>Payback</th>\n",
       "      <th>No model</th>\n",
       "    </tr>\n",
       "  </thead>\n",
       "  <tbody>\n",
       "    <tr>\n",
       "      <th>count</th>\n",
       "      <td>309.000000</td>\n",
       "      <td>309.000000</td>\n",
       "      <td>309.000000</td>\n",
       "      <td>309.000000</td>\n",
       "      <td>309.000000</td>\n",
       "    </tr>\n",
       "    <tr>\n",
       "      <th>mean</th>\n",
       "      <td>0.000481</td>\n",
       "      <td>0.000133</td>\n",
       "      <td>0.121362</td>\n",
       "      <td>0.001555</td>\n",
       "      <td>0.437934</td>\n",
       "    </tr>\n",
       "    <tr>\n",
       "      <th>std</th>\n",
       "      <td>0.000533</td>\n",
       "      <td>0.000226</td>\n",
       "      <td>0.090035</td>\n",
       "      <td>0.001040</td>\n",
       "      <td>0.045799</td>\n",
       "    </tr>\n",
       "    <tr>\n",
       "      <th>min</th>\n",
       "      <td>0.000057</td>\n",
       "      <td>0.000002</td>\n",
       "      <td>0.001254</td>\n",
       "      <td>0.000391</td>\n",
       "      <td>0.332897</td>\n",
       "    </tr>\n",
       "    <tr>\n",
       "      <th>25%</th>\n",
       "      <td>0.000176</td>\n",
       "      <td>0.000018</td>\n",
       "      <td>0.040489</td>\n",
       "      <td>0.000946</td>\n",
       "      <td>0.400018</td>\n",
       "    </tr>\n",
       "    <tr>\n",
       "      <th>50%</th>\n",
       "      <td>0.000294</td>\n",
       "      <td>0.000054</td>\n",
       "      <td>0.101384</td>\n",
       "      <td>0.001276</td>\n",
       "      <td>0.448268</td>\n",
       "    </tr>\n",
       "    <tr>\n",
       "      <th>75%</th>\n",
       "      <td>0.000564</td>\n",
       "      <td>0.000093</td>\n",
       "      <td>0.198894</td>\n",
       "      <td>0.001792</td>\n",
       "      <td>0.478825</td>\n",
       "    </tr>\n",
       "    <tr>\n",
       "      <th>max</th>\n",
       "      <td>0.003313</td>\n",
       "      <td>0.001288</td>\n",
       "      <td>0.319190</td>\n",
       "      <td>0.010347</td>\n",
       "      <td>0.498467</td>\n",
       "    </tr>\n",
       "  </tbody>\n",
       "</table>\n",
       "</div>"
      ],
      "text/plain": [
       "              EAC         IRR         NPV     Payback    No model\n",
       "count  309.000000  309.000000  309.000000  309.000000  309.000000\n",
       "mean     0.000481    0.000133    0.121362    0.001555    0.437934\n",
       "std      0.000533    0.000226    0.090035    0.001040    0.045799\n",
       "min      0.000057    0.000002    0.001254    0.000391    0.332897\n",
       "25%      0.000176    0.000018    0.040489    0.000946    0.400018\n",
       "50%      0.000294    0.000054    0.101384    0.001276    0.448268\n",
       "75%      0.000564    0.000093    0.198894    0.001792    0.478825\n",
       "max      0.003313    0.001288    0.319190    0.010347    0.498467"
      ]
     },
     "execution_count": 240,
     "metadata": {},
     "output_type": "execute_result"
    }
   ],
   "source": [
    "dfPDesc\n",
    "dfPDesce"
   ]
  },
  {
   "cell_type": "code",
   "execution_count": 182,
   "metadata": {},
   "outputs": [
    {
     "name": "stdout",
     "output_type": "stream",
     "text": [
      "0.5169946573134706 0.010463806613131978 0.1605440145577973\n"
     ]
    }
   ],
   "source": [
    "#  Finne gjennomsnittlig prediksjon\n",
    "\n",
    "snittPredY1 = np.mean(P_1_3)    \n",
    "snittPredY2 = np.mean(P_2_3)    \n",
    "snittPredY3 = np.mean(P_3_3)    \n",
    "snittPredY4 = np.mean(P_4_3)    \n",
    "# snittPredY5 = np.mean(P_5_3)        \n",
    "snittPredY6 = np.mean(P_6_3) \n",
    "\n",
    "\n",
    "P_1_3.sort(reverse=True)\n",
    "MaxValueP_1_3 = P_1_3[0]\n",
    "P_1_3.sort()\n",
    "MinValueP_1_3= P_1_3[0]\n",
    "\n",
    "P_2_3.sort(reverse=True)\n",
    "MaxValueP_2_3 = P_2_3[0]\n",
    "P_2_3.sort()\n",
    "MinValueP_2_3= P_2_3[0]\n",
    "\n",
    "P_3_3.sort(reverse=True)\n",
    "MaxValueP_3_3 = P_3_3[0]\n",
    "P_3_3.sort()\n",
    "MinValueP_3_3= P_3_3[0]\n",
    "\n",
    "P_4_3.sort(reverse=True)\n",
    "MaxValueP_4_3 = P_4_3[0]\n",
    "P_4_3.sort()\n",
    "MinValueP_4_3= P_4_3[0]\n",
    "\n",
    "# P_5_3.sort(reverse=True)\n",
    "# MaxValueP_5_3 = P_5_3[0]\n",
    "# P_5_3.sort()\n",
    "# MinValueP_5_3= P_5_3[0]\n",
    "\n",
    "P_6_3.sort(reverse=True)\n",
    "MaxValueP_6_3 = P_6_3[0]\n",
    "P_6_3.sort()\n",
    "MinValueP_6_3= P_6_3[0]\n",
    "\n",
    "\n",
    "print(MaxValueP_1_3, MinValueP_1_3, snittPredY1)"
   ]
  },
  {
   "cell_type": "code",
   "execution_count": 183,
   "metadata": {},
   "outputs": [
    {
     "ename": "NameError",
     "evalue": "name 'snittPredY5' is not defined",
     "output_type": "error",
     "traceback": [
      "\u001b[1;31m---------------------------------------------------------------------------\u001b[0m",
      "\u001b[1;31mNameError\u001b[0m                                 Traceback (most recent call last)",
      "\u001b[1;32m<ipython-input-183-f2859f53a41e>\u001b[0m in \u001b[0;36m<module>\u001b[1;34m()\u001b[0m\n\u001b[1;32m----> 1\u001b[1;33m \u001b[0mprint\u001b[0m\u001b[1;33m(\u001b[0m\u001b[0msnittPredY1\u001b[0m\u001b[1;33m,\u001b[0m \u001b[0msnittPredY2\u001b[0m\u001b[1;33m,\u001b[0m \u001b[0msnittPredY3\u001b[0m\u001b[1;33m,\u001b[0m \u001b[0msnittPredY4\u001b[0m\u001b[1;33m,\u001b[0m \u001b[0msnittPredY5\u001b[0m\u001b[1;33m,\u001b[0m \u001b[0msnittPredY6\u001b[0m\u001b[1;33m)\u001b[0m\u001b[1;33m\u001b[0m\u001b[0m\n\u001b[0m",
      "\u001b[1;31mNameError\u001b[0m: name 'snittPredY5' is not defined"
     ]
    }
   ],
   "source": [
    "print(snittPredY1, snittPredY2, snittPredY3, snittPredY4, snittPredY5, snittPredY6)"
   ]
  },
  {
   "cell_type": "code",
   "execution_count": 184,
   "metadata": {},
   "outputs": [
    {
     "name": "stderr",
     "output_type": "stream",
     "text": [
      "C:\\Users\\i235jbp\\Anaconda3\\lib\\site-packages\\scipy\\stats\\stats.py:1706: FutureWarning: Using a non-tuple sequence for multidimensional indexing is deprecated; use `arr[tuple(seq)]` instead of `arr[seq]`. In the future this will be interpreted as an array index, `arr[np.array(seq)]`, which will result either in an error or a different result.\n",
      "  return np.add.reduce(sorted[indexer] * weights, axis=axis) / sumval\n"
     ]
    },
    {
     "data": {
      "image/png": "[encoded data removed]",
      "text/plain": [
       "<matplotlib.figure.Figure at 0x25054a1dc18>"
      ]
     },
     "metadata": {},
     "output_type": "display_data"
    }
   ],
   "source": [
    "folderFig = \"C:/Users/i235jbp/Dropbox/PhD/Spørreundersøkelse/Artikkel\"\n",
    "import seaborn as sns\n",
    "sns.distplot(P_1_3, color=\"green\")\n",
    "\n",
    "filename = folderFig+'/P13.png'\n",
    "plt.savefig(filename)"
   ]
  },
  {
   "cell_type": "code",
   "execution_count": 185,
   "metadata": {},
   "outputs": [
    {
     "name": "stderr",
     "output_type": "stream",
     "text": [
      "C:\\Users\\i235jbp\\Anaconda3\\lib\\site-packages\\scipy\\stats\\stats.py:1706: FutureWarning: Using a non-tuple sequence for multidimensional indexing is deprecated; use `arr[tuple(seq)]` instead of `arr[seq]`. In the future this will be interpreted as an array index, `arr[np.array(seq)]`, which will result either in an error or a different result.\n",
      "  return np.add.reduce(sorted[indexer] * weights, axis=axis) / sumval\n"
     ]
    },
    {
     "data": {
      "image/png": "[encoded data removed]",
      "text/plain": [
       "<matplotlib.figure.Figure at 0x250550e4630>"
      ]
     },
     "metadata": {},
     "output_type": "display_data"
    }
   ],
   "source": [
    "import seaborn as sns\n",
    "sns.distplot(P_2_3, color=\"blue\")\n",
    "filename = folderFig+'/P23.png'\n",
    "plt.savefig(filename)"
   ]
  },
  {
   "cell_type": "code",
   "execution_count": 186,
   "metadata": {},
   "outputs": [
    {
     "name": "stderr",
     "output_type": "stream",
     "text": [
      "C:\\Users\\i235jbp\\Anaconda3\\lib\\site-packages\\scipy\\stats\\stats.py:1706: FutureWarning: Using a non-tuple sequence for multidimensional indexing is deprecated; use `arr[tuple(seq)]` instead of `arr[seq]`. In the future this will be interpreted as an array index, `arr[np.array(seq)]`, which will result either in an error or a different result.\n",
      "  return np.add.reduce(sorted[indexer] * weights, axis=axis) / sumval\n"
     ]
    },
    {
     "data": {
      "text/plain": [
       "<matplotlib.axes._subplots.AxesSubplot at 0x25054a67e10>"
      ]
     },
     "execution_count": 186,
     "metadata": {},
     "output_type": "execute_result"
    },
    {
     "data": {
      "image/png": "[encoded data removed]",
      "text/plain": [
       "<matplotlib.figure.Figure at 0x25054c60da0>"
      ]
     },
     "metadata": {},
     "output_type": "display_data"
    }
   ],
   "source": [
    "sns.distplot(listePredY2eNo3, color=\"red\")"
   ]
  },
  {
   "cell_type": "code",
   "execution_count": 187,
   "metadata": {},
   "outputs": [
    {
     "name": "stderr",
     "output_type": "stream",
     "text": [
      "C:\\Users\\i235jbp\\Anaconda3\\lib\\site-packages\\scipy\\stats\\stats.py:1706: FutureWarning: Using a non-tuple sequence for multidimensional indexing is deprecated; use `arr[tuple(seq)]` instead of `arr[seq]`. In the future this will be interpreted as an array index, `arr[np.array(seq)]`, which will result either in an error or a different result.\n",
      "  return np.add.reduce(sorted[indexer] * weights, axis=axis) / sumval\n"
     ]
    },
    {
     "data": {
      "image/png": "[encoded data removed]",
      "text/plain": [
       "<matplotlib.figure.Figure at 0x25054a3f978>"
      ]
     },
     "metadata": {},
     "output_type": "display_data"
    }
   ],
   "source": [
    "import seaborn as sns\n",
    "sns.distplot(P_3_3, color=\"red\")\n",
    "filename = folderFig+'/P33.png'\n",
    "plt.savefig(filename)"
   ]
  },
  {
   "cell_type": "code",
   "execution_count": 188,
   "metadata": {},
   "outputs": [
    {
     "name": "stderr",
     "output_type": "stream",
     "text": [
      "C:\\Users\\i235jbp\\Anaconda3\\lib\\site-packages\\scipy\\stats\\stats.py:1706: FutureWarning: Using a non-tuple sequence for multidimensional indexing is deprecated; use `arr[tuple(seq)]` instead of `arr[seq]`. In the future this will be interpreted as an array index, `arr[np.array(seq)]`, which will result either in an error or a different result.\n",
      "  return np.add.reduce(sorted[indexer] * weights, axis=axis) / sumval\n"
     ]
    },
    {
     "data": {
      "text/plain": [
       "<matplotlib.axes._subplots.AxesSubplot at 0x250552a2128>"
      ]
     },
     "execution_count": 188,
     "metadata": {},
     "output_type": "execute_result"
    },
    {
     "data": {
      "image/png": "[encoded data removed]",
      "text/plain": [
       "<matplotlib.figure.Figure at 0x25054c7df60>"
      ]
     },
     "metadata": {},
     "output_type": "display_data"
    }
   ],
   "source": [
    "import seaborn as sns\n",
    "sns.distplot(listePredY3eNo3, color=\"red\")\n",
    "# filename = folderFig+'/PP33.png'\n",
    "# plt.savefig(filename)"
   ]
  },
  {
   "cell_type": "code",
   "execution_count": 189,
   "metadata": {},
   "outputs": [
    {
     "name": "stderr",
     "output_type": "stream",
     "text": [
      "C:\\Users\\i235jbp\\Anaconda3\\lib\\site-packages\\scipy\\stats\\stats.py:1706: FutureWarning: Using a non-tuple sequence for multidimensional indexing is deprecated; use `arr[tuple(seq)]` instead of `arr[seq]`. In the future this will be interpreted as an array index, `arr[np.array(seq)]`, which will result either in an error or a different result.\n",
      "  return np.add.reduce(sorted[indexer] * weights, axis=axis) / sumval\n"
     ]
    },
    {
     "data": {
      "image/png": "[encoded data removed]",
      "text/plain": [
       "<matplotlib.figure.Figure at 0x250563266a0>"
      ]
     },
     "metadata": {},
     "output_type": "display_data"
    }
   ],
   "source": [
    "import seaborn as sns\n",
    "sns.distplot(P_4_3, color=\"orange\")\n",
    "filename = folderFig+'/P43.png'\n",
    "plt.savefig(filename)"
   ]
  },
  {
   "cell_type": "code",
   "execution_count": 190,
   "metadata": {},
   "outputs": [],
   "source": [
    "# plt.hist(P_2_2, 50, normed=1, facecolor='blue', alpha=0.5)\n",
    "# sns.distplot(P_5_3, color=\"purple\")\n",
    "# filename = folderFig+'/P53.png'\n",
    "# plt.savefig(filename)"
   ]
  },
  {
   "cell_type": "code",
   "execution_count": 191,
   "metadata": {},
   "outputs": [
    {
     "name": "stderr",
     "output_type": "stream",
     "text": [
      "C:\\Users\\i235jbp\\Anaconda3\\lib\\site-packages\\scipy\\stats\\stats.py:1706: FutureWarning: Using a non-tuple sequence for multidimensional indexing is deprecated; use `arr[tuple(seq)]` instead of `arr[seq]`. In the future this will be interpreted as an array index, `arr[np.array(seq)]`, which will result either in an error or a different result.\n",
      "  return np.add.reduce(sorted[indexer] * weights, axis=axis) / sumval\n"
     ]
    },
    {
     "data": {
      "image/png": "[encoded data removed]",
      "text/plain": [
       "<matplotlib.figure.Figure at 0x2505644ba58>"
      ]
     },
     "metadata": {},
     "output_type": "display_data"
    }
   ],
   "source": [
    "# plt.hist(P_6_2, 50, normed=1, facecolor='red', alpha=0.5)\n",
    "sns.distplot(P_6_3, color=\"pink\")\n",
    "filename = folderFig+'/P63.png'\n",
    "plt.savefig(filename)"
   ]
  },
  {
   "cell_type": "code",
   "execution_count": null,
   "metadata": {},
   "outputs": [],
   "source": []
  },
  {
   "cell_type": "code",
   "execution_count": null,
   "metadata": {},
   "outputs": [],
   "source": []
  },
  {
   "cell_type": "code",
   "execution_count": null,
   "metadata": {},
   "outputs": [],
   "source": []
  },
  {
   "cell_type": "code",
   "execution_count": 192,
   "metadata": {},
   "outputs": [],
   "source": [
    "df3_ex = pd.concat([df_short3, df['no3_1']], axis=1)"
   ]
  },
  {
   "cell_type": "code",
   "execution_count": 193,
   "metadata": {},
   "outputs": [
    {
     "data": {
      "text/html": [
       "<div>\n",
       "<style scoped>\n",
       "    .dataframe tbody tr th:only-of-type {\n",
       "        vertical-align: middle;\n",
       "    }\n",
       "\n",
       "    .dataframe tbody tr th {\n",
       "        vertical-align: top;\n",
       "    }\n",
       "\n",
       "    .dataframe thead th {\n",
       "        text-align: right;\n",
       "    }\n",
       "</style>\n",
       "<table border=\"1\" class=\"dataframe\">\n",
       "  <thead>\n",
       "    <tr style=\"text-align: right;\">\n",
       "      <th></th>\n",
       "      <th>higheduc</th>\n",
       "      <th>smallcap</th>\n",
       "      <th>largecap</th>\n",
       "      <th>subsidary</th>\n",
       "      <th>no2_1</th>\n",
       "      <th>no2_2</th>\n",
       "      <th>sensitivity</th>\n",
       "      <th>hurdleRate</th>\n",
       "      <th>no3_1</th>\n",
       "    </tr>\n",
       "  </thead>\n",
       "  <tbody>\n",
       "    <tr>\n",
       "      <th>0</th>\n",
       "      <td>0.0</td>\n",
       "      <td>1</td>\n",
       "      <td>0</td>\n",
       "      <td>0</td>\n",
       "      <td>1</td>\n",
       "      <td>1</td>\n",
       "      <td>0</td>\n",
       "      <td>1</td>\n",
       "      <td>0</td>\n",
       "    </tr>\n",
       "    <tr>\n",
       "      <th>1</th>\n",
       "      <td>1.0</td>\n",
       "      <td>0</td>\n",
       "      <td>1</td>\n",
       "      <td>0</td>\n",
       "      <td>2</td>\n",
       "      <td>2</td>\n",
       "      <td>0</td>\n",
       "      <td>1</td>\n",
       "      <td>0</td>\n",
       "    </tr>\n",
       "    <tr>\n",
       "      <th>2</th>\n",
       "      <td>1.0</td>\n",
       "      <td>1</td>\n",
       "      <td>0</td>\n",
       "      <td>0</td>\n",
       "      <td>2</td>\n",
       "      <td>2</td>\n",
       "      <td>0</td>\n",
       "      <td>1</td>\n",
       "      <td>0</td>\n",
       "    </tr>\n",
       "    <tr>\n",
       "      <th>3</th>\n",
       "      <td>0.0</td>\n",
       "      <td>1</td>\n",
       "      <td>0</td>\n",
       "      <td>0</td>\n",
       "      <td>3</td>\n",
       "      <td>0</td>\n",
       "      <td>0</td>\n",
       "      <td>0</td>\n",
       "      <td>0</td>\n",
       "    </tr>\n",
       "    <tr>\n",
       "      <th>4</th>\n",
       "      <td>0.0</td>\n",
       "      <td>1</td>\n",
       "      <td>0</td>\n",
       "      <td>0</td>\n",
       "      <td>1</td>\n",
       "      <td>2</td>\n",
       "      <td>0</td>\n",
       "      <td>1</td>\n",
       "      <td>0</td>\n",
       "    </tr>\n",
       "  </tbody>\n",
       "</table>\n",
       "</div>"
      ],
      "text/plain": [
       "   higheduc  smallcap  largecap  subsidary  no2_1  no2_2  sensitivity  \\\n",
       "0       0.0         1         0          0      1      1            0   \n",
       "1       1.0         0         1          0      2      2            0   \n",
       "2       1.0         1         0          0      2      2            0   \n",
       "3       0.0         1         0          0      3      0            0   \n",
       "4       0.0         1         0          0      1      2            0   \n",
       "\n",
       "   hurdleRate  no3_1  \n",
       "0           1      0  \n",
       "1           1      0  \n",
       "2           1      0  \n",
       "3           0      0  \n",
       "4           1      0  "
      ]
     },
     "execution_count": 193,
     "metadata": {},
     "output_type": "execute_result"
    }
   ],
   "source": [
    "df3_ex.head()"
   ]
  },
  {
   "cell_type": "code",
   "execution_count": 201,
   "metadata": {},
   "outputs": [
    {
     "data": {
      "text/plain": [
       "(309, 309)"
      ]
     },
     "execution_count": 201,
     "metadata": {},
     "output_type": "execute_result"
    }
   ],
   "source": [
    "# from sklearn.model_selection import train_test_split\n",
    "len(X_3), len(y_31)"
   ]
  },
  {
   "cell_type": "code",
   "execution_count": 203,
   "metadata": {},
   "outputs": [],
   "source": [
    "from sklearn.linear_model import LogisticRegression\n",
    "modelno31 = LogisticRegression()\n",
    "modelno31.fit(X_3,y_31)\n",
    "predictions = modelno31.predict(X_3)"
   ]
  },
  {
   "cell_type": "code",
   "execution_count": 210,
   "metadata": {},
   "outputs": [
    {
     "data": {
      "text/plain": [
       "<matplotlib.axes._subplots.AxesSubplot at 0x250562a1b38>"
      ]
     },
     "execution_count": 210,
     "metadata": {},
     "output_type": "execute_result"
    },
    {
     "data": {
      "image/png": "[encoded data removed]",
      "text/plain": [
       "<matplotlib.figure.Figure at 0x25056301080>"
      ]
     },
     "metadata": {},
     "output_type": "display_data"
    }
   ],
   "source": [
    "import seaborn as sns\n",
    "sns.heatmap(df.isnull(),yticklabels=False,cbar=False)"
   ]
  },
  {
   "cell_type": "code",
   "execution_count": 205,
   "metadata": {},
   "outputs": [
    {
     "name": "stdout",
     "output_type": "stream",
     "text": [
      "             precision    recall  f1-score   support\n",
      "\n",
      "          0       0.91      1.00      0.95       280\n",
      "          1       0.00      0.00      0.00        29\n",
      "\n",
      "avg / total       0.82      0.91      0.86       309\n",
      "\n"
     ]
    },
    {
     "name": "stderr",
     "output_type": "stream",
     "text": [
      "C:\\Users\\i235jbp\\Anaconda3\\lib\\site-packages\\sklearn\\metrics\\classification.py:1135: UndefinedMetricWarning: Precision and F-score are ill-defined and being set to 0.0 in labels with no predicted samples.\n",
      "  'precision', 'predicted', average, warn_for)\n"
     ]
    }
   ],
   "source": [
    "from sklearn.metrics import classification_report\n",
    "print(classification_report(y_31,predictions))"
   ]
  },
  {
   "cell_type": "code",
   "execution_count": 61,
   "metadata": {},
   "outputs": [
    {
     "data": {
      "text/plain": [
       "array([[0., 1., 0., ..., 1., 0., 1.],\n",
       "       [1., 0., 1., ..., 2., 0., 1.],\n",
       "       [1., 1., 0., ..., 2., 0., 1.],\n",
       "       ...,\n",
       "       [1., 0., 1., ..., 0., 1., 1.],\n",
       "       [1., 0., 1., ..., 1., 1., 1.],\n",
       "       [0., 0., 0., ..., 3., 0., 0.]])"
      ]
     },
     "execution_count": 61,
     "metadata": {},
     "output_type": "execute_result"
    }
   ],
   "source": [
    "X_3 = df_short3.values\n",
    "y_31 = df['no3_1'].values\n",
    "y_32 = df['no3_2'].values\n",
    "y_33 = df['no3_3'].values\n",
    "y_34 = df['no3_4'].values\n",
    "y_35 = df['no3_5'].values\n",
    "y_36 = df['no3_6'].values"
   ]
  },
  {
   "cell_type": "code",
   "execution_count": 63,
   "metadata": {},
   "outputs": [
    {
     "data": {
      "text/plain": [
       "298"
      ]
     },
     "execution_count": 63,
     "metadata": {},
     "output_type": "execute_result"
    }
   ],
   "source": [
    "len(df_short3)\n",
    "df_short3=df_short3.loc[:,explanatoryNo3].dropna(axis=0, how='any')\n",
    "df_short3.head()"
   ]
  },
  {
   "cell_type": "code",
   "execution_count": 73,
   "metadata": {},
   "outputs": [
    {
     "data": {
      "text/plain": [
       "0      False\n",
       "1      False\n",
       "2      False\n",
       "3      False\n",
       "4      False\n",
       "5      False\n",
       "6      False\n",
       "7      False\n",
       "8      False\n",
       "9      False\n",
       "10     False\n",
       "11     False\n",
       "12     False\n",
       "13     False\n",
       "14     False\n",
       "15     False\n",
       "16     False\n",
       "17     False\n",
       "18     False\n",
       "19     False\n",
       "20      True\n",
       "21     False\n",
       "22     False\n",
       "23      True\n",
       "24     False\n",
       "25     False\n",
       "26     False\n",
       "27     False\n",
       "28      True\n",
       "29     False\n",
       "       ...  \n",
       "279    False\n",
       "280    False\n",
       "281    False\n",
       "282    False\n",
       "283    False\n",
       "284    False\n",
       "285     True\n",
       "286    False\n",
       "287    False\n",
       "288    False\n",
       "289    False\n",
       "290    False\n",
       "291    False\n",
       "292    False\n",
       "293    False\n",
       "294    False\n",
       "295    False\n",
       "296    False\n",
       "297    False\n",
       "298    False\n",
       "299    False\n",
       "300    False\n",
       "301    False\n",
       "302    False\n",
       "303    False\n",
       "304    False\n",
       "305    False\n",
       "306    False\n",
       "307    False\n",
       "308    False\n",
       "Name: higheduc, Length: 309, dtype: bool"
      ]
     },
     "execution_count": 73,
     "metadata": {},
     "output_type": "execute_result"
    }
   ],
   "source": [
    "df['higheduc'].isnull()\n",
    "\n"
   ]
  }
 ],
 "metadata": {
  "kernelspec": {
   "display_name": "Python 3",
   "language": "python",
   "name": "python3"
  },
  "language_info": {
   "codemirror_mode": {
    "name": "ipython",
    "version": 3
   },
   "file_extension": ".py",
   "mimetype": "text/x-python",
   "name": "python",
   "nbconvert_exporter": "python",
   "pygments_lexer": "ipython3",
   "version": "3.6.4"
  }
 },
 "nbformat": 4,
 "nbformat_minor": 2
}
