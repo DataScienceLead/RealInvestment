{
 "cells": [
  {
   "cell_type": "markdown",
   "metadata": {},
   "source": [
    "# Prob No2 - Funding choice"
   ]
  },
  {
   "cell_type": "code",
   "execution_count": 3,
   "metadata": {},
   "outputs": [],
   "source": [
    "import pandas as pd\n",
    "import numpy as np\n",
    "import random \n",
    "from scipy import linalg\n",
    "import math\n",
    "import matplotlib.pyplot as plt\n",
    "import scipy.stats"
   ]
  },
  {
   "cell_type": "code",
   "execution_count": 4,
   "metadata": {},
   "outputs": [],
   "source": [
    "dataset = \"C:/Users/i235jbp/Dropbox/PhD/Spørreundersøkelse/R/datasett_bus_surv_no2.csv\"\n",
    "folderFig = \"C:/Users/i235jbp/Dropbox/PhD/Spørreundersøkelse/Artikkel\""
   ]
  },
  {
   "cell_type": "code",
   "execution_count": 5,
   "metadata": {},
   "outputs": [],
   "source": [
    "df = pd.read_csv(dataset, sep=\",\", engine='python')\n"
   ]
  },
  {
   "cell_type": "code",
   "execution_count": 8,
   "metadata": {},
   "outputs": [
    {
     "data": {
      "text/html": [
       "<div>\n",
       "<style scoped>\n",
       "    .dataframe tbody tr th:only-of-type {\n",
       "        vertical-align: middle;\n",
       "    }\n",
       "\n",
       "    .dataframe tbody tr th {\n",
       "        vertical-align: top;\n",
       "    }\n",
       "\n",
       "    .dataframe thead th {\n",
       "        text-align: right;\n",
       "    }\n",
       "</style>\n",
       "<table border=\"1\" class=\"dataframe\">\n",
       "  <thead>\n",
       "    <tr style=\"text-align: right;\">\n",
       "      <th></th>\n",
       "      <th>orgnr</th>\n",
       "      <th>orgnr_foretak</th>\n",
       "      <th>sector</th>\n",
       "      <th>bof_nace07</th>\n",
       "      <th>inves_fou</th>\n",
       "      <th>inves_fou_sale</th>\n",
       "      <th>inves_facilities</th>\n",
       "      <th>inves_facilities_sale</th>\n",
       "      <th>inves_plot</th>\n",
       "      <th>inves_plot_sale</th>\n",
       "      <th>...</th>\n",
       "      <th>cashlimit</th>\n",
       "      <th>cashlimit1</th>\n",
       "      <th>equityFunding</th>\n",
       "      <th>debtFunding</th>\n",
       "      <th>signHurdle</th>\n",
       "      <th>sensitivity</th>\n",
       "      <th>hurdleRate</th>\n",
       "      <th>uncertainCash</th>\n",
       "      <th>_est_no21</th>\n",
       "      <th>_est_no22</th>\n",
       "    </tr>\n",
       "  </thead>\n",
       "  <tbody>\n",
       "    <tr>\n",
       "      <th>0</th>\n",
       "      <td>811280334</td>\n",
       "      <td>811280338</td>\n",
       "      <td>2100.0</td>\n",
       "      <td>16.232000</td>\n",
       "      <td>0.0</td>\n",
       "      <td>0.0</td>\n",
       "      <td>0.0</td>\n",
       "      <td>0.0</td>\n",
       "      <td>0.0</td>\n",
       "      <td>0.0</td>\n",
       "      <td>...</td>\n",
       "      <td>0</td>\n",
       "      <td>0</td>\n",
       "      <td>0</td>\n",
       "      <td>0</td>\n",
       "      <td>0</td>\n",
       "      <td>0</td>\n",
       "      <td>1</td>\n",
       "      <td>0</td>\n",
       "      <td>1</td>\n",
       "      <td>1</td>\n",
       "    </tr>\n",
       "    <tr>\n",
       "      <th>1</th>\n",
       "      <td>812749544</td>\n",
       "      <td>812749548</td>\n",
       "      <td>2100.0</td>\n",
       "      <td>16.100000</td>\n",
       "      <td>0.0</td>\n",
       "      <td>0.0</td>\n",
       "      <td>0.0</td>\n",
       "      <td>0.0</td>\n",
       "      <td>0.0</td>\n",
       "      <td>0.0</td>\n",
       "      <td>...</td>\n",
       "      <td>1</td>\n",
       "      <td>1</td>\n",
       "      <td>1</td>\n",
       "      <td>1</td>\n",
       "      <td>0</td>\n",
       "      <td>0</td>\n",
       "      <td>1</td>\n",
       "      <td>0</td>\n",
       "      <td>1</td>\n",
       "      <td>1</td>\n",
       "    </tr>\n",
       "    <tr>\n",
       "      <th>2</th>\n",
       "      <td>816063594</td>\n",
       "      <td>816063598</td>\n",
       "      <td>2100.0</td>\n",
       "      <td>21.200001</td>\n",
       "      <td>0.0</td>\n",
       "      <td>0.0</td>\n",
       "      <td>0.0</td>\n",
       "      <td>0.0</td>\n",
       "      <td>0.0</td>\n",
       "      <td>0.0</td>\n",
       "      <td>...</td>\n",
       "      <td>0</td>\n",
       "      <td>0</td>\n",
       "      <td>1</td>\n",
       "      <td>1</td>\n",
       "      <td>1</td>\n",
       "      <td>0</td>\n",
       "      <td>1</td>\n",
       "      <td>1</td>\n",
       "      <td>1</td>\n",
       "      <td>1</td>\n",
       "    </tr>\n",
       "    <tr>\n",
       "      <th>3</th>\n",
       "      <td>829094074</td>\n",
       "      <td>829094078</td>\n",
       "      <td>2100.0</td>\n",
       "      <td>23.610001</td>\n",
       "      <td>0.0</td>\n",
       "      <td>0.0</td>\n",
       "      <td>0.0</td>\n",
       "      <td>0.0</td>\n",
       "      <td>0.0</td>\n",
       "      <td>0.0</td>\n",
       "      <td>...</td>\n",
       "      <td>0</td>\n",
       "      <td>0</td>\n",
       "      <td>1</td>\n",
       "      <td>0</td>\n",
       "      <td>1</td>\n",
       "      <td>0</td>\n",
       "      <td>0</td>\n",
       "      <td>0</td>\n",
       "      <td>1</td>\n",
       "      <td>1</td>\n",
       "    </tr>\n",
       "    <tr>\n",
       "      <th>4</th>\n",
       "      <td>832008824</td>\n",
       "      <td>832008828</td>\n",
       "      <td>2100.0</td>\n",
       "      <td>30.120001</td>\n",
       "      <td>0.0</td>\n",
       "      <td>0.0</td>\n",
       "      <td>0.0</td>\n",
       "      <td>0.0</td>\n",
       "      <td>0.0</td>\n",
       "      <td>0.0</td>\n",
       "      <td>...</td>\n",
       "      <td>0</td>\n",
       "      <td>0</td>\n",
       "      <td>0</td>\n",
       "      <td>1</td>\n",
       "      <td>1</td>\n",
       "      <td>0</td>\n",
       "      <td>1</td>\n",
       "      <td>0</td>\n",
       "      <td>1</td>\n",
       "      <td>1</td>\n",
       "    </tr>\n",
       "  </tbody>\n",
       "</table>\n",
       "<p>5 rows × 192 columns</p>\n",
       "</div>"
      ],
      "text/plain": [
       "       orgnr  orgnr_foretak  sector  bof_nace07  inves_fou  inves_fou_sale  \\\n",
       "0  811280334      811280338  2100.0   16.232000        0.0             0.0   \n",
       "1  812749544      812749548  2100.0   16.100000        0.0             0.0   \n",
       "2  816063594      816063598  2100.0   21.200001        0.0             0.0   \n",
       "3  829094074      829094078  2100.0   23.610001        0.0             0.0   \n",
       "4  832008824      832008828  2100.0   30.120001        0.0             0.0   \n",
       "\n",
       "   inves_facilities  inves_facilities_sale  inves_plot  inves_plot_sale  ...  \\\n",
       "0               0.0                    0.0         0.0              0.0  ...   \n",
       "1               0.0                    0.0         0.0              0.0  ...   \n",
       "2               0.0                    0.0         0.0              0.0  ...   \n",
       "3               0.0                    0.0         0.0              0.0  ...   \n",
       "4               0.0                    0.0         0.0              0.0  ...   \n",
       "\n",
       "   cashlimit  cashlimit1  equityFunding  debtFunding  signHurdle  sensitivity  \\\n",
       "0          0           0              0            0           0            0   \n",
       "1          1           1              1            1           0            0   \n",
       "2          0           0              1            1           1            0   \n",
       "3          0           0              1            0           1            0   \n",
       "4          0           0              0            1           1            0   \n",
       "\n",
       "   hurdleRate  uncertainCash  _est_no21  _est_no22  \n",
       "0           1              0          1          1  \n",
       "1           1              0          1          1  \n",
       "2           1              1          1          1  \n",
       "3           0              0          1          1  \n",
       "4           1              0          1          1  \n",
       "\n",
       "[5 rows x 192 columns]"
      ]
     },
     "execution_count": 8,
     "metadata": {},
     "output_type": "execute_result"
    }
   ],
   "source": [
    "# df.drop(['navn', 'orgnr_foretak', 'f_postnr', 'sn07_1'], axis=1, inplace=True)\n",
    "df['orgnr'] = df['orgnr']-random.randint(1,1000)\n",
    "df['orgnr_foretak'] = df['orgnr_foretak']-random.randint(1,1000)\n",
    "df['employ'] = df['employ']+random.randint(1,15)\n",
    "df.head()\n"
   ]
  },
  {
   "cell_type": "code",
   "execution_count": 6,
   "metadata": {},
   "outputs": [],
   "source": [
    "df.drop(['navn1'], axis=1, inplace=True)"
   ]
  },
  {
   "cell_type": "code",
   "execution_count": null,
   "metadata": {},
   "outputs": [],
   "source": []
  },
  {
   "cell_type": "code",
   "execution_count": 7,
   "metadata": {},
   "outputs": [
    {
     "data": {
      "text/plain": [
       "Index(['orgnr', 'orgnr_foretak', 'sector', 'bof_nace07', 'inves_fou',\n",
       "       'inves_fou_sale', 'inves_facilities', 'inves_facilities_sale',\n",
       "       'inves_plot', 'inves_plot_sale',\n",
       "       ...\n",
       "       'cashlimit', 'cashlimit1', 'equityFunding', 'debtFunding', 'signHurdle',\n",
       "       'sensitivity', 'hurdleRate', 'uncertainCash', '_est_no21', '_est_no22'],\n",
       "      dtype='object', length=192)"
      ]
     },
     "execution_count": 7,
     "metadata": {},
     "output_type": "execute_result"
    }
   ],
   "source": [
    "# beta1 = pd.Series([3,1])\n",
    "# X = df[['cap','mach_build_share']]\n",
    "# X.dot(beta1)\n",
    "# # beta1.dot(X)\n",
    "# # beta11 = pd.DataFrame([[3,2]])\n",
    "df.columns\n"
   ]
  },
  {
   "cell_type": "code",
   "execution_count": 8,
   "metadata": {},
   "outputs": [],
   "source": [
    "# list of explanatory variables, important to stack the variables and estimated parametes in the same order\n",
    "explanatoryNo2 = ['medcap' ,'largecap' ,'debt_asset','profitratio', 'utbytte','cashlimit1']\n",
    "# make a new df\n",
    "df_short2 = df.copy(deep=True)\n",
    "# df_short = df_short.drop(explantory, axis=\n",
    "# convert to np.array (use df.to_numpy() in version 0.24)\n",
    "# df_short2.head()"
   ]
  },
  {
   "cell_type": "code",
   "execution_count": 9,
   "metadata": {},
   "outputs": [
    {
     "data": {
      "text/html": [
       "<div>\n",
       "<style scoped>\n",
       "    .dataframe tbody tr th:only-of-type {\n",
       "        vertical-align: middle;\n",
       "    }\n",
       "\n",
       "    .dataframe tbody tr th {\n",
       "        vertical-align: top;\n",
       "    }\n",
       "\n",
       "    .dataframe thead th {\n",
       "        text-align: right;\n",
       "    }\n",
       "</style>\n",
       "<table border=\"1\" class=\"dataframe\">\n",
       "  <thead>\n",
       "    <tr style=\"text-align: right;\">\n",
       "      <th></th>\n",
       "      <th>medcap</th>\n",
       "      <th>largecap</th>\n",
       "      <th>debt_asset</th>\n",
       "      <th>profitratio</th>\n",
       "      <th>utbytte</th>\n",
       "      <th>cashlimit1</th>\n",
       "    </tr>\n",
       "  </thead>\n",
       "  <tbody>\n",
       "    <tr>\n",
       "      <th>count</th>\n",
       "      <td>286</td>\n",
       "      <td>286</td>\n",
       "      <td>286</td>\n",
       "      <td>286</td>\n",
       "      <td>286</td>\n",
       "      <td>286</td>\n",
       "    </tr>\n",
       "    <tr>\n",
       "      <th>unique</th>\n",
       "      <td>1</td>\n",
       "      <td>1</td>\n",
       "      <td>1</td>\n",
       "      <td>1</td>\n",
       "      <td>1</td>\n",
       "      <td>1</td>\n",
       "    </tr>\n",
       "    <tr>\n",
       "      <th>top</th>\n",
       "      <td>False</td>\n",
       "      <td>False</td>\n",
       "      <td>False</td>\n",
       "      <td>False</td>\n",
       "      <td>False</td>\n",
       "      <td>False</td>\n",
       "    </tr>\n",
       "    <tr>\n",
       "      <th>freq</th>\n",
       "      <td>286</td>\n",
       "      <td>286</td>\n",
       "      <td>286</td>\n",
       "      <td>286</td>\n",
       "      <td>286</td>\n",
       "      <td>286</td>\n",
       "    </tr>\n",
       "  </tbody>\n",
       "</table>\n",
       "</div>"
      ],
      "text/plain": [
       "       medcap largecap debt_asset profitratio utbytte cashlimit1\n",
       "count     286      286        286         286     286        286\n",
       "unique      1        1          1           1       1          1\n",
       "top     False    False      False       False   False      False\n",
       "freq      286      286        286         286     286        286"
      ]
     },
     "execution_count": 9,
     "metadata": {},
     "output_type": "execute_result"
    }
   ],
   "source": [
    "df_short2=df_short2.loc[:,explanatoryNo2].dropna(axis=0, how='any')\n",
    "df_short2.isnull().describe()\n",
    "\n",
    "\n",
    "# df_short.head()"
   ]
  },
  {
   "cell_type": "code",
   "execution_count": 10,
   "metadata": {},
   "outputs": [],
   "source": [
    "# df_short2.head()\n"
   ]
  },
  {
   "cell_type": "code",
   "execution_count": 11,
   "metadata": {},
   "outputs": [],
   "source": [
    "# df_short.dropna(axis=0, how='any', inplace=True)\n",
    "X_2 = df_short2.values\n"
   ]
  },
  {
   "cell_type": "code",
   "execution_count": 12,
   "metadata": {},
   "outputs": [],
   "source": [
    "    \n",
    "# Middle sized firms  &       0.221   &      -0.315   &       0.464*  \\\\\n",
    "# Large firms         &       0.722*  &      -1.112***&       1.010***\\\\\n",
    "# Debt to asset ratio &      -1.983***&       1.600***&       0.385   \\\\\n",
    "# Net profit to book value&       0.025** &      -0.014   &       0.003   \\\\\n",
    "# Paid dividends      &      -0.112   &       0.703***&      -0.767***\\\\\n",
    "# Importance of cash for investments&      -0.384   &       1.005***&       0.084   \\\\\n"
   ]
  },
  {
   "cell_type": "code",
   "execution_count": 13,
   "metadata": {},
   "outputs": [],
   "source": [
    "beta_1_2 = ([0.221,0.722,-1.983,0.025,-0.112,-0.384])\n",
    "# ([-0.29758951],[0.52683465],[-0.24394283],[0.34213719],[-2.0661877],[0.02265871],[286.98091])"
   ]
  },
  {
   "cell_type": "code",
   "execution_count": 14,
   "metadata": {},
   "outputs": [],
   "source": [
    "beta_2_2 = ([-0.315,-1.112,1.6,-0.014,0.703,1.005])\n",
    "# ([-0.21543231],[-1.9764057],[-1.0254501],[-1.2875736],[-1.9819861],[-0.05033747],[-25.169312])"
   ]
  },
  {
   "cell_type": "code",
   "execution_count": 15,
   "metadata": {},
   "outputs": [],
   "source": [
    "# beta_3_2= ([-0.0577, 0.474, -1.235, 0.0266, -0.119, 0.0629])\n",
    "# ([0.6008792],[0.0480553],[0.6599026],[0.0356588],[0.0106294])"
   ]
  },
  {
   "cell_type": "code",
   "execution_count": 16,
   "metadata": {},
   "outputs": [],
   "source": [
    "# beta_4_2 = ([-0.0854, 0.531, -0.271, 0.0150, 0.182, 0.661])\n",
    "# ([0.2354685],[0.2791584],[0.8606649],[0.0349570],[0.0106561])\n"
   ]
  },
  {
   "cell_type": "code",
   "execution_count": 17,
   "metadata": {},
   "outputs": [],
   "source": [
    "# beta_5_2= ([-0.130, -0.140, -1.385, 0.0204, 0.121, 0.476])\n",
    "# ([0.0073762],[0.1396688],[0.2388109],[0.0234056],[0.0160589])\n"
   ]
  },
  {
   "cell_type": "code",
   "execution_count": 18,
   "metadata": {},
   "outputs": [],
   "source": [
    "beta_6_2 = ([0.464,1.01,0.385,0.003,-0.767,0.084])\n",
    "# ([-0.1457760],[0.3321088],[-0.2752730],[0.0355387],[0.0070731])\n",
    "\n"
   ]
  },
  {
   "cell_type": "code",
   "execution_count": 19,
   "metadata": {},
   "outputs": [],
   "source": [
    "# cut1                &               &               &               \\\\\n",
    "# _cons               &      -5.164***&       0.100   &       0.616   \\\\\n",
    "#                     &      (0.73)   &      (0.49)   &      (0.51)   \\\\\n",
    "# cut2                &               &               &               \\\\\n",
    "# _cons               &      -3.200***&       0.710   &       1.283** \\\\\n",
    "#                     &      (0.56)   &      (0.49)   &      (0.52)   \\\\\n",
    "# cut3                &               &               &               \\\\\n",
    "# _cons               &      -0.904*  &       2.488***&       2.977***\\\\\n",
    "#                     &      (0.52)   &      (0.51)   &      (0.54)   \\\\\n",
    "\n",
    "# Threshold for no2_1\n",
    "cut_1_2 =[-5.164,-3.200,-0.904] \n",
    "\n",
    "#Threshold for no2_2\n",
    "cut_2_2 =[0.100,0.710, 2.488]\n",
    "\n",
    "#Threshold for no2_3\n",
    "\n",
    "#Threshold for no2_4\n",
    "\n",
    "#Threshold for no2_5\n",
    "\n",
    "#Threshold for no2_6\n",
    "cut_6_2 =[0.616, 1.283, 2.977]\n"
   ]
  },
  {
   "cell_type": "code",
   "execution_count": 20,
   "metadata": {},
   "outputs": [],
   "source": [
    "#Threshold for no4_1\n",
    "cut_avg_1_2 = 1/len(cut_1_2)*sum(cut_1_2)\n",
    "\n",
    "#Threshold for no4_2\n",
    "cut_avg_2_2 = 1/len(cut_2_2)*sum(cut_2_2)\n",
    "\n",
    "#Threshold for no4_6\n",
    "cut_avg_6_2 = 1/len(cut_6_2)*sum(cut_6_2)\n"
   ]
  },
  {
   "cell_type": "code",
   "execution_count": 21,
   "metadata": {},
   "outputs": [
    {
     "name": "stdout",
     "output_type": "stream",
     "text": [
      "-3.0893333333333333 1.0993333333333333 1.625333333333333\n"
     ]
    }
   ],
   "source": [
    "X_2[0:1]\n",
    "print(cut_avg_1_2,cut_avg_2_2,cut_avg_6_2,)  # cut_avg_3_2,cut_avg_4_2,cut_avg_5_2,"
   ]
  },
  {
   "cell_type": "code",
   "execution_count": 22,
   "metadata": {},
   "outputs": [],
   "source": [
    "\n",
    "# SumYNo2 = ( math.exp(-cut_avg_1_2 + X_2[0:1]@beta_1_2)+\n",
    "#         math.exp(-cut_avg_2_2 + X_2[0:1]@beta_2_2) + \n",
    "#         math.exp(-cut_avg_3_2 + X_2[0:1]@beta_3_2) + \n",
    "#         math.exp(-cut_avg_4_2 + X_2[0:1]@beta_4_2) +  \n",
    "#         math.exp(-cut_avg_5_2 + X_2[0:1]@beta_5_2) + \n",
    "#         math.exp(-cut_avg_6_2 + X_2[0:1]@beta_6_2))\n",
    "\n",
    "# PredY1eNo2 = math.exp(-cut_avg_1_2 + X_2[0:1]@beta_1_2) /SumYNo2\n",
    "# PredY2eNo2 = math.exp(-cut_avg_2_2 + X_2[0:1]@beta_2_2) /SumYNo2\n",
    "# PredY3eNo2 = math.exp(-cut_avg_3_2 + X_2[0:1]@beta_3_2) /SumYNo2 \n",
    "# PredY4eNo2 = math.exp(-cut_avg_4_2 + X_2[0:1]@beta_4_2) /SumYNo2\n",
    "# PredY5eNo2 = math.exp(-cut_avg_5_2 + X_2[0:1]@beta_5_2) /SumYNo2\n",
    "# PredY6eNo2 = math.exp(-cut_avg_6_2 + X_2[0:1]@beta_6_2) /SumYNo2\n",
    "\n",
    "# Lage lister som kan holde predikert verdi\n",
    "listeSumYNo2    = []\n",
    "listePredY1eNo2 = []\n",
    "listePredY2eNo2 = []\n",
    "# listePredY3eNo2 = []\n",
    "# listePredY4eNo2 = []\n",
    "# listePredY5eNo2 = []\n",
    "listePredY6eNo2 = []\n",
    "\n",
    "# Regne ut X*Beta i løkke for hver enkelt bedrift\n",
    "\n",
    "for i in range(len(X_2)):\n",
    "    pred_i = [math.exp(-cut_avg_1_2 + X_2[0+i:1+i]@beta_1_2)]\n",
    "    listePredY1eNo2.append(pred_i[0]) \n",
    "\n",
    "for i in range(len(X_2)):\n",
    "    pred_i = [math.exp(-cut_avg_2_2 + X_2[0+i:1+i]@beta_2_2)]\n",
    "    listePredY2eNo2.append(pred_i[0]) \n",
    "    \n",
    "    \n",
    "for i in range(len(X_2)):\n",
    "    pred_i = [math.exp(-cut_avg_6_2 + X_2[0+i:1+i]@beta_6_2)]\n",
    "    listePredY6eNo2.append(pred_i[0]) \n",
    "\n",
    "   \n",
    "# med, min, max\n",
    "\n",
    "listeSumYeNo2 = [ x+y+z for x , y, z in zip(listePredY1eNo2, listePredY2eNo2,listePredY6eNo2)]\n"
   ]
  },
  {
   "cell_type": "code",
   "execution_count": 32,
   "metadata": {},
   "outputs": [],
   "source": [
    "# Lage lister som kan holde predikert verdi\n",
    "listeSumY = []\n",
    "listePredY1e = []\n",
    "listePredY2e = []\n",
    "listePredY3e = []\n",
    "listePredY4e = []\n",
    "# listePredY5eNo3 = [] -- referansekategori\n",
    "listePredY6e = []\n",
    "\n",
    "# Regne ut X*Beta i løkke for hver enkelt bedrift\n",
    "\n",
    "for i in range(len(X_2)):\n",
    "    Z_i = (cut_avg_1_2 + X_2[0+i:1+i]@beta_1_2)\n",
    "    pred_i = [1 / (1 + math.exp(-Z_i))]\n",
    "    listePredY1e.append(pred_i[0]) \n",
    "\n",
    "    \n",
    "for i in range(len(X_2)):\n",
    "    Z_i = (cut_avg_2_2 + X_2[0+i:1+i]@beta_2_2)\n",
    "    pred_i = [1 /(1 + math.exp(-Z_i))]\n",
    "    listePredY2e.append(pred_i[0]) \n",
    "\n",
    "    \n",
    "for i in range(len(X_2)):\n",
    "    Z_i = (cut_avg_6_2 + X_2[0+i:1+i]@beta_6_2)\n",
    "    pred_i = [1 / (1 + math.exp(-Z_i))]\n",
    "    listePredY6e.append(pred_i[0]) \n",
    "    \n",
    "listeSumY = [ x+y+z for x, y, z in zip(listePredY1e, listePredY2e, listePredY6e)]\n",
    "\n"
   ]
  },
  {
   "cell_type": "code",
   "execution_count": 51,
   "metadata": {},
   "outputs": [],
   "source": [
    "# listePredY1eNo2"
   ]
  },
  {
   "cell_type": "code",
   "execution_count": 52,
   "metadata": {},
   "outputs": [],
   "source": [
    "# listeSumYNo2 = []\n",
    "# listePredY1eNo2 = []\n",
    "# listePredY2eNo2 = []\n",
    "# listePredY3eNo2 = []\n",
    "# listePredY4eNo2 = []\n",
    "# listePredY5eNo2 = []\n",
    "# listePredY6eNo2 = []\n",
    "\n",
    "\n",
    "\n",
    "# for i in range(len(X_2)):\n",
    "#     pred_i = [math.exp(-cut_avg_1_2 + X_2[0+i:1+i]@beta_1_2)]\n",
    "#     listePredY1eNo2.append(pred_i[0]) \n",
    "\n",
    "# for i in range(len(X_2)):\n",
    "#     pred_i = [math.exp(-cut_avg_2_2 + X_2[0+i:1+i]@beta_2_2)]\n",
    "#     listePredY2eNo2.append(pred_i[0]) \n",
    "    \n",
    "    \n",
    "# for i in range(len(X_2)):\n",
    "#     pred_i = [math.exp(-cut_avg_3_2 + X_2[0+i:1+i]@beta_3_2)]\n",
    "#     listePredY3eNo2.append(pred_i[0]) \n",
    "\n",
    "# for i in range(len(X_2)):\n",
    "#     pred_i = [math.exp(-cut_avg_4_2 + X_2[0+i:1+i]@beta_4_2)]\n",
    "#     listePredY4eNo2.append(pred_i[0]) \n",
    "\n",
    "# for i in range(len(X_2)):\n",
    "#     pred_i = [math.exp(-cut_avg_5_2 + X_2[0+i:1+i]@beta_5_2)]\n",
    "#     listePredY5eNo2.append(pred_i[0]) \n",
    "\n",
    "# for i in range(len(X_2)):\n",
    "#     pred_i = [math.exp(-cut_avg_6_2 + X_2[0+i:1+i]@beta_6_2)]\n",
    "#     listePredY6eNo2.append(pred_i[0]) \n",
    "\n",
    "   \n",
    "# # med, min, max'\n"
   ]
  },
  {
   "cell_type": "code",
   "execution_count": 53,
   "metadata": {},
   "outputs": [],
   "source": [
    "# listePredY1eNo2\n"
   ]
  },
  {
   "cell_type": "code",
   "execution_count": null,
   "metadata": {},
   "outputs": [],
   "source": []
  },
  {
   "cell_type": "code",
   "execution_count": 54,
   "metadata": {},
   "outputs": [],
   "source": [
    "\n",
    "\n",
    "\n",
    "#  stated preferences - spørre om hva bruker du vanligvis å foretrekke å gjøre, \n",
    "# bedre å sprørre konkret på hver metode. \n",
    "# statistisk metode i data kap\n",
    "# Flytte bus surv cap til et underkap av data. \n",
    "# Og econometric methods som et eget kap\n",
    "# merk at kap 5 - analyse av bus surv ikke er empririsk analyse av teori. \n",
    "\n",
    "# ta med korrelasjonsmatrise for no2_*, no3_* og no4_*"
   ]
  },
  {
   "cell_type": "code",
   "execution_count": 55,
   "metadata": {},
   "outputs": [],
   "source": [
    "P_1_2 = [a/m for a, m in zip(listePredY1eNo2, listeSumYeNo2)]\n",
    "P_2_2 = [a/m for a, m in zip(listePredY2eNo2, listeSumYeNo2)]\n",
    "# P_3_2 = [a/m for a, m in zip(listePredY3eNo2, listeSumYe)]\n",
    "# P_4_2 = [a/m for a, m in zip(listePredY4eNo2, listeSumYe)]\n",
    "# P_5_2 = [a/m for a, m in zip(listePredY5eNo2, listeSumYe)]\n",
    "P_6_2 = [a/m for a, m in zip(listePredY6eNo2, listeSumYeNo2)]\n",
    "\n",
    "\n",
    "\n",
    "snittPredY1 = np.mean(P_1_2)    \n",
    "snittPredY2 = np.mean(P_2_2)    \n",
    "# snittPredY3 = np.mean(P_3_2)    \n",
    "# snittPredY4 = np.mean(P_4_2)    \n",
    "# snittPredY5 = np.mean(P_5_2)        \n",
    "snittPredY6 = np.mean(P_6_2) "
   ]
  },
  {
   "cell_type": "code",
   "execution_count": 33,
   "metadata": {},
   "outputs": [],
   "source": [
    "P_1_2e = [a/m for a, m in zip(listePredY1e, listeSumY)]\n",
    "P_2_2e = [a/m for a, m in zip(listePredY2e, listeSumY)]\n",
    "# P_3_2 = [a/m for a, m in zip(listePredY3eNo2, listeSumYe)]\n",
    "# P_4_2 = [a/m for a, m in zip(listePredY4eNo2, listeSumYe)]\n",
    "# P_5_2 = [a/m for a, m in zip(listePredY5eNo2, listeSumYe)]\n",
    "P_6_2e = [a/m for a, m in zip(listePredY6e, listeSumY)]\n"
   ]
  },
  {
   "cell_type": "code",
   "execution_count": 56,
   "metadata": {},
   "outputs": [
    {
     "name": "stdout",
     "output_type": "stream",
     "text": [
      "0.800447815327176 0.16169961271228242 0.03785257196054149\n"
     ]
    }
   ],
   "source": [
    "print(snittPredY1, snittPredY2,  snittPredY6) # snittPredY3, snittPredY4, snittPredY5,"
   ]
  },
  {
   "cell_type": "code",
   "execution_count": 57,
   "metadata": {},
   "outputs": [
    {
     "name": "stdout",
     "output_type": "stream",
     "text": [
      "0.9816904344650479 0.1265887916545597 0.800447815327176\n"
     ]
    }
   ],
   "source": [
    "P_1_2.sort(reverse=True)\n",
    "MaxValueP_1_2 = P_1_2[0]\n",
    "P_1_2.sort()\n",
    "MinValueP_1_2 = P_1_2[0]\n",
    "print(MaxValueP_1_2, MinValueP_1_2, snittPredY1)"
   ]
  },
  {
   "cell_type": "code",
   "execution_count": 58,
   "metadata": {},
   "outputs": [],
   "source": [
    "zipListP2 = list(zip(P_1_2, P_2_2, P_6_2))\n",
    "dfP2 = pd.DataFrame(zipListP2, columns = ('Equity funding' , 'Bank loan funding', 'Parent loan'))"
   ]
  },
  {
   "cell_type": "code",
   "execution_count": 34,
   "metadata": {},
   "outputs": [],
   "source": [
    "zipListP2e = list(zip(P_1_2e, P_2_2e, P_6_2e))\n",
    "dfP2e = pd.DataFrame(zipListP2e, columns = ('Equity funding' , 'Bank loan funding', 'Parent loan'))"
   ]
  },
  {
   "cell_type": "code",
   "execution_count": 35,
   "metadata": {},
   "outputs": [],
   "source": [
    "# dfPDesc = dfP2.describe()\n",
    "dfPDesce = dfP2e.describe()\n",
    "\n",
    "filename = folderFig+\"/dfPDesc2.xlsx\"\n",
    "# dfPDesc.to_excel(filename)"
   ]
  },
  {
   "cell_type": "code",
   "execution_count": 36,
   "metadata": {},
   "outputs": [
    {
     "data": {
      "text/html": [
       "<div>\n",
       "<style scoped>\n",
       "    .dataframe tbody tr th:only-of-type {\n",
       "        vertical-align: middle;\n",
       "    }\n",
       "\n",
       "    .dataframe tbody tr th {\n",
       "        vertical-align: top;\n",
       "    }\n",
       "\n",
       "    .dataframe thead th {\n",
       "        text-align: right;\n",
       "    }\n",
       "</style>\n",
       "<table border=\"1\" class=\"dataframe\">\n",
       "  <thead>\n",
       "    <tr style=\"text-align: right;\">\n",
       "      <th></th>\n",
       "      <th>Equity funding</th>\n",
       "      <th>Bank loan funding</th>\n",
       "      <th>Parent loan</th>\n",
       "    </tr>\n",
       "  </thead>\n",
       "  <tbody>\n",
       "    <tr>\n",
       "      <th>count</th>\n",
       "      <td>286.000000</td>\n",
       "      <td>286.000000</td>\n",
       "      <td>286.000000</td>\n",
       "    </tr>\n",
       "    <tr>\n",
       "      <th>mean</th>\n",
       "      <td>0.010799</td>\n",
       "      <td>0.491615</td>\n",
       "      <td>0.497587</td>\n",
       "    </tr>\n",
       "    <tr>\n",
       "      <th>std</th>\n",
       "      <td>0.007386</td>\n",
       "      <td>0.038037</td>\n",
       "      <td>0.032702</td>\n",
       "    </tr>\n",
       "    <tr>\n",
       "      <th>min</th>\n",
       "      <td>0.001227</td>\n",
       "      <td>0.347725</td>\n",
       "      <td>0.436963</td>\n",
       "    </tr>\n",
       "    <tr>\n",
       "      <th>25%</th>\n",
       "      <td>0.006046</td>\n",
       "      <td>0.476052</td>\n",
       "      <td>0.476248</td>\n",
       "    </tr>\n",
       "    <tr>\n",
       "      <th>50%</th>\n",
       "      <td>0.008762</td>\n",
       "      <td>0.499022</td>\n",
       "      <td>0.492286</td>\n",
       "    </tr>\n",
       "    <tr>\n",
       "      <th>75%</th>\n",
       "      <td>0.013891</td>\n",
       "      <td>0.516694</td>\n",
       "      <td>0.512016</td>\n",
       "    </tr>\n",
       "    <tr>\n",
       "      <th>max</th>\n",
       "      <td>0.047921</td>\n",
       "      <td>0.556993</td>\n",
       "      <td>0.604354</td>\n",
       "    </tr>\n",
       "  </tbody>\n",
       "</table>\n",
       "</div>"
      ],
      "text/plain": [
       "       Equity funding  Bank loan funding  Parent loan\n",
       "count      286.000000         286.000000   286.000000\n",
       "mean         0.010799           0.491615     0.497587\n",
       "std          0.007386           0.038037     0.032702\n",
       "min          0.001227           0.347725     0.436963\n",
       "25%          0.006046           0.476052     0.476248\n",
       "50%          0.008762           0.499022     0.492286\n",
       "75%          0.013891           0.516694     0.512016\n",
       "max          0.047921           0.556993     0.604354"
      ]
     },
     "execution_count": 36,
     "metadata": {},
     "output_type": "execute_result"
    }
   ],
   "source": [
    "# dfPDesc\n",
    "dfPDesce"
   ]
  },
  {
   "cell_type": "code",
   "execution_count": null,
   "metadata": {},
   "outputs": [],
   "source": []
  },
  {
   "cell_type": "code",
   "execution_count": 34,
   "metadata": {},
   "outputs": [
    {
     "name": "stderr",
     "output_type": "stream",
     "text": [
      "C:\\Users\\i235jbp\\Anaconda3\\lib\\site-packages\\scipy\\stats\\stats.py:1706: FutureWarning: Using a non-tuple sequence for multidimensional indexing is deprecated; use `arr[tuple(seq)]` instead of `arr[seq]`. In the future this will be interpreted as an array index, `arr[np.array(seq)]`, which will result either in an error or a different result.\n",
      "  return np.add.reduce(sorted[indexer] * weights, axis=axis) / sumval\n"
     ]
    },
    {
     "data": {
      "image/png": "[encoded data removed]",
      "text/plain": [
       "<matplotlib.figure.Figure at 0x20c679e3898>"
      ]
     },
     "metadata": {},
     "output_type": "display_data"
    }
   ],
   "source": [
    "import seaborn as sns\n",
    "sns.distplot(P_1_2, color=\"green\")\n",
    "filename = folderFig+'/P12.png'\n",
    "plt.savefig(filename)\n"
   ]
  },
  {
   "cell_type": "code",
   "execution_count": null,
   "metadata": {},
   "outputs": [],
   "source": [
    "# P_1_2.plot()\n",
    "# plt.show()\n",
    "# plt.hist(P_1_2, 50, normed=1, facecolor='green', alpha=0.5);\n"
   ]
  },
  {
   "cell_type": "code",
   "execution_count": null,
   "metadata": {},
   "outputs": [],
   "source": []
  },
  {
   "cell_type": "code",
   "execution_count": 35,
   "metadata": {},
   "outputs": [
    {
     "name": "stderr",
     "output_type": "stream",
     "text": [
      "C:\\Users\\i235jbp\\Anaconda3\\lib\\site-packages\\scipy\\stats\\stats.py:1706: FutureWarning: Using a non-tuple sequence for multidimensional indexing is deprecated; use `arr[tuple(seq)]` instead of `arr[seq]`. In the future this will be interpreted as an array index, `arr[np.array(seq)]`, which will result either in an error or a different result.\n",
      "  return np.add.reduce(sorted[indexer] * weights, axis=axis) / sumval\n"
     ]
    },
    {
     "data": {
      "image/png": "[encoded data removed]",
      "text/plain": [
       "<matplotlib.figure.Figure at 0x20c69bf86d8>"
      ]
     },
     "metadata": {},
     "output_type": "display_data"
    }
   ],
   "source": [
    "# plt.hist(P_2_2, 50, normed=1, facecolor='blue', alpha=0.5)\n",
    "sns.distplot(P_2_2, color=\"blue\")\n",
    "filename = folderFig+'/P22.png'\n",
    "plt.savefig(filename)\n"
   ]
  },
  {
   "cell_type": "code",
   "execution_count": 36,
   "metadata": {},
   "outputs": [
    {
     "name": "stderr",
     "output_type": "stream",
     "text": [
      "C:\\Users\\i235jbp\\Anaconda3\\lib\\site-packages\\scipy\\stats\\stats.py:1706: FutureWarning: Using a non-tuple sequence for multidimensional indexing is deprecated; use `arr[tuple(seq)]` instead of `arr[seq]`. In the future this will be interpreted as an array index, `arr[np.array(seq)]`, which will result either in an error or a different result.\n",
      "  return np.add.reduce(sorted[indexer] * weights, axis=axis) / sumval\n"
     ]
    },
    {
     "data": {
      "image/png": "[encoded data removed]",
      "text/plain": [
       "<matplotlib.figure.Figure at 0x20c69c9b9e8>"
      ]
     },
     "metadata": {},
     "output_type": "display_data"
    }
   ],
   "source": [
    "# plt.hist(P_6_2, 50, normed=1, facecolor='red', alpha=0.5)\n",
    "sns.distplot(P_6_2, color=\"red\")\n",
    "filename = folderFig+'/P62.png'\n",
    "plt.savefig(filename)\n"
   ]
  },
  {
   "cell_type": "code",
   "execution_count": null,
   "metadata": {},
   "outputs": [],
   "source": [
    "print( PredY1eNo2,PredY2eNo2, PredY3eNo2, PredY4eNo2, PredY5eNo2, PredY6eNo2)"
   ]
  },
  {
   "cell_type": "code",
   "execution_count": null,
   "metadata": {},
   "outputs": [],
   "source": [
    "# multiplisere matrisene - som gir oss en liste med predikerte verdier (nx1 matrise)\n",
    "PredY2eNo2[0:9,] # 10 første orgnr og predikert verdi\n",
    "SumY1No2 = math.exp(PredY1eNo2)"
   ]
  },
  {
   "cell_type": "code",
   "execution_count": null,
   "metadata": {},
   "outputs": [],
   "source": [
    "# Calculate probability for most popular hurdle rate\n",
    "\n",
    "\n",
    "\n",
    "# probY3No3 = SumY3No3/(SumY1No3 + SumY2No3 + SumY3No3 + SumY4No3 + SumY5No3 + SumY6No3)\n",
    "\n",
    "# probY4No3 = SumY4No3/(SumY1 + SumY2 + SumY3 + SumY4 + SumY5 + SumY6)\n",
    "\n",
    "# probY5No3 = SumY5No3/(SumY1 + SumY2 + SumY3 + SumY4 + SumY5 + SumY6)\n",
    "\n",
    "# probY6No3 = SumY6No3/(SumY1 + SumY2 + SumY3 + SumY4 + SumY5 + SumY6)\n",
    "\n",
    "# print(probY1, probY2, probY3, probY4, probY5, probY6)\n",
    "print(\"Sannsynligheten for at en bedrift velger metode 1 er: \" + str(probY1No2)+ \" og \"+\n",
    "     \"sannsynligheten for at en bedrift velger metode 2 er: \" + str(probY2No2) )\n",
    "\n"
   ]
  },
  {
   "cell_type": "code",
   "execution_count": null,
   "metadata": {},
   "outputs": [],
   "source": [
    "PredY1eNo3 = X_3@beta_1_3\n",
    "SumY1eNo3 = sum(-PredY1eNo3)\n",
    "SumY1No3 = math.exp(SumY1eNo3)\n",
    "\n",
    "PredY2eNo3 = X_3@beta_2_3\n",
    "SumY2eNo3 = sum(-PredY2eNo3)\n",
    "SumY2No3 = math.exp(SumY2eNo3)\n",
    "\n",
    "# PredY3eNo3 = X_3@beta_3_3\n",
    "# SumY3eNo3 = sum(PredY3eNo3)\n",
    "# SumY3No3 = math.exp(SumY3eNo3)\n",
    "\n",
    "\n",
    "# PredY4eNo3 = X_4@beta_4_3\n",
    "# SumY4eNo3 = sum(PredY4eNo3)\n",
    "# SumY4No3 = math.exp(SumY4eNo3)\n",
    "\n",
    "# PredY5eNo3 = X_5@beta_5_3\n",
    "# SumY5eNo3 = sum(PredY5eNo3)\n",
    "# SumY5No3 = math.exp(SumY5eNo3)\n",
    "\n",
    "# PredY6eNo3 = X_6@beta_6_3\n",
    "# SumY6eNo3 = sum(PredY6eNo3)\n",
    "# SumY6No3 = math.exp(SumY6eNo3)\n",
    "# print(SumY1No3, SumY2No3, SumY3No3, SumY4No3, SumY5No3, SumY6No3)\n",
    "print(SumY1No3, SumY2No3)\n"
   ]
  },
  {
   "cell_type": "code",
   "execution_count": null,
   "metadata": {},
   "outputs": [],
   "source": [
    "# Calculate probability for most popular hurdle rate\n",
    "\n",
    "\n",
    "probY1No3 = SumY1No3/(SumY1No3 + SumY2No3 )# + SumY3 + SumY4 + SumY5 + SumY6)\n",
    "\n",
    "probY2No3 = SumY2No3/(SumY1No3 + SumY2No3 ) # + SumY3 + SumY4 + SumY5 + SumY6)\n",
    "\n",
    "# PredY3= X@beta_3\n",
    "# SumY3 = sum(PredY3)\n",
    "# probY3 = SumY3/(SumY1 + SumY2 + SumY3 + SumY4 + SumY5 + SumY6)\n",
    "\n",
    "# probY4 = SumY4/(SumY1 + SumY2 + SumY3 + SumY4 + SumY5 + SumY6)\n",
    "\n",
    "# probY5 = SumY5/(SumY1 + SumY2 + SumY3 + SumY4 + SumY5 + SumY6)\n",
    "\n",
    "# probY6 = SumY6/(SumY1 + SumY2 + SumY3 + SumY4 + SumY5 + SumY6)\n",
    "\n",
    "# print(probY1, probY2, probY3, probY4, probY5, probY6)\n",
    "print(\"Sannsynligheten for at en bedrift velger metode 1 er: \" + str(probY1No3)+ \" og \"+\n",
    "     \"sannsynligheten for at en bedrift velger metode 2 er: \" + str(probY2No3) )\n",
    "\n"
   ]
  },
  {
   "cell_type": "code",
   "execution_count": null,
   "metadata": {},
   "outputs": [],
   "source": [
    "# print(probY1, probY2, probY3, probY4, probY5, probY6)\n",
    "print(\"Sannsynligheten for at en bedrift velger metode 1 er: \" + str(probY1)+ \" og \"+\n",
    "     \"sannsynligheten for at en bedrift velger metode 2 er: \" + str(probY2) )\n"
   ]
  },
  {
   "cell_type": "code",
   "execution_count": null,
   "metadata": {},
   "outputs": [],
   "source": []
  },
  {
   "cell_type": "code",
   "execution_count": null,
   "metadata": {},
   "outputs": [],
   "source": []
  },
  {
   "cell_type": "code",
   "execution_count": null,
   "metadata": {},
   "outputs": [],
   "source": [
    "# Covariatene i en X matrise (n x 4) og Koeffisientene til metode 1 i beta_1 (liste (4x1 matrise))\n",
    "X_2, beta_1_3"
   ]
  },
  {
   "cell_type": "code",
   "execution_count": null,
   "metadata": {},
   "outputs": [],
   "source": [
    "PredY1e = X_2@beta_1 # multiplisere matrisene - som gir oss en liste med predikerte verdier (nx1 matrise)\n",
    "PredY1e[0:9,] # 10 første orgnr og predikert verdi"
   ]
  },
  {
   "cell_type": "code",
   "execution_count": null,
   "metadata": {},
   "outputs": [],
   "source": [
    "math.exp(-0.01)"
   ]
  },
  {
   "cell_type": "code",
   "execution_count": null,
   "metadata": {},
   "outputs": [],
   "source": [
    "SumY1e = sum(PredY1e) # tar summen av listen\n",
    "print(\"Summen av alle elementene i listen: \" + str(SumY1e))"
   ]
  },
  {
   "cell_type": "code",
   "execution_count": null,
   "metadata": {},
   "outputs": [],
   "source": [
    "SumY1 = math.exp(SumY1e) # anvender eksponential funksjonen på summen:\n",
    "print(\"Summen av alle predikerte verdier for metode1: \" + str(SumY1))"
   ]
  },
  {
   "cell_type": "code",
   "execution_count": null,
   "metadata": {},
   "outputs": [],
   "source": [
    "SumY3 = 0\n",
    "SumY4 = 0\n",
    "SumY5 = 0\n",
    "SumY6 = 0\n",
    "probY1 = SumY1/(SumY1 + SumY2 + SumY3 + SumY4 + SumY5 + SumY6)\n",
    "print(\"Sannsynligheten for at en bedrift velger metode 1 er: \" + str(probY1))"
   ]
  },
  {
   "cell_type": "code",
   "execution_count": null,
   "metadata": {},
   "outputs": [],
   "source": [
    "PredY2e = X@beta_2 \n",
    "SumY2e = sum(PredY2e)\n",
    "SumY2 = math.exp(SumY2e)\n",
    "print(SumY2e, SumY2 )"
   ]
  },
  {
   "cell_type": "code",
   "execution_count": null,
   "metadata": {},
   "outputs": [],
   "source": [
    "print(len(PredY2e))\n",
    "math.exp(SumY2e/len(PredY2e))\n"
   ]
  },
  {
   "cell_type": "code",
   "execution_count": null,
   "metadata": {},
   "outputs": [],
   "source": [
    "PredY1e = X@beta_1\n",
    "SumY1e = sum(-PredY1e)\n",
    "SumY1 = math.exp(SumY1e)\n",
    "\n",
    "PredY2e = X@beta_2\n",
    "SumY2e = sum(-PredY2e)\n",
    "SumY2 = math.exp(SumY2e)\n",
    "\n",
    "# PredY3e = X@beta_3\n",
    "# SumY3e = sum(PredY3e)\n",
    "# SumY3 = math.exp(SumY3e)\n",
    "\n",
    "\n",
    "# PredY4e = X@beta_4\n",
    "# SumY4e = sum(PredY4e)\n",
    "# SumY4 = math.exp(SumY4e)\n",
    "\n",
    "# PredY5e = X@beta_5\n",
    "# SumY5e = sum(PredY5e)\n",
    "# SumY5 = math.exp(SumY5e)\n",
    "\n",
    "# PredY6e = X@beta_6\n",
    "# SumY6e = sum(PredY6e)\n",
    "# SumY6 = math.exp(SumY6e)\n",
    "# print(SumY1, SumY2, SumY3, SumY4, SumY5, SumY6)\n",
    "print(SumY1, SumY2)\n"
   ]
  },
  {
   "cell_type": "code",
   "execution_count": null,
   "metadata": {},
   "outputs": [],
   "source": []
  },
  {
   "cell_type": "code",
   "execution_count": null,
   "metadata": {},
   "outputs": [],
   "source": [
    "# liste = ['1','2','3']\n",
    "# for i in liste:\n",
    "# PredY1 = X@beta_1\n",
    "# SumY1 = sum(PredY1)\n",
    "probY1 = SumY1/(SumY1 + SumY2 )# + SumY3 + SumY4 + SumY5 + SumY6)\n",
    "\n",
    "# PredY2 = X@beta_2\n",
    "# SumY2 = sum(PredY2)\n",
    "probY2 = SumY2/(SumY1 + SumY2 )# + SumY3 + SumY4 + SumY5 + SumY6)\n",
    "\n",
    "# PredY3= X@beta_3\n",
    "# SumY3 = sum(PredY3)\n",
    "# probY3 = SumY3/(SumY1 + SumY2 + SumY3 + SumY4 + SumY5 + SumY6)\n",
    "\n",
    "# probY4 = SumY4/(SumY1 + SumY2 + SumY3 + SumY4 + SumY5 + SumY6)\n",
    "\n",
    "# probY5 = SumY5/(SumY1 + SumY2 + SumY3 + SumY4 + SumY5 + SumY6)\n",
    "\n",
    "# probY6 = SumY6/(SumY1 + SumY2 + SumY3 + SumY4 + SumY5 + SumY6)\n",
    "\n"
   ]
  },
  {
   "cell_type": "code",
   "execution_count": null,
   "metadata": {},
   "outputs": [],
   "source": []
  },
  {
   "cell_type": "code",
   "execution_count": null,
   "metadata": {},
   "outputs": [],
   "source": []
  },
  {
   "cell_type": "code",
   "execution_count": null,
   "metadata": {},
   "outputs": [],
   "source": [
    "dff = pd.DataFrame([[0, 1, -2, -1], [1, 1, 1, 1]])\n",
    "s = pd.Series([1, 1, 2, 1])\n",
    "dff.dot(s)"
   ]
  },
  {
   "cell_type": "code",
   "execution_count": null,
   "metadata": {},
   "outputs": [],
   "source": [
    "dff"
   ]
  },
  {
   "cell_type": "code",
   "execution_count": null,
   "metadata": {},
   "outputs": [],
   "source": [
    "s"
   ]
  },
  {
   "cell_type": "code",
   "execution_count": null,
   "metadata": {},
   "outputs": [],
   "source": [
    "X"
   ]
  },
  {
   "cell_type": "code",
   "execution_count": null,
   "metadata": {},
   "outputs": [],
   "source": [
    "beta1\n",
    "\n",
    "\n"
   ]
  },
  {
   "cell_type": "code",
   "execution_count": null,
   "metadata": {},
   "outputs": [],
   "source": [
    "# import hashlib\n",
    "\n",
    "# def encrypt_string(hash_string):\n",
    "#     sha_signature = \\\n",
    "#         hashlib.sha256(hash_string.encode()).hexdigest()\n",
    "#     return sha_signature\n",
    "# hash_string = 'confidential data'\n",
    "# sha_signature = encrypt_string(hash_string)\n",
    "# print(sha_signature)\n",
    "# # 3fef7ff0fc1660c6bd319b3a8109fcb9f81985eabcbbf8958869ef03d605a9eb"
   ]
  }
 ],
 "metadata": {
  "kernelspec": {
   "display_name": "Python 3",
   "language": "python",
   "name": "python3"
  },
  "language_info": {
   "codemirror_mode": {
    "name": "ipython",
    "version": 3
   },
   "file_extension": ".py",
   "mimetype": "text/x-python",
   "name": "python",
   "nbconvert_exporter": "python",
   "pygments_lexer": "ipython3",
   "version": "3.6.4"
  }
 },
 "nbformat": 4,
 "nbformat_minor": 2
}
