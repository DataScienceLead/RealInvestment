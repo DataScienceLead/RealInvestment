{
 "cells": [
  {
   "cell_type": "markdown",
   "metadata": {},
   "source": [
    "# Prob no2"
   ]
  },
  {
   "cell_type": "code",
   "execution_count": 18,
   "metadata": {},
   "outputs": [],
   "source": [
    "import pandas as pd\n",
    "import numpy as np\n",
    "import random \n",
    "from scipy import linalg\n",
    "import math\n",
    "import matplotlib.pyplot as plt\n",
    "import scipy.stats"
   ]
  },
  {
   "cell_type": "code",
   "execution_count": 22,
   "metadata": {},
   "outputs": [],
   "source": [
    "dataset = \"C:/Users/i235jbp/Dropbox/PhD/Spørreundersøkelse/R/datasett_bus_surv_no2.csv\""
   ]
  },
  {
   "cell_type": "code",
   "execution_count": 29,
   "metadata": {},
   "outputs": [],
   "source": [
    "df = pd.read_csv(dataset, sep=\",\", engine='python')\n"
   ]
  },
  {
   "cell_type": "code",
   "execution_count": 21,
   "metadata": {},
   "outputs": [
    {
     "data": {
      "text/html": [
       "<div>\n",
       "<style scoped>\n",
       "    .dataframe tbody tr th:only-of-type {\n",
       "        vertical-align: middle;\n",
       "    }\n",
       "\n",
       "    .dataframe tbody tr th {\n",
       "        vertical-align: top;\n",
       "    }\n",
       "\n",
       "    .dataframe thead th {\n",
       "        text-align: right;\n",
       "    }\n",
       "</style>\n",
       "<table border=\"1\" class=\"dataframe\">\n",
       "  <thead>\n",
       "    <tr style=\"text-align: right;\">\n",
       "      <th></th>\n",
       "      <th>orgnr</th>\n",
       "      <th>orgnr_foretak</th>\n",
       "      <th>navn1</th>\n",
       "      <th>sector</th>\n",
       "      <th>bof_nace07</th>\n",
       "      <th>inves_fou</th>\n",
       "      <th>inves_fou_sale</th>\n",
       "      <th>inves_facilities</th>\n",
       "      <th>inves_facilities_sale</th>\n",
       "      <th>inves_plot</th>\n",
       "      <th>...</th>\n",
       "      <th>cashlimit</th>\n",
       "      <th>cashlimit1</th>\n",
       "      <th>equityFunding</th>\n",
       "      <th>debtFunding</th>\n",
       "      <th>signHurdle</th>\n",
       "      <th>sensitivity</th>\n",
       "      <th>hurdleRate</th>\n",
       "      <th>uncertainCash</th>\n",
       "      <th>_est_no21</th>\n",
       "      <th>_est_no22</th>\n",
       "    </tr>\n",
       "  </thead>\n",
       "  <tbody>\n",
       "    <tr>\n",
       "      <th>0</th>\n",
       "      <td>811279858</td>\n",
       "      <td>811280175</td>\n",
       "      <td>HOVLAND TREVAREFABRI</td>\n",
       "      <td>2100.0</td>\n",
       "      <td>16.232000</td>\n",
       "      <td>0.0</td>\n",
       "      <td>0.0</td>\n",
       "      <td>0.0</td>\n",
       "      <td>0.0</td>\n",
       "      <td>0.0</td>\n",
       "      <td>...</td>\n",
       "      <td>0</td>\n",
       "      <td>0</td>\n",
       "      <td>0</td>\n",
       "      <td>0</td>\n",
       "      <td>0</td>\n",
       "      <td>0</td>\n",
       "      <td>1</td>\n",
       "      <td>0</td>\n",
       "      <td>1</td>\n",
       "      <td>1</td>\n",
       "    </tr>\n",
       "    <tr>\n",
       "      <th>1</th>\n",
       "      <td>812749068</td>\n",
       "      <td>812749385</td>\n",
       "      <td>Bergene Holm AS</td>\n",
       "      <td>2100.0</td>\n",
       "      <td>16.100000</td>\n",
       "      <td>0.0</td>\n",
       "      <td>0.0</td>\n",
       "      <td>0.0</td>\n",
       "      <td>0.0</td>\n",
       "      <td>0.0</td>\n",
       "      <td>...</td>\n",
       "      <td>1</td>\n",
       "      <td>1</td>\n",
       "      <td>1</td>\n",
       "      <td>1</td>\n",
       "      <td>0</td>\n",
       "      <td>0</td>\n",
       "      <td>1</td>\n",
       "      <td>0</td>\n",
       "      <td>1</td>\n",
       "      <td>1</td>\n",
       "    </tr>\n",
       "    <tr>\n",
       "      <th>2</th>\n",
       "      <td>816063118</td>\n",
       "      <td>816063435</td>\n",
       "      <td>SNØGG AS</td>\n",
       "      <td>2100.0</td>\n",
       "      <td>21.200001</td>\n",
       "      <td>0.0</td>\n",
       "      <td>0.0</td>\n",
       "      <td>0.0</td>\n",
       "      <td>0.0</td>\n",
       "      <td>0.0</td>\n",
       "      <td>...</td>\n",
       "      <td>0</td>\n",
       "      <td>0</td>\n",
       "      <td>1</td>\n",
       "      <td>1</td>\n",
       "      <td>1</td>\n",
       "      <td>0</td>\n",
       "      <td>1</td>\n",
       "      <td>1</td>\n",
       "      <td>1</td>\n",
       "      <td>1</td>\n",
       "    </tr>\n",
       "    <tr>\n",
       "      <th>3</th>\n",
       "      <td>829093598</td>\n",
       "      <td>829093915</td>\n",
       "      <td>STRYN BETONGELEMENT</td>\n",
       "      <td>2100.0</td>\n",
       "      <td>23.610001</td>\n",
       "      <td>0.0</td>\n",
       "      <td>0.0</td>\n",
       "      <td>0.0</td>\n",
       "      <td>0.0</td>\n",
       "      <td>0.0</td>\n",
       "      <td>...</td>\n",
       "      <td>0</td>\n",
       "      <td>0</td>\n",
       "      <td>1</td>\n",
       "      <td>0</td>\n",
       "      <td>1</td>\n",
       "      <td>0</td>\n",
       "      <td>0</td>\n",
       "      <td>0</td>\n",
       "      <td>1</td>\n",
       "      <td>1</td>\n",
       "    </tr>\n",
       "    <tr>\n",
       "      <th>4</th>\n",
       "      <td>832008348</td>\n",
       "      <td>832008665</td>\n",
       "      <td>SKIBSPLAST A/S</td>\n",
       "      <td>2100.0</td>\n",
       "      <td>30.120001</td>\n",
       "      <td>0.0</td>\n",
       "      <td>0.0</td>\n",
       "      <td>0.0</td>\n",
       "      <td>0.0</td>\n",
       "      <td>0.0</td>\n",
       "      <td>...</td>\n",
       "      <td>0</td>\n",
       "      <td>0</td>\n",
       "      <td>0</td>\n",
       "      <td>1</td>\n",
       "      <td>1</td>\n",
       "      <td>0</td>\n",
       "      <td>1</td>\n",
       "      <td>0</td>\n",
       "      <td>1</td>\n",
       "      <td>1</td>\n",
       "    </tr>\n",
       "  </tbody>\n",
       "</table>\n",
       "<p>5 rows × 193 columns</p>\n",
       "</div>"
      ],
      "text/plain": [
       "       orgnr  orgnr_foretak                 navn1  sector  bof_nace07  \\\n",
       "0  811279858      811280175  HOVLAND TREVAREFABRI  2100.0   16.232000   \n",
       "1  812749068      812749385       Bergene Holm AS  2100.0   16.100000   \n",
       "2  816063118      816063435              SNØGG AS  2100.0   21.200001   \n",
       "3  829093598      829093915   STRYN BETONGELEMENT  2100.0   23.610001   \n",
       "4  832008348      832008665        SKIBSPLAST A/S  2100.0   30.120001   \n",
       "\n",
       "   inves_fou  inves_fou_sale  inves_facilities  inves_facilities_sale  \\\n",
       "0        0.0             0.0               0.0                    0.0   \n",
       "1        0.0             0.0               0.0                    0.0   \n",
       "2        0.0             0.0               0.0                    0.0   \n",
       "3        0.0             0.0               0.0                    0.0   \n",
       "4        0.0             0.0               0.0                    0.0   \n",
       "\n",
       "   inves_plot  ...  cashlimit  cashlimit1  equityFunding  debtFunding  \\\n",
       "0         0.0  ...          0           0              0            0   \n",
       "1         0.0  ...          1           1              1            1   \n",
       "2         0.0  ...          0           0              1            1   \n",
       "3         0.0  ...          0           0              1            0   \n",
       "4         0.0  ...          0           0              0            1   \n",
       "\n",
       "   signHurdle  sensitivity  hurdleRate  uncertainCash  _est_no21  _est_no22  \n",
       "0           0            0           1              0          1          1  \n",
       "1           0            0           1              0          1          1  \n",
       "2           1            0           1              1          1          1  \n",
       "3           1            0           0              0          1          1  \n",
       "4           1            0           1              0          1          1  \n",
       "\n",
       "[5 rows x 193 columns]"
      ]
     },
     "execution_count": 21,
     "metadata": {},
     "output_type": "execute_result"
    }
   ],
   "source": [
    "# df.drop(['navn', 'orgnr_foretak', 'f_postnr', 'sn07_1'], axis=1, inplace=True)\n",
    "df['orgnr'] = df['orgnr']-random.randint(1,1000)\n",
    "df['orgnr_foretak'] = df['orgnr_foretak']-random.randint(1,1000)\n",
    "df['employ'] = df['employ']+random.randint(1,15)\n",
    "df.head()\n"
   ]
  },
  {
   "cell_type": "code",
   "execution_count": 30,
   "metadata": {},
   "outputs": [],
   "source": [
    "df.drop(['navn1'], axis=1, inplace=True)"
   ]
  },
  {
   "cell_type": "code",
   "execution_count": 25,
   "metadata": {},
   "outputs": [
    {
     "data": {
      "text/html": [
       "<div>\n",
       "<style scoped>\n",
       "    .dataframe tbody tr th:only-of-type {\n",
       "        vertical-align: middle;\n",
       "    }\n",
       "\n",
       "    .dataframe tbody tr th {\n",
       "        vertical-align: top;\n",
       "    }\n",
       "\n",
       "    .dataframe thead th {\n",
       "        text-align: right;\n",
       "    }\n",
       "</style>\n",
       "<table border=\"1\" class=\"dataframe\">\n",
       "  <thead>\n",
       "    <tr style=\"text-align: right;\">\n",
       "      <th></th>\n",
       "      <th>orgnr</th>\n",
       "      <th>orgnr_foretak</th>\n",
       "      <th>sector</th>\n",
       "      <th>bof_nace07</th>\n",
       "      <th>inves_fou</th>\n",
       "      <th>inves_fou_sale</th>\n",
       "      <th>inves_facilities</th>\n",
       "      <th>inves_facilities_sale</th>\n",
       "      <th>inves_plot</th>\n",
       "      <th>inves_plot_sale</th>\n",
       "      <th>...</th>\n",
       "      <th>cashlimit</th>\n",
       "      <th>cashlimit1</th>\n",
       "      <th>equityFunding</th>\n",
       "      <th>debtFunding</th>\n",
       "      <th>signHurdle</th>\n",
       "      <th>sensitivity</th>\n",
       "      <th>hurdleRate</th>\n",
       "      <th>uncertainCash</th>\n",
       "      <th>_est_no21</th>\n",
       "      <th>_est_no22</th>\n",
       "    </tr>\n",
       "  </thead>\n",
       "  <tbody>\n",
       "    <tr>\n",
       "      <th>count</th>\n",
       "      <td>309</td>\n",
       "      <td>309</td>\n",
       "      <td>309</td>\n",
       "      <td>309</td>\n",
       "      <td>309</td>\n",
       "      <td>309</td>\n",
       "      <td>309</td>\n",
       "      <td>309</td>\n",
       "      <td>309</td>\n",
       "      <td>309</td>\n",
       "      <td>...</td>\n",
       "      <td>309</td>\n",
       "      <td>309</td>\n",
       "      <td>309</td>\n",
       "      <td>309</td>\n",
       "      <td>309</td>\n",
       "      <td>309</td>\n",
       "      <td>309</td>\n",
       "      <td>309</td>\n",
       "      <td>309</td>\n",
       "      <td>309</td>\n",
       "    </tr>\n",
       "    <tr>\n",
       "      <th>unique</th>\n",
       "      <td>1</td>\n",
       "      <td>1</td>\n",
       "      <td>2</td>\n",
       "      <td>2</td>\n",
       "      <td>2</td>\n",
       "      <td>2</td>\n",
       "      <td>2</td>\n",
       "      <td>2</td>\n",
       "      <td>2</td>\n",
       "      <td>2</td>\n",
       "      <td>...</td>\n",
       "      <td>1</td>\n",
       "      <td>1</td>\n",
       "      <td>1</td>\n",
       "      <td>1</td>\n",
       "      <td>1</td>\n",
       "      <td>1</td>\n",
       "      <td>1</td>\n",
       "      <td>1</td>\n",
       "      <td>1</td>\n",
       "      <td>1</td>\n",
       "    </tr>\n",
       "    <tr>\n",
       "      <th>top</th>\n",
       "      <td>False</td>\n",
       "      <td>False</td>\n",
       "      <td>False</td>\n",
       "      <td>False</td>\n",
       "      <td>False</td>\n",
       "      <td>False</td>\n",
       "      <td>False</td>\n",
       "      <td>False</td>\n",
       "      <td>False</td>\n",
       "      <td>False</td>\n",
       "      <td>...</td>\n",
       "      <td>False</td>\n",
       "      <td>False</td>\n",
       "      <td>False</td>\n",
       "      <td>False</td>\n",
       "      <td>False</td>\n",
       "      <td>False</td>\n",
       "      <td>False</td>\n",
       "      <td>False</td>\n",
       "      <td>False</td>\n",
       "      <td>False</td>\n",
       "    </tr>\n",
       "    <tr>\n",
       "      <th>freq</th>\n",
       "      <td>309</td>\n",
       "      <td>309</td>\n",
       "      <td>286</td>\n",
       "      <td>286</td>\n",
       "      <td>286</td>\n",
       "      <td>286</td>\n",
       "      <td>286</td>\n",
       "      <td>286</td>\n",
       "      <td>286</td>\n",
       "      <td>286</td>\n",
       "      <td>...</td>\n",
       "      <td>309</td>\n",
       "      <td>309</td>\n",
       "      <td>309</td>\n",
       "      <td>309</td>\n",
       "      <td>309</td>\n",
       "      <td>309</td>\n",
       "      <td>309</td>\n",
       "      <td>309</td>\n",
       "      <td>309</td>\n",
       "      <td>309</td>\n",
       "    </tr>\n",
       "  </tbody>\n",
       "</table>\n",
       "<p>4 rows × 192 columns</p>\n",
       "</div>"
      ],
      "text/plain": [
       "        orgnr orgnr_foretak sector bof_nace07 inves_fou inves_fou_sale  \\\n",
       "count     309           309    309        309       309            309   \n",
       "unique      1             1      2          2         2              2   \n",
       "top     False         False  False      False     False          False   \n",
       "freq      309           309    286        286       286            286   \n",
       "\n",
       "       inves_facilities inves_facilities_sale inves_plot inves_plot_sale  ...  \\\n",
       "count               309                   309        309             309  ...   \n",
       "unique                2                     2          2               2  ...   \n",
       "top               False                 False      False           False  ...   \n",
       "freq                286                   286        286             286  ...   \n",
       "\n",
       "       cashlimit cashlimit1 equityFunding debtFunding signHurdle sensitivity  \\\n",
       "count        309        309           309         309        309         309   \n",
       "unique         1          1             1           1          1           1   \n",
       "top        False      False         False       False      False       False   \n",
       "freq         309        309           309         309        309         309   \n",
       "\n",
       "       hurdleRate uncertainCash _est_no21 _est_no22  \n",
       "count         309           309       309       309  \n",
       "unique          1             1         1         1  \n",
       "top         False         False     False     False  \n",
       "freq          309           309       309       309  \n",
       "\n",
       "[4 rows x 192 columns]"
      ]
     },
     "execution_count": 25,
     "metadata": {},
     "output_type": "execute_result"
    }
   ],
   "source": [
    "df.isnull().describe()"
   ]
  },
  {
   "cell_type": "code",
   "execution_count": 31,
   "metadata": {},
   "outputs": [],
   "source": [
    "# list of explanatory variables, important to stack the variables and estimated parametes in the same order\n",
    "explanatoryNo3 = ['higheduc', 'smallcap','largecap', 'mach_build_share', 'invest_share' ,'maint_invest', 'subsidary', 'no2_1', 'no2_2', 'sensitivity' ,'hurdleRate']\n",
    "\n",
    "# make a new df\n",
    "df_short3 = df.copy(deep=True)"
   ]
  },
  {
   "cell_type": "code",
   "execution_count": 32,
   "metadata": {},
   "outputs": [
    {
     "data": {
      "text/html": [
       "<div>\n",
       "<style scoped>\n",
       "    .dataframe tbody tr th:only-of-type {\n",
       "        vertical-align: middle;\n",
       "    }\n",
       "\n",
       "    .dataframe tbody tr th {\n",
       "        vertical-align: top;\n",
       "    }\n",
       "\n",
       "    .dataframe thead th {\n",
       "        text-align: right;\n",
       "    }\n",
       "</style>\n",
       "<table border=\"1\" class=\"dataframe\">\n",
       "  <thead>\n",
       "    <tr style=\"text-align: right;\">\n",
       "      <th></th>\n",
       "      <th>higheduc</th>\n",
       "      <th>smallcap</th>\n",
       "      <th>largecap</th>\n",
       "      <th>mach_build_share</th>\n",
       "      <th>invest_share</th>\n",
       "      <th>maint_invest</th>\n",
       "      <th>subsidary</th>\n",
       "      <th>no2_1</th>\n",
       "      <th>no2_2</th>\n",
       "      <th>sensitivity</th>\n",
       "      <th>hurdleRate</th>\n",
       "    </tr>\n",
       "  </thead>\n",
       "  <tbody>\n",
       "    <tr>\n",
       "      <th>2</th>\n",
       "      <td>1.0</td>\n",
       "      <td>1</td>\n",
       "      <td>0</td>\n",
       "      <td>4</td>\n",
       "      <td>31.531250</td>\n",
       "      <td>1</td>\n",
       "      <td>0</td>\n",
       "      <td>2</td>\n",
       "      <td>2</td>\n",
       "      <td>0</td>\n",
       "      <td>1</td>\n",
       "    </tr>\n",
       "    <tr>\n",
       "      <th>6</th>\n",
       "      <td>0.0</td>\n",
       "      <td>0</td>\n",
       "      <td>1</td>\n",
       "      <td>1</td>\n",
       "      <td>3.279264</td>\n",
       "      <td>1</td>\n",
       "      <td>1</td>\n",
       "      <td>2</td>\n",
       "      <td>1</td>\n",
       "      <td>0</td>\n",
       "      <td>1</td>\n",
       "    </tr>\n",
       "    <tr>\n",
       "      <th>7</th>\n",
       "      <td>0.0</td>\n",
       "      <td>1</td>\n",
       "      <td>0</td>\n",
       "      <td>4</td>\n",
       "      <td>37.394737</td>\n",
       "      <td>0</td>\n",
       "      <td>0</td>\n",
       "      <td>3</td>\n",
       "      <td>2</td>\n",
       "      <td>0</td>\n",
       "      <td>1</td>\n",
       "    </tr>\n",
       "    <tr>\n",
       "      <th>8</th>\n",
       "      <td>0.0</td>\n",
       "      <td>0</td>\n",
       "      <td>0</td>\n",
       "      <td>1</td>\n",
       "      <td>0.000000</td>\n",
       "      <td>1</td>\n",
       "      <td>0</td>\n",
       "      <td>2</td>\n",
       "      <td>2</td>\n",
       "      <td>0</td>\n",
       "      <td>1</td>\n",
       "    </tr>\n",
       "    <tr>\n",
       "      <th>9</th>\n",
       "      <td>1.0</td>\n",
       "      <td>1</td>\n",
       "      <td>0</td>\n",
       "      <td>3</td>\n",
       "      <td>18.541666</td>\n",
       "      <td>0</td>\n",
       "      <td>1</td>\n",
       "      <td>2</td>\n",
       "      <td>2</td>\n",
       "      <td>0</td>\n",
       "      <td>1</td>\n",
       "    </tr>\n",
       "  </tbody>\n",
       "</table>\n",
       "</div>"
      ],
      "text/plain": [
       "   higheduc  smallcap  largecap  mach_build_share  invest_share  maint_invest  \\\n",
       "2       1.0         1         0                 4     31.531250             1   \n",
       "6       0.0         0         1                 1      3.279264             1   \n",
       "7       0.0         1         0                 4     37.394737             0   \n",
       "8       0.0         0         0                 1      0.000000             1   \n",
       "9       1.0         1         0                 3     18.541666             0   \n",
       "\n",
       "   subsidary  no2_1  no2_2  sensitivity  hurdleRate  \n",
       "2          0      2      2            0           1  \n",
       "6          1      2      1            0           1  \n",
       "7          0      3      2            0           1  \n",
       "8          0      2      2            0           1  \n",
       "9          1      2      2            0           1  "
      ]
     },
     "execution_count": 32,
     "metadata": {},
     "output_type": "execute_result"
    }
   ],
   "source": [
    "df_short3=df_short3.loc[:,explanatoryNo3].dropna(axis=0, how='any')\n",
    "df_short3.head()"
   ]
  },
  {
   "cell_type": "code",
   "execution_count": 33,
   "metadata": {},
   "outputs": [],
   "source": [
    "# df_short.dropna(axis=0, how='any', inplace=True)\n",
    "X_3 = df_short3.values\n"
   ]
  },
  {
   "cell_type": "code",
   "execution_count": null,
   "metadata": {},
   "outputs": [],
   "source": [
    "#      |---------------------------------------------------------------------------------------------------------------------------------------|\n",
    "#   1. | .2819157   .0472377   .4256163   -.7181295   .0011118   .0052735   .5881743   .4585202   -.2878372   -.2507269   1.637389   -4.751879 |\n",
    "#      +---------------------------------------------------------------------------------------------------------------------------------------+\n",
    "\n",
    "# . list beta32_* in 1\n",
    "#      |-------------------------------------------------------------------------------------------------------------------------------------------------|\n",
    "#   1. | -2.884166   .6263949   -.1415472    1.26501   .3929488    .000721   .2744845   .5826111   .2440681   .0642679   1.347802   2.403717   -5.332868 |\n",
    "#      +-------------------------------------------------------------------------------------------------------------------------------------------------+\n",
    "\n",
    "# . list beta33_* in 1\n",
    "#      |-----------------------------------------------------------------------------------------------------------------------------------------|\n",
    "#   1. | .8571165   -1.151734   .9563701   -.4132595   .0024383   .4410043   -.2174719   -.5650719   -.5221819   1.166898   2.054198   -1.165978 |\n",
    "#      +-----------------------------------------------------------------------------------------------------------------------------------------+\n",
    "\n",
    "# . list beta34_* in 1\n",
    "#   1. | .2585995   -.182598   .2923246   .6812157   .0022379    .621591   .4650673   .2873178   .2006496    .274211   .9434336   -3.636997 |\n",
    "#      +------------------------------------------------------------------------------------------------------------------------------------+\n",
    "\n",
    "# . list beta35_* in 1\n",
    "#      |-----------------------------------------------------------------------------------------------------------------------------------------|\n",
    "#   1. | -.3047959   .9404743   1.154397   -.4527557   .0006142   -.7076091   .0480909   .5539917   .4347656   -.5976469   -.0926396   -3.579774 |\n",
    "#      +-----------------------------------------------------------------------------------------------------------------------------------------+"
   ]
  },
  {
   "cell_type": "code",
   "execution_count": 34,
   "metadata": {},
   "outputs": [],
   "source": [
    "beta_1_3 = ([.2819157  , .0472377 , .4256163   ,-.7181295  , .0011118  , .0052735 , .5881743  , .4585202 ,  -.2878372 ,  -.2507269  , 1.637389  ])"
   ]
  },
  {
   "cell_type": "code",
   "execution_count": 48,
   "metadata": {},
   "outputs": [],
   "source": [
    "beta_2_3 = ([ .6263949  , -.1415472  ,  1.26501  , .3929488  ,  .000721  , .2744845,   .5826111 ,  .2440681  , .0642679 ,  1.347802  , 2.403717])"
   ]
  },
  {
   "cell_type": "code",
   "execution_count": 36,
   "metadata": {},
   "outputs": [],
   "source": [
    "beta_3_3= ([.8571165 ,  -1.151734  , .9563701  , -.4132595 ,  .0024383  , .4410043  , -.2174719  ,-.5650719  , -.5221819   ,1.166898 ,  2.054198])"
   ]
  },
  {
   "cell_type": "code",
   "execution_count": 37,
   "metadata": {},
   "outputs": [],
   "source": [
    "beta_4_3 = ([.2585995  , -.182598 ,  .2923246 ,  .6812157  , .0022379  ,  .621591,   .4650673 ,  .2873178  , .2006496  ,  .274211 ,  .9434336])"
   ]
  },
  {
   "cell_type": "code",
   "execution_count": 38,
   "metadata": {},
   "outputs": [],
   "source": [
    "beta_5_3= ([-.3047959 ,  .9404743,   1.154397  , -.4527557  , .0006142 ,  -.7076091  , .0480909  , .5539917  , .4347656 ,  -.5976469  , -.0926396 ])"
   ]
  },
  {
   "cell_type": "code",
   "execution_count": 50,
   "metadata": {},
   "outputs": [],
   "source": [
    "beta_6_3 = ([-1.046108 , .5441672 ,         0   ,1.122538  , -.0068684  , -.4743898  , -1.008954   ,-.5377209  , -.0127514     ,    0 ,  -3.212488 ])"
   ]
  },
  {
   "cell_type": "code",
   "execution_count": 44,
   "metadata": {},
   "outputs": [],
   "source": [
    "\n",
    "# Threshold for no3_1\n",
    "cut_1_3 =  [-4.751879] \n",
    "\n",
    "#Threshold for no3_2\n",
    "cut_2_3 =[-5.332868] \n",
    "\n",
    "#Threshold for no3_3\n",
    "cut_3_3 =[-1.165978 ]\n",
    "\n",
    "#Threshold for no2_4\n",
    "cut_4_3 =[ -3.636997 ]\n",
    "\n",
    "#Threshold for no2_5\n",
    "cut_5_3 =[ -3.579774]\n",
    "\n",
    "#Threshold for no2_6\n",
    "cut_6_3 =[3.143438]\n"
   ]
  },
  {
   "cell_type": "code",
   "execution_count": 10,
   "metadata": {},
   "outputs": [
    {
     "name": "stdout",
     "output_type": "stream",
     "text": [
      "2.6666666666666665\n"
     ]
    }
   ],
   "source": [
    "\n",
    "cut_avg = 1/len(cut_1_2)*sum(cut_1_2)\n",
    "print(cut_avg)\n"
   ]
  },
  {
   "cell_type": "code",
   "execution_count": 45,
   "metadata": {},
   "outputs": [],
   "source": [
    "cut_avg_1_3 = 1/len(cut_1_3) * sum(cut_1_3) \n",
    "\n",
    "#Threshold for no2_2\n",
    "cut_avg_2_3 = 1/len(cut_2_3) * sum(cut_2_3) \n",
    "\n",
    "#Threshold for no2_3\n",
    "cut_avg_3_3 = 1/len(cut_3_3) * sum(cut_3_3) \n",
    "\n",
    "#Threshold for no2_4\n",
    "cut_avg_4_3 = 1/len(cut_4_3) * sum(cut_4_3) \n",
    "\n",
    "#Threshold for no2_5\n",
    "cut_avg_5_3 = 1/len(cut_5_3) * sum(cut_5_3) \n",
    "\n",
    "#Threshold for no2_6\n",
    "cut_avg_6_3 = 1/len(cut_6_3) * sum(cut_6_3) \n"
   ]
  },
  {
   "cell_type": "code",
   "execution_count": 122,
   "metadata": {},
   "outputs": [
    {
     "name": "stdout",
     "output_type": "stream",
     "text": [
      "-3.354333333333333 1.23 1.248 2.091 2.1365 1.2996666666666665\n"
     ]
    }
   ],
   "source": [
    "X_2[0:1]\n",
    "print(cut_avg_1_2,cut_avg_2_2,cut_avg_3_2,cut_avg_4_2,cut_avg_5_2,cut_avg_6_2,) "
   ]
  },
  {
   "cell_type": "code",
   "execution_count": 123,
   "metadata": {},
   "outputs": [],
   "source": [
    "\n",
    "SumYNo3 = ( math.exp(-cut_avg_1_3 + X_3[0:1]@beta_1_2)+\n",
    "        math.exp(-cut_avg_2_3 + X_2[0:1]@beta_2_2) + \n",
    "        math.exp(-cut_avg_3_3 + X_2[0:1]@beta_3_2) + \n",
    "        math.exp(-cut_avg_4_3 + X_2[0:1]@beta_4_2) +  \n",
    "        math.exp(-cut_avg_5_3 + X_2[0:1]@beta_5_2) + \n",
    "        math.exp(-cut_avg_6_3 + X_2[0:1]@beta_6_2))\n",
    "\n",
    "PredY1eNo2 = math.exp(-cut_avg_1_2 + X_2[0:1]@beta_1_2) /SumYNo2\n",
    "PredY2eNo2 = math.exp(-cut_avg_2_2 + X_2[0:1]@beta_2_2) /SumYNo2\n",
    "PredY3eNo2 = math.exp(-cut_avg_3_2 + X_2[0:1]@beta_3_2) /SumYNo2 \n",
    "PredY4eNo2 = math.exp(-cut_avg_4_2 + X_2[0:1]@beta_4_2) /SumYNo2\n",
    "PredY5eNo2 = math.exp(-cut_avg_5_2 + X_2[0:1]@beta_5_2) /SumYNo2\n",
    "PredY6eNo2 = math.exp(-cut_avg_6_2 + X_2[0:1]@beta_6_2) /SumYNo2\n",
    "\n"
   ]
  },
  {
   "cell_type": "code",
   "execution_count": 163,
   "metadata": {},
   "outputs": [],
   "source": [
    "# listePredY1eNo2"
   ]
  },
  {
   "cell_type": "code",
   "execution_count": 51,
   "metadata": {},
   "outputs": [],
   "source": [
    "listeSumYNo3 = []\n",
    "listePredY1eNo3 = []\n",
    "listePredY2eNo3 = []\n",
    "listePredY3eNo3 = []\n",
    "listePredY4eNo3 = []\n",
    "listePredY5eNo3 = []\n",
    "listePredY6eNo3 = []\n",
    "\n",
    "\n",
    "for i in range(len(X_3)):\n",
    "    pred_i = [math.exp(-cut_avg_1_3 + X_3[0+i:1+i]@beta_1_3)]\n",
    "    listePredY1eNo3.append(pred_i[0]) \n",
    "\n",
    "for i in range(len(X_3)):\n",
    "    pred_i = [math.exp(-cut_avg_2_3 + X_3[0+i:1+i]@beta_2_3)]\n",
    "    listePredY2eNo3.append(pred_i[0]) \n",
    "    \n",
    "    \n",
    "for i in range(len(X_3)):\n",
    "    pred_i = [math.exp(-cut_avg_3_3 + X_3[0+i:1+i]@beta_3_3)]\n",
    "    listePredY3eNo3.append(pred_i[0]) \n",
    "\n",
    "for i in range(len(X_3)):\n",
    "    pred_i = [math.exp(-cut_avg_4_3 + X_3[0+i:1+i]@beta_4_3)]\n",
    "    listePredY4eNo3.append(pred_i[0]) \n",
    "\n",
    "for i in range(len(X_3)):\n",
    "    pred_i = [math.exp(-cut_avg_5_3 + X_3[0+i:1+i]@beta_5_3)]\n",
    "    listePredY5eNo3.append(pred_i[0]) \n",
    "\n",
    "for i in range(len(X_3)):\n",
    "    pred_i = [math.exp(-cut_avg_6_3 + X_3[0+i:1+i]@beta_6_3)]\n",
    "    listePredY6eNo3.append(pred_i[0]) \n",
    "\n",
    "   \n",
    "# med, min, max\n"
   ]
  },
  {
   "cell_type": "code",
   "execution_count": 195,
   "metadata": {},
   "outputs": [],
   "source": [
    "# listePredY1eNo2\n"
   ]
  },
  {
   "cell_type": "code",
   "execution_count": 56,
   "metadata": {},
   "outputs": [
    {
     "name": "stdout",
     "output_type": "stream",
     "text": [
      "0.028199816570216356 0.9406307640591772 0.0001600228763071609 0.13453977773595677 0.015500476681252739 8.443131793794697e-06\n"
     ]
    }
   ],
   "source": []
  },
  {
   "cell_type": "code",
   "execution_count": 54,
   "metadata": {},
   "outputs": [],
   "source": [
    "listeSumYeNo3 = [ x+y+z+u+t+s for x , y, z, u, t,s in zip(listePredY1eNo3, listePredY2eNo3,listePredY3eNo3,listePredY5eNo3,listePredY5eNo3,listePredY6eNo3)]\n",
    "\n",
    "\n",
    "#  stated preferences - spørre om hva bruker du vanligvis å foretrekke å gjøre, \n",
    "# bedre å sprørre konkret på hver metode. \n",
    "# statistisk metode i data kap\n",
    "# Flytte bus surv cap til et underkap av data. \n",
    "# Og econometric methods som et eget kap\n",
    "# merk at kap 5 - analyse av bus surv ikke er empririsk analyse av teori. \n",
    "\n",
    "# ta med korrelasjonsmatrise for no2_*, no3_* og no4_*"
   ]
  },
  {
   "cell_type": "code",
   "execution_count": 55,
   "metadata": {},
   "outputs": [],
   "source": [
    "P_1_3 = [a/m for a, m in zip(listePredY1eNo3, listeSumYeNo3)]\n",
    "P_2_3 = [a/m for a, m in zip(listePredY2eNo3, listeSumYeNo3)]\n",
    "P_3_3 = [a/m for a, m in zip(listePredY3eNo3, listeSumYeNo3)]\n",
    "P_4_3 = [a/m for a, m in zip(listePredY4eNo3, listeSumYeNo3)]\n",
    "P_5_3 = [a/m for a, m in zip(listePredY5eNo3, listeSumYeNo3)]\n",
    "P_6_3 = [a/m for a, m in zip(listePredY6eNo3, listeSumYeNo3)]\n",
    "\n",
    "\n",
    "\n",
    "snittPredY1 = np.mean(P_1_3)    \n",
    "snittPredY2 = np.mean(P_2_3)    \n",
    "snittPredY3 = np.mean(P_3_3)    \n",
    "snittPredY4 = np.mean(P_4_3)    \n",
    "snittPredY5 = np.mean(P_5_3)        \n",
    "snittPredY6 = np.mean(P_6_3) "
   ]
  },
  {
   "cell_type": "code",
   "execution_count": 57,
   "metadata": {},
   "outputs": [
    {
     "name": "stdout",
     "output_type": "stream",
     "text": [
      "0.028199816570216356 0.9406307640591772 0.0001600228763071609 0.13453977773595677 0.015500476681252739 8.443131793794697e-06\n"
     ]
    }
   ],
   "source": [
    "print(snittPredY1, snittPredY2, snittPredY3, snittPredY4, snittPredY5, snittPredY6)"
   ]
  },
  {
   "cell_type": "code",
   "execution_count": 216,
   "metadata": {},
   "outputs": [
    {
     "name": "stdout",
     "output_type": "stream",
     "text": [
      "0.9727928480308055 0.1642514641151978 0.8245715456119523\n"
     ]
    }
   ],
   "source": [
    "P_1_2.sort(reverse=True)\n",
    "MaxValueP_1_2 = P_1_2[0]\n",
    "P_1_2.sort()\n",
    "MinValueP_1_2 = P_1_2[0]\n",
    "print(MaxValueP_1_2, MinValueP_1_2, snittPredY1)"
   ]
  },
  {
   "cell_type": "code",
   "execution_count": null,
   "metadata": {},
   "outputs": [],
   "source": []
  },
  {
   "cell_type": "code",
   "execution_count": null,
   "metadata": {},
   "outputs": [],
   "source": []
  },
  {
   "cell_type": "code",
   "execution_count": null,
   "metadata": {},
   "outputs": [],
   "source": []
  },
  {
   "cell_type": "code",
   "execution_count": 205,
   "metadata": {},
   "outputs": [
    {
     "name": "stderr",
     "output_type": "stream",
     "text": [
      "C:\\Users\\i235jbp\\Anaconda3\\lib\\site-packages\\scipy\\stats\\stats.py:1706: FutureWarning: Using a non-tuple sequence for multidimensional indexing is deprecated; use `arr[tuple(seq)]` instead of `arr[seq]`. In the future this will be interpreted as an array index, `arr[np.array(seq)]`, which will result either in an error or a different result.\n",
      "  return np.add.reduce(sorted[indexer] * weights, axis=axis) / sumval\n"
     ]
    },
    {
     "data": {
      "text/plain": [
       "<matplotlib.axes._subplots.AxesSubplot at 0x1fc690792b0>"
      ]
     },
     "execution_count": 205,
     "metadata": {},
     "output_type": "execute_result"
    },
    {
     "data": {
      "image/png": "[encoded data removed]",
      "text/plain": [
       "<matplotlib.figure.Figure at 0x1fc6901ea90>"
      ]
     },
     "metadata": {},
     "output_type": "display_data"
    }
   ],
   "source": [
    "import seaborn as sns\n",
    "sns.distplot(P_1_2, color=\"green\")\n"
   ]
  },
  {
   "cell_type": "code",
   "execution_count": 217,
   "metadata": {},
   "outputs": [],
   "source": [
    "# P_1_2.plot()\n",
    "# plt.show()\n",
    "# plt.hist(P_1_2, 50, normed=1, facecolor='green', alpha=0.5);\n"
   ]
  },
  {
   "cell_type": "code",
   "execution_count": null,
   "metadata": {},
   "outputs": [],
   "source": []
  },
  {
   "cell_type": "code",
   "execution_count": 206,
   "metadata": {},
   "outputs": [
    {
     "name": "stderr",
     "output_type": "stream",
     "text": [
      "C:\\Users\\i235jbp\\Anaconda3\\lib\\site-packages\\scipy\\stats\\stats.py:1706: FutureWarning: Using a non-tuple sequence for multidimensional indexing is deprecated; use `arr[tuple(seq)]` instead of `arr[seq]`. In the future this will be interpreted as an array index, `arr[np.array(seq)]`, which will result either in an error or a different result.\n",
      "  return np.add.reduce(sorted[indexer] * weights, axis=axis) / sumval\n"
     ]
    },
    {
     "data": {
      "text/plain": [
       "<matplotlib.axes._subplots.AxesSubplot at 0x1fc69099438>"
      ]
     },
     "execution_count": 206,
     "metadata": {},
     "output_type": "execute_result"
    },
    {
     "data": {
      "image/png": "[encoded data removed]",
      "text/plain": [
       "<matplotlib.figure.Figure at 0x1fc69105668>"
      ]
     },
     "metadata": {},
     "output_type": "display_data"
    }
   ],
   "source": [
    "# plt.hist(P_2_2, 50, normed=1, facecolor='blue', alpha=0.5)\n",
    "sns.distplot(P_2_2, color=\"blue\")\n"
   ]
  },
  {
   "cell_type": "code",
   "execution_count": 207,
   "metadata": {},
   "outputs": [
    {
     "name": "stderr",
     "output_type": "stream",
     "text": [
      "C:\\Users\\i235jbp\\Anaconda3\\lib\\site-packages\\scipy\\stats\\stats.py:1706: FutureWarning: Using a non-tuple sequence for multidimensional indexing is deprecated; use `arr[tuple(seq)]` instead of `arr[seq]`. In the future this will be interpreted as an array index, `arr[np.array(seq)]`, which will result either in an error or a different result.\n",
      "  return np.add.reduce(sorted[indexer] * weights, axis=axis) / sumval\n"
     ]
    },
    {
     "data": {
      "text/plain": [
       "<matplotlib.axes._subplots.AxesSubplot at 0x1fc690f2b70>"
      ]
     },
     "execution_count": 207,
     "metadata": {},
     "output_type": "execute_result"
    },
    {
     "data": {
      "image/png": "[encoded data removed]",
      "text/plain": [
       "<matplotlib.figure.Figure at 0x1fc6919f748>"
      ]
     },
     "metadata": {},
     "output_type": "display_data"
    }
   ],
   "source": [
    "# plt.hist(P_6_2, 50, normed=1, facecolor='red', alpha=0.5)\n",
    "sns.distplot(P_6_2, color=\"red\")\n"
   ]
  },
  {
   "cell_type": "code",
   "execution_count": 124,
   "metadata": {},
   "outputs": [
    {
     "name": "stdout",
     "output_type": "stream",
     "text": [
      "0.7746791156193246 0.15437713977514655 0.013230000766691133 0.012435197427367397 0.005041639182645401 0.040236907228824864\n"
     ]
    }
   ],
   "source": [
    "print( PredY1eNo2,PredY2eNo2, PredY3eNo2, PredY4eNo2, PredY5eNo2, PredY6eNo2)"
   ]
  }
 ],
 "metadata": {
  "kernelspec": {
   "display_name": "Python 3",
   "language": "python",
   "name": "python3"
  },
  "language_info": {
   "codemirror_mode": {
    "name": "ipython",
    "version": 3
   },
   "file_extension": ".py",
   "mimetype": "text/x-python",
   "name": "python",
   "nbconvert_exporter": "python",
   "pygments_lexer": "ipython3",
   "version": "3.6.4"
  }
 },
 "nbformat": 4,
 "nbformat_minor": 2
}
