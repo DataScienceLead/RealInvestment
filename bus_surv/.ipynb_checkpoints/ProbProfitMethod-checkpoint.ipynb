{
 "cells": [
  {
   "cell_type": "markdown",
   "metadata": {},
   "source": [
    "# Prob no3 - Method for calculating profitability "
   ]
  },
  {
   "cell_type": "code",
   "execution_count": 1,
   "metadata": {},
   "outputs": [],
   "source": [
    "import pandas as pd\n",
    "import numpy as np\n",
    "import random \n",
    "from scipy import linalg\n",
    "import math\n",
    "import matplotlib.pyplot as plt\n",
    "import scipy.stats"
   ]
  },
  {
   "cell_type": "code",
   "execution_count": 2,
   "metadata": {},
   "outputs": [],
   "source": [
    "dataset = \"C:/Users/i235jbp/Dropbox/PhD/Spørreundersøkelse/R/datasett_bus_surv_no2.csv\""
   ]
  },
  {
   "cell_type": "code",
   "execution_count": 3,
   "metadata": {},
   "outputs": [],
   "source": [
    "df = pd.read_csv(dataset, sep=\",\", engine='python')\n"
   ]
  },
  {
   "cell_type": "code",
   "execution_count": 21,
   "metadata": {},
   "outputs": [
    {
     "data": {
      "text/html": [
       "<div>\n",
       "<style scoped>\n",
       "    .dataframe tbody tr th:only-of-type {\n",
       "        vertical-align: middle;\n",
       "    }\n",
       "\n",
       "    .dataframe tbody tr th {\n",
       "        vertical-align: top;\n",
       "    }\n",
       "\n",
       "    .dataframe thead th {\n",
       "        text-align: right;\n",
       "    }\n",
       "</style>\n",
       "<table border=\"1\" class=\"dataframe\">\n",
       "  <thead>\n",
       "    <tr style=\"text-align: right;\">\n",
       "      <th></th>\n",
       "      <th>orgnr</th>\n",
       "      <th>orgnr_foretak</th>\n",
       "      <th>navn1</th>\n",
       "      <th>sector</th>\n",
       "      <th>bof_nace07</th>\n",
       "      <th>inves_fou</th>\n",
       "      <th>inves_fou_sale</th>\n",
       "      <th>inves_facilities</th>\n",
       "      <th>inves_facilities_sale</th>\n",
       "      <th>inves_plot</th>\n",
       "      <th>...</th>\n",
       "      <th>cashlimit</th>\n",
       "      <th>cashlimit1</th>\n",
       "      <th>equityFunding</th>\n",
       "      <th>debtFunding</th>\n",
       "      <th>signHurdle</th>\n",
       "      <th>sensitivity</th>\n",
       "      <th>hurdleRate</th>\n",
       "      <th>uncertainCash</th>\n",
       "      <th>_est_no21</th>\n",
       "      <th>_est_no22</th>\n",
       "    </tr>\n",
       "  </thead>\n",
       "  <tbody>\n",
       "    <tr>\n",
       "      <th>0</th>\n",
       "      <td>811279858</td>\n",
       "      <td>811280175</td>\n",
       "      <td>HOVLAND TREVAREFABRI</td>\n",
       "      <td>2100.0</td>\n",
       "      <td>16.232000</td>\n",
       "      <td>0.0</td>\n",
       "      <td>0.0</td>\n",
       "      <td>0.0</td>\n",
       "      <td>0.0</td>\n",
       "      <td>0.0</td>\n",
       "      <td>...</td>\n",
       "      <td>0</td>\n",
       "      <td>0</td>\n",
       "      <td>0</td>\n",
       "      <td>0</td>\n",
       "      <td>0</td>\n",
       "      <td>0</td>\n",
       "      <td>1</td>\n",
       "      <td>0</td>\n",
       "      <td>1</td>\n",
       "      <td>1</td>\n",
       "    </tr>\n",
       "    <tr>\n",
       "      <th>1</th>\n",
       "      <td>812749068</td>\n",
       "      <td>812749385</td>\n",
       "      <td>Bergene Holm AS</td>\n",
       "      <td>2100.0</td>\n",
       "      <td>16.100000</td>\n",
       "      <td>0.0</td>\n",
       "      <td>0.0</td>\n",
       "      <td>0.0</td>\n",
       "      <td>0.0</td>\n",
       "      <td>0.0</td>\n",
       "      <td>...</td>\n",
       "      <td>1</td>\n",
       "      <td>1</td>\n",
       "      <td>1</td>\n",
       "      <td>1</td>\n",
       "      <td>0</td>\n",
       "      <td>0</td>\n",
       "      <td>1</td>\n",
       "      <td>0</td>\n",
       "      <td>1</td>\n",
       "      <td>1</td>\n",
       "    </tr>\n",
       "    <tr>\n",
       "      <th>2</th>\n",
       "      <td>816063118</td>\n",
       "      <td>816063435</td>\n",
       "      <td>SNØGG AS</td>\n",
       "      <td>2100.0</td>\n",
       "      <td>21.200001</td>\n",
       "      <td>0.0</td>\n",
       "      <td>0.0</td>\n",
       "      <td>0.0</td>\n",
       "      <td>0.0</td>\n",
       "      <td>0.0</td>\n",
       "      <td>...</td>\n",
       "      <td>0</td>\n",
       "      <td>0</td>\n",
       "      <td>1</td>\n",
       "      <td>1</td>\n",
       "      <td>1</td>\n",
       "      <td>0</td>\n",
       "      <td>1</td>\n",
       "      <td>1</td>\n",
       "      <td>1</td>\n",
       "      <td>1</td>\n",
       "    </tr>\n",
       "    <tr>\n",
       "      <th>3</th>\n",
       "      <td>829093598</td>\n",
       "      <td>829093915</td>\n",
       "      <td>STRYN BETONGELEMENT</td>\n",
       "      <td>2100.0</td>\n",
       "      <td>23.610001</td>\n",
       "      <td>0.0</td>\n",
       "      <td>0.0</td>\n",
       "      <td>0.0</td>\n",
       "      <td>0.0</td>\n",
       "      <td>0.0</td>\n",
       "      <td>...</td>\n",
       "      <td>0</td>\n",
       "      <td>0</td>\n",
       "      <td>1</td>\n",
       "      <td>0</td>\n",
       "      <td>1</td>\n",
       "      <td>0</td>\n",
       "      <td>0</td>\n",
       "      <td>0</td>\n",
       "      <td>1</td>\n",
       "      <td>1</td>\n",
       "    </tr>\n",
       "    <tr>\n",
       "      <th>4</th>\n",
       "      <td>832008348</td>\n",
       "      <td>832008665</td>\n",
       "      <td>SKIBSPLAST A/S</td>\n",
       "      <td>2100.0</td>\n",
       "      <td>30.120001</td>\n",
       "      <td>0.0</td>\n",
       "      <td>0.0</td>\n",
       "      <td>0.0</td>\n",
       "      <td>0.0</td>\n",
       "      <td>0.0</td>\n",
       "      <td>...</td>\n",
       "      <td>0</td>\n",
       "      <td>0</td>\n",
       "      <td>0</td>\n",
       "      <td>1</td>\n",
       "      <td>1</td>\n",
       "      <td>0</td>\n",
       "      <td>1</td>\n",
       "      <td>0</td>\n",
       "      <td>1</td>\n",
       "      <td>1</td>\n",
       "    </tr>\n",
       "  </tbody>\n",
       "</table>\n",
       "<p>5 rows × 193 columns</p>\n",
       "</div>"
      ],
      "text/plain": [
       "       orgnr  orgnr_foretak                 navn1  sector  bof_nace07  \\\n",
       "0  811279858      811280175  HOVLAND TREVAREFABRI  2100.0   16.232000   \n",
       "1  812749068      812749385       Bergene Holm AS  2100.0   16.100000   \n",
       "2  816063118      816063435              SNØGG AS  2100.0   21.200001   \n",
       "3  829093598      829093915   STRYN BETONGELEMENT  2100.0   23.610001   \n",
       "4  832008348      832008665        SKIBSPLAST A/S  2100.0   30.120001   \n",
       "\n",
       "   inves_fou  inves_fou_sale  inves_facilities  inves_facilities_sale  \\\n",
       "0        0.0             0.0               0.0                    0.0   \n",
       "1        0.0             0.0               0.0                    0.0   \n",
       "2        0.0             0.0               0.0                    0.0   \n",
       "3        0.0             0.0               0.0                    0.0   \n",
       "4        0.0             0.0               0.0                    0.0   \n",
       "\n",
       "   inves_plot  ...  cashlimit  cashlimit1  equityFunding  debtFunding  \\\n",
       "0         0.0  ...          0           0              0            0   \n",
       "1         0.0  ...          1           1              1            1   \n",
       "2         0.0  ...          0           0              1            1   \n",
       "3         0.0  ...          0           0              1            0   \n",
       "4         0.0  ...          0           0              0            1   \n",
       "\n",
       "   signHurdle  sensitivity  hurdleRate  uncertainCash  _est_no21  _est_no22  \n",
       "0           0            0           1              0          1          1  \n",
       "1           0            0           1              0          1          1  \n",
       "2           1            0           1              1          1          1  \n",
       "3           1            0           0              0          1          1  \n",
       "4           1            0           1              0          1          1  \n",
       "\n",
       "[5 rows x 193 columns]"
      ]
     },
     "execution_count": 21,
     "metadata": {},
     "output_type": "execute_result"
    }
   ],
   "source": [
    "# df.drop(['navn', 'orgnr_foretak', 'f_postnr', 'sn07_1'], axis=1, inplace=True)\n",
    "df['orgnr'] = df['orgnr']-random.randint(1,1000)\n",
    "df['orgnr_foretak'] = df['orgnr_foretak']-random.randint(1,1000)\n",
    "df['employ'] = df['employ']+random.randint(1,15)\n",
    "df.head()\n"
   ]
  },
  {
   "cell_type": "code",
   "execution_count": 4,
   "metadata": {},
   "outputs": [],
   "source": [
    "df.drop(['navn1'], axis=1, inplace=True)"
   ]
  },
  {
   "cell_type": "code",
   "execution_count": 5,
   "metadata": {},
   "outputs": [],
   "source": [
    "# list of explanatory variables, important to stack the variables and estimated parametes in the same order\n",
    "explanatoryNo3 = ['higheduc', 'smallcap','largecap',  'subsidary', 'no2_1', 'no2_2', 'sensitivity' ,'hurdleRate']\n",
    "# make a new df\n",
    "df_short3 = df.copy(deep=True)"
   ]
  },
  {
   "cell_type": "code",
   "execution_count": 6,
   "metadata": {},
   "outputs": [
    {
     "data": {
      "text/html": [
       "<div>\n",
       "<style scoped>\n",
       "    .dataframe tbody tr th:only-of-type {\n",
       "        vertical-align: middle;\n",
       "    }\n",
       "\n",
       "    .dataframe tbody tr th {\n",
       "        vertical-align: top;\n",
       "    }\n",
       "\n",
       "    .dataframe thead th {\n",
       "        text-align: right;\n",
       "    }\n",
       "</style>\n",
       "<table border=\"1\" class=\"dataframe\">\n",
       "  <thead>\n",
       "    <tr style=\"text-align: right;\">\n",
       "      <th></th>\n",
       "      <th>higheduc</th>\n",
       "      <th>smallcap</th>\n",
       "      <th>largecap</th>\n",
       "      <th>subsidary</th>\n",
       "      <th>no2_1</th>\n",
       "      <th>no2_2</th>\n",
       "      <th>sensitivity</th>\n",
       "      <th>hurdleRate</th>\n",
       "    </tr>\n",
       "  </thead>\n",
       "  <tbody>\n",
       "    <tr>\n",
       "      <th>0</th>\n",
       "      <td>0.0</td>\n",
       "      <td>1</td>\n",
       "      <td>0</td>\n",
       "      <td>0</td>\n",
       "      <td>1</td>\n",
       "      <td>1</td>\n",
       "      <td>0</td>\n",
       "      <td>1</td>\n",
       "    </tr>\n",
       "    <tr>\n",
       "      <th>1</th>\n",
       "      <td>1.0</td>\n",
       "      <td>0</td>\n",
       "      <td>1</td>\n",
       "      <td>0</td>\n",
       "      <td>2</td>\n",
       "      <td>2</td>\n",
       "      <td>0</td>\n",
       "      <td>1</td>\n",
       "    </tr>\n",
       "    <tr>\n",
       "      <th>2</th>\n",
       "      <td>1.0</td>\n",
       "      <td>1</td>\n",
       "      <td>0</td>\n",
       "      <td>0</td>\n",
       "      <td>2</td>\n",
       "      <td>2</td>\n",
       "      <td>0</td>\n",
       "      <td>1</td>\n",
       "    </tr>\n",
       "    <tr>\n",
       "      <th>3</th>\n",
       "      <td>0.0</td>\n",
       "      <td>1</td>\n",
       "      <td>0</td>\n",
       "      <td>0</td>\n",
       "      <td>3</td>\n",
       "      <td>0</td>\n",
       "      <td>0</td>\n",
       "      <td>0</td>\n",
       "    </tr>\n",
       "    <tr>\n",
       "      <th>4</th>\n",
       "      <td>0.0</td>\n",
       "      <td>1</td>\n",
       "      <td>0</td>\n",
       "      <td>0</td>\n",
       "      <td>1</td>\n",
       "      <td>2</td>\n",
       "      <td>0</td>\n",
       "      <td>1</td>\n",
       "    </tr>\n",
       "  </tbody>\n",
       "</table>\n",
       "</div>"
      ],
      "text/plain": [
       "   higheduc  smallcap  largecap  subsidary  no2_1  no2_2  sensitivity  \\\n",
       "0       0.0         1         0          0      1      1            0   \n",
       "1       1.0         0         1          0      2      2            0   \n",
       "2       1.0         1         0          0      2      2            0   \n",
       "3       0.0         1         0          0      3      0            0   \n",
       "4       0.0         1         0          0      1      2            0   \n",
       "\n",
       "   hurdleRate  \n",
       "0           1  \n",
       "1           1  \n",
       "2           1  \n",
       "3           0  \n",
       "4           1  "
      ]
     },
     "execution_count": 6,
     "metadata": {},
     "output_type": "execute_result"
    }
   ],
   "source": [
    "df_short3=df_short3.loc[:,explanatoryNo3].dropna(axis=0, how='any')\n",
    "df_short3.head()"
   ]
  },
  {
   "cell_type": "code",
   "execution_count": 7,
   "metadata": {},
   "outputs": [
    {
     "data": {
      "text/html": [
       "<div>\n",
       "<style scoped>\n",
       "    .dataframe tbody tr th:only-of-type {\n",
       "        vertical-align: middle;\n",
       "    }\n",
       "\n",
       "    .dataframe tbody tr th {\n",
       "        vertical-align: top;\n",
       "    }\n",
       "\n",
       "    .dataframe thead th {\n",
       "        text-align: right;\n",
       "    }\n",
       "</style>\n",
       "<table border=\"1\" class=\"dataframe\">\n",
       "  <thead>\n",
       "    <tr style=\"text-align: right;\">\n",
       "      <th></th>\n",
       "      <th>higheduc</th>\n",
       "      <th>smallcap</th>\n",
       "      <th>largecap</th>\n",
       "      <th>subsidary</th>\n",
       "      <th>no2_1</th>\n",
       "      <th>no2_2</th>\n",
       "      <th>sensitivity</th>\n",
       "      <th>hurdleRate</th>\n",
       "    </tr>\n",
       "  </thead>\n",
       "  <tbody>\n",
       "    <tr>\n",
       "      <th>count</th>\n",
       "      <td>298</td>\n",
       "      <td>298</td>\n",
       "      <td>298</td>\n",
       "      <td>298</td>\n",
       "      <td>298</td>\n",
       "      <td>298</td>\n",
       "      <td>298</td>\n",
       "      <td>298</td>\n",
       "    </tr>\n",
       "    <tr>\n",
       "      <th>unique</th>\n",
       "      <td>1</td>\n",
       "      <td>1</td>\n",
       "      <td>1</td>\n",
       "      <td>1</td>\n",
       "      <td>1</td>\n",
       "      <td>1</td>\n",
       "      <td>1</td>\n",
       "      <td>1</td>\n",
       "    </tr>\n",
       "    <tr>\n",
       "      <th>top</th>\n",
       "      <td>False</td>\n",
       "      <td>False</td>\n",
       "      <td>False</td>\n",
       "      <td>False</td>\n",
       "      <td>False</td>\n",
       "      <td>False</td>\n",
       "      <td>False</td>\n",
       "      <td>False</td>\n",
       "    </tr>\n",
       "    <tr>\n",
       "      <th>freq</th>\n",
       "      <td>298</td>\n",
       "      <td>298</td>\n",
       "      <td>298</td>\n",
       "      <td>298</td>\n",
       "      <td>298</td>\n",
       "      <td>298</td>\n",
       "      <td>298</td>\n",
       "      <td>298</td>\n",
       "    </tr>\n",
       "  </tbody>\n",
       "</table>\n",
       "</div>"
      ],
      "text/plain": [
       "       higheduc smallcap largecap subsidary  no2_1  no2_2 sensitivity  \\\n",
       "count       298      298      298       298    298    298         298   \n",
       "unique        1        1        1         1      1      1           1   \n",
       "top       False    False    False     False  False  False       False   \n",
       "freq        298      298      298       298    298    298         298   \n",
       "\n",
       "       hurdleRate  \n",
       "count         298  \n",
       "unique          1  \n",
       "top         False  \n",
       "freq          298  "
      ]
     },
     "execution_count": 7,
     "metadata": {},
     "output_type": "execute_result"
    }
   ],
   "source": [
    "df_short3.isnull().describe()"
   ]
  },
  {
   "cell_type": "code",
   "execution_count": 8,
   "metadata": {},
   "outputs": [],
   "source": [
    "# df_short.dropna(axis=0, how='any', inplace=True)\n",
    "X_3 = df_short3.values\n"
   ]
  },
  {
   "cell_type": "markdown",
   "metadata": {},
   "source": [
    "## Regresjonsresultater\n",
    "\n",
    "                    EAC   &      IRR   &        NPV   &       Payback   &      Other models   &        No model   \\\\\n",
    "Small cap    &       0.047   &      -0.142   &      -1.152***&      -0.183   &       0.940*  &       0.544   \\\\\n",
    "Large cap    &       0.426   &       1.265***&       0.956** &       0.292   &       1.154** &           .   \\\\\n",
    "Higher education    &       0.282   &       0.626*  &       0.857** &       0.259   &      -0.305   &      -1.046** \\\\\n",
    "Subsidiary   &       0.588   &       0.583*  &      -0.217   &       0.465   &       0.048   &      -1.009   \\\\\n",
    "Freq. of EquityFunding       &       0.459   &       0.244   &      -0.565** &       0.287   &       0.554   &      -0.538   \\\\\n",
    "Freq of DebtFunding       &      -0.288   &       0.064   &      -0.522***&       0.201   &       0.435** &      -0.013   \\\\\n",
    "Sensitivity analysis &      -0.251   &       1.348***&       1.167***&       0.274   &      -0.598   &           .   \\\\\n",
    "Imp. of HurdleRate  &       1.637   &       2.404***&       2.054***&       0.943** &      -0.093   &      -3.212***\n",
    "\n",
    "explanatoryNo3 = ['higheduc', 'smallcap','largecap',  'subsidary', 'no2_1', 'no2_2', 'sensitivity' ,'hurdleRate']"
   ]
  },
  {
   "cell_type": "code",
   "execution_count": 9,
   "metadata": {},
   "outputs": [],
   "source": [
    "beta_1_3 = ([.2819157  , .0472377 , .4256163   ,.5881743  , .4585202 ,  -.2878372 ,  -.2507269  , 1.637389  ])"
   ]
  },
  {
   "cell_type": "code",
   "execution_count": 10,
   "metadata": {},
   "outputs": [],
   "source": [
    "beta_2_3 = ([ .6263949  , -.1415472  ,  1.26501  ,    .5826111 ,  .2440681  , .0642679 ,  1.347802  , 2.403717])"
   ]
  },
  {
   "cell_type": "code",
   "execution_count": 11,
   "metadata": {},
   "outputs": [],
   "source": [
    "beta_3_3= ([.8571165 ,  -1.151734  , .9563701  ,  -.2174719  ,-.5650719  , -.5221819   ,1.166898 ,  2.054198])"
   ]
  },
  {
   "cell_type": "code",
   "execution_count": 12,
   "metadata": {},
   "outputs": [],
   "source": [
    "beta_4_3 = ([.2585995  , -.182598 ,  .2923246 ,   .4650673 ,  .2873178  , .2006496  ,  .274211 ,  .9434336])"
   ]
  },
  {
   "cell_type": "code",
   "execution_count": 13,
   "metadata": {},
   "outputs": [],
   "source": [
    "beta_5_3= ([-.3047959 ,  .9404743,   1.154397  ,  .0480909  , .5539917  , .4347656 ,  -.5976469  , -.0926396 ])"
   ]
  },
  {
   "cell_type": "code",
   "execution_count": 14,
   "metadata": {},
   "outputs": [],
   "source": [
    "beta_6_3 = ([-1.046108 , .5441672 ,         0   , -1.008954   ,-.5377209  , -.0127514     ,    0 ,  -3.212488 ])"
   ]
  },
  {
   "cell_type": "code",
   "execution_count": 15,
   "metadata": {},
   "outputs": [],
   "source": [
    "# Threshold for no3_1\n",
    "cut_1_3 =  [-4.751879] \n",
    "\n",
    "#Threshold for no3_2\n",
    "cut_2_3 =[-5.332868] \n",
    "\n",
    "#Threshold for no3_3\n",
    "cut_3_3 =[-1.165978 ]\n",
    "\n",
    "#Threshold for no2_4\n",
    "cut_4_3 =[ -3.636997 ]\n",
    "\n",
    "#Threshold for no2_5\n",
    "cut_5_3 =[ -3.579774]\n",
    "\n",
    "#Threshold for no2_6\n",
    "cut_6_3 =[3.143438]\n",
    "\n",
    "#  _cons              -4.752**        -5.333***       -1.166          -3.637***       -3.580**         3.143*  \n",
    "\n",
    " "
   ]
  },
  {
   "cell_type": "code",
   "execution_count": 16,
   "metadata": {},
   "outputs": [
    {
     "name": "stdout",
     "output_type": "stream",
     "text": [
      "-4.751879 -5.332868 -1.165978 -3.636997 3.143438\n"
     ]
    }
   ],
   "source": [
    "cut_avg_1_3 = 1/len(cut_1_3) * sum(cut_1_3) \n",
    "\n",
    "#Threshold for no2_2\n",
    "cut_avg_2_3 = 1/len(cut_2_3) * sum(cut_2_3) \n",
    "\n",
    "#Threshold for no2_3\n",
    "cut_avg_3_3 = 1/len(cut_3_3) * sum(cut_3_3) \n",
    "\n",
    "#Threshold for no2_4\n",
    "cut_avg_4_3 = 1/len(cut_4_3) * sum(cut_4_3) \n",
    "\n",
    "#Threshold for no2_5\n",
    "# cut_avg_5_3 = 1/len(cut_5_3) * sum(cut_5_3) \n",
    "\n",
    "#Threshold for no2_6\n",
    "cut_avg_6_3 = 1/len(cut_6_3) * sum(cut_6_3) \n",
    "print(cut_avg_1_3, cut_avg_2_3, cut_avg_3_3, cut_avg_4_3, cut_avg_6_3)\n",
    "#  cut_avg_5_3,"
   ]
  },
  {
   "cell_type": "code",
   "execution_count": 17,
   "metadata": {},
   "outputs": [
    {
     "ename": "NameError",
     "evalue": "name 'cut_avg_5_3' is not defined",
     "output_type": "error",
     "traceback": [
      "\u001b[1;31m---------------------------------------------------------------------------\u001b[0m",
      "\u001b[1;31mNameError\u001b[0m                                 Traceback (most recent call last)",
      "\u001b[1;32m<ipython-input-17-87e3a0967322>\u001b[0m in \u001b[0;36m<module>\u001b[1;34m()\u001b[0m\n\u001b[0;32m      4\u001b[0m         \u001b[0mmath\u001b[0m\u001b[1;33m.\u001b[0m\u001b[0mexp\u001b[0m\u001b[1;33m(\u001b[0m\u001b[1;33m-\u001b[0m\u001b[0mcut_avg_3_3\u001b[0m \u001b[1;33m+\u001b[0m \u001b[0mX_3\u001b[0m\u001b[1;33m[\u001b[0m\u001b[1;36m0\u001b[0m\u001b[1;33m:\u001b[0m\u001b[1;36m1\u001b[0m\u001b[1;33m]\u001b[0m\u001b[1;33m@\u001b[0m\u001b[0mbeta_3_3\u001b[0m\u001b[1;33m)\u001b[0m \u001b[1;33m+\u001b[0m\u001b[1;33m\u001b[0m\u001b[0m\n\u001b[0;32m      5\u001b[0m         \u001b[0mmath\u001b[0m\u001b[1;33m.\u001b[0m\u001b[0mexp\u001b[0m\u001b[1;33m(\u001b[0m\u001b[1;33m-\u001b[0m\u001b[0mcut_avg_4_3\u001b[0m \u001b[1;33m+\u001b[0m \u001b[0mX_3\u001b[0m\u001b[1;33m[\u001b[0m\u001b[1;36m0\u001b[0m\u001b[1;33m:\u001b[0m\u001b[1;36m1\u001b[0m\u001b[1;33m]\u001b[0m\u001b[1;33m@\u001b[0m\u001b[0mbeta_4_3\u001b[0m\u001b[1;33m)\u001b[0m \u001b[1;33m+\u001b[0m\u001b[1;33m\u001b[0m\u001b[0m\n\u001b[1;32m----> 6\u001b[1;33m         \u001b[0mmath\u001b[0m\u001b[1;33m.\u001b[0m\u001b[0mexp\u001b[0m\u001b[1;33m(\u001b[0m\u001b[1;33m-\u001b[0m\u001b[0mcut_avg_5_3\u001b[0m \u001b[1;33m+\u001b[0m \u001b[0mX_3\u001b[0m\u001b[1;33m[\u001b[0m\u001b[1;36m0\u001b[0m\u001b[1;33m:\u001b[0m\u001b[1;36m1\u001b[0m\u001b[1;33m]\u001b[0m\u001b[1;33m@\u001b[0m\u001b[0mbeta_5_3\u001b[0m\u001b[1;33m)\u001b[0m \u001b[1;33m+\u001b[0m\u001b[1;33m\u001b[0m\u001b[0m\n\u001b[0m\u001b[0;32m      7\u001b[0m         math.exp(-cut_avg_6_3 + X_3[0:1]@beta_6_3))\n\u001b[0;32m      8\u001b[0m \u001b[1;33m\u001b[0m\u001b[0m\n",
      "\u001b[1;31mNameError\u001b[0m: name 'cut_avg_5_3' is not defined"
     ]
    }
   ],
   "source": [
    "### Testcase for prediksjon på en enkelt bedrift\n",
    "SumYNo3 = ( math.exp(-cut_avg_1_3 + X_3[0:1]@beta_1_3)+\n",
    "        math.exp(-cut_avg_2_3 + X_3[0:1]@beta_2_3) + \n",
    "        math.exp(-cut_avg_3_3 + X_3[0:1]@beta_3_3) + \n",
    "        math.exp(-cut_avg_4_3 + X_3[0:1]@beta_4_3) +  \n",
    "        math.exp(-cut_avg_5_3 + X_3[0:1]@beta_5_3) + \n",
    "        math.exp(-cut_avg_6_3 + X_3[0:1]@beta_6_3))\n",
    "\n",
    "# PredY1eNo2 = math.exp(-cut_avg_1_2 + X_2[0:1]@beta_1_2) /SumYNo2\n",
    "PredY2eNo2_test = math.exp(-cut_avg_2_3 + X_3[3:4]@beta_2_3) /SumYNo3\n",
    "# PredY3eNo2 = math.exp(-cut_avg_3_2 + X_2[0:1]@beta_3_2) /SumYNo2 \n",
    "# PredY4eNo2 = math.exp(-cut_avg_4_2 + X_2[0:1]@beta_4_2) /SumYNo2\n",
    "# PredY5eNo2 = math.exp(-cut_avg_5_2 + X_2[0:1]@beta_5_2) /SumYNo2\n",
    "# PredY6eNo2 = math.exp(-cut_avg_6_2 + X_2[0:1]@beta_6_2) /SumYNo2\n",
    "\n",
    "print(PredY2eNo2_test)"
   ]
  },
  {
   "cell_type": "code",
   "execution_count": null,
   "metadata": {},
   "outputs": [],
   "source": [
    "math.exp(-cut_avg_2_3 + X_3[55:56]@beta_2_3) \n",
    "print(math.exp(5.3), math.exp(1), math.exp(3.6))\n",
    "beta_2_3"
   ]
  },
  {
   "cell_type": "code",
   "execution_count": null,
   "metadata": {},
   "outputs": [],
   "source": [
    "# Lage lister som kan holde predikert verdi\n",
    "listeSumYNo3 = []\n",
    "listePredY1eNo3 = []\n",
    "listePredY2eNo3 = []\n",
    "listePredY3eNo3 = []\n",
    "listePredY4eNo3 = []\n",
    "# listePredY5eNo3 = []\n",
    "listePredY6eNo3 = []\n",
    "\n",
    "# Regne ut X*Beta i løkke for hver enkelt bedrift\n",
    "\n",
    "for i in range(len(X_3)):\n",
    "    pred_i = [math.exp(-cut_avg_1_3 + X_3[0+i:1+i]@beta_1_3)]\n",
    "    listePredY1eNo3.append(pred_i[0]) \n",
    "\n",
    "for i in range(len(X_3)):\n",
    "    pred_i = [math.exp(-cut_avg_2_3 + X_3[0+i:1+i]@beta_2_3)]\n",
    "    listePredY2eNo3.append(pred_i[0]) \n",
    "    \n",
    "    \n",
    "for i in range(len(X_3)):\n",
    "    pred_i = [math.exp(-cut_avg_3_3 + X_3[0+i:1+i]@beta_3_3)]\n",
    "    listePredY3eNo3.append(pred_i[0]) \n",
    "\n",
    "for i in range(len(X_3)):\n",
    "    pred_i = [math.exp(-cut_avg_4_3 + X_3[0+i:1+i]@beta_4_3)]\n",
    "    listePredY4eNo3.append(pred_i[0]) \n",
    "\n",
    "# for i in range(len(X_3)):\n",
    "#     pred_i = [math.exp(-cut_avg_5_3 + X_3[0+i:1+i]@beta_5_3)]\n",
    "#     listePredY5eNo3.append(pred_i[0]) \n",
    "\n",
    "for i in range(len(X_3)):\n",
    "    pred_i = [math.exp(-cut_avg_6_3 + X_3[0+i:1+i]@beta_6_3)]\n",
    "    listePredY6eNo3.append(pred_i[0]) \n",
    "\n",
    "   \n",
    "# med, min, max\n"
   ]
  },
  {
   "cell_type": "code",
   "execution_count": null,
   "metadata": {},
   "outputs": [],
   "source": [
    "# listePredY1eNo2\n"
   ]
  },
  {
   "cell_type": "code",
   "execution_count": null,
   "metadata": {},
   "outputs": [],
   "source": [
    "metode = dict()\n",
    "\n"
   ]
  },
  {
   "cell_type": "code",
   "execution_count": null,
   "metadata": {},
   "outputs": [],
   "source": [
    "# Summere alle elementene i listen for å finne nevneren i P-uttrykket\n",
    "listeSumYeNo3 = [ x+y+z+u+t for x , y, z, u, t in zip(listePredY1eNo3, listePredY2eNo3,listePredY3eNo3,listePredY4eNo3,listePredY6eNo3)]\n",
    "# listePredY5eNo3,\n",
    "\n",
    "#  stated preferences - spørre om hva bruker du vanligvis å foretrekke å gjøre, \n",
    "# bedre å sprørre konkret på hver metode. \n",
    "# statistisk metode i data kap\n",
    "# Flytte bus surv cap til et underkap av data. \n",
    "# Og econometric methods som et eget kap\n",
    "# merk at kap 5 - analyse av bus surv ikke er empririsk analyse av teori. \n",
    "\n",
    "# ta med korrelasjonsmatrise for no2_*, no3_* og no4_*"
   ]
  },
  {
   "cell_type": "code",
   "execution_count": null,
   "metadata": {},
   "outputs": [],
   "source": [
    "# Predikere ssh for valg av de ulike metodene i en multinomisk setting\n",
    "P_1_3 = [a/m for a, m in zip(listePredY1eNo3, listeSumYeNo3)]\n",
    "P_2_3 = [a/m for a, m in zip(listePredY2eNo3, listeSumYeNo3)]\n",
    "P_3_3 = [a/m for a, m in zip(listePredY3eNo3, listeSumYeNo3)]\n",
    "P_4_3 = [a/m for a, m in zip(listePredY4eNo3, listeSumYeNo3)]\n",
    "# P_5_3 = [a/m for a, m in zip(listePredY5eNo3, listeSumYeNo3)]\n",
    "P_6_3 = [a/m for a, m in zip(listePredY6eNo3, listeSumYeNo3)]"
   ]
  },
  {
   "cell_type": "code",
   "execution_count": null,
   "metadata": {},
   "outputs": [],
   "source": [
    "zipListP3 = list(zip(P_1_3, P_2_3, P_3_3, P_4_3, P_6_3))\n",
    "#  P_5_3,\n",
    "dfP3 = pd.DataFrame(zipListP3, columns = (\"EAC\", 'IRR', 'NPV', 'Payback', 'No model'))\n",
    "# 'Several models', "
   ]
  },
  {
   "cell_type": "code",
   "execution_count": null,
   "metadata": {},
   "outputs": [],
   "source": [
    "dfPDesc = dfP3.describe()\n",
    "# filename = folderFig+\"/dfPDes3.xlsx\"\n",
    "# dfPDesc.to_excel(filename)"
   ]
  },
  {
   "cell_type": "code",
   "execution_count": null,
   "metadata": {},
   "outputs": [],
   "source": [
    "dfPDesc"
   ]
  },
  {
   "cell_type": "code",
   "execution_count": null,
   "metadata": {},
   "outputs": [],
   "source": [
    "#  Finne gjennomsnittlig prediksjon\n",
    "\n",
    "snittPredY1 = np.mean(P_1_3)    \n",
    "snittPredY2 = np.mean(P_2_3)    \n",
    "snittPredY3 = np.mean(P_3_3)    \n",
    "snittPredY4 = np.mean(P_4_3)    \n",
    "# snittPredY5 = np.mean(P_5_3)        \n",
    "snittPredY6 = np.mean(P_6_3) \n",
    "\n",
    "\n",
    "P_1_3.sort(reverse=True)\n",
    "MaxValueP_1_3 = P_1_3[0]\n",
    "P_1_3.sort()\n",
    "MinValueP_1_3= P_1_3[0]\n",
    "\n",
    "P_2_3.sort(reverse=True)\n",
    "MaxValueP_2_3 = P_2_3[0]\n",
    "P_2_3.sort()\n",
    "MinValueP_2_3= P_2_3[0]\n",
    "\n",
    "P_3_3.sort(reverse=True)\n",
    "MaxValueP_3_3 = P_3_3[0]\n",
    "P_3_3.sort()\n",
    "MinValueP_3_3= P_3_3[0]\n",
    "\n",
    "P_4_3.sort(reverse=True)\n",
    "MaxValueP_4_3 = P_4_3[0]\n",
    "P_4_3.sort()\n",
    "MinValueP_4_3= P_4_3[0]\n",
    "\n",
    "# P_5_3.sort(reverse=True)\n",
    "# MaxValueP_5_3 = P_5_3[0]\n",
    "# P_5_3.sort()\n",
    "# MinValueP_5_3= P_5_3[0]\n",
    "\n",
    "P_6_3.sort(reverse=True)\n",
    "MaxValueP_6_3 = P_6_3[0]\n",
    "P_6_3.sort()\n",
    "MinValueP_6_3= P_6_3[0]\n",
    "\n",
    "\n",
    "print(MaxValueP_1_3, MinValueP_1_3, snittPredY1)"
   ]
  },
  {
   "cell_type": "code",
   "execution_count": null,
   "metadata": {},
   "outputs": [],
   "source": [
    "print(snittPredY1, snittPredY2, snittPredY3, snittPredY4, snittPredY5, snittPredY6)"
   ]
  },
  {
   "cell_type": "code",
   "execution_count": null,
   "metadata": {},
   "outputs": [],
   "source": [
    "folderFig = \"C:/Users/i235jbp/Dropbox/PhD/Spørreundersøkelse/Artikkel\"\n",
    "import seaborn as sns\n",
    "sns.distplot(P_1_3, color=\"green\")\n",
    "\n",
    "filename = folderFig+'/P13.png'\n",
    "plt.savefig(filename)"
   ]
  },
  {
   "cell_type": "code",
   "execution_count": null,
   "metadata": {},
   "outputs": [],
   "source": [
    "import seaborn as sns\n",
    "sns.distplot(P_2_3, color=\"blue\")\n",
    "filename = folderFig+'/P23.png'\n",
    "plt.savefig(filename)"
   ]
  },
  {
   "cell_type": "code",
   "execution_count": null,
   "metadata": {},
   "outputs": [],
   "source": [
    "sns.distplot(listePredY2eNo3, color=\"red\")"
   ]
  },
  {
   "cell_type": "code",
   "execution_count": null,
   "metadata": {},
   "outputs": [],
   "source": [
    "import seaborn as sns\n",
    "sns.distplot(P_3_3, color=\"red\")\n",
    "filename = folderFig+'/P33.png'\n",
    "plt.savefig(filename)"
   ]
  },
  {
   "cell_type": "code",
   "execution_count": null,
   "metadata": {},
   "outputs": [],
   "source": [
    "import seaborn as sns\n",
    "sns.distplot(listePredY3eNo3, color=\"red\")\n",
    "# filename = folderFig+'/PP33.png'\n",
    "# plt.savefig(filename)"
   ]
  },
  {
   "cell_type": "code",
   "execution_count": null,
   "metadata": {},
   "outputs": [],
   "source": [
    "import seaborn as sns\n",
    "sns.distplot(P_4_3, color=\"orange\")\n",
    "filename = folderFig+'/P43.png'\n",
    "plt.savefig(filename)"
   ]
  },
  {
   "cell_type": "code",
   "execution_count": null,
   "metadata": {},
   "outputs": [],
   "source": [
    "# plt.hist(P_2_2, 50, normed=1, facecolor='blue', alpha=0.5)\n",
    "sns.distplot(P_5_3, color=\"purple\")\n",
    "filename = folderFig+'/P53.png'\n",
    "plt.savefig(filename)"
   ]
  },
  {
   "cell_type": "code",
   "execution_count": null,
   "metadata": {},
   "outputs": [],
   "source": [
    "# plt.hist(P_6_2, 50, normed=1, facecolor='red', alpha=0.5)\n",
    "sns.distplot(P_6_3, color=\"pink\")\n",
    "filename = folderFig+'/P63.png'\n",
    "plt.savefig(filename)"
   ]
  },
  {
   "cell_type": "code",
   "execution_count": null,
   "metadata": {},
   "outputs": [],
   "source": []
  },
  {
   "cell_type": "code",
   "execution_count": null,
   "metadata": {},
   "outputs": [],
   "source": []
  },
  {
   "cell_type": "code",
   "execution_count": null,
   "metadata": {},
   "outputs": [],
   "source": []
  },
  {
   "cell_type": "code",
   "execution_count": 18,
   "metadata": {},
   "outputs": [],
   "source": [
    "df3_ex = pd.concat([df_short3, df['no3_1']], axis=1)"
   ]
  },
  {
   "cell_type": "code",
   "execution_count": 19,
   "metadata": {},
   "outputs": [
    {
     "data": {
      "text/html": [
       "<div>\n",
       "<style scoped>\n",
       "    .dataframe tbody tr th:only-of-type {\n",
       "        vertical-align: middle;\n",
       "    }\n",
       "\n",
       "    .dataframe tbody tr th {\n",
       "        vertical-align: top;\n",
       "    }\n",
       "\n",
       "    .dataframe thead th {\n",
       "        text-align: right;\n",
       "    }\n",
       "</style>\n",
       "<table border=\"1\" class=\"dataframe\">\n",
       "  <thead>\n",
       "    <tr style=\"text-align: right;\">\n",
       "      <th></th>\n",
       "      <th>higheduc</th>\n",
       "      <th>smallcap</th>\n",
       "      <th>largecap</th>\n",
       "      <th>subsidary</th>\n",
       "      <th>no2_1</th>\n",
       "      <th>no2_2</th>\n",
       "      <th>sensitivity</th>\n",
       "      <th>hurdleRate</th>\n",
       "      <th>no3_1</th>\n",
       "    </tr>\n",
       "  </thead>\n",
       "  <tbody>\n",
       "    <tr>\n",
       "      <th>0</th>\n",
       "      <td>0.0</td>\n",
       "      <td>1.0</td>\n",
       "      <td>0.0</td>\n",
       "      <td>0.0</td>\n",
       "      <td>1.0</td>\n",
       "      <td>1.0</td>\n",
       "      <td>0.0</td>\n",
       "      <td>1.0</td>\n",
       "      <td>0</td>\n",
       "    </tr>\n",
       "    <tr>\n",
       "      <th>1</th>\n",
       "      <td>1.0</td>\n",
       "      <td>0.0</td>\n",
       "      <td>1.0</td>\n",
       "      <td>0.0</td>\n",
       "      <td>2.0</td>\n",
       "      <td>2.0</td>\n",
       "      <td>0.0</td>\n",
       "      <td>1.0</td>\n",
       "      <td>0</td>\n",
       "    </tr>\n",
       "    <tr>\n",
       "      <th>2</th>\n",
       "      <td>1.0</td>\n",
       "      <td>1.0</td>\n",
       "      <td>0.0</td>\n",
       "      <td>0.0</td>\n",
       "      <td>2.0</td>\n",
       "      <td>2.0</td>\n",
       "      <td>0.0</td>\n",
       "      <td>1.0</td>\n",
       "      <td>0</td>\n",
       "    </tr>\n",
       "    <tr>\n",
       "      <th>3</th>\n",
       "      <td>0.0</td>\n",
       "      <td>1.0</td>\n",
       "      <td>0.0</td>\n",
       "      <td>0.0</td>\n",
       "      <td>3.0</td>\n",
       "      <td>0.0</td>\n",
       "      <td>0.0</td>\n",
       "      <td>0.0</td>\n",
       "      <td>0</td>\n",
       "    </tr>\n",
       "    <tr>\n",
       "      <th>4</th>\n",
       "      <td>0.0</td>\n",
       "      <td>1.0</td>\n",
       "      <td>0.0</td>\n",
       "      <td>0.0</td>\n",
       "      <td>1.0</td>\n",
       "      <td>2.0</td>\n",
       "      <td>0.0</td>\n",
       "      <td>1.0</td>\n",
       "      <td>0</td>\n",
       "    </tr>\n",
       "  </tbody>\n",
       "</table>\n",
       "</div>"
      ],
      "text/plain": [
       "   higheduc  smallcap  largecap  subsidary  no2_1  no2_2  sensitivity  \\\n",
       "0       0.0       1.0       0.0        0.0    1.0    1.0          0.0   \n",
       "1       1.0       0.0       1.0        0.0    2.0    2.0          0.0   \n",
       "2       1.0       1.0       0.0        0.0    2.0    2.0          0.0   \n",
       "3       0.0       1.0       0.0        0.0    3.0    0.0          0.0   \n",
       "4       0.0       1.0       0.0        0.0    1.0    2.0          0.0   \n",
       "\n",
       "   hurdleRate  no3_1  \n",
       "0         1.0      0  \n",
       "1         1.0      0  \n",
       "2         1.0      0  \n",
       "3         0.0      0  \n",
       "4         1.0      0  "
      ]
     },
     "execution_count": 19,
     "metadata": {},
     "output_type": "execute_result"
    }
   ],
   "source": [
    "df3_ex.head()"
   ]
  },
  {
   "cell_type": "code",
   "execution_count": 20,
   "metadata": {},
   "outputs": [],
   "source": [
    "from sklearn.model_selection import train_test_split\n",
    "X_train, X_test, y_train, y_test = train_test_split(df3_ex.drop('no3_1',axis=1), \n",
    "                                                    df3_ex['no3_1'], test_size=0.05, \n",
    "                                                    random_state=101)"
   ]
  },
  {
   "cell_type": "code",
   "execution_count": 21,
   "metadata": {},
   "outputs": [
    {
     "ename": "ValueError",
     "evalue": "Input contains NaN, infinity or a value too large for dtype('float64').",
     "output_type": "error",
     "traceback": [
      "\u001b[1;31m---------------------------------------------------------------------------\u001b[0m",
      "\u001b[1;31mValueError\u001b[0m                                Traceback (most recent call last)",
      "\u001b[1;32m<ipython-input-21-15f487c15dbb>\u001b[0m in \u001b[0;36m<module>\u001b[1;34m()\u001b[0m\n\u001b[0;32m      1\u001b[0m \u001b[1;32mfrom\u001b[0m \u001b[0msklearn\u001b[0m\u001b[1;33m.\u001b[0m\u001b[0mlinear_model\u001b[0m \u001b[1;32mimport\u001b[0m \u001b[0mLogisticRegression\u001b[0m\u001b[1;33m\u001b[0m\u001b[0m\n\u001b[0;32m      2\u001b[0m \u001b[0mmodelno3\u001b[0m \u001b[1;33m=\u001b[0m \u001b[0mLogisticRegression\u001b[0m\u001b[1;33m(\u001b[0m\u001b[1;33m)\u001b[0m\u001b[1;33m\u001b[0m\u001b[0m\n\u001b[1;32m----> 3\u001b[1;33m \u001b[0mmodelno3\u001b[0m\u001b[1;33m.\u001b[0m\u001b[0mfit\u001b[0m\u001b[1;33m(\u001b[0m\u001b[0mX_train\u001b[0m\u001b[1;33m,\u001b[0m\u001b[0my_train\u001b[0m\u001b[1;33m)\u001b[0m\u001b[1;33m\u001b[0m\u001b[0m\n\u001b[0m\u001b[0;32m      4\u001b[0m \u001b[0mpredictions\u001b[0m \u001b[1;33m=\u001b[0m \u001b[0mlogmodel\u001b[0m\u001b[1;33m.\u001b[0m\u001b[0mpredict\u001b[0m\u001b[1;33m(\u001b[0m\u001b[0mX_test\u001b[0m\u001b[1;33m)\u001b[0m\u001b[1;33m\u001b[0m\u001b[0m\n",
      "\u001b[1;32m~\\Anaconda3\\lib\\site-packages\\sklearn\\linear_model\\logistic.py\u001b[0m in \u001b[0;36mfit\u001b[1;34m(self, X, y, sample_weight)\u001b[0m\n\u001b[0;32m   1214\u001b[0m \u001b[1;33m\u001b[0m\u001b[0m\n\u001b[0;32m   1215\u001b[0m         X, y = check_X_y(X, y, accept_sparse='csr', dtype=_dtype,\n\u001b[1;32m-> 1216\u001b[1;33m                          order=\"C\")\n\u001b[0m\u001b[0;32m   1217\u001b[0m         \u001b[0mcheck_classification_targets\u001b[0m\u001b[1;33m(\u001b[0m\u001b[0my\u001b[0m\u001b[1;33m)\u001b[0m\u001b[1;33m\u001b[0m\u001b[0m\n\u001b[0;32m   1218\u001b[0m         \u001b[0mself\u001b[0m\u001b[1;33m.\u001b[0m\u001b[0mclasses_\u001b[0m \u001b[1;33m=\u001b[0m \u001b[0mnp\u001b[0m\u001b[1;33m.\u001b[0m\u001b[0munique\u001b[0m\u001b[1;33m(\u001b[0m\u001b[0my\u001b[0m\u001b[1;33m)\u001b[0m\u001b[1;33m\u001b[0m\u001b[0m\n",
      "\u001b[1;32m~\\Anaconda3\\lib\\site-packages\\sklearn\\utils\\validation.py\u001b[0m in \u001b[0;36mcheck_X_y\u001b[1;34m(X, y, accept_sparse, dtype, order, copy, force_all_finite, ensure_2d, allow_nd, multi_output, ensure_min_samples, ensure_min_features, y_numeric, warn_on_dtype, estimator)\u001b[0m\n\u001b[0;32m    571\u001b[0m     X = check_array(X, accept_sparse, dtype, order, copy, force_all_finite,\n\u001b[0;32m    572\u001b[0m                     \u001b[0mensure_2d\u001b[0m\u001b[1;33m,\u001b[0m \u001b[0mallow_nd\u001b[0m\u001b[1;33m,\u001b[0m \u001b[0mensure_min_samples\u001b[0m\u001b[1;33m,\u001b[0m\u001b[1;33m\u001b[0m\u001b[0m\n\u001b[1;32m--> 573\u001b[1;33m                     ensure_min_features, warn_on_dtype, estimator)\n\u001b[0m\u001b[0;32m    574\u001b[0m     \u001b[1;32mif\u001b[0m \u001b[0mmulti_output\u001b[0m\u001b[1;33m:\u001b[0m\u001b[1;33m\u001b[0m\u001b[0m\n\u001b[0;32m    575\u001b[0m         y = check_array(y, 'csr', force_all_finite=True, ensure_2d=False,\n",
      "\u001b[1;32m~\\Anaconda3\\lib\\site-packages\\sklearn\\utils\\validation.py\u001b[0m in \u001b[0;36mcheck_array\u001b[1;34m(array, accept_sparse, dtype, order, copy, force_all_finite, ensure_2d, allow_nd, ensure_min_samples, ensure_min_features, warn_on_dtype, estimator)\u001b[0m\n\u001b[0;32m    451\u001b[0m                              % (array.ndim, estimator_name))\n\u001b[0;32m    452\u001b[0m         \u001b[1;32mif\u001b[0m \u001b[0mforce_all_finite\u001b[0m\u001b[1;33m:\u001b[0m\u001b[1;33m\u001b[0m\u001b[0m\n\u001b[1;32m--> 453\u001b[1;33m             \u001b[0m_assert_all_finite\u001b[0m\u001b[1;33m(\u001b[0m\u001b[0marray\u001b[0m\u001b[1;33m)\u001b[0m\u001b[1;33m\u001b[0m\u001b[0m\n\u001b[0m\u001b[0;32m    454\u001b[0m \u001b[1;33m\u001b[0m\u001b[0m\n\u001b[0;32m    455\u001b[0m     \u001b[0mshape_repr\u001b[0m \u001b[1;33m=\u001b[0m \u001b[0m_shape_repr\u001b[0m\u001b[1;33m(\u001b[0m\u001b[0marray\u001b[0m\u001b[1;33m.\u001b[0m\u001b[0mshape\u001b[0m\u001b[1;33m)\u001b[0m\u001b[1;33m\u001b[0m\u001b[0m\n",
      "\u001b[1;32m~\\Anaconda3\\lib\\site-packages\\sklearn\\utils\\validation.py\u001b[0m in \u001b[0;36m_assert_all_finite\u001b[1;34m(X)\u001b[0m\n\u001b[0;32m     42\u001b[0m             and not np.isfinite(X).all()):\n\u001b[0;32m     43\u001b[0m         raise ValueError(\"Input contains NaN, infinity\"\n\u001b[1;32m---> 44\u001b[1;33m                          \" or a value too large for %r.\" % X.dtype)\n\u001b[0m\u001b[0;32m     45\u001b[0m \u001b[1;33m\u001b[0m\u001b[0m\n\u001b[0;32m     46\u001b[0m \u001b[1;33m\u001b[0m\u001b[0m\n",
      "\u001b[1;31mValueError\u001b[0m: Input contains NaN, infinity or a value too large for dtype('float64')."
     ]
    }
   ],
   "source": [
    "from sklearn.linear_model import LogisticRegression\n",
    "modelno3 = LogisticRegression()\n",
    "modelno3.fit(X_train,y_train)\n",
    "predictions = logmodel.predict(X_test)"
   ]
  },
  {
   "cell_type": "code",
   "execution_count": null,
   "metadata": {},
   "outputs": [],
   "source": []
  },
  {
   "cell_type": "code",
   "execution_count": null,
   "metadata": {},
   "outputs": [],
   "source": []
  },
  {
   "cell_type": "code",
   "execution_count": null,
   "metadata": {},
   "outputs": [],
   "source": []
  }
 ],
 "metadata": {
  "kernelspec": {
   "display_name": "Python 3",
   "language": "python",
   "name": "python3"
  },
  "language_info": {
   "codemirror_mode": {
    "name": "ipython",
    "version": 3
   },
   "file_extension": ".py",
   "mimetype": "text/x-python",
   "name": "python",
   "nbconvert_exporter": "python",
   "pygments_lexer": "ipython3",
   "version": "3.6.4"
  }
 },
 "nbformat": 4,
 "nbformat_minor": 2
}
