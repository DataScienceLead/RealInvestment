{
 "cells": [
  {
   "cell_type": "code",
   "execution_count": 171,
   "metadata": {},
   "outputs": [],
   "source": [
    "import pandas as pd\n",
    "import numpy as np\n",
    "import random \n",
    "from scipy import linalg\n",
    "import math\n",
    "import matplotlib.pyplot as plt"
   ]
  },
  {
   "cell_type": "code",
   "execution_count": 49,
   "metadata": {},
   "outputs": [],
   "source": [
    "dataset = \"C:/Users/i235jbp/Dropbox/PhD/Spørreundersøkelse/R/datasett_bus_surv_no2.csv\""
   ]
  },
  {
   "cell_type": "code",
   "execution_count": 50,
   "metadata": {},
   "outputs": [],
   "source": [
    "df = pd.read_csv(dataset, sep=\",\", engine='python')\n"
   ]
  },
  {
   "cell_type": "code",
   "execution_count": 42,
   "metadata": {},
   "outputs": [
    {
     "data": {
      "text/html": [
       "<div>\n",
       "<style scoped>\n",
       "    .dataframe tbody tr th:only-of-type {\n",
       "        vertical-align: middle;\n",
       "    }\n",
       "\n",
       "    .dataframe tbody tr th {\n",
       "        vertical-align: top;\n",
       "    }\n",
       "\n",
       "    .dataframe thead th {\n",
       "        text-align: right;\n",
       "    }\n",
       "</style>\n",
       "<table border=\"1\" class=\"dataframe\">\n",
       "  <thead>\n",
       "    <tr style=\"text-align: right;\">\n",
       "      <th></th>\n",
       "      <th>orgnr</th>\n",
       "      <th>orgnr_foretak</th>\n",
       "      <th>sector</th>\n",
       "      <th>bof_nace07</th>\n",
       "      <th>inves_fou</th>\n",
       "      <th>inves_fou_sale</th>\n",
       "      <th>inves_facilities</th>\n",
       "      <th>inves_facilities_sale</th>\n",
       "      <th>inves_plot</th>\n",
       "      <th>inves_plot_sale</th>\n",
       "      <th>...</th>\n",
       "      <th>no171</th>\n",
       "      <th>nnmerge</th>\n",
       "      <th>_merge</th>\n",
       "      <th>woMerge</th>\n",
       "      <th>invest_share</th>\n",
       "      <th>maint_invest</th>\n",
       "      <th>dividendratio</th>\n",
       "      <th>profitratio</th>\n",
       "      <th>mach_build</th>\n",
       "      <th>_est_no21</th>\n",
       "    </tr>\n",
       "  </thead>\n",
       "  <tbody>\n",
       "    <tr>\n",
       "      <th>0</th>\n",
       "      <td>811280516</td>\n",
       "      <td>811280836</td>\n",
       "      <td>2100.0</td>\n",
       "      <td>16.232000</td>\n",
       "      <td>0.0</td>\n",
       "      <td>0.0</td>\n",
       "      <td>0.0</td>\n",
       "      <td>0.0</td>\n",
       "      <td>0.0</td>\n",
       "      <td>0.0</td>\n",
       "      <td>...</td>\n",
       "      <td>NaN</td>\n",
       "      <td>NaN</td>\n",
       "      <td>1</td>\n",
       "      <td>1</td>\n",
       "      <td>NaN</td>\n",
       "      <td>0</td>\n",
       "      <td>0.000000</td>\n",
       "      <td>-5.655974</td>\n",
       "      <td>1</td>\n",
       "      <td>1</td>\n",
       "    </tr>\n",
       "    <tr>\n",
       "      <th>1</th>\n",
       "      <td>812749726</td>\n",
       "      <td>812750046</td>\n",
       "      <td>2100.0</td>\n",
       "      <td>16.100000</td>\n",
       "      <td>0.0</td>\n",
       "      <td>0.0</td>\n",
       "      <td>0.0</td>\n",
       "      <td>0.0</td>\n",
       "      <td>0.0</td>\n",
       "      <td>0.0</td>\n",
       "      <td>...</td>\n",
       "      <td>NaN</td>\n",
       "      <td>NaN</td>\n",
       "      <td>1</td>\n",
       "      <td>1</td>\n",
       "      <td>NaN</td>\n",
       "      <td>1</td>\n",
       "      <td>0.000123</td>\n",
       "      <td>6.764232</td>\n",
       "      <td>1</td>\n",
       "      <td>1</td>\n",
       "    </tr>\n",
       "    <tr>\n",
       "      <th>2</th>\n",
       "      <td>816063776</td>\n",
       "      <td>816064096</td>\n",
       "      <td>2100.0</td>\n",
       "      <td>21.200001</td>\n",
       "      <td>0.0</td>\n",
       "      <td>0.0</td>\n",
       "      <td>0.0</td>\n",
       "      <td>0.0</td>\n",
       "      <td>0.0</td>\n",
       "      <td>0.0</td>\n",
       "      <td>...</td>\n",
       "      <td>NaN</td>\n",
       "      <td>NaN</td>\n",
       "      <td>1</td>\n",
       "      <td>1</td>\n",
       "      <td>31.53125</td>\n",
       "      <td>1</td>\n",
       "      <td>0.000121</td>\n",
       "      <td>1.205634</td>\n",
       "      <td>1</td>\n",
       "      <td>1</td>\n",
       "    </tr>\n",
       "    <tr>\n",
       "      <th>3</th>\n",
       "      <td>829094256</td>\n",
       "      <td>829094576</td>\n",
       "      <td>2100.0</td>\n",
       "      <td>23.610001</td>\n",
       "      <td>0.0</td>\n",
       "      <td>0.0</td>\n",
       "      <td>0.0</td>\n",
       "      <td>0.0</td>\n",
       "      <td>0.0</td>\n",
       "      <td>0.0</td>\n",
       "      <td>...</td>\n",
       "      <td>NaN</td>\n",
       "      <td>NaN</td>\n",
       "      <td>1</td>\n",
       "      <td>1</td>\n",
       "      <td>NaN</td>\n",
       "      <td>1</td>\n",
       "      <td>0.000000</td>\n",
       "      <td>-4.339672</td>\n",
       "      <td>1</td>\n",
       "      <td>1</td>\n",
       "    </tr>\n",
       "    <tr>\n",
       "      <th>4</th>\n",
       "      <td>832009006</td>\n",
       "      <td>832009326</td>\n",
       "      <td>2100.0</td>\n",
       "      <td>30.120001</td>\n",
       "      <td>0.0</td>\n",
       "      <td>0.0</td>\n",
       "      <td>0.0</td>\n",
       "      <td>0.0</td>\n",
       "      <td>0.0</td>\n",
       "      <td>0.0</td>\n",
       "      <td>...</td>\n",
       "      <td>NaN</td>\n",
       "      <td>NaN</td>\n",
       "      <td>1</td>\n",
       "      <td>1</td>\n",
       "      <td>NaN</td>\n",
       "      <td>0</td>\n",
       "      <td>0.000000</td>\n",
       "      <td>-29.164217</td>\n",
       "      <td>1</td>\n",
       "      <td>1</td>\n",
       "    </tr>\n",
       "  </tbody>\n",
       "</table>\n",
       "<p>5 rows × 182 columns</p>\n",
       "</div>"
      ],
      "text/plain": [
       "       orgnr  orgnr_foretak  sector  bof_nace07  inves_fou  inves_fou_sale  \\\n",
       "0  811280516      811280836  2100.0   16.232000        0.0             0.0   \n",
       "1  812749726      812750046  2100.0   16.100000        0.0             0.0   \n",
       "2  816063776      816064096  2100.0   21.200001        0.0             0.0   \n",
       "3  829094256      829094576  2100.0   23.610001        0.0             0.0   \n",
       "4  832009006      832009326  2100.0   30.120001        0.0             0.0   \n",
       "\n",
       "   inves_facilities  inves_facilities_sale  inves_plot  inves_plot_sale  ...  \\\n",
       "0               0.0                    0.0         0.0              0.0  ...   \n",
       "1               0.0                    0.0         0.0              0.0  ...   \n",
       "2               0.0                    0.0         0.0              0.0  ...   \n",
       "3               0.0                    0.0         0.0              0.0  ...   \n",
       "4               0.0                    0.0         0.0              0.0  ...   \n",
       "\n",
       "   no171  nnmerge  _merge  woMerge  invest_share  maint_invest  dividendratio  \\\n",
       "0    NaN      NaN       1        1           NaN             0       0.000000   \n",
       "1    NaN      NaN       1        1           NaN             1       0.000123   \n",
       "2    NaN      NaN       1        1      31.53125             1       0.000121   \n",
       "3    NaN      NaN       1        1           NaN             1       0.000000   \n",
       "4    NaN      NaN       1        1           NaN             0       0.000000   \n",
       "\n",
       "   profitratio  mach_build  _est_no21  \n",
       "0    -5.655974           1          1  \n",
       "1     6.764232           1          1  \n",
       "2     1.205634           1          1  \n",
       "3    -4.339672           1          1  \n",
       "4   -29.164217           1          1  \n",
       "\n",
       "[5 rows x 182 columns]"
      ]
     },
     "execution_count": 42,
     "metadata": {},
     "output_type": "execute_result"
    }
   ],
   "source": [
    "# df.drop(['navn', 'orgnr_foretak', 'f_postnr', 'sn07_1'], axis=1, inplace=True)\n",
    "df['orgnr'] = df['orgnr']-random.randint(1,1000)\n",
    "df['orgnr_foretak'] = df['orgnr_foretak']-random.randint(1,1000)\n",
    "df['employ'] = df['employ']+random.randint(1,15)\n",
    "df.head()\n"
   ]
  },
  {
   "cell_type": "code",
   "execution_count": 51,
   "metadata": {},
   "outputs": [],
   "source": [
    "df.drop(['navn1'], axis=1, inplace=True)"
   ]
  },
  {
   "cell_type": "code",
   "execution_count": 52,
   "metadata": {},
   "outputs": [
    {
     "data": {
      "text/html": [
       "<div>\n",
       "<style scoped>\n",
       "    .dataframe tbody tr th:only-of-type {\n",
       "        vertical-align: middle;\n",
       "    }\n",
       "\n",
       "    .dataframe tbody tr th {\n",
       "        vertical-align: top;\n",
       "    }\n",
       "\n",
       "    .dataframe thead th {\n",
       "        text-align: right;\n",
       "    }\n",
       "</style>\n",
       "<table border=\"1\" class=\"dataframe\">\n",
       "  <thead>\n",
       "    <tr style=\"text-align: right;\">\n",
       "      <th></th>\n",
       "      <th>orgnr</th>\n",
       "      <th>orgnr_foretak</th>\n",
       "      <th>sector</th>\n",
       "      <th>bof_nace07</th>\n",
       "      <th>inves_fou</th>\n",
       "      <th>inves_fou_sale</th>\n",
       "      <th>inves_facilities</th>\n",
       "      <th>inves_facilities_sale</th>\n",
       "      <th>inves_plot</th>\n",
       "      <th>inves_plot_sale</th>\n",
       "      <th>...</th>\n",
       "      <th>cashlimit</th>\n",
       "      <th>cashlimit1</th>\n",
       "      <th>equityFunding</th>\n",
       "      <th>debtFunding</th>\n",
       "      <th>signHurdle</th>\n",
       "      <th>sensitivity</th>\n",
       "      <th>hurdleRate</th>\n",
       "      <th>uncertainCash</th>\n",
       "      <th>_est_no21</th>\n",
       "      <th>_est_no22</th>\n",
       "    </tr>\n",
       "  </thead>\n",
       "  <tbody>\n",
       "    <tr>\n",
       "      <th>count</th>\n",
       "      <td>309</td>\n",
       "      <td>309</td>\n",
       "      <td>309</td>\n",
       "      <td>309</td>\n",
       "      <td>309</td>\n",
       "      <td>309</td>\n",
       "      <td>309</td>\n",
       "      <td>309</td>\n",
       "      <td>309</td>\n",
       "      <td>309</td>\n",
       "      <td>...</td>\n",
       "      <td>309</td>\n",
       "      <td>309</td>\n",
       "      <td>309</td>\n",
       "      <td>309</td>\n",
       "      <td>309</td>\n",
       "      <td>309</td>\n",
       "      <td>309</td>\n",
       "      <td>309</td>\n",
       "      <td>309</td>\n",
       "      <td>309</td>\n",
       "    </tr>\n",
       "    <tr>\n",
       "      <th>unique</th>\n",
       "      <td>1</td>\n",
       "      <td>1</td>\n",
       "      <td>2</td>\n",
       "      <td>2</td>\n",
       "      <td>2</td>\n",
       "      <td>2</td>\n",
       "      <td>2</td>\n",
       "      <td>2</td>\n",
       "      <td>2</td>\n",
       "      <td>2</td>\n",
       "      <td>...</td>\n",
       "      <td>1</td>\n",
       "      <td>1</td>\n",
       "      <td>1</td>\n",
       "      <td>1</td>\n",
       "      <td>1</td>\n",
       "      <td>1</td>\n",
       "      <td>1</td>\n",
       "      <td>1</td>\n",
       "      <td>1</td>\n",
       "      <td>1</td>\n",
       "    </tr>\n",
       "    <tr>\n",
       "      <th>top</th>\n",
       "      <td>False</td>\n",
       "      <td>False</td>\n",
       "      <td>False</td>\n",
       "      <td>False</td>\n",
       "      <td>False</td>\n",
       "      <td>False</td>\n",
       "      <td>False</td>\n",
       "      <td>False</td>\n",
       "      <td>False</td>\n",
       "      <td>False</td>\n",
       "      <td>...</td>\n",
       "      <td>False</td>\n",
       "      <td>False</td>\n",
       "      <td>False</td>\n",
       "      <td>False</td>\n",
       "      <td>False</td>\n",
       "      <td>False</td>\n",
       "      <td>False</td>\n",
       "      <td>False</td>\n",
       "      <td>False</td>\n",
       "      <td>False</td>\n",
       "    </tr>\n",
       "    <tr>\n",
       "      <th>freq</th>\n",
       "      <td>309</td>\n",
       "      <td>309</td>\n",
       "      <td>286</td>\n",
       "      <td>286</td>\n",
       "      <td>286</td>\n",
       "      <td>286</td>\n",
       "      <td>286</td>\n",
       "      <td>286</td>\n",
       "      <td>286</td>\n",
       "      <td>286</td>\n",
       "      <td>...</td>\n",
       "      <td>309</td>\n",
       "      <td>309</td>\n",
       "      <td>309</td>\n",
       "      <td>309</td>\n",
       "      <td>309</td>\n",
       "      <td>309</td>\n",
       "      <td>309</td>\n",
       "      <td>309</td>\n",
       "      <td>309</td>\n",
       "      <td>309</td>\n",
       "    </tr>\n",
       "  </tbody>\n",
       "</table>\n",
       "<p>4 rows × 192 columns</p>\n",
       "</div>"
      ],
      "text/plain": [
       "        orgnr orgnr_foretak sector bof_nace07 inves_fou inves_fou_sale  \\\n",
       "count     309           309    309        309       309            309   \n",
       "unique      1             1      2          2         2              2   \n",
       "top     False         False  False      False     False          False   \n",
       "freq      309           309    286        286       286            286   \n",
       "\n",
       "       inves_facilities inves_facilities_sale inves_plot inves_plot_sale  ...  \\\n",
       "count               309                   309        309             309  ...   \n",
       "unique                2                     2          2               2  ...   \n",
       "top               False                 False      False           False  ...   \n",
       "freq                286                   286        286             286  ...   \n",
       "\n",
       "       cashlimit cashlimit1 equityFunding debtFunding signHurdle sensitivity  \\\n",
       "count        309        309           309         309        309         309   \n",
       "unique         1          1             1           1          1           1   \n",
       "top        False      False         False       False      False       False   \n",
       "freq         309        309           309         309        309         309   \n",
       "\n",
       "       hurdleRate uncertainCash _est_no21 _est_no22  \n",
       "count         309           309       309       309  \n",
       "unique          1             1         1         1  \n",
       "top         False         False     False     False  \n",
       "freq          309           309       309       309  \n",
       "\n",
       "[4 rows x 192 columns]"
      ]
     },
     "execution_count": 52,
     "metadata": {},
     "output_type": "execute_result"
    }
   ],
   "source": [
    "df.isnull().describe()"
   ]
  },
  {
   "cell_type": "code",
   "execution_count": 53,
   "metadata": {},
   "outputs": [
    {
     "data": {
      "text/plain": [
       "Index(['orgnr', 'orgnr_foretak', 'sector', 'bof_nace07', 'inves_fou',\n",
       "       'inves_fou_sale', 'inves_facilities', 'inves_facilities_sale',\n",
       "       'inves_plot', 'inves_plot_sale',\n",
       "       ...\n",
       "       'cashlimit', 'cashlimit1', 'equityFunding', 'debtFunding', 'signHurdle',\n",
       "       'sensitivity', 'hurdleRate', 'uncertainCash', '_est_no21', '_est_no22'],\n",
       "      dtype='object', length=192)"
      ]
     },
     "execution_count": 53,
     "metadata": {},
     "output_type": "execute_result"
    }
   ],
   "source": [
    "# beta1 = pd.Series([3,1])\n",
    "# X = df[['cap','mach_build_share']]\n",
    "# X.dot(beta1)\n",
    "# # beta1.dot(X)\n",
    "# # beta11 = pd.DataFrame([[3,2]])\n",
    "df.columns\n"
   ]
  },
  {
   "cell_type": "code",
   "execution_count": 54,
   "metadata": {},
   "outputs": [],
   "source": [
    "# list of explanatory variables, important to stack the variables and estimated parametes in the same order\n",
    "explanatoryNo2 = ['medcap' ,'largecap' ,'debt_asset','profitratio', 'utbytte','cashlimit1']\n",
    "explanatoryNo3 = ['higheduc', 'cap', 'mach_build_share', 'invest_share' ,'maint_invest']\n",
    "# make a new df\n",
    "df_short2 = df.copy(deep=True)\n",
    "df_short3 = df.copy(deep=True)\n",
    "df_short4 = df.copy(deep=True)\n",
    "# df_short = df_short.drop(explantory, axis=\n",
    "# convert to np.array (use df.to_numpy() in version 0.24)\n",
    "# df_short2.head()"
   ]
  },
  {
   "cell_type": "code",
   "execution_count": 55,
   "metadata": {},
   "outputs": [],
   "source": [
    "df_short2=df_short2.loc[:,explanatoryNo2].dropna(axis=0, how='any')\n",
    "df_short3=df_short3.loc[:,explanatoryNo3].dropna(axis=0, how='any')\n",
    "\n",
    "\n",
    "# df_short.head()"
   ]
  },
  {
   "cell_type": "code",
   "execution_count": 61,
   "metadata": {},
   "outputs": [
    {
     "data": {
      "text/html": [
       "<div>\n",
       "<style scoped>\n",
       "    .dataframe tbody tr th:only-of-type {\n",
       "        vertical-align: middle;\n",
       "    }\n",
       "\n",
       "    .dataframe tbody tr th {\n",
       "        vertical-align: top;\n",
       "    }\n",
       "\n",
       "    .dataframe thead th {\n",
       "        text-align: right;\n",
       "    }\n",
       "</style>\n",
       "<table border=\"1\" class=\"dataframe\">\n",
       "  <thead>\n",
       "    <tr style=\"text-align: right;\">\n",
       "      <th></th>\n",
       "      <th>medcap</th>\n",
       "      <th>largecap</th>\n",
       "      <th>debt_asset</th>\n",
       "      <th>profitratio</th>\n",
       "      <th>utbytte</th>\n",
       "      <th>cashlimit1</th>\n",
       "    </tr>\n",
       "  </thead>\n",
       "  <tbody>\n",
       "    <tr>\n",
       "      <th>0</th>\n",
       "      <td>0</td>\n",
       "      <td>0</td>\n",
       "      <td>0.742152</td>\n",
       "      <td>-5.655974</td>\n",
       "      <td>0</td>\n",
       "      <td>0</td>\n",
       "    </tr>\n",
       "    <tr>\n",
       "      <th>1</th>\n",
       "      <td>0</td>\n",
       "      <td>1</td>\n",
       "      <td>0.569669</td>\n",
       "      <td>6.764232</td>\n",
       "      <td>1</td>\n",
       "      <td>1</td>\n",
       "    </tr>\n",
       "    <tr>\n",
       "      <th>2</th>\n",
       "      <td>0</td>\n",
       "      <td>0</td>\n",
       "      <td>0.623949</td>\n",
       "      <td>1.205634</td>\n",
       "      <td>1</td>\n",
       "      <td>0</td>\n",
       "    </tr>\n",
       "    <tr>\n",
       "      <th>3</th>\n",
       "      <td>0</td>\n",
       "      <td>0</td>\n",
       "      <td>0.737397</td>\n",
       "      <td>-4.339672</td>\n",
       "      <td>0</td>\n",
       "      <td>0</td>\n",
       "    </tr>\n",
       "    <tr>\n",
       "      <th>4</th>\n",
       "      <td>0</td>\n",
       "      <td>0</td>\n",
       "      <td>0.836163</td>\n",
       "      <td>-29.164217</td>\n",
       "      <td>0</td>\n",
       "      <td>0</td>\n",
       "    </tr>\n",
       "  </tbody>\n",
       "</table>\n",
       "</div>"
      ],
      "text/plain": [
       "   medcap  largecap  debt_asset  profitratio  utbytte  cashlimit1\n",
       "0       0         0    0.742152    -5.655974        0           0\n",
       "1       0         1    0.569669     6.764232        1           1\n",
       "2       0         0    0.623949     1.205634        1           0\n",
       "3       0         0    0.737397    -4.339672        0           0\n",
       "4       0         0    0.836163   -29.164217        0           0"
      ]
     },
     "execution_count": 61,
     "metadata": {},
     "output_type": "execute_result"
    }
   ],
   "source": [
    "df_short2.head()\n"
   ]
  },
  {
   "cell_type": "code",
   "execution_count": 57,
   "metadata": {},
   "outputs": [],
   "source": [
    "# df_short.dropna(axis=0, how='any', inplace=True)\n",
    "X_2 = df_short2.values\n",
    "X_3 = df_short3.values\n"
   ]
  },
  {
   "cell_type": "code",
   "execution_count": null,
   "metadata": {},
   "outputs": [],
   "source": [
    "                      (1)             (2)             (3)             (4)             (5)             (6)   \n",
    "                    no2_1           no2_2           no2_3           no2_4           no2_5           no2_6   \n",
    "------------------------------------------------------------------------------------------------------------\n",
    "medcap              0.290          -0.313         -0.0577         -0.0854          -0.130           0.499*  \n",
    "                   (1.12)         (-1.28)         (-0.15)         (-0.28)         (-0.38)          (1.96)   \n",
    "\n",
    "largecap            0.807*         -1.178***        0.474           0.531          -0.140           1.105***\n",
    "                   (2.14)         (-3.62)          (1.01)          (1.37)         (-0.30)          (3.31)   \n",
    "\n",
    "debt_asset         -1.947**         1.751**        -1.235          -0.271          -1.385           0.109   \n",
    "                  (-3.07)          (2.98)         (-1.38)         (-0.38)         (-1.69)          (0.19)   \n",
    "\n",
    "profitratio        0.0273*        -0.0128          0.0266          0.0150          0.0204        -0.00284   \n",
    "                   (2.23)         (-1.13)          (1.55)          (1.10)          (1.25)         (-0.26)   \n",
    "\n",
    "utbytte            -0.147           0.673*         -0.119           0.182           0.121          -0.657*  \n",
    "                  (-0.50)          (2.55)         (-0.29)          (0.56)          (0.33)         (-2.37)   \n",
    "\n",
    "cashlimit1         -0.345           0.973***       0.0629           0.661*          0.476          0.0766   \n",
    "                  (-1.29)          (3.79)          (0.16)          (2.13)          (1.37)          (0.30)   "
   ]
  },
  {
   "cell_type": "code",
   "execution_count": 81,
   "metadata": {},
   "outputs": [],
   "source": [
    "beta_1_2 = ([0.290, 0.807, -1.947, 0.0273, -0.147, -0.345])\n",
    "# ([-0.29758951],[0.52683465],[-0.24394283],[0.34213719],[-2.0661877],[0.02265871],[286.98091])"
   ]
  },
  {
   "cell_type": "code",
   "execution_count": 82,
   "metadata": {},
   "outputs": [],
   "source": [
    "beta_2_2 = ([-0.313 , -1.178, 1.751, -0.0128, 0.673, 0.973])\n",
    "# ([-0.21543231],[-1.9764057],[-1.0254501],[-1.2875736],[-1.9819861],[-0.05033747],[-25.169312])\n"
   ]
  },
  {
   "cell_type": "code",
   "execution_count": 83,
   "metadata": {},
   "outputs": [],
   "source": [
    "beta_3_2= ([-0.0577, 0.474, -1.235, 0.0266, -0.119, 0.0629])\n",
    "# ([0.6008792],[0.0480553],[0.6599026],[0.0356588],[0.0106294])"
   ]
  },
  {
   "cell_type": "code",
   "execution_count": 84,
   "metadata": {},
   "outputs": [],
   "source": [
    "beta_4_2 = ([-0.0854, 0.531, -0.271, 0.0150, 0.182, 0.661])\n",
    "# ([0.2354685],[0.2791584],[0.8606649],[0.0349570],[0.0106561])\n"
   ]
  },
  {
   "cell_type": "code",
   "execution_count": 85,
   "metadata": {},
   "outputs": [],
   "source": [
    "beta_5_2= ([-0.130, -0.140, -1.385, 0.0204, 0.121, 0.476])\n",
    "# ([0.0073762],[0.1396688],[0.2388109],[0.0234056],[0.0160589])\n"
   ]
  },
  {
   "cell_type": "code",
   "execution_count": 86,
   "metadata": {},
   "outputs": [],
   "source": [
    "beta_6_2 = ([0.499, 1.105 , 0.109, -0.00284, -0.657, 0.0766])\n",
    "# ([-0.1457760],[0.3321088],[-0.2752730],[0.0355387],[0.0070731])\n",
    "\n"
   ]
  },
  {
   "cell_type": "code",
   "execution_count": 115,
   "metadata": {},
   "outputs": [],
   "source": [
    "# cut1                                                                                                        \n",
    "# _cons              -5.418***        0.220           1.248           1.291*          0.863           0.301   \n",
    "#                   (-7.73)          (0.50)          (1.96)          (2.41)          (1.47)          (0.67)   \n",
    "# ------------------------------------------------------------------------------------------------------------\n",
    "# cut2                                                                                                        \n",
    "# _cons              -3.465***        0.838                           2.891***        3.410***        0.962*  \n",
    "#                   (-6.62)          (1.92)                          (5.05)          (4.75)          (2.13)   \n",
    "# ------------------------------------------------------------------------------------------------------------\n",
    "# cut3                                                                                                        \n",
    "# _cons              -1.180*          2.632***                                                        2.636***\n",
    "\n",
    "# Threshold for no2_1\n",
    "cut1_1_2 =[-5.418]\n",
    "cut2_1_2 =[-3.465]\n",
    "cut3_1_2 =[-1.180] \n",
    "k_1_2 = 3\n",
    "\n",
    "#Threshold for no2_2\n",
    "cut1_2_2 =[0.220]\n",
    "cut2_2_2 =[0.838]\n",
    "cut3_2_2 =[2.632]\n",
    "k_2_2 = 3\n",
    "\n",
    "#Threshold for no2_3\n",
    "cut1_3_2 =[1.248]\n",
    "k_3_2 = 1\n",
    "\n",
    "#Threshold for no2_4\n",
    "cut1_4_2 =[1.291]\n",
    "cut2_4_2 =[2.891]\n",
    "k_4_2 = 2\n",
    "\n",
    "#Threshold for no2_5\n",
    "cut1_5_2 =[0.863]\n",
    "cut2_5_2 =[3.410]\n",
    "k_5_2 = 2\n",
    "\n",
    "#Threshold for no2_6\n",
    "cut1_6_2 =[0.301]\n",
    "cut2_6_2 =[0.962]\n",
    "cut3_6_2 =[2.636]\n",
    "k_6_2 = 3"
   ]
  },
  {
   "cell_type": "code",
   "execution_count": 120,
   "metadata": {},
   "outputs": [],
   "source": [
    "k = 3\n",
    "cut_avg_1_2 = 1/k_1_2 * ((-5.418) + (-3.465)+(-1.180)) \n",
    "\n",
    "#Threshold for no2_2\n",
    "cut_avg_2_2 = 1/k_2_2* ((0.220)+0.838 + 2.632)\n",
    "\n",
    "#Threshold for no2_3\n",
    "cut_avg_3_2 = k_3_2/1*1.248\n",
    "\n",
    "#Threshold for no2_4\n",
    "cut_avg_4_2 = 1/k_4_2*(1.291+2.891)\n",
    "\n",
    "#Threshold for no2_5\n",
    "cut_avg_5_2 = 1/k_5_2*(0.863 + 3.410)\n",
    "\n",
    "\n",
    "#Threshold for no2_6\n",
    "cut_avg_6_2 = 1/k_6_2*(0.301 + 0.962 + 2.636)"
   ]
  },
  {
   "cell_type": "code",
   "execution_count": 122,
   "metadata": {},
   "outputs": [
    {
     "name": "stdout",
     "output_type": "stream",
     "text": [
      "-3.354333333333333 1.23 1.248 2.091 2.1365 1.2996666666666665\n"
     ]
    }
   ],
   "source": [
    "X_2[0:1]\n",
    "print(cut_avg_1_2,cut_avg_2_2,cut_avg_3_2,cut_avg_4_2,cut_avg_5_2,cut_avg_6_2,) "
   ]
  },
  {
   "cell_type": "code",
   "execution_count": 123,
   "metadata": {},
   "outputs": [],
   "source": [
    "\n",
    "SumYNo2 = ( math.exp(-cut_avg_1_2 + X_2[0:1]@beta_1_2)+\n",
    "        math.exp(-cut_avg_2_2 + X_2[0:1]@beta_2_2) + \n",
    "        math.exp(-cut_avg_3_2 + X_2[0:1]@beta_3_2) + \n",
    "        math.exp(-cut_avg_4_2 + X_2[0:1]@beta_4_2) +  \n",
    "        math.exp(-cut_avg_5_2 + X_2[0:1]@beta_5_2) + \n",
    "        math.exp(-cut_avg_6_2 + X_2[0:1]@beta_6_2))\n",
    "\n",
    "PredY1eNo2 = math.exp(-cut_avg_1_2 + X_2[0:1]@beta_1_2) /SumYNo2\n",
    "PredY2eNo2 = math.exp(-cut_avg_2_2 + X_2[0:1]@beta_2_2) /SumYNo2\n",
    "PredY3eNo2 = math.exp(-cut_avg_3_2 + X_2[0:1]@beta_3_2) /SumYNo2 \n",
    "PredY4eNo2 = math.exp(-cut_avg_4_2 + X_2[0:1]@beta_4_2) /SumYNo2\n",
    "PredY5eNo2 = math.exp(-cut_avg_5_2 + X_2[0:1]@beta_5_2) /SumYNo2\n",
    "PredY6eNo2 = math.exp(-cut_avg_6_2 + X_2[0:1]@beta_6_2) /SumYNo2\n",
    "\n"
   ]
  },
  {
   "cell_type": "code",
   "execution_count": null,
   "metadata": {},
   "outputs": [],
   "source": [
    "Change_list = []\n",
    "Change_len = len(Change)\n",
    "for i in range(Change_len):\n",
    "    Change_i = Change[i].split(\"_\", 1)\n",
    "    Change_list.append(Change_i[1])"
   ]
  },
  {
   "cell_type": "code",
   "execution_count": 131,
   "metadata": {},
   "outputs": [
    {
     "data": {
      "text/plain": [
       "(array([[ 0.        ,  0.        ,  0.74215209, -5.6559744 ,  0.        ,\n",
       "          0.        ]]),\n",
       " array([[0.        , 1.        , 0.56966853, 6.7642322 , 1.        ,\n",
       "         1.        ]]))"
      ]
     },
     "execution_count": 131,
     "metadata": {},
     "output_type": "execute_result"
    }
   ],
   "source": [
    "X_2[0:1], X_2[1:2]\n"
   ]
  },
  {
   "cell_type": "code",
   "execution_count": 163,
   "metadata": {},
   "outputs": [],
   "source": [
    "# listePredY1eNo2"
   ]
  },
  {
   "cell_type": "code",
   "execution_count": 164,
   "metadata": {},
   "outputs": [],
   "source": [
    "listeSumYNo2 = []\n",
    "listePredY1eNo2 = []\n",
    "listePredY2eNo2 = []\n",
    "listePredY3eNo2 = []\n",
    "listePredY4eNo2 = []\n",
    "listePredY5eNo2 = []\n",
    "listePredY6eNo2 = []\n",
    "\n",
    "\n",
    "\n",
    "for i in range(len(X_2)):\n",
    "    pred_i = [math.exp(-cut_avg_1_2 + X_2[0+i:1+i]@beta_1_2)]\n",
    "    listePredY1eNo2.append(pred_i[0]) \n",
    "\n",
    "for i in range(len(X_2)):\n",
    "    pred_i = [math.exp(-cut_avg_2_2 + X_2[0+i:1+i]@beta_2_2)]\n",
    "    listePredY2eNo2.append(pred_i[0]) \n",
    "    \n",
    "    \n",
    "for i in range(len(X_2)):\n",
    "    pred_i = [math.exp(-cut_avg_3_2 + X_2[0+i:1+i]@beta_3_2)]\n",
    "    listePredY3eNo2.append(pred_i[0]) \n",
    "\n",
    "for i in range(len(X_2)):\n",
    "    pred_i = [math.exp(-cut_avg_4_2 + X_2[0+i:1+i]@beta_4_2)]\n",
    "    listePredY4eNo2.append(pred_i[0]) \n",
    "\n",
    "for i in range(len(X_2)):\n",
    "    pred_i = [math.exp(-cut_avg_5_2 + X_2[0+i:1+i]@beta_5_2)]\n",
    "    listePredY5eNo2.append(pred_i[0]) \n",
    "\n",
    "for i in range(len(X_2)):\n",
    "    pred_i = [math.exp(-cut_avg_6_2 + X_2[0+i:1+i]@beta_6_2)]\n",
    "    listePredY6eNo2.append(pred_i[0]) \n"
   ]
  },
  {
   "cell_type": "code",
   "execution_count": 167,
   "metadata": {},
   "outputs": [],
   "source": [
    "listeSumYe = [ x+y+z+u+t+s for x , y, z, u, t,s in zip(listePredY1eNo2, listePredY2eNo2,listePredY3eNo2,listePredY5eNo2,listePredY5eNo2,listePredY6eNo2 )]\n"
   ]
  },
  {
   "cell_type": "code",
   "execution_count": 181,
   "metadata": {},
   "outputs": [],
   "source": [
    "P_1_2 = [a/m for a, m in zip(listePredY1eNo2, listeSumYe)]\n",
    "P_2_2 = [a/m for a, m in zip(listePredY2eNo2, listeSumYe)]\n",
    "P_6_2 = [a/m for a, m in zip(listePredY6eNo2, listeSumYe)]"
   ]
  },
  {
   "cell_type": "code",
   "execution_count": 173,
   "metadata": {},
   "outputs": [
    {
     "data": {
      "text/plain": [
       "(array([0.21622291, 0.21622291, 0.        , 0.        , 0.        ,\n",
       "        0.        , 0.        , 0.        , 0.21622291, 0.21622291,\n",
       "        0.        , 0.        , 0.21622291, 0.21622291, 0.        ,\n",
       "        0.21622291, 0.        , 0.21622291, 0.43244583, 0.        ,\n",
       "        0.21622291, 0.        , 0.86489166, 0.64866874, 1.5135604 ,\n",
       "        0.21622291, 0.86489166, 0.21622291, 0.21622291, 0.64866874,\n",
       "        0.43244583, 0.64866874, 0.43244583, 0.86489166, 1.29733749,\n",
       "        1.5135604 , 1.5135604 , 1.5135604 , 1.94600623, 0.86489166,\n",
       "        2.81089789, 2.81089789, 2.59467498, 3.89201247, 6.48668745,\n",
       "        3.67578955, 4.10823538, 8.43269368, 5.40557287, 3.02712081]),\n",
       " array([0.16425146, 0.18042229, 0.19659312, 0.21276395, 0.22893477,\n",
       "        0.2451056 , 0.26127643, 0.27744726, 0.29361809, 0.30978891,\n",
       "        0.32595974, 0.34213057, 0.3583014 , 0.37447222, 0.39064305,\n",
       "        0.40681388, 0.42298471, 0.43915553, 0.45532636, 0.47149719,\n",
       "        0.48766802, 0.50383885, 0.52000967, 0.5361805 , 0.55235133,\n",
       "        0.56852216, 0.58469298, 0.60086381, 0.61703464, 0.63320547,\n",
       "        0.64937629, 0.66554712, 0.68171795, 0.69788878, 0.71405961,\n",
       "        0.73023043, 0.74640126, 0.76257209, 0.77874292, 0.79491374,\n",
       "        0.81108457, 0.8272554 , 0.84342623, 0.85959705, 0.87576788,\n",
       "        0.89193871, 0.90810954, 0.92428036, 0.94045119, 0.95662202,\n",
       "        0.97279285]),\n",
       " <a list of 50 Patch objects>)"
      ]
     },
     "execution_count": 173,
     "metadata": {},
     "output_type": "execute_result"
    },
    {
     "data": {
      "image/png": "[encoded data removed]",
      "text/plain": [
       "<matplotlib.figure.Figure at 0x1fc680d5fd0>"
      ]
     },
     "metadata": {},
     "output_type": "display_data"
    }
   ],
   "source": [
    "# P_1_2.plot()\n",
    "# plt.show()\n",
    "plt.hist(P_1_2, 50, normed=1, facecolor='green', alpha=0.5)"
   ]
  },
  {
   "cell_type": "code",
   "execution_count": 177,
   "metadata": {},
   "outputs": [
    {
     "data": {
      "text/plain": [
       "(array([7.7832484 , 8.00562693, 7.11611282, 6.22659872, 5.78184167,\n",
       "        3.33567789, 2.66854231, 2.89092083, 1.55664968, 3.33567789,\n",
       "        1.33427115, 1.33427115, 0.8895141 , 1.11189263, 0.66713558,\n",
       "        1.11189263, 0.22237853, 1.11189263, 0.44475705, 0.        ,\n",
       "        0.8895141 , 0.22237853, 0.8895141 , 1.11189263, 0.66713558,\n",
       "        0.44475705, 0.22237853, 0.        , 0.        , 0.44475705,\n",
       "        0.22237853, 0.22237853, 0.        , 0.        , 0.        ,\n",
       "        0.        , 0.44475705, 0.        , 0.        , 0.        ,\n",
       "        0.44475705, 0.        , 0.        , 0.        , 0.        ,\n",
       "        0.        , 0.        , 0.        , 0.22237853, 0.22237853]),\n",
       " array([0.00191383, 0.01763703, 0.03336024, 0.04908345, 0.06480665,\n",
       "        0.08052986, 0.09625307, 0.11197627, 0.12769948, 0.14342269,\n",
       "        0.15914589, 0.1748691 , 0.1905923 , 0.20631551, 0.22203872,\n",
       "        0.23776192, 0.25348513, 0.26920834, 0.28493154, 0.30065475,\n",
       "        0.31637796, 0.33210116, 0.34782437, 0.36354758, 0.37927078,\n",
       "        0.39499399, 0.4107172 , 0.4264404 , 0.44216361, 0.45788682,\n",
       "        0.47361002, 0.48933323, 0.50505644, 0.52077964, 0.53650285,\n",
       "        0.55222606, 0.56794926, 0.58367247, 0.59939568, 0.61511888,\n",
       "        0.63084209, 0.6465653 , 0.6622885 , 0.67801171, 0.69373491,\n",
       "        0.70945812, 0.72518133, 0.74090453, 0.75662774, 0.77235095,\n",
       "        0.78807415]),\n",
       " <a list of 50 Patch objects>)"
      ]
     },
     "execution_count": 177,
     "metadata": {},
     "output_type": "execute_result"
    },
    {
     "data": {
      "image/png": "[encoded data removed]",
      "text/plain": [
       "<matplotlib.figure.Figure at 0x1fc68251e48>"
      ]
     },
     "metadata": {},
     "output_type": "display_data"
    }
   ],
   "source": [
    "plt.hist(P_2_2, 50, normed=1, facecolor='blue', alpha=0.5)"
   ]
  },
  {
   "cell_type": "code",
   "execution_count": 182,
   "metadata": {},
   "outputs": [
    {
     "data": {
      "text/plain": [
       "(array([ 9.66350686, 23.71951683, 27.23351932, 27.23351932, 23.71951683,\n",
       "        19.32701371, 19.32701371, 14.93451059, 22.8410162 , 17.57001246,\n",
       "        14.93451059,  2.63550187,  4.39250312,  3.51400249,  2.63550187,\n",
       "         6.14950436,  0.87850062,  6.14950436,  0.87850062,  0.        ,\n",
       "         0.87850062,  0.87850062,  0.        ,  0.        ,  0.        ,\n",
       "         0.        ,  0.        ,  0.        ,  0.        ,  0.        ,\n",
       "         0.        ,  0.        ,  0.        ,  0.87850062,  0.        ,\n",
       "         0.        ,  0.        ,  0.        ,  0.        ,  0.        ,\n",
       "         0.        ,  0.        ,  0.        ,  0.        ,  0.        ,\n",
       "         0.        ,  0.        ,  0.        ,  0.        ,  0.87850062]),\n",
       " array([0.00641552, 0.0103956 , 0.01437568, 0.01835576, 0.02233584,\n",
       "        0.02631592, 0.030296  , 0.03427608, 0.03825616, 0.04223625,\n",
       "        0.04621633, 0.05019641, 0.05417649, 0.05815657, 0.06213665,\n",
       "        0.06611673, 0.07009681, 0.07407689, 0.07805697, 0.08203705,\n",
       "        0.08601713, 0.08999722, 0.0939773 , 0.09795738, 0.10193746,\n",
       "        0.10591754, 0.10989762, 0.1138777 , 0.11785778, 0.12183786,\n",
       "        0.12581794, 0.12979802, 0.1337781 , 0.13775819, 0.14173827,\n",
       "        0.14571835, 0.14969843, 0.15367851, 0.15765859, 0.16163867,\n",
       "        0.16561875, 0.16959883, 0.17357891, 0.17755899, 0.18153907,\n",
       "        0.18551916, 0.18949924, 0.19347932, 0.1974594 , 0.20143948,\n",
       "        0.20541956]),\n",
       " <a list of 50 Patch objects>)"
      ]
     },
     "execution_count": 182,
     "metadata": {},
     "output_type": "execute_result"
    },
    {
     "data": {
      "image/png": "[encoded data removed]",
      "text/plain": [
       "<matplotlib.figure.Figure at 0x1fc68341e10>"
      ]
     },
     "metadata": {},
     "output_type": "display_data"
    }
   ],
   "source": [
    "plt.hist(P_6_2, 50, normed=1, facecolor='red', alpha=0.5)"
   ]
  },
  {
   "cell_type": "code",
   "execution_count": 124,
   "metadata": {},
   "outputs": [
    {
     "name": "stdout",
     "output_type": "stream",
     "text": [
      "0.7746791156193246 0.15437713977514655 0.013230000766691133 0.012435197427367397 0.005041639182645401 0.040236907228824864\n"
     ]
    }
   ],
   "source": [
    "print( PredY1eNo2,PredY2eNo2, PredY3eNo2, PredY4eNo2, PredY5eNo2, PredY6eNo2)"
   ]
  },
  {
   "cell_type": "code",
   "execution_count": null,
   "metadata": {},
   "outputs": [],
   "source": [
    "# multiplisere matrisene - som gir oss en liste med predikerte verdier (nx1 matrise)\n",
    "PredY2eNo2[0:9,] # 10 første orgnr og predikert verdi\n",
    "SumY1No2 = math.exp(PredY1eNo2)"
   ]
  },
  {
   "cell_type": "code",
   "execution_count": 63,
   "metadata": {},
   "outputs": [
    {
     "name": "stdout",
     "output_type": "stream",
     "text": [
      "8.736100571849838e-128 0.0\n"
     ]
    }
   ],
   "source": [
    "PredY1eNo2 = X_2@beta_1_2\n",
    "\n",
    "SumY1eNo2 = sum(PredY1eNo2)\n",
    "SumY1No2 = math.exp(SumY1eNo2)\n",
    "\n",
    "PredY2eNo2 = X_2@beta_2_2\n",
    "SumY2eNo2 = sum(PredY2eNo2)\n",
    "SumY2No2 = math.exp(SumY2eNo2)\n",
    "\n",
    "# PredY3eNo3 = X_3@beta_3_3\n",
    "# SumY3eNo3 = sum(PredY3eNo3)\n",
    "# SumY3No3 = math.exp(SumY3eNo3)\n",
    "\n",
    "\n",
    "# PredY4eNo3 = X_4@beta_4_3\n",
    "# SumY4eNo3 = sum(PredY4eNo3)\n",
    "# SumY4No3 = math.exp(SumY4eNo3)\n",
    "\n",
    "# PredY5eNo3 = X_5@beta_5_3\n",
    "# SumY5eNo3 = sum(PredY5eNo3)\n",
    "# SumY5No3 = math.exp(SumY5eNo3)\n",
    "\n",
    "# PredY6eNo3 = X_6@beta_6_3\n",
    "# SumY6eNo3 = sum(PredY6eNo3)\n",
    "# SumY6No3 = math.exp(SumY6eNo3)\n",
    "# print(SumY1No3, SumY2No3, SumY3No3, SumY4No3, SumY5No3, SumY6No3)\n",
    "print(SumY1No2, SumY2No2)"
   ]
  },
  {
   "cell_type": "code",
   "execution_count": 32,
   "metadata": {},
   "outputs": [
    {
     "name": "stdout",
     "output_type": "stream",
     "text": [
      "Sannsynligheten for at en bedrift velger metode 1 er: 1.0 og sannsynligheten for at en bedrift velger metode 2 er: 2.9039483568911154e-215\n"
     ]
    }
   ],
   "source": [
    "# Calculate probability for most popular hurdle rate\n",
    "\n",
    "\n",
    "\n",
    "# probY3No3 = SumY3No3/(SumY1No3 + SumY2No3 + SumY3No3 + SumY4No3 + SumY5No3 + SumY6No3)\n",
    "\n",
    "# probY4No3 = SumY4No3/(SumY1 + SumY2 + SumY3 + SumY4 + SumY5 + SumY6)\n",
    "\n",
    "# probY5No3 = SumY5No3/(SumY1 + SumY2 + SumY3 + SumY4 + SumY5 + SumY6)\n",
    "\n",
    "# probY6No3 = SumY6No3/(SumY1 + SumY2 + SumY3 + SumY4 + SumY5 + SumY6)\n",
    "\n",
    "# print(probY1, probY2, probY3, probY4, probY5, probY6)\n",
    "print(\"Sannsynligheten for at en bedrift velger metode 1 er: \" + str(probY1No2)+ \" og \"+\n",
    "     \"sannsynligheten for at en bedrift velger metode 2 er: \" + str(probY2No2) )\n",
    "\n"
   ]
  },
  {
   "cell_type": "code",
   "execution_count": 23,
   "metadata": {},
   "outputs": [],
   "source": [
    "# Coeff for model no3, beta_j_k, valg j, metode k\n",
    "\n",
    "beta_1_3=([0.168],[0.347],[-0.227],[0.000947],[-0.0184])\n",
    "alpha_1_3= ([-2.641]) \n",
    "beta_2_3=([0.462],[0.962],[0.0836],[0.000828], [-0.0184])\n",
    "alpha_2_3 = ([-3.162])"
   ]
  },
  {
   "cell_type": "code",
   "execution_count": 26,
   "metadata": {},
   "outputs": [
    {
     "name": "stdout",
     "output_type": "stream",
     "text": [
      "7.70525035618252e-31 2.237564911127091e-245\n"
     ]
    }
   ],
   "source": [
    "PredY1eNo3 = X_3@beta_1_3\n",
    "SumY1eNo3 = sum(-PredY1eNo3)\n",
    "SumY1No3 = math.exp(SumY1eNo3)\n",
    "\n",
    "PredY2eNo3 = X_3@beta_2_3\n",
    "SumY2eNo3 = sum(-PredY2eNo3)\n",
    "SumY2No3 = math.exp(SumY2eNo3)\n",
    "\n",
    "# PredY3eNo3 = X_3@beta_3_3\n",
    "# SumY3eNo3 = sum(PredY3eNo3)\n",
    "# SumY3No3 = math.exp(SumY3eNo3)\n",
    "\n",
    "\n",
    "# PredY4eNo3 = X_4@beta_4_3\n",
    "# SumY4eNo3 = sum(PredY4eNo3)\n",
    "# SumY4No3 = math.exp(SumY4eNo3)\n",
    "\n",
    "# PredY5eNo3 = X_5@beta_5_3\n",
    "# SumY5eNo3 = sum(PredY5eNo3)\n",
    "# SumY5No3 = math.exp(SumY5eNo3)\n",
    "\n",
    "# PredY6eNo3 = X_6@beta_6_3\n",
    "# SumY6eNo3 = sum(PredY6eNo3)\n",
    "# SumY6No3 = math.exp(SumY6eNo3)\n",
    "# print(SumY1No3, SumY2No3, SumY3No3, SumY4No3, SumY5No3, SumY6No3)\n",
    "print(SumY1No3, SumY2No3)\n"
   ]
  },
  {
   "cell_type": "code",
   "execution_count": 32,
   "metadata": {},
   "outputs": [
    {
     "name": "stdout",
     "output_type": "stream",
     "text": [
      "Sannsynligheten for at en bedrift velger metode 1 er: 1.0 og sannsynligheten for at en bedrift velger metode 2 er: 2.9039483568911154e-215\n"
     ]
    }
   ],
   "source": [
    "# Calculate probability for most popular hurdle rate\n",
    "\n",
    "\n",
    "probY1No3 = SumY1No3/(SumY1No3 + SumY2No3 )# + SumY3 + SumY4 + SumY5 + SumY6)\n",
    "\n",
    "probY2No3 = SumY2No3/(SumY1No3 + SumY2No3 ) # + SumY3 + SumY4 + SumY5 + SumY6)\n",
    "\n",
    "# PredY3= X@beta_3\n",
    "# SumY3 = sum(PredY3)\n",
    "# probY3 = SumY3/(SumY1 + SumY2 + SumY3 + SumY4 + SumY5 + SumY6)\n",
    "\n",
    "# probY4 = SumY4/(SumY1 + SumY2 + SumY3 + SumY4 + SumY5 + SumY6)\n",
    "\n",
    "# probY5 = SumY5/(SumY1 + SumY2 + SumY3 + SumY4 + SumY5 + SumY6)\n",
    "\n",
    "# probY6 = SumY6/(SumY1 + SumY2 + SumY3 + SumY4 + SumY5 + SumY6)\n",
    "\n",
    "# print(probY1, probY2, probY3, probY4, probY5, probY6)\n",
    "print(\"Sannsynligheten for at en bedrift velger metode 1 er: \" + str(probY1No3)+ \" og \"+\n",
    "     \"sannsynligheten for at en bedrift velger metode 2 er: \" + str(probY2No3) )\n",
    "\n"
   ]
  },
  {
   "cell_type": "code",
   "execution_count": 27,
   "metadata": {},
   "outputs": [
    {
     "name": "stdout",
     "output_type": "stream",
     "text": [
      "Sannsynligheten for at en bedrift velger metode 1 er: nan og sannsynligheten for at en bedrift velger metode 2 er: nan\n"
     ]
    }
   ],
   "source": [
    "# print(probY1, probY2, probY3, probY4, probY5, probY6)\n",
    "print(\"Sannsynligheten for at en bedrift velger metode 1 er: \" + str(probY1)+ \" og \"+\n",
    "     \"sannsynligheten for at en bedrift velger metode 2 er: \" + str(probY2) )\n"
   ]
  },
  {
   "cell_type": "code",
   "execution_count": null,
   "metadata": {},
   "outputs": [],
   "source": []
  },
  {
   "cell_type": "code",
   "execution_count": null,
   "metadata": {},
   "outputs": [],
   "source": []
  },
  {
   "cell_type": "code",
   "execution_count": 18,
   "metadata": {},
   "outputs": [
    {
     "data": {
      "text/plain": [
       "(array([[ 1.0000000e+00,  0.0000000e+00,  0.0000000e+00, ...,\n",
       "          7.4215209e-01, -5.6559744e+00,  0.0000000e+00],\n",
       "        [ 0.0000000e+00,  1.0000000e+00,  0.0000000e+00, ...,\n",
       "          5.6966853e-01,  6.7642322e+00,  1.2260885e-04],\n",
       "        [ 1.0000000e+00,  0.0000000e+00,  0.0000000e+00, ...,\n",
       "          6.2394929e-01,  1.2056341e+00,  1.2056394e-04],\n",
       "        ...,\n",
       "        [ 0.0000000e+00,  1.0000000e+00,  1.0000000e+00, ...,\n",
       "          7.0641792e-01,  1.5044494e-01,  0.0000000e+00],\n",
       "        [ 0.0000000e+00,  1.0000000e+00,  0.0000000e+00, ...,\n",
       "          5.6557995e-01,  6.6258230e+00,  6.6258229e-04],\n",
       "        [ 0.0000000e+00,  0.0000000e+00,  1.0000000e+00, ...,\n",
       "          9.4995326e-01, -1.3587538e+01,  0.0000000e+00]]),\n",
       " ([0.168], [0.347], [-0.227], [0.000947], [-0.0184]))"
      ]
     },
     "execution_count": 18,
     "metadata": {},
     "output_type": "execute_result"
    }
   ],
   "source": [
    "# Covariatene i en X matrise (n x 4) og Koeffisientene til metode 1 i beta_1 (liste (4x1 matrise))\n",
    "X_2, beta_1_3"
   ]
  },
  {
   "cell_type": "code",
   "execution_count": 25,
   "metadata": {},
   "outputs": [
    {
     "ename": "NameError",
     "evalue": "name 'beta_1' is not defined",
     "output_type": "error",
     "traceback": [
      "\u001b[1;31m---------------------------------------------------------------------------\u001b[0m",
      "\u001b[1;31mNameError\u001b[0m                                 Traceback (most recent call last)",
      "\u001b[1;32m<ipython-input-25-9287a4b5b9e1>\u001b[0m in \u001b[0;36m<module>\u001b[1;34m()\u001b[0m\n\u001b[1;32m----> 1\u001b[1;33m \u001b[0mPredY1e\u001b[0m \u001b[1;33m=\u001b[0m \u001b[0mX_2\u001b[0m\u001b[1;33m@\u001b[0m\u001b[0mbeta_1\u001b[0m \u001b[1;31m# multiplisere matrisene - som gir oss en liste med predikerte verdier (nx1 matrise)\u001b[0m\u001b[1;33m\u001b[0m\u001b[0m\n\u001b[0m\u001b[0;32m      2\u001b[0m \u001b[0mPredY1e\u001b[0m\u001b[1;33m[\u001b[0m\u001b[1;36m0\u001b[0m\u001b[1;33m:\u001b[0m\u001b[1;36m9\u001b[0m\u001b[1;33m,\u001b[0m\u001b[1;33m]\u001b[0m \u001b[1;31m# 10 første orgnr og predikert verdi\u001b[0m\u001b[1;33m\u001b[0m\u001b[0m\n",
      "\u001b[1;31mNameError\u001b[0m: name 'beta_1' is not defined"
     ]
    }
   ],
   "source": [
    "PredY1e = X_2@beta_1 # multiplisere matrisene - som gir oss en liste med predikerte verdier (nx1 matrise)\n",
    "PredY1e[0:9,] # 10 første orgnr og predikert verdi"
   ]
  },
  {
   "cell_type": "code",
   "execution_count": 109,
   "metadata": {},
   "outputs": [
    {
     "data": {
      "text/plain": [
       "0.9900498337491681"
      ]
     },
     "execution_count": 109,
     "metadata": {},
     "output_type": "execute_result"
    }
   ],
   "source": [
    "math.exp(-0.01)"
   ]
  },
  {
   "cell_type": "code",
   "execution_count": 116,
   "metadata": {},
   "outputs": [
    {
     "name": "stdout",
     "output_type": "stream",
     "text": [
      "Summen av alle elementene i listen: [-290.84707304]\n"
     ]
    }
   ],
   "source": [
    "SumY1e = sum(PredY1e) # tar summen av listen\n",
    "print(\"Summen av alle elementene i listen: \" + str(SumY1e))"
   ]
  },
  {
   "cell_type": "code",
   "execution_count": 117,
   "metadata": {},
   "outputs": [
    {
     "name": "stdout",
     "output_type": "stream",
     "text": [
      "Summen av alle predikerte verdier for metode1: 4.860949399885961e-127\n"
     ]
    }
   ],
   "source": [
    "SumY1 = math.exp(SumY1e) # anvender eksponential funksjonen på summen:\n",
    "print(\"Summen av alle predikerte verdier for metode1: \" + str(SumY1))"
   ]
  },
  {
   "cell_type": "code",
   "execution_count": 104,
   "metadata": {},
   "outputs": [
    {
     "name": "stdout",
     "output_type": "stream",
     "text": [
      "Sannsynligheten for at en bedrift velger metode 1 er: 1.0\n"
     ]
    }
   ],
   "source": [
    "SumY3 = 0\n",
    "SumY4 = 0\n",
    "SumY5 = 0\n",
    "SumY6 = 0\n",
    "probY1 = SumY1/(SumY1 + SumY2 + SumY3 + SumY4 + SumY5 + SumY6)\n",
    "print(\"Sannsynligheten for at en bedrift velger metode 1 er: \" + str(probY1))"
   ]
  },
  {
   "cell_type": "code",
   "execution_count": 115,
   "metadata": {},
   "outputs": [
    {
     "name": "stdout",
     "output_type": "stream",
     "text": [
      "[-909.10282821] 0.0\n"
     ]
    }
   ],
   "source": [
    "PredY2e = X@beta_2 \n",
    "SumY2e = sum(PredY2e)\n",
    "SumY2 = math.exp(SumY2e)\n",
    "print(SumY2e, SumY2 )"
   ]
  },
  {
   "cell_type": "code",
   "execution_count": 121,
   "metadata": {},
   "outputs": [
    {
     "name": "stdout",
     "output_type": "stream",
     "text": [
      "286\n"
     ]
    },
    {
     "data": {
      "text/plain": [
       "0.04164053373253825"
      ]
     },
     "execution_count": 121,
     "metadata": {},
     "output_type": "execute_result"
    }
   ],
   "source": [
    "print(len(PredY2e))\n",
    "math.exp(SumY2e/len(PredY2e))\n"
   ]
  },
  {
   "cell_type": "code",
   "execution_count": 98,
   "metadata": {},
   "outputs": [
    {
     "ename": "OverflowError",
     "evalue": "math range error",
     "output_type": "error",
     "traceback": [
      "\u001b[1;31m---------------------------------------------------------------------------\u001b[0m",
      "\u001b[1;31mOverflowError\u001b[0m                             Traceback (most recent call last)",
      "\u001b[1;32m<ipython-input-98-8cbea3fb4c55>\u001b[0m in \u001b[0;36m<module>\u001b[1;34m()\u001b[0m\n\u001b[0;32m      5\u001b[0m \u001b[0mPredY2e\u001b[0m \u001b[1;33m=\u001b[0m \u001b[0mX\u001b[0m\u001b[1;33m@\u001b[0m\u001b[0mbeta_2\u001b[0m\u001b[1;33m\u001b[0m\u001b[0m\n\u001b[0;32m      6\u001b[0m \u001b[0mSumY2e\u001b[0m \u001b[1;33m=\u001b[0m \u001b[0msum\u001b[0m\u001b[1;33m(\u001b[0m\u001b[1;33m-\u001b[0m\u001b[0mPredY2e\u001b[0m\u001b[1;33m)\u001b[0m\u001b[1;33m\u001b[0m\u001b[0m\n\u001b[1;32m----> 7\u001b[1;33m \u001b[0mSumY2\u001b[0m \u001b[1;33m=\u001b[0m \u001b[0mmath\u001b[0m\u001b[1;33m.\u001b[0m\u001b[0mexp\u001b[0m\u001b[1;33m(\u001b[0m\u001b[0mSumY2e\u001b[0m\u001b[1;33m)\u001b[0m\u001b[1;33m\u001b[0m\u001b[0m\n\u001b[0m\u001b[0;32m      8\u001b[0m \u001b[1;33m\u001b[0m\u001b[0m\n\u001b[0;32m      9\u001b[0m \u001b[1;31m# PredY3e = X@beta_3\u001b[0m\u001b[1;33m\u001b[0m\u001b[1;33m\u001b[0m\u001b[0m\n",
      "\u001b[1;31mOverflowError\u001b[0m: math range error"
     ]
    }
   ],
   "source": [
    "PredY1e = X@beta_1\n",
    "SumY1e = sum(-PredY1e)\n",
    "SumY1 = math.exp(SumY1e)\n",
    "\n",
    "PredY2e = X@beta_2\n",
    "SumY2e = sum(-PredY2e)\n",
    "SumY2 = math.exp(SumY2e)\n",
    "\n",
    "# PredY3e = X@beta_3\n",
    "# SumY3e = sum(PredY3e)\n",
    "# SumY3 = math.exp(SumY3e)\n",
    "\n",
    "\n",
    "# PredY4e = X@beta_4\n",
    "# SumY4e = sum(PredY4e)\n",
    "# SumY4 = math.exp(SumY4e)\n",
    "\n",
    "# PredY5e = X@beta_5\n",
    "# SumY5e = sum(PredY5e)\n",
    "# SumY5 = math.exp(SumY5e)\n",
    "\n",
    "# PredY6e = X@beta_6\n",
    "# SumY6e = sum(PredY6e)\n",
    "# SumY6 = math.exp(SumY6e)\n",
    "# print(SumY1, SumY2, SumY3, SumY4, SumY5, SumY6)\n",
    "print(SumY1, SumY2)\n"
   ]
  },
  {
   "cell_type": "code",
   "execution_count": null,
   "metadata": {},
   "outputs": [],
   "source": []
  },
  {
   "cell_type": "code",
   "execution_count": 20,
   "metadata": {},
   "outputs": [
    {
     "ename": "NameError",
     "evalue": "name 'SumY1' is not defined",
     "output_type": "error",
     "traceback": [
      "\u001b[1;31m---------------------------------------------------------------------------\u001b[0m",
      "\u001b[1;31mNameError\u001b[0m                                 Traceback (most recent call last)",
      "\u001b[1;32m<ipython-input-20-86acf147f214>\u001b[0m in \u001b[0;36m<module>\u001b[1;34m()\u001b[0m\n\u001b[0;32m      3\u001b[0m \u001b[1;31m# PredY1 = X@beta_1\u001b[0m\u001b[1;33m\u001b[0m\u001b[1;33m\u001b[0m\u001b[0m\n\u001b[0;32m      4\u001b[0m \u001b[1;31m# SumY1 = sum(PredY1)\u001b[0m\u001b[1;33m\u001b[0m\u001b[1;33m\u001b[0m\u001b[0m\n\u001b[1;32m----> 5\u001b[1;33m \u001b[0mprobY1\u001b[0m \u001b[1;33m=\u001b[0m \u001b[0mSumY1\u001b[0m\u001b[1;33m/\u001b[0m\u001b[1;33m(\u001b[0m\u001b[0mSumY1\u001b[0m \u001b[1;33m+\u001b[0m \u001b[0mSumY2\u001b[0m \u001b[1;33m)\u001b[0m\u001b[1;31m# + SumY3 + SumY4 + SumY5 + SumY6)\u001b[0m\u001b[1;33m\u001b[0m\u001b[0m\n\u001b[0m\u001b[0;32m      6\u001b[0m \u001b[1;33m\u001b[0m\u001b[0m\n\u001b[0;32m      7\u001b[0m \u001b[1;31m# PredY2 = X@beta_2\u001b[0m\u001b[1;33m\u001b[0m\u001b[1;33m\u001b[0m\u001b[0m\n",
      "\u001b[1;31mNameError\u001b[0m: name 'SumY1' is not defined"
     ]
    }
   ],
   "source": [
    "# liste = ['1','2','3']\n",
    "# for i in liste:\n",
    "# PredY1 = X@beta_1\n",
    "# SumY1 = sum(PredY1)\n",
    "probY1 = SumY1/(SumY1 + SumY2 )# + SumY3 + SumY4 + SumY5 + SumY6)\n",
    "\n",
    "# PredY2 = X@beta_2\n",
    "# SumY2 = sum(PredY2)\n",
    "probY2 = SumY2/(SumY1 + SumY2 )# + SumY3 + SumY4 + SumY5 + SumY6)\n",
    "\n",
    "# PredY3= X@beta_3\n",
    "# SumY3 = sum(PredY3)\n",
    "# probY3 = SumY3/(SumY1 + SumY2 + SumY3 + SumY4 + SumY5 + SumY6)\n",
    "\n",
    "# probY4 = SumY4/(SumY1 + SumY2 + SumY3 + SumY4 + SumY5 + SumY6)\n",
    "\n",
    "# probY5 = SumY5/(SumY1 + SumY2 + SumY3 + SumY4 + SumY5 + SumY6)\n",
    "\n",
    "# probY6 = SumY6/(SumY1 + SumY2 + SumY3 + SumY4 + SumY5 + SumY6)\n",
    "\n"
   ]
  },
  {
   "cell_type": "code",
   "execution_count": null,
   "metadata": {},
   "outputs": [],
   "source": []
  },
  {
   "cell_type": "code",
   "execution_count": null,
   "metadata": {},
   "outputs": [],
   "source": []
  },
  {
   "cell_type": "code",
   "execution_count": 70,
   "metadata": {},
   "outputs": [
    {
     "data": {
      "text/plain": [
       "0   -4\n",
       "1    5\n",
       "dtype: int64"
      ]
     },
     "execution_count": 70,
     "metadata": {},
     "output_type": "execute_result"
    }
   ],
   "source": [
    "dff = pd.DataFrame([[0, 1, -2, -1], [1, 1, 1, 1]])\n",
    "s = pd.Series([1, 1, 2, 1])\n",
    "dff.dot(s)"
   ]
  },
  {
   "cell_type": "code",
   "execution_count": 79,
   "metadata": {},
   "outputs": [
    {
     "data": {
      "text/html": [
       "<div>\n",
       "<style scoped>\n",
       "    .dataframe tbody tr th:only-of-type {\n",
       "        vertical-align: middle;\n",
       "    }\n",
       "\n",
       "    .dataframe tbody tr th {\n",
       "        vertical-align: top;\n",
       "    }\n",
       "\n",
       "    .dataframe thead th {\n",
       "        text-align: right;\n",
       "    }\n",
       "</style>\n",
       "<table border=\"1\" class=\"dataframe\">\n",
       "  <thead>\n",
       "    <tr style=\"text-align: right;\">\n",
       "      <th></th>\n",
       "      <th>0</th>\n",
       "      <th>1</th>\n",
       "      <th>2</th>\n",
       "      <th>3</th>\n",
       "    </tr>\n",
       "  </thead>\n",
       "  <tbody>\n",
       "    <tr>\n",
       "      <th>0</th>\n",
       "      <td>0</td>\n",
       "      <td>1</td>\n",
       "      <td>-2</td>\n",
       "      <td>-1</td>\n",
       "    </tr>\n",
       "    <tr>\n",
       "      <th>1</th>\n",
       "      <td>1</td>\n",
       "      <td>1</td>\n",
       "      <td>1</td>\n",
       "      <td>1</td>\n",
       "    </tr>\n",
       "  </tbody>\n",
       "</table>\n",
       "</div>"
      ],
      "text/plain": [
       "   0  1  2  3\n",
       "0  0  1 -2 -1\n",
       "1  1  1  1  1"
      ]
     },
     "execution_count": 79,
     "metadata": {},
     "output_type": "execute_result"
    }
   ],
   "source": [
    "dff"
   ]
  },
  {
   "cell_type": "code",
   "execution_count": 80,
   "metadata": {},
   "outputs": [
    {
     "data": {
      "text/plain": [
       "0    1\n",
       "1    1\n",
       "2    2\n",
       "3    1\n",
       "dtype: int64"
      ]
     },
     "execution_count": 80,
     "metadata": {},
     "output_type": "execute_result"
    }
   ],
   "source": [
    "s"
   ]
  },
  {
   "cell_type": "code",
   "execution_count": 74,
   "metadata": {},
   "outputs": [
    {
     "data": {
      "text/html": [
       "<div>\n",
       "<style scoped>\n",
       "    .dataframe tbody tr th:only-of-type {\n",
       "        vertical-align: middle;\n",
       "    }\n",
       "\n",
       "    .dataframe tbody tr th {\n",
       "        vertical-align: top;\n",
       "    }\n",
       "\n",
       "    .dataframe thead th {\n",
       "        text-align: right;\n",
       "    }\n",
       "</style>\n",
       "<table border=\"1\" class=\"dataframe\">\n",
       "  <thead>\n",
       "    <tr style=\"text-align: right;\">\n",
       "      <th></th>\n",
       "      <th>cap</th>\n",
       "      <th>mach_build_share</th>\n",
       "    </tr>\n",
       "  </thead>\n",
       "  <tbody>\n",
       "    <tr>\n",
       "      <th>0</th>\n",
       "      <td>2</td>\n",
       "      <td>2</td>\n",
       "    </tr>\n",
       "    <tr>\n",
       "      <th>1</th>\n",
       "      <td>2</td>\n",
       "      <td>4</td>\n",
       "    </tr>\n",
       "    <tr>\n",
       "      <th>2</th>\n",
       "      <td>2</td>\n",
       "      <td>3</td>\n",
       "    </tr>\n",
       "    <tr>\n",
       "      <th>3</th>\n",
       "      <td>1</td>\n",
       "      <td>1</td>\n",
       "    </tr>\n",
       "    <tr>\n",
       "      <th>4</th>\n",
       "      <td>3</td>\n",
       "      <td>2</td>\n",
       "    </tr>\n",
       "    <tr>\n",
       "      <th>5</th>\n",
       "      <td>2</td>\n",
       "      <td>1</td>\n",
       "    </tr>\n",
       "    <tr>\n",
       "      <th>6</th>\n",
       "      <td>2</td>\n",
       "      <td>4</td>\n",
       "    </tr>\n",
       "    <tr>\n",
       "      <th>7</th>\n",
       "      <td>1</td>\n",
       "      <td>4</td>\n",
       "    </tr>\n",
       "    <tr>\n",
       "      <th>8</th>\n",
       "      <td>2</td>\n",
       "      <td>4</td>\n",
       "    </tr>\n",
       "    <tr>\n",
       "      <th>9</th>\n",
       "      <td>1</td>\n",
       "      <td>4</td>\n",
       "    </tr>\n",
       "    <tr>\n",
       "      <th>10</th>\n",
       "      <td>1</td>\n",
       "      <td>4</td>\n",
       "    </tr>\n",
       "    <tr>\n",
       "      <th>11</th>\n",
       "      <td>2</td>\n",
       "      <td>4</td>\n",
       "    </tr>\n",
       "    <tr>\n",
       "      <th>12</th>\n",
       "      <td>1</td>\n",
       "      <td>4</td>\n",
       "    </tr>\n",
       "    <tr>\n",
       "      <th>13</th>\n",
       "      <td>1</td>\n",
       "      <td>3</td>\n",
       "    </tr>\n",
       "    <tr>\n",
       "      <th>14</th>\n",
       "      <td>1</td>\n",
       "      <td>4</td>\n",
       "    </tr>\n",
       "    <tr>\n",
       "      <th>15</th>\n",
       "      <td>3</td>\n",
       "      <td>2</td>\n",
       "    </tr>\n",
       "    <tr>\n",
       "      <th>16</th>\n",
       "      <td>2</td>\n",
       "      <td>4</td>\n",
       "    </tr>\n",
       "    <tr>\n",
       "      <th>17</th>\n",
       "      <td>1</td>\n",
       "      <td>4</td>\n",
       "    </tr>\n",
       "    <tr>\n",
       "      <th>18</th>\n",
       "      <td>1</td>\n",
       "      <td>4</td>\n",
       "    </tr>\n",
       "    <tr>\n",
       "      <th>19</th>\n",
       "      <td>2</td>\n",
       "      <td>1</td>\n",
       "    </tr>\n",
       "    <tr>\n",
       "      <th>20</th>\n",
       "      <td>2</td>\n",
       "      <td>4</td>\n",
       "    </tr>\n",
       "    <tr>\n",
       "      <th>21</th>\n",
       "      <td>1</td>\n",
       "      <td>4</td>\n",
       "    </tr>\n",
       "    <tr>\n",
       "      <th>22</th>\n",
       "      <td>1</td>\n",
       "      <td>4</td>\n",
       "    </tr>\n",
       "    <tr>\n",
       "      <th>23</th>\n",
       "      <td>2</td>\n",
       "      <td>3</td>\n",
       "    </tr>\n",
       "    <tr>\n",
       "      <th>24</th>\n",
       "      <td>1</td>\n",
       "      <td>2</td>\n",
       "    </tr>\n",
       "    <tr>\n",
       "      <th>25</th>\n",
       "      <td>2</td>\n",
       "      <td>3</td>\n",
       "    </tr>\n",
       "    <tr>\n",
       "      <th>26</th>\n",
       "      <td>1</td>\n",
       "      <td>4</td>\n",
       "    </tr>\n",
       "    <tr>\n",
       "      <th>27</th>\n",
       "      <td>1</td>\n",
       "      <td>4</td>\n",
       "    </tr>\n",
       "    <tr>\n",
       "      <th>28</th>\n",
       "      <td>3</td>\n",
       "      <td>4</td>\n",
       "    </tr>\n",
       "    <tr>\n",
       "      <th>29</th>\n",
       "      <td>2</td>\n",
       "      <td>4</td>\n",
       "    </tr>\n",
       "    <tr>\n",
       "      <th>...</th>\n",
       "      <td>...</td>\n",
       "      <td>...</td>\n",
       "    </tr>\n",
       "    <tr>\n",
       "      <th>714</th>\n",
       "      <td>3</td>\n",
       "      <td>1</td>\n",
       "    </tr>\n",
       "    <tr>\n",
       "      <th>715</th>\n",
       "      <td>3</td>\n",
       "      <td>2</td>\n",
       "    </tr>\n",
       "    <tr>\n",
       "      <th>716</th>\n",
       "      <td>3</td>\n",
       "      <td>4</td>\n",
       "    </tr>\n",
       "    <tr>\n",
       "      <th>717</th>\n",
       "      <td>1</td>\n",
       "      <td>1</td>\n",
       "    </tr>\n",
       "    <tr>\n",
       "      <th>718</th>\n",
       "      <td>2</td>\n",
       "      <td>4</td>\n",
       "    </tr>\n",
       "    <tr>\n",
       "      <th>719</th>\n",
       "      <td>1</td>\n",
       "      <td>1</td>\n",
       "    </tr>\n",
       "    <tr>\n",
       "      <th>720</th>\n",
       "      <td>1</td>\n",
       "      <td>1</td>\n",
       "    </tr>\n",
       "    <tr>\n",
       "      <th>721</th>\n",
       "      <td>2</td>\n",
       "      <td>4</td>\n",
       "    </tr>\n",
       "    <tr>\n",
       "      <th>722</th>\n",
       "      <td>2</td>\n",
       "      <td>1</td>\n",
       "    </tr>\n",
       "    <tr>\n",
       "      <th>723</th>\n",
       "      <td>1</td>\n",
       "      <td>4</td>\n",
       "    </tr>\n",
       "    <tr>\n",
       "      <th>724</th>\n",
       "      <td>3</td>\n",
       "      <td>4</td>\n",
       "    </tr>\n",
       "    <tr>\n",
       "      <th>725</th>\n",
       "      <td>1</td>\n",
       "      <td>4</td>\n",
       "    </tr>\n",
       "    <tr>\n",
       "      <th>726</th>\n",
       "      <td>2</td>\n",
       "      <td>2</td>\n",
       "    </tr>\n",
       "    <tr>\n",
       "      <th>727</th>\n",
       "      <td>1</td>\n",
       "      <td>4</td>\n",
       "    </tr>\n",
       "    <tr>\n",
       "      <th>728</th>\n",
       "      <td>1</td>\n",
       "      <td>4</td>\n",
       "    </tr>\n",
       "    <tr>\n",
       "      <th>729</th>\n",
       "      <td>2</td>\n",
       "      <td>4</td>\n",
       "    </tr>\n",
       "    <tr>\n",
       "      <th>730</th>\n",
       "      <td>1</td>\n",
       "      <td>3</td>\n",
       "    </tr>\n",
       "    <tr>\n",
       "      <th>731</th>\n",
       "      <td>1</td>\n",
       "      <td>1</td>\n",
       "    </tr>\n",
       "    <tr>\n",
       "      <th>732</th>\n",
       "      <td>2</td>\n",
       "      <td>4</td>\n",
       "    </tr>\n",
       "    <tr>\n",
       "      <th>733</th>\n",
       "      <td>1</td>\n",
       "      <td>4</td>\n",
       "    </tr>\n",
       "    <tr>\n",
       "      <th>734</th>\n",
       "      <td>2</td>\n",
       "      <td>4</td>\n",
       "    </tr>\n",
       "    <tr>\n",
       "      <th>735</th>\n",
       "      <td>1</td>\n",
       "      <td>4</td>\n",
       "    </tr>\n",
       "    <tr>\n",
       "      <th>736</th>\n",
       "      <td>2</td>\n",
       "      <td>4</td>\n",
       "    </tr>\n",
       "    <tr>\n",
       "      <th>737</th>\n",
       "      <td>2</td>\n",
       "      <td>4</td>\n",
       "    </tr>\n",
       "    <tr>\n",
       "      <th>738</th>\n",
       "      <td>1</td>\n",
       "      <td>4</td>\n",
       "    </tr>\n",
       "    <tr>\n",
       "      <th>739</th>\n",
       "      <td>2</td>\n",
       "      <td>1</td>\n",
       "    </tr>\n",
       "    <tr>\n",
       "      <th>740</th>\n",
       "      <td>2</td>\n",
       "      <td>4</td>\n",
       "    </tr>\n",
       "    <tr>\n",
       "      <th>741</th>\n",
       "      <td>1</td>\n",
       "      <td>1</td>\n",
       "    </tr>\n",
       "    <tr>\n",
       "      <th>742</th>\n",
       "      <td>2</td>\n",
       "      <td>1</td>\n",
       "    </tr>\n",
       "    <tr>\n",
       "      <th>743</th>\n",
       "      <td>2</td>\n",
       "      <td>2</td>\n",
       "    </tr>\n",
       "  </tbody>\n",
       "</table>\n",
       "<p>744 rows × 2 columns</p>\n",
       "</div>"
      ],
      "text/plain": [
       "     cap  mach_build_share\n",
       "0      2                 2\n",
       "1      2                 4\n",
       "2      2                 3\n",
       "3      1                 1\n",
       "4      3                 2\n",
       "5      2                 1\n",
       "6      2                 4\n",
       "7      1                 4\n",
       "8      2                 4\n",
       "9      1                 4\n",
       "10     1                 4\n",
       "11     2                 4\n",
       "12     1                 4\n",
       "13     1                 3\n",
       "14     1                 4\n",
       "15     3                 2\n",
       "16     2                 4\n",
       "17     1                 4\n",
       "18     1                 4\n",
       "19     2                 1\n",
       "20     2                 4\n",
       "21     1                 4\n",
       "22     1                 4\n",
       "23     2                 3\n",
       "24     1                 2\n",
       "25     2                 3\n",
       "26     1                 4\n",
       "27     1                 4\n",
       "28     3                 4\n",
       "29     2                 4\n",
       "..   ...               ...\n",
       "714    3                 1\n",
       "715    3                 2\n",
       "716    3                 4\n",
       "717    1                 1\n",
       "718    2                 4\n",
       "719    1                 1\n",
       "720    1                 1\n",
       "721    2                 4\n",
       "722    2                 1\n",
       "723    1                 4\n",
       "724    3                 4\n",
       "725    1                 4\n",
       "726    2                 2\n",
       "727    1                 4\n",
       "728    1                 4\n",
       "729    2                 4\n",
       "730    1                 3\n",
       "731    1                 1\n",
       "732    2                 4\n",
       "733    1                 4\n",
       "734    2                 4\n",
       "735    1                 4\n",
       "736    2                 4\n",
       "737    2                 4\n",
       "738    1                 4\n",
       "739    2                 1\n",
       "740    2                 4\n",
       "741    1                 1\n",
       "742    2                 1\n",
       "743    2                 2\n",
       "\n",
       "[744 rows x 2 columns]"
      ]
     },
     "execution_count": 74,
     "metadata": {},
     "output_type": "execute_result"
    }
   ],
   "source": [
    "X"
   ]
  },
  {
   "cell_type": "code",
   "execution_count": 78,
   "metadata": {},
   "outputs": [
    {
     "data": {
      "text/plain": [
       "0    3\n",
       "1    1\n",
       "dtype: int64"
      ]
     },
     "execution_count": 78,
     "metadata": {},
     "output_type": "execute_result"
    }
   ],
   "source": [
    "beta1\n",
    "\n",
    "\n"
   ]
  },
  {
   "cell_type": "code",
   "execution_count": 38,
   "metadata": {},
   "outputs": [],
   "source": [
    "# import hashlib\n",
    "\n",
    "# def encrypt_string(hash_string):\n",
    "#     sha_signature = \\\n",
    "#         hashlib.sha256(hash_string.encode()).hexdigest()\n",
    "#     return sha_signature\n",
    "# hash_string = 'confidential data'\n",
    "# sha_signature = encrypt_string(hash_string)\n",
    "# print(sha_signature)\n",
    "# # 3fef7ff0fc1660c6bd319b3a8109fcb9f81985eabcbbf8958869ef03d605a9eb"
   ]
  }
 ],
 "metadata": {
  "kernelspec": {
   "display_name": "Python 3",
   "language": "python",
   "name": "python3"
  },
  "language_info": {
   "codemirror_mode": {
    "name": "ipython",
    "version": 3
   },
   "file_extension": ".py",
   "mimetype": "text/x-python",
   "name": "python",
   "nbconvert_exporter": "python",
   "pygments_lexer": "ipython3",
   "version": "3.6.4"
  }
 },
 "nbformat": 4,
 "nbformat_minor": 2
}
