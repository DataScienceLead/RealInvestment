{
 "cells": [
  {
   "cell_type": "markdown",
   "metadata": {},
   "source": [
    "# Prob No4 - Hurdle rate for investment calculations"
   ]
  },
  {
   "cell_type": "code",
   "execution_count": 19,
   "metadata": {},
   "outputs": [],
   "source": [
    "import pandas as pd\n",
    "import numpy as np\n",
    "import random \n",
    "from scipy import linalg\n",
    "import math\n",
    "import matplotlib.pyplot as plt\n",
    "import scipy.stats"
   ]
  },
  {
   "cell_type": "code",
   "execution_count": 20,
   "metadata": {},
   "outputs": [],
   "source": [
    "dataset = \"C:/Users/i235jbp/Dropbox/PhD/Spørreundersøkelse/R/datasett_bus_surv_no3.csv\"\n",
    "folderFig = \"C:/Users/i235jbp/Dropbox/PhD/Spørreundersøkelse/Artikkel\""
   ]
  },
  {
   "cell_type": "code",
   "execution_count": 21,
   "metadata": {},
   "outputs": [],
   "source": [
    "df = pd.read_csv(dataset, sep=\",\", engine='python')\n"
   ]
  },
  {
   "cell_type": "code",
   "execution_count": 42,
   "metadata": {},
   "outputs": [
    {
     "data": {
      "text/html": [
       "<div>\n",
       "<style scoped>\n",
       "    .dataframe tbody tr th:only-of-type {\n",
       "        vertical-align: middle;\n",
       "    }\n",
       "\n",
       "    .dataframe tbody tr th {\n",
       "        vertical-align: top;\n",
       "    }\n",
       "\n",
       "    .dataframe thead th {\n",
       "        text-align: right;\n",
       "    }\n",
       "</style>\n",
       "<table border=\"1\" class=\"dataframe\">\n",
       "  <thead>\n",
       "    <tr style=\"text-align: right;\">\n",
       "      <th></th>\n",
       "      <th>orgnr</th>\n",
       "      <th>orgnr_foretak</th>\n",
       "      <th>sector</th>\n",
       "      <th>bof_nace07</th>\n",
       "      <th>inves_fou</th>\n",
       "      <th>inves_fou_sale</th>\n",
       "      <th>inves_facilities</th>\n",
       "      <th>inves_facilities_sale</th>\n",
       "      <th>inves_plot</th>\n",
       "      <th>inves_plot_sale</th>\n",
       "      <th>...</th>\n",
       "      <th>no171</th>\n",
       "      <th>nnmerge</th>\n",
       "      <th>_merge</th>\n",
       "      <th>woMerge</th>\n",
       "      <th>invest_share</th>\n",
       "      <th>maint_invest</th>\n",
       "      <th>dividendratio</th>\n",
       "      <th>profitratio</th>\n",
       "      <th>mach_build</th>\n",
       "      <th>_est_no21</th>\n",
       "    </tr>\n",
       "  </thead>\n",
       "  <tbody>\n",
       "    <tr>\n",
       "      <th>0</th>\n",
       "      <td>811280516</td>\n",
       "      <td>811280836</td>\n",
       "      <td>2100.0</td>\n",
       "      <td>16.232000</td>\n",
       "      <td>0.0</td>\n",
       "      <td>0.0</td>\n",
       "      <td>0.0</td>\n",
       "      <td>0.0</td>\n",
       "      <td>0.0</td>\n",
       "      <td>0.0</td>\n",
       "      <td>...</td>\n",
       "      <td>NaN</td>\n",
       "      <td>NaN</td>\n",
       "      <td>1</td>\n",
       "      <td>1</td>\n",
       "      <td>NaN</td>\n",
       "      <td>0</td>\n",
       "      <td>0.000000</td>\n",
       "      <td>-5.655974</td>\n",
       "      <td>1</td>\n",
       "      <td>1</td>\n",
       "    </tr>\n",
       "    <tr>\n",
       "      <th>1</th>\n",
       "      <td>812749726</td>\n",
       "      <td>812750046</td>\n",
       "      <td>2100.0</td>\n",
       "      <td>16.100000</td>\n",
       "      <td>0.0</td>\n",
       "      <td>0.0</td>\n",
       "      <td>0.0</td>\n",
       "      <td>0.0</td>\n",
       "      <td>0.0</td>\n",
       "      <td>0.0</td>\n",
       "      <td>...</td>\n",
       "      <td>NaN</td>\n",
       "      <td>NaN</td>\n",
       "      <td>1</td>\n",
       "      <td>1</td>\n",
       "      <td>NaN</td>\n",
       "      <td>1</td>\n",
       "      <td>0.000123</td>\n",
       "      <td>6.764232</td>\n",
       "      <td>1</td>\n",
       "      <td>1</td>\n",
       "    </tr>\n",
       "    <tr>\n",
       "      <th>2</th>\n",
       "      <td>816063776</td>\n",
       "      <td>816064096</td>\n",
       "      <td>2100.0</td>\n",
       "      <td>21.200001</td>\n",
       "      <td>0.0</td>\n",
       "      <td>0.0</td>\n",
       "      <td>0.0</td>\n",
       "      <td>0.0</td>\n",
       "      <td>0.0</td>\n",
       "      <td>0.0</td>\n",
       "      <td>...</td>\n",
       "      <td>NaN</td>\n",
       "      <td>NaN</td>\n",
       "      <td>1</td>\n",
       "      <td>1</td>\n",
       "      <td>31.53125</td>\n",
       "      <td>1</td>\n",
       "      <td>0.000121</td>\n",
       "      <td>1.205634</td>\n",
       "      <td>1</td>\n",
       "      <td>1</td>\n",
       "    </tr>\n",
       "    <tr>\n",
       "      <th>3</th>\n",
       "      <td>829094256</td>\n",
       "      <td>829094576</td>\n",
       "      <td>2100.0</td>\n",
       "      <td>23.610001</td>\n",
       "      <td>0.0</td>\n",
       "      <td>0.0</td>\n",
       "      <td>0.0</td>\n",
       "      <td>0.0</td>\n",
       "      <td>0.0</td>\n",
       "      <td>0.0</td>\n",
       "      <td>...</td>\n",
       "      <td>NaN</td>\n",
       "      <td>NaN</td>\n",
       "      <td>1</td>\n",
       "      <td>1</td>\n",
       "      <td>NaN</td>\n",
       "      <td>1</td>\n",
       "      <td>0.000000</td>\n",
       "      <td>-4.339672</td>\n",
       "      <td>1</td>\n",
       "      <td>1</td>\n",
       "    </tr>\n",
       "    <tr>\n",
       "      <th>4</th>\n",
       "      <td>832009006</td>\n",
       "      <td>832009326</td>\n",
       "      <td>2100.0</td>\n",
       "      <td>30.120001</td>\n",
       "      <td>0.0</td>\n",
       "      <td>0.0</td>\n",
       "      <td>0.0</td>\n",
       "      <td>0.0</td>\n",
       "      <td>0.0</td>\n",
       "      <td>0.0</td>\n",
       "      <td>...</td>\n",
       "      <td>NaN</td>\n",
       "      <td>NaN</td>\n",
       "      <td>1</td>\n",
       "      <td>1</td>\n",
       "      <td>NaN</td>\n",
       "      <td>0</td>\n",
       "      <td>0.000000</td>\n",
       "      <td>-29.164217</td>\n",
       "      <td>1</td>\n",
       "      <td>1</td>\n",
       "    </tr>\n",
       "  </tbody>\n",
       "</table>\n",
       "<p>5 rows × 182 columns</p>\n",
       "</div>"
      ],
      "text/plain": [
       "       orgnr  orgnr_foretak  sector  bof_nace07  inves_fou  inves_fou_sale  \\\n",
       "0  811280516      811280836  2100.0   16.232000        0.0             0.0   \n",
       "1  812749726      812750046  2100.0   16.100000        0.0             0.0   \n",
       "2  816063776      816064096  2100.0   21.200001        0.0             0.0   \n",
       "3  829094256      829094576  2100.0   23.610001        0.0             0.0   \n",
       "4  832009006      832009326  2100.0   30.120001        0.0             0.0   \n",
       "\n",
       "   inves_facilities  inves_facilities_sale  inves_plot  inves_plot_sale  ...  \\\n",
       "0               0.0                    0.0         0.0              0.0  ...   \n",
       "1               0.0                    0.0         0.0              0.0  ...   \n",
       "2               0.0                    0.0         0.0              0.0  ...   \n",
       "3               0.0                    0.0         0.0              0.0  ...   \n",
       "4               0.0                    0.0         0.0              0.0  ...   \n",
       "\n",
       "   no171  nnmerge  _merge  woMerge  invest_share  maint_invest  dividendratio  \\\n",
       "0    NaN      NaN       1        1           NaN             0       0.000000   \n",
       "1    NaN      NaN       1        1           NaN             1       0.000123   \n",
       "2    NaN      NaN       1        1      31.53125             1       0.000121   \n",
       "3    NaN      NaN       1        1           NaN             1       0.000000   \n",
       "4    NaN      NaN       1        1           NaN             0       0.000000   \n",
       "\n",
       "   profitratio  mach_build  _est_no21  \n",
       "0    -5.655974           1          1  \n",
       "1     6.764232           1          1  \n",
       "2     1.205634           1          1  \n",
       "3    -4.339672           1          1  \n",
       "4   -29.164217           1          1  \n",
       "\n",
       "[5 rows x 182 columns]"
      ]
     },
     "execution_count": 42,
     "metadata": {},
     "output_type": "execute_result"
    }
   ],
   "source": [
    "# df.drop(['navn', 'orgnr_foretak', 'f_postnr', 'sn07_1'], axis=1, inplace=True)\n",
    "df['orgnr'] = df['orgnr']-random.randint(1,1000)\n",
    "df['orgnr_foretak'] = df['orgnr_foretak']-random.randint(1,1000)\n",
    "df['employ'] = df['employ']+random.randint(1,15)\n",
    "df.head()\n"
   ]
  },
  {
   "cell_type": "code",
   "execution_count": 22,
   "metadata": {},
   "outputs": [],
   "source": [
    "df.drop(['navn1'], axis=1, inplace=True)"
   ]
  },
  {
   "cell_type": "code",
   "execution_count": 23,
   "metadata": {},
   "outputs": [
    {
     "data": {
      "text/html": [
       "<div>\n",
       "<style scoped>\n",
       "    .dataframe tbody tr th:only-of-type {\n",
       "        vertical-align: middle;\n",
       "    }\n",
       "\n",
       "    .dataframe tbody tr th {\n",
       "        vertical-align: top;\n",
       "    }\n",
       "\n",
       "    .dataframe thead th {\n",
       "        text-align: right;\n",
       "    }\n",
       "</style>\n",
       "<table border=\"1\" class=\"dataframe\">\n",
       "  <thead>\n",
       "    <tr style=\"text-align: right;\">\n",
       "      <th></th>\n",
       "      <th>orgnr</th>\n",
       "      <th>orgnr_foretak</th>\n",
       "      <th>sector</th>\n",
       "      <th>bof_nace07</th>\n",
       "      <th>inves_fou</th>\n",
       "      <th>inves_fou_sale</th>\n",
       "      <th>inves_facilities</th>\n",
       "      <th>inves_facilities_sale</th>\n",
       "      <th>inves_plot</th>\n",
       "      <th>inves_plot_sale</th>\n",
       "      <th>...</th>\n",
       "      <th>beta47_7</th>\n",
       "      <th>beta47_8</th>\n",
       "      <th>beta47_9</th>\n",
       "      <th>beta47_10</th>\n",
       "      <th>beta47_11</th>\n",
       "      <th>beta47_12</th>\n",
       "      <th>beta47_cut_13</th>\n",
       "      <th>beta47_cut_14</th>\n",
       "      <th>beta47_cut_15</th>\n",
       "      <th>beta47_cut_16</th>\n",
       "    </tr>\n",
       "  </thead>\n",
       "  <tbody>\n",
       "    <tr>\n",
       "      <th>count</th>\n",
       "      <td>243</td>\n",
       "      <td>243</td>\n",
       "      <td>243</td>\n",
       "      <td>243</td>\n",
       "      <td>243</td>\n",
       "      <td>243</td>\n",
       "      <td>243</td>\n",
       "      <td>243</td>\n",
       "      <td>243</td>\n",
       "      <td>243</td>\n",
       "      <td>...</td>\n",
       "      <td>243</td>\n",
       "      <td>243</td>\n",
       "      <td>243</td>\n",
       "      <td>243</td>\n",
       "      <td>243</td>\n",
       "      <td>243</td>\n",
       "      <td>243</td>\n",
       "      <td>243</td>\n",
       "      <td>243</td>\n",
       "      <td>243</td>\n",
       "    </tr>\n",
       "    <tr>\n",
       "      <th>unique</th>\n",
       "      <td>1</td>\n",
       "      <td>1</td>\n",
       "      <td>2</td>\n",
       "      <td>2</td>\n",
       "      <td>2</td>\n",
       "      <td>2</td>\n",
       "      <td>2</td>\n",
       "      <td>2</td>\n",
       "      <td>2</td>\n",
       "      <td>2</td>\n",
       "      <td>...</td>\n",
       "      <td>1</td>\n",
       "      <td>1</td>\n",
       "      <td>1</td>\n",
       "      <td>1</td>\n",
       "      <td>1</td>\n",
       "      <td>1</td>\n",
       "      <td>1</td>\n",
       "      <td>1</td>\n",
       "      <td>1</td>\n",
       "      <td>1</td>\n",
       "    </tr>\n",
       "    <tr>\n",
       "      <th>top</th>\n",
       "      <td>False</td>\n",
       "      <td>False</td>\n",
       "      <td>False</td>\n",
       "      <td>False</td>\n",
       "      <td>False</td>\n",
       "      <td>False</td>\n",
       "      <td>False</td>\n",
       "      <td>False</td>\n",
       "      <td>False</td>\n",
       "      <td>False</td>\n",
       "      <td>...</td>\n",
       "      <td>False</td>\n",
       "      <td>False</td>\n",
       "      <td>False</td>\n",
       "      <td>False</td>\n",
       "      <td>False</td>\n",
       "      <td>False</td>\n",
       "      <td>False</td>\n",
       "      <td>False</td>\n",
       "      <td>False</td>\n",
       "      <td>True</td>\n",
       "    </tr>\n",
       "    <tr>\n",
       "      <th>freq</th>\n",
       "      <td>243</td>\n",
       "      <td>243</td>\n",
       "      <td>228</td>\n",
       "      <td>228</td>\n",
       "      <td>228</td>\n",
       "      <td>228</td>\n",
       "      <td>228</td>\n",
       "      <td>228</td>\n",
       "      <td>228</td>\n",
       "      <td>228</td>\n",
       "      <td>...</td>\n",
       "      <td>243</td>\n",
       "      <td>243</td>\n",
       "      <td>243</td>\n",
       "      <td>243</td>\n",
       "      <td>243</td>\n",
       "      <td>243</td>\n",
       "      <td>243</td>\n",
       "      <td>243</td>\n",
       "      <td>243</td>\n",
       "      <td>243</td>\n",
       "    </tr>\n",
       "  </tbody>\n",
       "</table>\n",
       "<p>4 rows × 365 columns</p>\n",
       "</div>"
      ],
      "text/plain": [
       "        orgnr orgnr_foretak sector bof_nace07 inves_fou inves_fou_sale  \\\n",
       "count     243           243    243        243       243            243   \n",
       "unique      1             1      2          2         2              2   \n",
       "top     False         False  False      False     False          False   \n",
       "freq      243           243    228        228       228            228   \n",
       "\n",
       "       inves_facilities inves_facilities_sale inves_plot inves_plot_sale  ...  \\\n",
       "count               243                   243        243             243  ...   \n",
       "unique                2                     2          2               2  ...   \n",
       "top               False                 False      False           False  ...   \n",
       "freq                228                   228        228             228  ...   \n",
       "\n",
       "       beta47_7 beta47_8 beta47_9 beta47_10 beta47_11 beta47_12 beta47_cut_13  \\\n",
       "count       243      243      243       243       243       243           243   \n",
       "unique        1        1        1         1         1         1             1   \n",
       "top       False    False    False     False     False     False         False   \n",
       "freq        243      243      243       243       243       243           243   \n",
       "\n",
       "       beta47_cut_14 beta47_cut_15 beta47_cut_16  \n",
       "count            243           243           243  \n",
       "unique             1             1             1  \n",
       "top            False         False          True  \n",
       "freq             243           243           243  \n",
       "\n",
       "[4 rows x 365 columns]"
      ]
     },
     "execution_count": 23,
     "metadata": {},
     "output_type": "execute_result"
    }
   ],
   "source": [
    "df.isnull().describe()"
   ]
  },
  {
   "cell_type": "code",
   "execution_count": 24,
   "metadata": {},
   "outputs": [],
   "source": [
    "# list of explanatory variables, important to stack the variables and estimated parametes in the same order\n",
    "explanatoryNo4 = ['smallcap' ,'largecap'  ,'subsidary' ,'equityFunding' ,'debtFunding']\n",
    "# ['higheduc', 'smallcap','largecap', 'mach_build_share', 'invest_share' ,'maint_invest', 'subsidary', 'no2_1', 'no2_2']\n",
    "\n",
    "# make a new df\n",
    "df_short4 = df.copy(deep=True)"
   ]
  },
  {
   "cell_type": "code",
   "execution_count": 25,
   "metadata": {},
   "outputs": [
    {
     "data": {
      "text/html": [
       "<div>\n",
       "<style scoped>\n",
       "    .dataframe tbody tr th:only-of-type {\n",
       "        vertical-align: middle;\n",
       "    }\n",
       "\n",
       "    .dataframe tbody tr th {\n",
       "        vertical-align: top;\n",
       "    }\n",
       "\n",
       "    .dataframe thead th {\n",
       "        text-align: right;\n",
       "    }\n",
       "</style>\n",
       "<table border=\"1\" class=\"dataframe\">\n",
       "  <thead>\n",
       "    <tr style=\"text-align: right;\">\n",
       "      <th></th>\n",
       "      <th>smallcap</th>\n",
       "      <th>largecap</th>\n",
       "      <th>subsidary</th>\n",
       "      <th>equityFunding</th>\n",
       "      <th>debtFunding</th>\n",
       "    </tr>\n",
       "  </thead>\n",
       "  <tbody>\n",
       "    <tr>\n",
       "      <th>76</th>\n",
       "      <td>0</td>\n",
       "      <td>0</td>\n",
       "      <td>1</td>\n",
       "      <td>1</td>\n",
       "      <td>0</td>\n",
       "    </tr>\n",
       "    <tr>\n",
       "      <th>115</th>\n",
       "      <td>0</td>\n",
       "      <td>1</td>\n",
       "      <td>0</td>\n",
       "      <td>1</td>\n",
       "      <td>1</td>\n",
       "    </tr>\n",
       "    <tr>\n",
       "      <th>96</th>\n",
       "      <td>0</td>\n",
       "      <td>1</td>\n",
       "      <td>0</td>\n",
       "      <td>1</td>\n",
       "      <td>1</td>\n",
       "    </tr>\n",
       "    <tr>\n",
       "      <th>195</th>\n",
       "      <td>0</td>\n",
       "      <td>0</td>\n",
       "      <td>1</td>\n",
       "      <td>1</td>\n",
       "      <td>1</td>\n",
       "    </tr>\n",
       "    <tr>\n",
       "      <th>140</th>\n",
       "      <td>0</td>\n",
       "      <td>0</td>\n",
       "      <td>1</td>\n",
       "      <td>1</td>\n",
       "      <td>1</td>\n",
       "    </tr>\n",
       "  </tbody>\n",
       "</table>\n",
       "</div>"
      ],
      "text/plain": [
       "     smallcap  largecap  subsidary  equityFunding  debtFunding\n",
       "76          0         0          1              1            0\n",
       "115         0         1          0              1            1\n",
       "96          0         1          0              1            1\n",
       "195         0         0          1              1            1\n",
       "140         0         0          1              1            1"
      ]
     },
     "execution_count": 25,
     "metadata": {},
     "output_type": "execute_result"
    }
   ],
   "source": [
    "df_short4=df_short4.loc[:,explanatoryNo4].dropna(axis=0, how='any')\n",
    "df_short4.sample(5)"
   ]
  },
  {
   "cell_type": "code",
   "execution_count": 26,
   "metadata": {},
   "outputs": [],
   "source": [
    "# df_short.dropna(axis=0, how='any', inplace=True)\n",
    "X_4 = df_short4.values\n"
   ]
  },
  {
   "cell_type": "code",
   "execution_count": 27,
   "metadata": {},
   "outputs": [
    {
     "data": {
      "text/html": [
       "<div>\n",
       "<style scoped>\n",
       "    .dataframe tbody tr th:only-of-type {\n",
       "        vertical-align: middle;\n",
       "    }\n",
       "\n",
       "    .dataframe tbody tr th {\n",
       "        vertical-align: top;\n",
       "    }\n",
       "\n",
       "    .dataframe thead th {\n",
       "        text-align: right;\n",
       "    }\n",
       "</style>\n",
       "<table border=\"1\" class=\"dataframe\">\n",
       "  <thead>\n",
       "    <tr style=\"text-align: right;\">\n",
       "      <th></th>\n",
       "      <th>smallcap</th>\n",
       "      <th>largecap</th>\n",
       "      <th>subsidary</th>\n",
       "      <th>equityFunding</th>\n",
       "      <th>debtFunding</th>\n",
       "    </tr>\n",
       "  </thead>\n",
       "  <tbody>\n",
       "    <tr>\n",
       "      <th>count</th>\n",
       "      <td>243.000000</td>\n",
       "      <td>243.000000</td>\n",
       "      <td>243.000000</td>\n",
       "      <td>243.000000</td>\n",
       "      <td>243.000000</td>\n",
       "    </tr>\n",
       "    <tr>\n",
       "      <th>mean</th>\n",
       "      <td>0.395062</td>\n",
       "      <td>0.160494</td>\n",
       "      <td>0.353909</td>\n",
       "      <td>0.884774</td>\n",
       "      <td>0.609053</td>\n",
       "    </tr>\n",
       "    <tr>\n",
       "      <th>std</th>\n",
       "      <td>0.489873</td>\n",
       "      <td>0.367821</td>\n",
       "      <td>0.479168</td>\n",
       "      <td>0.319954</td>\n",
       "      <td>0.488970</td>\n",
       "    </tr>\n",
       "    <tr>\n",
       "      <th>min</th>\n",
       "      <td>0.000000</td>\n",
       "      <td>0.000000</td>\n",
       "      <td>0.000000</td>\n",
       "      <td>0.000000</td>\n",
       "      <td>0.000000</td>\n",
       "    </tr>\n",
       "    <tr>\n",
       "      <th>25%</th>\n",
       "      <td>0.000000</td>\n",
       "      <td>0.000000</td>\n",
       "      <td>0.000000</td>\n",
       "      <td>1.000000</td>\n",
       "      <td>0.000000</td>\n",
       "    </tr>\n",
       "    <tr>\n",
       "      <th>50%</th>\n",
       "      <td>0.000000</td>\n",
       "      <td>0.000000</td>\n",
       "      <td>0.000000</td>\n",
       "      <td>1.000000</td>\n",
       "      <td>1.000000</td>\n",
       "    </tr>\n",
       "    <tr>\n",
       "      <th>75%</th>\n",
       "      <td>1.000000</td>\n",
       "      <td>0.000000</td>\n",
       "      <td>1.000000</td>\n",
       "      <td>1.000000</td>\n",
       "      <td>1.000000</td>\n",
       "    </tr>\n",
       "    <tr>\n",
       "      <th>max</th>\n",
       "      <td>1.000000</td>\n",
       "      <td>1.000000</td>\n",
       "      <td>1.000000</td>\n",
       "      <td>1.000000</td>\n",
       "      <td>1.000000</td>\n",
       "    </tr>\n",
       "  </tbody>\n",
       "</table>\n",
       "</div>"
      ],
      "text/plain": [
       "         smallcap    largecap   subsidary  equityFunding  debtFunding\n",
       "count  243.000000  243.000000  243.000000     243.000000   243.000000\n",
       "mean     0.395062    0.160494    0.353909       0.884774     0.609053\n",
       "std      0.489873    0.367821    0.479168       0.319954     0.488970\n",
       "min      0.000000    0.000000    0.000000       0.000000     0.000000\n",
       "25%      0.000000    0.000000    0.000000       1.000000     0.000000\n",
       "50%      0.000000    0.000000    0.000000       1.000000     1.000000\n",
       "75%      1.000000    0.000000    1.000000       1.000000     1.000000\n",
       "max      1.000000    1.000000    1.000000       1.000000     1.000000"
      ]
     },
     "execution_count": 27,
     "metadata": {},
     "output_type": "execute_result"
    }
   ],
   "source": [
    "df_short4.describe()\n",
    "# X_4[1]"
   ]
  },
  {
   "cell_type": "code",
   "execution_count": 28,
   "metadata": {},
   "outputs": [],
   "source": [
    "# #  \"smallcap largecap  subsidary no2_1 no2_2 sensitivity  mach_build debt_asset ebit_margin xcon xmach xengy\"\n",
    "#      | beta41_1    beta41_2    beta41_3   beta41_4   beta41_5    beta41_6   beta41_7   beta41_8    beta41_9   beta41~0   beta41_11   bet~1_12 |\n",
    "#      |----------------------------------------------------------------------------------------------------------------------------------------|\n",
    "#   1. | .5583491   -.6509179   -.2371583   .1558211   .6339461   -.7041392   .0121409   .2595911   -.0635699   .1299973   -.1579525   .3490071 |\n",
    "#      +--------------------------------------------------------------------------------------------------------------------------------------+\n",
    "#      |  beta42_1   beta42_2   beta42_3    beta42_4   beta42_5   beta42_6   beta42_7   beta42_8   beta42_9   beta42_10   bet~2_11   bet~2_12 |\n",
    "#      |--------------------------------------------------------------------------------------------------------------------------------------|\n",
    "#   1. | -.1752246   .2656968   1.012598   -.2219651   .2811295   .7874478   .9268455   .4593472   .0286289   -.0458653   .8022574   .4928869 |\n",
    "#      +--------------------------------------------------------------------------------------------------------------------------------------+\n",
    "#      |  beta43_1   beta43_2   beta43_3   beta43_4   beta43_5   beta43_6   beta43_7   beta43_8   beta43_9   beta43_10   bet~3_11   beta43_12 |\n",
    "#      |--------------------------------------------------------------------------------------------------------------------------------------|\n",
    "#   1. | -.1991488   .1991078   1.137998   .6865239   .6031976   .6144443   .7316628   .1903868   .1248696   -.1962999   .5047632   -.0572932 |\n",
    "#      +--------------------------------------------------------------------------------------------------------------------------------------+\n",
    "#      |  beta44_1   beta44_2   beta44_3    beta44_4   beta44_5   beta44_6   beta44_7   beta44_8    beta44_9   beta44~0   bet~4_11   bet~4_12 |\n",
    "#      |--------------------------------------------------------------------------------------------------------------------------------------|\n",
    "#   1. | -.3514093   .1112311   .9871286   -.3634594   .4158539   1.510688   .6871861   .5103543   -.3954107   .3423718   1.086825   .5941063 |\n",
    "#      |--------------------------------------------------------------------------------------------------------------------------------------|\n",
    "#      |  beta45_1   beta45_2   beta45_3    beta45_4   beta45_5   beta45_6   beta45_7   beta45_8    beta45_9   beta45~0   bet~5_11   bet~5_12 |\n",
    "#      |--------------------------------------------------------------------------------------------------------------------------------------|\n",
    "#   1. | -.1620108   .8691799   1.034423   -.0578522   .6903791   .8684888   .8753986   .3721771   -.6144677   .3344762   .9781537     .24714 |\n",
    "#      +--------------------------------------------------------------------------------------------------------------------------------------+\n",
    "#      |  beta46_1   beta46_2   beta46_3   beta46_4   beta46_5   beta46_6   beta46_7   beta46_8   beta46_9   beta46~0   bet~6_11   bet~6_12 |\n",
    "#      |------------------------------------------------------------------------------------------------------------------------------------|\n",
    "#   1. | -.2868276   .7446719   .7748893   .0202318   .6116514   .8995271    .409184   .9466532   .1591462   .2994379   .9318266   .7027069 |\n",
    "#      +------------------------------------------------------------------------------------------------------------------------------------+\n",
    "#      |  beta47_1   beta47_2   beta47_3   beta47_4    beta47_5   beta47_6   beta47_7   beta47_8   beta47_9   beta47~0   bet~7_11   bet~7_12 |\n",
    "#      |-------------------------------------------------------------------------------------------------------------------------------------|\n",
    "#   1. | -.0051477    .878206   .8617119   .2571655   -.0083703   .5486679   .3854356   .9504772   .3378456   .0801254   1.094837   .7913368 |\n",
    "\n",
    "   "
   ]
  },
  {
   "cell_type": "code",
   "execution_count": 29,
   "metadata": {},
   "outputs": [],
   "source": [
    "beta_1_4 = ([ .5583491 ,  -.6509179 ,  -.2371583 ,  .1558211 ,  .6339461 ])\n",
    "beta_2_4 = ([-.1752246 ,  .2656968  , 1.012598  , -.2219651  , .2811295  ])\n",
    "beta_3_4= ([-.1991488  , .1991078   ,1.137998  , .6865239  , .6031976])\n",
    "beta_4_4 = ([ -.3514093,   .1112311  , .9871286 ,  -.3634594,   .4158539  ])\n",
    "beta_5_4= ([-.1620108  , .8691799  , 1.034423  , -.0578522  , .6903791])\n",
    "beta_6_4 = ([-.2868276  , .7446719  , .7748893 ,  .0202318  , .6116514 ])\n",
    "beta_7_4 = ([-.0051477 ,   .878206  , .8617119 ,  .2571655 ,  -.0083703 ])"
   ]
  },
  {
   "cell_type": "code",
   "execution_count": 30,
   "metadata": {},
   "outputs": [
    {
     "data": {
      "text/plain": [
       "([0.5583491, -0.6509179, -0.2371583, 0.1558211, 0.6339461],\n",
       " [-0.3514093, 0.1112311, 0.9871286, -0.3634594, 0.4158539])"
      ]
     },
     "execution_count": 30,
     "metadata": {},
     "output_type": "execute_result"
    }
   ],
   "source": [
    "beta_1_4, beta_4_4\n"
   ]
  },
  {
   "cell_type": "code",
   "execution_count": 31,
   "metadata": {},
   "outputs": [],
   "source": [
    "#      | beta41..   ~1_cut_13   beta41..   beta41..   beta41.. |\n",
    "#      |-------------------------------------------------------|\n",
    "#   1. |        .   -1.248441   -.289952   .5223125          . |\n",
    "#      +-------------------------------------------------------+\n",
    "#      | beta42..   beta42..   beta42..   beta42..   beta42.. |\n",
    "#      |------------------------------------------------------|\n",
    "#   1. |        .   2.570306   6.485544          .          . |\n",
    "#      +------------------------------------------------------+\n",
    "#      | beta43..   beta43..   beta43..   beta43..   beta43.. |\n",
    "#      |------------------------------------------------------|\n",
    "#   1. |        .   2.447555   3.890147   5.416392          . |\n",
    "#      +------------------------------------------------------+\n",
    "#      | beta44..   beta44..   beta44..   beta44..   beta44.. |\n",
    "#      |------------------------------------------------------|\n",
    "#   1. |        .   2.205662   4.052319   4.797374          . |\n",
    "#      +------------------------------------------------------+\n",
    "#      | beta45..   beta45..   beta45..   beta45..   beta45.. |\n",
    "#      |------------------------------------------------------|\n",
    "#   1. |        .   2.753576   5.195762   6.646093          . |\n",
    "#      +------------------------------------------------------+\n",
    "#      | beta46..   beta46..   beta46..   beta46..   beta46.. |\n",
    "#      |------------------------------------------------------|\n",
    "#   1. |        .   2.724207   4.716356   7.422031          . |\n",
    "#      +------------------------------------------------------+\n",
    "#      | beta47..   beta47..   beta47..   beta47..   beta47.. |\n",
    "#      |------------------------------------------------------|\n",
    "#   1. |        .   2.541592   3.547972   4.748107          . |\n",
    "\n",
    "\n",
    "#      | beta41..   beta41~14   beta41~15   beta41~16 |\n",
    "cut_1_4 = [-1.248441 ,  -.289952 ,  .5223125  ]\n",
    "\n",
    "cut_2_4 = [2.570306  , 6.485544 ]\n",
    "\n",
    "cut_3_4 = [2.447555 , 3.890147   ,5.416392 ]\n",
    "\n",
    "cut_4_4 = [2.205662, 4.052319 ,  4.797374 ]\n",
    "\n",
    "cut_5_4 = [2.753576, 5.195762  , 6.646093 ]\n",
    "\n",
    "cut_6_4 = [2.724207, 4.716356  , 7.422031]\n",
    "\n",
    "cut_7_4 = [2.541592,  3.547972,   4.748107]\n",
    "     "
   ]
  },
  {
   "cell_type": "code",
   "execution_count": 32,
   "metadata": {},
   "outputs": [],
   "source": [
    "#Threshold for no4_1\n",
    "cut_avg_1_4 = 1/len(cut_1_4)*sum(cut_1_4)\n",
    "\n",
    "#Threshold for no4_2\n",
    "cut_avg_2_4 = 1/len(cut_2_4)*sum(cut_2_4)\n",
    "\n",
    "#Threshold for no4_3\n",
    "cut_avg_3_4 = 1/len(cut_3_4)*sum(cut_3_4)\n",
    "\n",
    "#Threshold for no4_4\n",
    "cut_avg_4_4 = 1/len(cut_4_4)*sum(cut_4_4)\n",
    "\n",
    "#Threshold for no4_5\n",
    "cut_avg_5_4 = 1/len(cut_5_4)*sum(cut_5_4)\n",
    "\n",
    "#Threshold for no4_6\n",
    "cut_avg_6_4 = 1/len(cut_6_4)*sum(cut_6_4)\n",
    "\n",
    "#Threshold for no4_7\n",
    "cut_avg_7_4 = 1/len(cut_7_4)*sum(cut_7_4)\n"
   ]
  },
  {
   "cell_type": "code",
   "execution_count": 33,
   "metadata": {},
   "outputs": [
    {
     "data": {
      "text/plain": [
       "(-0.3386935, 4.527925)"
      ]
     },
     "execution_count": 33,
     "metadata": {},
     "output_type": "execute_result"
    }
   ],
   "source": [
    "cut_avg_1_4, cut_avg_2_4\n",
    "\n",
    "# listePredY1eNo2"
   ]
  },
  {
   "cell_type": "code",
   "execution_count": 34,
   "metadata": {},
   "outputs": [
    {
     "data": {
      "text/plain": [
       "2.452339826428995"
      ]
     },
     "execution_count": 34,
     "metadata": {},
     "output_type": "execute_result"
    }
   ],
   "source": [
    "math.exp(-cut_avg_1_4 + X_4[0:1]@beta_1_4)"
   ]
  },
  {
   "cell_type": "code",
   "execution_count": 35,
   "metadata": {},
   "outputs": [],
   "source": [
    "listeSumYNo4 = []\n",
    "listePredY1eNo4 = []\n",
    "listePredY2eNo4 = []\n",
    "listePredY3eNo4 = []\n",
    "listePredY4eNo4 = []\n",
    "listePredY5eNo4 = []\n",
    "listePredY6eNo4 = []\n",
    "listePredY7eNo4 = []\n",
    "\n",
    "\n",
    "for i in range(len(X_4)):\n",
    "    pred_i = [math.exp(-cut_avg_1_4 + X_4[0+i:1+i]@beta_1_4)]\n",
    "    listePredY1eNo4.append(pred_i[0]) \n",
    "\n",
    "for i in range(len(X_4)):\n",
    "    pred_i = [math.exp(-cut_avg_2_4 + X_4[0+i:1+i]@beta_2_4)]\n",
    "    listePredY2eNo4.append(pred_i[0]) \n",
    "    \n",
    "    \n",
    "for i in range(len(X_4)):\n",
    "    pred_i = [math.exp(-cut_avg_3_4 + X_4[0+i:1+i]@beta_3_4)]\n",
    "    listePredY3eNo4.append(pred_i[0]) \n",
    "\n",
    "for i in range(len(X_4)):\n",
    "    pred_i = [math.exp(-cut_avg_4_4 + X_4[0+i:1+i]@beta_4_4)]\n",
    "    listePredY4eNo4.append(pred_i[0]) \n",
    "\n",
    "for i in range(len(X_4)):\n",
    "    pred_i = [math.exp(-cut_avg_5_4 + X_4[0+i:1+i]@beta_5_4)]\n",
    "    listePredY5eNo4.append(pred_i[0]) \n",
    "\n",
    "for i in range(len(X_4)):\n",
    "    pred_i = [math.exp(-cut_avg_6_4 + X_4[0+i:1+i]@beta_6_4)]\n",
    "    listePredY6eNo4.append(pred_i[0]) \n",
    "\n",
    "\n",
    "for i in range(len(X_4)):\n",
    "    pred_i = [math.exp(-cut_avg_7_4 + X_4[0+i:1+i]@beta_7_4)]\n",
    "    listePredY7eNo4.append(pred_i[0])    \n",
    "# med, min, max\n"
   ]
  },
  {
   "cell_type": "code",
   "execution_count": 63,
   "metadata": {},
   "outputs": [],
   "source": [
    "# Lage lister som kan holde predikert verdi\n",
    "listeSumY = []\n",
    "listePredY1e = []\n",
    "listePredY2e = []\n",
    "listePredY3e = []\n",
    "listePredY4e = []\n",
    "listePredY5e = [] \n",
    "# listePredY6e = [] -- referansekategori\n",
    "listePredY7e = []\n",
    "\n",
    "\n",
    "# Regne ut X*Beta i løkke for hver enkelt bedrift\n",
    "\n",
    "for i in range(len(X_4)):\n",
    "    Z_i = (cut_avg_1_4 + X_4[0+i:1+i]@beta_1_4)\n",
    "    pred_i = [1 / (1 + math.exp(-Z_i))]\n",
    "    listePredY1e.append(pred_i[0]) \n",
    "\n",
    "for i in range(len(X_4)):\n",
    "    Z_i = (cut_avg_2_4 + X_4[0+i:1+i]@beta_2_4)\n",
    "    pred_i = [1 / (1 + math.exp(-Z_i))]\n",
    "    listePredY2e.append(pred_i[0]) \n",
    "\n",
    "for i in range(len(X_4)):\n",
    "    Z_i = (cut_avg_3_4 + X_4[0+i:1+i]@beta_3_4)\n",
    "    pred_i = [1 / (1 + math.exp(-Z_i))]\n",
    "    listePredY3e.append(pred_i[0]) \n",
    "\n",
    "for i in range(len(X_4)):\n",
    "    Z_i = (cut_avg_4_4 + X_4[0+i:1+i]@beta_4_4)\n",
    "    pred_i = [1 / (1 + math.exp(-Z_i))]\n",
    "    listePredY4e.append(pred_i[0]) \n",
    "\n",
    "for i in range(len(X_4)):\n",
    "    Z_i = (cut_avg_5_4 + X_4[0+i:1+i]@beta_5_4)\n",
    "    pred_i = [1 / (1 + math.exp(-Z_i))]\n",
    "    listePredY5e.append(pred_i[0]) \n",
    "\n",
    "for i in range(len(X_4)):\n",
    "    Z_i = (cut_avg_7_4 + X_4[0+i:1+i]@beta_7_4)\n",
    "    pred_i = [1 / (1 + math.exp(-Z_i))]\n",
    "    listePredY7e.append(pred_i[0]) \n",
    "    \n",
    "    \n",
    "listeSumY = [ x+y+z+u+t+s for x, y, z, u, t, s in zip(listePredY1e, listePredY2e, listePredY3e, listePredY4e, listePredY5e, listePredY7e )]\n"
   ]
  },
  {
   "cell_type": "code",
   "execution_count": 187,
   "metadata": {},
   "outputs": [
    {
     "data": {
      "text/plain": [
       "(2.9176708099903887,\n",
       " 0.8074166895852967,\n",
       " 0.0036990198493748612,\n",
       " 0.0017541851474508585,\n",
       " 0.0014559545189700204,\n",
       " 0.0014559545189700204,\n",
       " 0.0017276891756194273,\n",
       " 0.008887903358144465)"
      ]
     },
     "execution_count": 187,
     "metadata": {},
     "output_type": "execute_result"
    }
   ],
   "source": [
    "listeSumYe[2], listePredY1eNo4[2], listePredY2eNo4[2],listePredY3eNo4[2],listePredY5eNo4[2],listePredY5eNo4[2],listePredY6eNo4[2] ,listePredY7eNo4[2]\n",
    "listeSumYe[3], listePredY1eNo4[3], listePredY2eNo4[3],listePredY3eNo4[3],listePredY5eNo4[3],listePredY5eNo4[3],listePredY6eNo4[3] ,listePredY7eNo4[3]\n",
    "listeSumYe[105], listePredY1eNo4[105], listePredY2eNo4[105],listePredY3eNo4[105],listePredY5eNo4[105],listePredY5eNo4[105],listePredY6eNo4[105] ,listePredY7eNo4[105]"
   ]
  },
  {
   "cell_type": "code",
   "execution_count": 66,
   "metadata": {},
   "outputs": [
    {
     "data": {
      "text/plain": [
       "(0.5532758471038824,\n",
       " 0.9963146124722428,\n",
       " 0.9982488866296149,\n",
       " 0.9912041581563467,\n",
       " 0.9985461622027407,\n",
       " 0.9911903955547882)"
      ]
     },
     "execution_count": 66,
     "metadata": {},
     "output_type": "execute_result"
    }
   ],
   "source": [
    "i = 155\n",
    "listePredY1e[i], listePredY2e[i], listePredY3e[i] , listePredY4e[i] , listePredY5e[i], listePredY7e[i]  "
   ]
  },
  {
   "cell_type": "code",
   "execution_count": 42,
   "metadata": {},
   "outputs": [],
   "source": [
    "listeSumYe = [ x+y+z+u+t+s for x , y, z, u,t,s in zip(listePredY1eNo4, listePredY2eNo4,listePredY3eNo4,listePredY4eNo4,listePredY5eNo4 ,listePredY7eNo4 )]\n",
    "# listePredY6eNo4\n",
    "\n",
    "#  stated preferences - spørre om hva bruker du vanligvis å foretrekke å gjøre, \n",
    "# bedre å sprørre konkret på hver metode. \n",
    "# statistisk metode i data kap\n",
    "# Flytte bus surv cap til et underkap av data. \n",
    "# Og econometric methods som et eget kap\n",
    "# merk at kap 5 - analyse av bus surv ikke er empririsk analyse av teori. \n",
    "\n",
    "# ta med korrelasjonsmatrise for no2_*, no3_* og no4_*"
   ]
  },
  {
   "cell_type": "code",
   "execution_count": 43,
   "metadata": {},
   "outputs": [],
   "source": [
    "P_1_4 = [a/m for a, m in zip(listePredY1eNo4, listeSumYe)]\n",
    "P_2_4 = [a/m for a, m in zip(listePredY2eNo4, listeSumYe)]\n",
    "P_3_4 = [a/m for a, m in zip(listePredY3eNo4, listeSumYe)]\n",
    "P_4_4 = [a/m for a, m in zip(listePredY4eNo4, listeSumYe)]\n",
    "P_5_4 = [a/m for a, m in zip(listePredY5eNo4, listeSumYe)]\n",
    "# P_6_4 = [a/m for a, m in zip(listePredY6eNo4, listeSumYe)]\n",
    "P_7_4 = [a/m for a, m in zip(listePredY7eNo4, listeSumYe)]"
   ]
  },
  {
   "cell_type": "code",
   "execution_count": 67,
   "metadata": {},
   "outputs": [],
   "source": [
    "P_1_4e = [a/m for a, m in zip(listePredY1e, listeSumY)]\n",
    "P_2_4e = [a/m for a, m in zip(listePredY2e, listeSumY)]\n",
    "P_3_4e = [a/m for a, m in zip(listePredY3e, listeSumY)]\n",
    "P_4_4e = [a/m for a, m in zip(listePredY4e, listeSumY)]\n",
    "P_5_4e = [a/m for a, m in zip(listePredY5e, listeSumY)]\n",
    "# P_6_4e = [a/m for a, m in zip(listePredY6eNo4, listeSumYe)]\n",
    "P_7_4e = [a/m for a, m in zip(listePredY7e, listeSumY)]"
   ]
  },
  {
   "cell_type": "code",
   "execution_count": 40,
   "metadata": {},
   "outputs": [],
   "source": [
    "zipListPred = list(zip(listePredY1eNo4, listePredY2eNo4, listePredY3eNo4, listePredY4eNo4, listePredY5eNo4, listePredY7eNo4, listeSumYe))\n",
    "dfListe = pd.DataFrame(zipListPred, columns = ['Bank loan rate', 'Bond rate', 'FRA', 'WACC', 'CAPM', 'Other models', 'Sum'])\n",
    "#  'Several different models',listePredY6eNo4, "
   ]
  },
  {
   "cell_type": "code",
   "execution_count": null,
   "metadata": {},
   "outputs": [],
   "source": []
  },
  {
   "cell_type": "code",
   "execution_count": 205,
   "metadata": {},
   "outputs": [
    {
     "data": {
      "text/html": [
       "<div>\n",
       "<style scoped>\n",
       "    .dataframe tbody tr th:only-of-type {\n",
       "        vertical-align: middle;\n",
       "    }\n",
       "\n",
       "    .dataframe tbody tr th {\n",
       "        vertical-align: top;\n",
       "    }\n",
       "\n",
       "    .dataframe thead th {\n",
       "        text-align: right;\n",
       "    }\n",
       "</style>\n",
       "<table border=\"1\" class=\"dataframe\">\n",
       "  <thead>\n",
       "    <tr style=\"text-align: right;\">\n",
       "      <th></th>\n",
       "      <th>Bank loan rate</th>\n",
       "      <th>Bond rate</th>\n",
       "      <th>FRA</th>\n",
       "      <th>WACC</th>\n",
       "      <th>CAPM</th>\n",
       "      <th>Other models</th>\n",
       "      <th>Sum</th>\n",
       "    </tr>\n",
       "  </thead>\n",
       "  <tbody>\n",
       "    <tr>\n",
       "      <th>238</th>\n",
       "      <td>3.090895</td>\n",
       "      <td>0.011462</td>\n",
       "      <td>0.072200</td>\n",
       "      <td>0.026444</td>\n",
       "      <td>0.014514</td>\n",
       "      <td>0.034605</td>\n",
       "      <td>3.250120</td>\n",
       "    </tr>\n",
       "    <tr>\n",
       "      <th>239</th>\n",
       "      <td>5.402219</td>\n",
       "      <td>0.009619</td>\n",
       "      <td>0.059163</td>\n",
       "      <td>0.018609</td>\n",
       "      <td>0.012343</td>\n",
       "      <td>0.034427</td>\n",
       "      <td>5.536381</td>\n",
       "    </tr>\n",
       "    <tr>\n",
       "      <th>240</th>\n",
       "      <td>0.577306</td>\n",
       "      <td>0.038789</td>\n",
       "      <td>0.075704</td>\n",
       "      <td>0.075264</td>\n",
       "      <td>0.051739</td>\n",
       "      <td>0.153717</td>\n",
       "      <td>0.972519</td>\n",
       "    </tr>\n",
       "    <tr>\n",
       "      <th>241</th>\n",
       "      <td>0.731817</td>\n",
       "      <td>0.014091</td>\n",
       "      <td>0.024260</td>\n",
       "      <td>0.028047</td>\n",
       "      <td>0.018390</td>\n",
       "      <td>0.064936</td>\n",
       "      <td>0.881541</td>\n",
       "    </tr>\n",
       "    <tr>\n",
       "      <th>242</th>\n",
       "      <td>2.086486</td>\n",
       "      <td>0.039392</td>\n",
       "      <td>0.113400</td>\n",
       "      <td>0.102066</td>\n",
       "      <td>0.043268</td>\n",
       "      <td>0.063341</td>\n",
       "      <td>2.447953</td>\n",
       "    </tr>\n",
       "  </tbody>\n",
       "</table>\n",
       "</div>"
      ],
      "text/plain": [
       "     Bank loan rate  Bond rate       FRA      WACC      CAPM  Other models  \\\n",
       "238        3.090895   0.011462  0.072200  0.026444  0.014514      0.034605   \n",
       "239        5.402219   0.009619  0.059163  0.018609  0.012343      0.034427   \n",
       "240        0.577306   0.038789  0.075704  0.075264  0.051739      0.153717   \n",
       "241        0.731817   0.014091  0.024260  0.028047  0.018390      0.064936   \n",
       "242        2.086486   0.039392  0.113400  0.102066  0.043268      0.063341   \n",
       "\n",
       "          Sum  \n",
       "238  3.250120  \n",
       "239  5.536381  \n",
       "240  0.972519  \n",
       "241  0.881541  \n",
       "242  2.447953  "
      ]
     },
     "execution_count": 205,
     "metadata": {},
     "output_type": "execute_result"
    }
   ],
   "source": [
    "dfListe.tail()"
   ]
  },
  {
   "cell_type": "code",
   "execution_count": 68,
   "metadata": {},
   "outputs": [],
   "source": [
    "zipListP1e = list(zip(P_1_4e, P_2_4e, P_3_4e, P_4_4e, P_5_4e, P_7_4e))\n",
    "# zippedList"
   ]
  },
  {
   "cell_type": "code",
   "execution_count": 69,
   "metadata": {},
   "outputs": [],
   "source": [
    "dfPrede = pd.DataFrame(zipListP1e, columns = ['Bank loan rate', 'Bond rate', 'FRA', 'WACC', 'CAPM', 'Other models'])"
   ]
  },
  {
   "cell_type": "code",
   "execution_count": 70,
   "metadata": {},
   "outputs": [
    {
     "data": {
      "text/html": [
       "<div>\n",
       "<style scoped>\n",
       "    .dataframe tbody tr th:only-of-type {\n",
       "        vertical-align: middle;\n",
       "    }\n",
       "\n",
       "    .dataframe tbody tr th {\n",
       "        vertical-align: top;\n",
       "    }\n",
       "\n",
       "    .dataframe thead th {\n",
       "        text-align: right;\n",
       "    }\n",
       "</style>\n",
       "<table border=\"1\" class=\"dataframe\">\n",
       "  <thead>\n",
       "    <tr style=\"text-align: right;\">\n",
       "      <th></th>\n",
       "      <th>Bank loan rate</th>\n",
       "      <th>Bond rate</th>\n",
       "      <th>FRA</th>\n",
       "      <th>WACC</th>\n",
       "      <th>CAPM</th>\n",
       "      <th>Other models</th>\n",
       "    </tr>\n",
       "  </thead>\n",
       "  <tbody>\n",
       "    <tr>\n",
       "      <th>111</th>\n",
       "      <td>0.129579</td>\n",
       "      <td>0.174683</td>\n",
       "      <td>0.175629</td>\n",
       "      <td>0.171015</td>\n",
       "      <td>0.175954</td>\n",
       "      <td>0.173140</td>\n",
       "    </tr>\n",
       "    <tr>\n",
       "      <th>67</th>\n",
       "      <td>0.129579</td>\n",
       "      <td>0.174683</td>\n",
       "      <td>0.175629</td>\n",
       "      <td>0.171015</td>\n",
       "      <td>0.175954</td>\n",
       "      <td>0.173140</td>\n",
       "    </tr>\n",
       "    <tr>\n",
       "      <th>219</th>\n",
       "      <td>0.084654</td>\n",
       "      <td>0.183816</td>\n",
       "      <td>0.184450</td>\n",
       "      <td>0.179806</td>\n",
       "      <td>0.184786</td>\n",
       "      <td>0.182488</td>\n",
       "    </tr>\n",
       "    <tr>\n",
       "      <th>89</th>\n",
       "      <td>0.110122</td>\n",
       "      <td>0.178447</td>\n",
       "      <td>0.179282</td>\n",
       "      <td>0.176071</td>\n",
       "      <td>0.179528</td>\n",
       "      <td>0.176549</td>\n",
       "    </tr>\n",
       "    <tr>\n",
       "      <th>233</th>\n",
       "      <td>0.124691</td>\n",
       "      <td>0.176084</td>\n",
       "      <td>0.175466</td>\n",
       "      <td>0.173708</td>\n",
       "      <td>0.176990</td>\n",
       "      <td>0.173061</td>\n",
       "    </tr>\n",
       "    <tr>\n",
       "      <th>48</th>\n",
       "      <td>0.084654</td>\n",
       "      <td>0.183816</td>\n",
       "      <td>0.184450</td>\n",
       "      <td>0.179806</td>\n",
       "      <td>0.184786</td>\n",
       "      <td>0.182488</td>\n",
       "    </tr>\n",
       "    <tr>\n",
       "      <th>143</th>\n",
       "      <td>0.110122</td>\n",
       "      <td>0.178447</td>\n",
       "      <td>0.179282</td>\n",
       "      <td>0.176071</td>\n",
       "      <td>0.179528</td>\n",
       "      <td>0.176549</td>\n",
       "    </tr>\n",
       "    <tr>\n",
       "      <th>71</th>\n",
       "      <td>0.129579</td>\n",
       "      <td>0.174683</td>\n",
       "      <td>0.175629</td>\n",
       "      <td>0.171015</td>\n",
       "      <td>0.175954</td>\n",
       "      <td>0.173140</td>\n",
       "    </tr>\n",
       "    <tr>\n",
       "      <th>184</th>\n",
       "      <td>0.048780</td>\n",
       "      <td>0.190412</td>\n",
       "      <td>0.190627</td>\n",
       "      <td>0.188855</td>\n",
       "      <td>0.190895</td>\n",
       "      <td>0.190430</td>\n",
       "    </tr>\n",
       "    <tr>\n",
       "      <th>154</th>\n",
       "      <td>0.110122</td>\n",
       "      <td>0.178447</td>\n",
       "      <td>0.179282</td>\n",
       "      <td>0.176071</td>\n",
       "      <td>0.179528</td>\n",
       "      <td>0.176549</td>\n",
       "    </tr>\n",
       "  </tbody>\n",
       "</table>\n",
       "</div>"
      ],
      "text/plain": [
       "     Bank loan rate  Bond rate       FRA      WACC      CAPM  Other models\n",
       "111        0.129579   0.174683  0.175629  0.171015  0.175954      0.173140\n",
       "67         0.129579   0.174683  0.175629  0.171015  0.175954      0.173140\n",
       "219        0.084654   0.183816  0.184450  0.179806  0.184786      0.182488\n",
       "89         0.110122   0.178447  0.179282  0.176071  0.179528      0.176549\n",
       "233        0.124691   0.176084  0.175466  0.173708  0.176990      0.173061\n",
       "48         0.084654   0.183816  0.184450  0.179806  0.184786      0.182488\n",
       "143        0.110122   0.178447  0.179282  0.176071  0.179528      0.176549\n",
       "71         0.129579   0.174683  0.175629  0.171015  0.175954      0.173140\n",
       "184        0.048780   0.190412  0.190627  0.188855  0.190895      0.190430\n",
       "154        0.110122   0.178447  0.179282  0.176071  0.179528      0.176549"
      ]
     },
     "execution_count": 70,
     "metadata": {},
     "output_type": "execute_result"
    }
   ],
   "source": [
    "dfPrede.sample(10)"
   ]
  },
  {
   "cell_type": "code",
   "execution_count": 72,
   "metadata": {},
   "outputs": [],
   "source": [
    "# dfPDesc=dfPred.describe()\n",
    "dfPDesce=dfPrede.describe()\n",
    "filename = folderFig+\"/dfPDes4.xlsx\"\n",
    "# dfPDesc.to_excel(filename)"
   ]
  },
  {
   "cell_type": "code",
   "execution_count": 73,
   "metadata": {},
   "outputs": [
    {
     "data": {
      "text/html": [
       "<div>\n",
       "<style scoped>\n",
       "    .dataframe tbody tr th:only-of-type {\n",
       "        vertical-align: middle;\n",
       "    }\n",
       "\n",
       "    .dataframe tbody tr th {\n",
       "        vertical-align: top;\n",
       "    }\n",
       "\n",
       "    .dataframe thead th {\n",
       "        text-align: right;\n",
       "    }\n",
       "</style>\n",
       "<table border=\"1\" class=\"dataframe\">\n",
       "  <thead>\n",
       "    <tr style=\"text-align: right;\">\n",
       "      <th></th>\n",
       "      <th>Bank loan rate</th>\n",
       "      <th>Bond rate</th>\n",
       "      <th>FRA</th>\n",
       "      <th>WACC</th>\n",
       "      <th>CAPM</th>\n",
       "      <th>Other models</th>\n",
       "    </tr>\n",
       "  </thead>\n",
       "  <tbody>\n",
       "    <tr>\n",
       "      <th>count</th>\n",
       "      <td>243.000000</td>\n",
       "      <td>243.000000</td>\n",
       "      <td>243.000000</td>\n",
       "      <td>243.000000</td>\n",
       "      <td>243.000000</td>\n",
       "      <td>243.000000</td>\n",
       "    </tr>\n",
       "    <tr>\n",
       "      <th>mean</th>\n",
       "      <td>0.099887</td>\n",
       "      <td>0.180538</td>\n",
       "      <td>0.181004</td>\n",
       "      <td>0.177822</td>\n",
       "      <td>0.181401</td>\n",
       "      <td>0.179349</td>\n",
       "    </tr>\n",
       "    <tr>\n",
       "      <th>std</th>\n",
       "      <td>0.023670</td>\n",
       "      <td>0.004641</td>\n",
       "      <td>0.004510</td>\n",
       "      <td>0.005042</td>\n",
       "      <td>0.004529</td>\n",
       "      <td>0.005179</td>\n",
       "    </tr>\n",
       "    <tr>\n",
       "      <th>min</th>\n",
       "      <td>0.043568</td>\n",
       "      <td>0.174683</td>\n",
       "      <td>0.175466</td>\n",
       "      <td>0.171015</td>\n",
       "      <td>0.175954</td>\n",
       "      <td>0.173061</td>\n",
       "    </tr>\n",
       "    <tr>\n",
       "      <th>25%</th>\n",
       "      <td>0.084654</td>\n",
       "      <td>0.176084</td>\n",
       "      <td>0.176473</td>\n",
       "      <td>0.173708</td>\n",
       "      <td>0.176990</td>\n",
       "      <td>0.175285</td>\n",
       "    </tr>\n",
       "    <tr>\n",
       "      <th>50%</th>\n",
       "      <td>0.104085</td>\n",
       "      <td>0.180092</td>\n",
       "      <td>0.180081</td>\n",
       "      <td>0.178603</td>\n",
       "      <td>0.180609</td>\n",
       "      <td>0.178536</td>\n",
       "    </tr>\n",
       "    <tr>\n",
       "      <th>75%</th>\n",
       "      <td>0.120968</td>\n",
       "      <td>0.183816</td>\n",
       "      <td>0.184450</td>\n",
       "      <td>0.179806</td>\n",
       "      <td>0.184786</td>\n",
       "      <td>0.182488</td>\n",
       "    </tr>\n",
       "    <tr>\n",
       "      <th>max</th>\n",
       "      <td>0.129579</td>\n",
       "      <td>0.191569</td>\n",
       "      <td>0.191147</td>\n",
       "      <td>0.190551</td>\n",
       "      <td>0.191925</td>\n",
       "      <td>0.191240</td>\n",
       "    </tr>\n",
       "  </tbody>\n",
       "</table>\n",
       "</div>"
      ],
      "text/plain": [
       "       Bank loan rate   Bond rate         FRA        WACC        CAPM  \\\n",
       "count      243.000000  243.000000  243.000000  243.000000  243.000000   \n",
       "mean         0.099887    0.180538    0.181004    0.177822    0.181401   \n",
       "std          0.023670    0.004641    0.004510    0.005042    0.004529   \n",
       "min          0.043568    0.174683    0.175466    0.171015    0.175954   \n",
       "25%          0.084654    0.176084    0.176473    0.173708    0.176990   \n",
       "50%          0.104085    0.180092    0.180081    0.178603    0.180609   \n",
       "75%          0.120968    0.183816    0.184450    0.179806    0.184786   \n",
       "max          0.129579    0.191569    0.191147    0.190551    0.191925   \n",
       "\n",
       "       Other models  \n",
       "count    243.000000  \n",
       "mean       0.179349  \n",
       "std        0.005179  \n",
       "min        0.173061  \n",
       "25%        0.175285  \n",
       "50%        0.178536  \n",
       "75%        0.182488  \n",
       "max        0.191240  "
      ]
     },
     "execution_count": 73,
     "metadata": {},
     "output_type": "execute_result"
    }
   ],
   "source": [
    "dfPDesce"
   ]
  },
  {
   "cell_type": "code",
   "execution_count": 161,
   "metadata": {},
   "outputs": [
    {
     "name": "stdout",
     "output_type": "stream",
     "text": [
      "C:/Users/i235jbp/Dropbox/PhD/Spørreundersøkelse/Artikkel/P14.png\n"
     ]
    }
   ],
   "source": [
    "print(filename )\n",
    "# C:\\Users\\i235jbp\\Dropbox\\PhD\\Spørreundersøkelse\\Artikkel')"
   ]
  },
  {
   "cell_type": "code",
   "execution_count": 185,
   "metadata": {},
   "outputs": [
    {
     "name": "stderr",
     "output_type": "stream",
     "text": [
      "C:\\Users\\i235jbp\\Anaconda3\\lib\\site-packages\\scipy\\stats\\stats.py:1706: FutureWarning: Using a non-tuple sequence for multidimensional indexing is deprecated; use `arr[tuple(seq)]` instead of `arr[seq]`. In the future this will be interpreted as an array index, `arr[np.array(seq)]`, which will result either in an error or a different result.\n",
      "  return np.add.reduce(sorted[indexer] * weights, axis=axis) / sumval\n"
     ]
    },
    {
     "data": {
      "image/png": "[encoded data removed]",
      "text/plain": [
       "<matplotlib.figure.Figure at 0x216d228a748>"
      ]
     },
     "metadata": {},
     "output_type": "display_data"
    }
   ],
   "source": [
    "import seaborn as sns\n",
    "sns.distplot(P_1_4, color=\"green\", label=\"Bank loan rate\")\n",
    "# plt.legend()\n",
    "\n",
    "filename = folderFig+'/P14.png'\n",
    "plt.savefig(filename)\n",
    "plt.show()"
   ]
  },
  {
   "cell_type": "code",
   "execution_count": 144,
   "metadata": {},
   "outputs": [],
   "source": [
    "# P_1_2.plot()\n",
    "# plt.show()\n",
    "# plt.hist(P_1_2, 50, normed=1, facecolor='green', alpha=0.5);\n"
   ]
  },
  {
   "cell_type": "code",
   "execution_count": null,
   "metadata": {},
   "outputs": [],
   "source": []
  },
  {
   "cell_type": "code",
   "execution_count": 180,
   "metadata": {},
   "outputs": [
    {
     "name": "stderr",
     "output_type": "stream",
     "text": [
      "C:\\Users\\i235jbp\\Anaconda3\\lib\\site-packages\\scipy\\stats\\stats.py:1706: FutureWarning: Using a non-tuple sequence for multidimensional indexing is deprecated; use `arr[tuple(seq)]` instead of `arr[seq]`. In the future this will be interpreted as an array index, `arr[np.array(seq)]`, which will result either in an error or a different result.\n",
      "  return np.add.reduce(sorted[indexer] * weights, axis=axis) / sumval\n"
     ]
    },
    {
     "data": {
      "image/png": "[encoded data removed]",
      "text/plain": [
       "<matplotlib.figure.Figure at 0x216d3494f98>"
      ]
     },
     "metadata": {},
     "output_type": "display_data"
    }
   ],
   "source": [
    "# plt.hist(P_2_2, 50, normed=1, facecolor='blue', alpha=0.5)\n",
    "sns.distplot(P_2_4, color=\"blue\", label=\"Bond rate\")\n",
    "filename = folderFig+'/P24.png'\n",
    "plt.savefig(filename)\n",
    "plt.show()"
   ]
  },
  {
   "cell_type": "code",
   "execution_count": 181,
   "metadata": {},
   "outputs": [
    {
     "name": "stderr",
     "output_type": "stream",
     "text": [
      "C:\\Users\\i235jbp\\Anaconda3\\lib\\site-packages\\scipy\\stats\\stats.py:1706: FutureWarning: Using a non-tuple sequence for multidimensional indexing is deprecated; use `arr[tuple(seq)]` instead of `arr[seq]`. In the future this will be interpreted as an array index, `arr[np.array(seq)]`, which will result either in an error or a different result.\n",
      "  return np.add.reduce(sorted[indexer] * weights, axis=axis) / sumval\n"
     ]
    },
    {
     "data": {
      "image/png": "[encoded data removed]",
      "text/plain": [
       "<matplotlib.figure.Figure at 0x216d35bb7f0>"
      ]
     },
     "metadata": {},
     "output_type": "display_data"
    }
   ],
   "source": [
    "# plt.hist(P_6_2, 50, normed=1, facecolor='red', alpha=0.5)\n",
    "sns.distplot(P_3_4, color=\"red\", label=\"FRA\")\n",
    "filename = folderFig+'/P34.png'\n",
    "# plt.legend()\n",
    "plt.savefig(filename)\n",
    "plt.show()"
   ]
  },
  {
   "cell_type": "code",
   "execution_count": 168,
   "metadata": {},
   "outputs": [
    {
     "name": "stderr",
     "output_type": "stream",
     "text": [
      "C:\\Users\\i235jbp\\Anaconda3\\lib\\site-packages\\scipy\\stats\\stats.py:1706: FutureWarning: Using a non-tuple sequence for multidimensional indexing is deprecated; use `arr[tuple(seq)]` instead of `arr[seq]`. In the future this will be interpreted as an array index, `arr[np.array(seq)]`, which will result either in an error or a different result.\n",
      "  return np.add.reduce(sorted[indexer] * weights, axis=axis) / sumval\n"
     ]
    },
    {
     "data": {
      "image/png": "[encoded data removed]",
      "text/plain": [
       "<matplotlib.figure.Figure at 0x216d22c08d0>"
      ]
     },
     "metadata": {},
     "output_type": "display_data"
    }
   ],
   "source": [
    "sns.distplot(P_4_4, color=\"orange\")\n",
    "filename = folderFig+'/P44.png'\n",
    "plt.savefig(filename)"
   ]
  },
  {
   "cell_type": "code",
   "execution_count": 182,
   "metadata": {},
   "outputs": [
    {
     "name": "stderr",
     "output_type": "stream",
     "text": [
      "C:\\Users\\i235jbp\\Anaconda3\\lib\\site-packages\\scipy\\stats\\stats.py:1706: FutureWarning: Using a non-tuple sequence for multidimensional indexing is deprecated; use `arr[tuple(seq)]` instead of `arr[seq]`. In the future this will be interpreted as an array index, `arr[np.array(seq)]`, which will result either in an error or a different result.\n",
      "  return np.add.reduce(sorted[indexer] * weights, axis=axis) / sumval\n"
     ]
    },
    {
     "data": {
      "image/png": "[encoded data removed]",
      "text/plain": [
       "<matplotlib.figure.Figure at 0x216d3631048>"
      ]
     },
     "metadata": {},
     "output_type": "display_data"
    }
   ],
   "source": [
    "sns.distplot(P_5_4, color=\"pink\", label=\"WACC\")\n",
    "# plt.legend()\n",
    "filename = folderFig+'/P54.png'\n",
    "plt.savefig(filename)\n",
    "plt.show()\n",
    "\n"
   ]
  },
  {
   "cell_type": "code",
   "execution_count": 183,
   "metadata": {},
   "outputs": [
    {
     "name": "stderr",
     "output_type": "stream",
     "text": [
      "C:\\Users\\i235jbp\\Anaconda3\\lib\\site-packages\\scipy\\stats\\stats.py:1706: FutureWarning: Using a non-tuple sequence for multidimensional indexing is deprecated; use `arr[tuple(seq)]` instead of `arr[seq]`. In the future this will be interpreted as an array index, `arr[np.array(seq)]`, which will result either in an error or a different result.\n",
      "  return np.add.reduce(sorted[indexer] * weights, axis=axis) / sumval\n"
     ]
    },
    {
     "data": {
      "image/png": "[encoded data removed]",
      "text/plain": [
       "<matplotlib.figure.Figure at 0x216d364be10>"
      ]
     },
     "metadata": {},
     "output_type": "display_data"
    }
   ],
   "source": [
    "sns.distplot(P_6_4, color=\"navy\", label=\"CAPM\")\n",
    "# plt.legend()\n",
    "filename = folderFig+'/P64.png'\n",
    "plt.savefig(filename)\n",
    "plt.show()"
   ]
  },
  {
   "cell_type": "code",
   "execution_count": 184,
   "metadata": {},
   "outputs": [
    {
     "name": "stderr",
     "output_type": "stream",
     "text": [
      "C:\\Users\\i235jbp\\Anaconda3\\lib\\site-packages\\scipy\\stats\\stats.py:1706: FutureWarning: Using a non-tuple sequence for multidimensional indexing is deprecated; use `arr[tuple(seq)]` instead of `arr[seq]`. In the future this will be interpreted as an array index, `arr[np.array(seq)]`, which will result either in an error or a different result.\n",
      "  return np.add.reduce(sorted[indexer] * weights, axis=axis) / sumval\n"
     ]
    },
    {
     "data": {
      "image/png": "[encoded data removed]",
      "text/plain": [
       "<matplotlib.figure.Figure at 0x216d0d5c160>"
      ]
     },
     "metadata": {},
     "output_type": "display_data"
    }
   ],
   "source": [
    "sns.distplot(P_7_4, color=\"black\", label=\"No model\")\n",
    "# plt.legend()\n",
    "filename = folderFig+'/P74.png'\n",
    "plt.savefig(filename)\n",
    "plt.show()\n"
   ]
  },
  {
   "cell_type": "code",
   "execution_count": 17,
   "metadata": {},
   "outputs": [],
   "source": [
    "df4_ex = pd.concat([df_short4, df['no4_1']], axis=1)"
   ]
  },
  {
   "cell_type": "code",
   "execution_count": 18,
   "metadata": {},
   "outputs": [
    {
     "data": {
      "text/html": [
       "<div>\n",
       "<style scoped>\n",
       "    .dataframe tbody tr th:only-of-type {\n",
       "        vertical-align: middle;\n",
       "    }\n",
       "\n",
       "    .dataframe tbody tr th {\n",
       "        vertical-align: top;\n",
       "    }\n",
       "\n",
       "    .dataframe thead th {\n",
       "        text-align: right;\n",
       "    }\n",
       "</style>\n",
       "<table border=\"1\" class=\"dataframe\">\n",
       "  <thead>\n",
       "    <tr style=\"text-align: right;\">\n",
       "      <th></th>\n",
       "      <th>smallcap</th>\n",
       "      <th>largecap</th>\n",
       "      <th>subsidary</th>\n",
       "      <th>equityFunding</th>\n",
       "      <th>debtFunding</th>\n",
       "      <th>no4_1</th>\n",
       "    </tr>\n",
       "  </thead>\n",
       "  <tbody>\n",
       "    <tr>\n",
       "      <th>0</th>\n",
       "      <td>1</td>\n",
       "      <td>0</td>\n",
       "      <td>0</td>\n",
       "      <td>0</td>\n",
       "      <td>0</td>\n",
       "      <td>3</td>\n",
       "    </tr>\n",
       "    <tr>\n",
       "      <th>1</th>\n",
       "      <td>0</td>\n",
       "      <td>1</td>\n",
       "      <td>0</td>\n",
       "      <td>1</td>\n",
       "      <td>1</td>\n",
       "      <td>2</td>\n",
       "    </tr>\n",
       "    <tr>\n",
       "      <th>2</th>\n",
       "      <td>1</td>\n",
       "      <td>0</td>\n",
       "      <td>0</td>\n",
       "      <td>1</td>\n",
       "      <td>1</td>\n",
       "      <td>3</td>\n",
       "    </tr>\n",
       "    <tr>\n",
       "      <th>3</th>\n",
       "      <td>1</td>\n",
       "      <td>0</td>\n",
       "      <td>0</td>\n",
       "      <td>0</td>\n",
       "      <td>1</td>\n",
       "      <td>3</td>\n",
       "    </tr>\n",
       "    <tr>\n",
       "      <th>4</th>\n",
       "      <td>1</td>\n",
       "      <td>0</td>\n",
       "      <td>1</td>\n",
       "      <td>1</td>\n",
       "      <td>0</td>\n",
       "      <td>0</td>\n",
       "    </tr>\n",
       "  </tbody>\n",
       "</table>\n",
       "</div>"
      ],
      "text/plain": [
       "   smallcap  largecap  subsidary  equityFunding  debtFunding  no4_1\n",
       "0         1         0          0              0            0      3\n",
       "1         0         1          0              1            1      2\n",
       "2         1         0          0              1            1      3\n",
       "3         1         0          0              0            1      3\n",
       "4         1         0          1              1            0      0"
      ]
     },
     "execution_count": 18,
     "metadata": {},
     "output_type": "execute_result"
    }
   ],
   "source": [
    "df4_ex.head()"
   ]
  },
  {
   "cell_type": "code",
   "execution_count": null,
   "metadata": {},
   "outputs": [],
   "source": [
    "from sklearn.model_selection import train_test_split\n",
    "X_train, X_test, y_train, y_test = train_test_split(train.drop('Survived',axis=1), \n",
    "                                                    train['Survived'], test_size=0.30, \n",
    "                                                    random_state=101)"
   ]
  },
  {
   "cell_type": "code",
   "execution_count": null,
   "metadata": {},
   "outputs": [],
   "source": [
    "from sklearn.linear_model import LogisticRegression\n",
    "modelno3 = LogisticRegression()\n",
    "modelno3.fit(X_4,y_train)\n",
    "predictions = logmodel.predict(X_test)"
   ]
  }
 ],
 "metadata": {
  "kernelspec": {
   "display_name": "Python 3 (ipykernel)",
   "language": "python",
   "name": "python3"
  },
  "language_info": {
   "codemirror_mode": {
    "name": "ipython",
    "version": 3
   },
   "file_extension": ".py",
   "mimetype": "text/x-python",
   "name": "python",
   "nbconvert_exporter": "python",
   "pygments_lexer": "ipython3",
   "version": "3.9.7"
  }
 },
 "nbformat": 4,
 "nbformat_minor": 4
}
